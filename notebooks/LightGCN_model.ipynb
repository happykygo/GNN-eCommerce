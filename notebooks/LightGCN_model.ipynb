{
 "cells": [
  {
   "cell_type": "markdown",
   "source": [
    "# LightGCN model RecSys"
   ],
   "metadata": {
    "collapsed": false
   }
  },
  {
   "cell_type": "code",
   "execution_count": 1,
   "outputs": [],
   "source": [
    "import matplotlib.pyplot as plt\n",
    "import networkx as nx\n",
    "import numpy as np\n",
    "import pandas as pd\n",
    "import yaml\n",
    "import glob\n",
    "import torch\n",
    "import torch.nn\n",
    "from lightgcn import LightGCN\n",
    "# from torch_geometric.nn import LightGCN\n",
    "from tqdm.notebook import tqdm\n",
    "from sklearn.model_selection import train_test_split\n",
    "from collections import defaultdict\n",
    "from utils import *\n",
    "pd.set_option('display.max_colwidth', None)"
   ],
   "metadata": {
    "collapsed": false
   }
  },
  {
   "cell_type": "code",
   "execution_count": 2,
   "outputs": [
    {
     "data": {
      "text/plain": "device(type='cpu')"
     },
     "execution_count": 2,
     "metadata": {},
     "output_type": "execute_result"
    }
   ],
   "source": [
    "device = torch.device(\"cuda:0\" if torch.cuda.is_available() else \"cpu\")\n",
    "device"
   ],
   "metadata": {
    "collapsed": false
   }
  },
  {
   "cell_type": "markdown",
   "source": [
    "# Load Config"
   ],
   "metadata": {
    "collapsed": false
   }
  },
  {
   "cell_type": "code",
   "execution_count": 3,
   "outputs": [
    {
     "name": "stdout",
     "output_type": "stream",
     "text": [
      "/Users/yingkang/4thBrain/GNN-eCommerce\n"
     ]
    },
    {
     "data": {
      "text/plain": "{'base': {'random_seed': 42},\n 'data': {'cosmetic_shop': 'data/raw/cosmetic-shop-ecommerce-events/',\n  'preprocessed': 'data/preprocessed/'},\n 'training': {'event_type_weights': {'view': 0.01,\n   'cart': 0.1,\n   'remove_from_cart': -0.09,\n   'purchase': 1.0}},\n 'reports': None}"
     },
     "execution_count": 3,
     "metadata": {},
     "output_type": "execute_result"
    }
   ],
   "source": [
    "%cd ..\n",
    "with open(\"params.yaml\") as config_file:\n",
    "    config = yaml.safe_load(config_file)\n",
    "config"
   ],
   "metadata": {
    "collapsed": false
   }
  },
  {
   "cell_type": "markdown",
   "source": [
    "# Load Interaction Matrix from csv"
   ],
   "metadata": {
    "collapsed": false
   }
  },
  {
   "cell_type": "code",
   "execution_count": 4,
   "outputs": [],
   "source": [
    "interaction_matrix = pd.read_csv(config['data']['preprocessed'] + \"interaction_matrix.csv\")\n",
    "interaction_matrix = interaction_matrix.rename(columns={\"product_id\": \"item_id\"})"
   ],
   "metadata": {
    "collapsed": false
   }
  },
  {
   "cell_type": "code",
   "execution_count": 5,
   "outputs": [],
   "source": [
    "im = interaction_matrix[['user_id', 'item_id', 'weight']].copy()"
   ],
   "metadata": {
    "collapsed": false
   }
  },
  {
   "cell_type": "code",
   "execution_count": 6,
   "outputs": [
    {
     "name": "stdout",
     "output_type": "stream",
     "text": [
      "Total data size:  10157408 , unique user:  1639358 , unique items:  54571\n"
     ]
    }
   ],
   "source": [
    "print('Total data size: ', len(im), ', unique user: ', im.user_id.nunique(), ', unique items: ', im.item_id.nunique())"
   ],
   "metadata": {
    "collapsed": false
   }
  },
  {
   "cell_type": "raw",
   "source": [
    "# ying = im.head(1000)\n",
    "# ying"
   ],
   "metadata": {
    "collapsed": false
   }
  },
  {
   "cell_type": "raw",
   "source": [
    "# train_df, test_df = train_test_split(ying, test_size=0.3, random_state=16)\n",
    "# test_df, val_df = train_test_split(test_df, test_size=0.5, random_state=16)"
   ],
   "metadata": {
    "collapsed": false
   }
  },
  {
   "cell_type": "code",
   "execution_count": 7,
   "outputs": [],
   "source": [
    "# ?? Should user never purchase removed at the beginning ??? NO for now!!\n",
    "# mini_im = purchase_users(im)\n",
    "mini_im = im.sample(100000, random_state=1)  #100000"
   ],
   "metadata": {
    "collapsed": false
   }
  },
  {
   "cell_type": "code",
   "execution_count": 8,
   "outputs": [
    {
     "name": "stdout",
     "output_type": "stream",
     "text": [
      "Mini dataset size:  100000 , Users at least purchased once:  18729\n"
     ]
    }
   ],
   "source": [
    "print('Mini dataset size: ', len(mini_im), ', Users at least purchased once: ', len(purchase_users(mini_im)))\n",
    "# print('Valid data percentage: ', f'{len(mini_im)/len(im):.2%}')"
   ],
   "metadata": {
    "collapsed": false
   }
  },
  {
   "cell_type": "raw",
   "source": [
    "# mini_im.loc[~mini_im['user_id'].isin(u_id_filter)]"
   ],
   "metadata": {
    "collapsed": false
   }
  },
  {
   "cell_type": "markdown",
   "source": [
    "### Prepare Train/ Val/ Test dataset"
   ],
   "metadata": {
    "collapsed": false
   }
  },
  {
   "cell_type": "code",
   "execution_count": 9,
   "outputs": [],
   "source": [
    "train_df, test_df = train_test_split(mini_im, test_size=0.3, random_state=16)\n",
    "test_df, val_df = train_test_split(test_df, test_size=0.5, random_state=16)"
   ],
   "metadata": {
    "collapsed": false
   }
  },
  {
   "cell_type": "code",
   "execution_count": 10,
   "outputs": [
    {
     "name": "stdout",
     "output_type": "stream",
     "text": [
      "Mini set unique user:  74976 , unique items:  25645\n",
      "Train Size  :  70000\n",
      "Val Size :  15000\n",
      "Test Size :  15000\n"
     ]
    }
   ],
   "source": [
    "print('Mini set unique user: ', mini_im.user_id.nunique(), ', unique items: ', mini_im.item_id.nunique())\n",
    "print(\"Train Size  : \", len(train_df))\n",
    "print(\"Val Size : \", len (val_df))\n",
    "print(\"Test Size : \", len (test_df))"
   ],
   "metadata": {
    "collapsed": false
   }
  },
  {
   "cell_type": "code",
   "execution_count": 11,
   "outputs": [],
   "source": [
    "n_users, n_items, train_df, train_pos_list_df, val_pos_list_df, test_pos_list_df = prepare_val_test(train_df, val_df, test_df)  # , val_u_i_matrix, test_u_i_matrix"
   ],
   "metadata": {
    "collapsed": false
   }
  },
  {
   "cell_type": "code",
   "execution_count": 12,
   "outputs": [
    {
     "name": "stdout",
     "output_type": "stream",
     "text": [
      "Users :  55837\n",
      "Items :  21848\n",
      "Train Size  :  70000\n",
      "Val Size :  589\n",
      "Test Size :  594\n"
     ]
    }
   ],
   "source": [
    "print(\"Users : \", n_users)\n",
    "print(\"Items : \", n_items)\n",
    "print(\"Train Size  : \", len(train_df))\n",
    "print(\"Val Size : \", len (val_pos_list_df))\n",
    "print(\"Test Size : \", len (test_pos_list_df))"
   ],
   "metadata": {
    "collapsed": false
   }
  },
  {
   "cell_type": "code",
   "execution_count": 19,
   "outputs": [],
   "source": [
    "# train_df"
   ],
   "metadata": {
    "collapsed": false
   }
  },
  {
   "cell_type": "code",
   "execution_count": 20,
   "outputs": [],
   "source": [
    "# train_pos_list_df"
   ],
   "metadata": {
    "collapsed": false
   }
  },
  {
   "cell_type": "code",
   "execution_count": 21,
   "outputs": [],
   "source": [
    "# val_pos_list_df"
   ],
   "metadata": {
    "collapsed": false
   }
  },
  {
   "cell_type": "code",
   "execution_count": 75,
   "outputs": [],
   "source": [
    "# val_df, test_df = sync_nodes(train_df, val_df, test_df)\n",
    "# n_users, n_items, train_df, val_df, test_df = relabelling(train_df, val_df, test_df)\n",
    "# train_df['item_id_idx'] = train_df['item_id_idx'] + n_users\n",
    "# train_pos_list_df = pos_item_list(train_df)\n",
    "# val_pos_list_df = pos_item_list(val_df)\n",
    "# test_pos_list_df = pos_item_list(test_df)"
   ],
   "metadata": {
    "collapsed": false
   }
  },
  {
   "cell_type": "code",
   "execution_count": 13,
   "outputs": [
    {
     "data": {
      "text/plain": "         weight  user_id_idx  item_id_idx\n2121608    0.04        10627        70358\n8381314    0.01        45146        75271\n1771809    0.01         8895        72131\n6683976    0.01        34963        57858\n9386737    0.20        51066        59031\n...         ...          ...          ...\n417990     0.11         2058        75462\n2002131    0.01        10036        61660\n8610057    0.11        46466        64178\n8725565    0.01        47125        59772\n2083916    0.01        10440        57349\n\n[70000 rows x 3 columns]",
      "text/html": "<div>\n<style scoped>\n    .dataframe tbody tr th:only-of-type {\n        vertical-align: middle;\n    }\n\n    .dataframe tbody tr th {\n        vertical-align: top;\n    }\n\n    .dataframe thead th {\n        text-align: right;\n    }\n</style>\n<table border=\"1\" class=\"dataframe\">\n  <thead>\n    <tr style=\"text-align: right;\">\n      <th></th>\n      <th>weight</th>\n      <th>user_id_idx</th>\n      <th>item_id_idx</th>\n    </tr>\n  </thead>\n  <tbody>\n    <tr>\n      <th>2121608</th>\n      <td>0.04</td>\n      <td>10627</td>\n      <td>70358</td>\n    </tr>\n    <tr>\n      <th>8381314</th>\n      <td>0.01</td>\n      <td>45146</td>\n      <td>75271</td>\n    </tr>\n    <tr>\n      <th>1771809</th>\n      <td>0.01</td>\n      <td>8895</td>\n      <td>72131</td>\n    </tr>\n    <tr>\n      <th>6683976</th>\n      <td>0.01</td>\n      <td>34963</td>\n      <td>57858</td>\n    </tr>\n    <tr>\n      <th>9386737</th>\n      <td>0.20</td>\n      <td>51066</td>\n      <td>59031</td>\n    </tr>\n    <tr>\n      <th>...</th>\n      <td>...</td>\n      <td>...</td>\n      <td>...</td>\n    </tr>\n    <tr>\n      <th>417990</th>\n      <td>0.11</td>\n      <td>2058</td>\n      <td>75462</td>\n    </tr>\n    <tr>\n      <th>2002131</th>\n      <td>0.01</td>\n      <td>10036</td>\n      <td>61660</td>\n    </tr>\n    <tr>\n      <th>8610057</th>\n      <td>0.11</td>\n      <td>46466</td>\n      <td>64178</td>\n    </tr>\n    <tr>\n      <th>8725565</th>\n      <td>0.01</td>\n      <td>47125</td>\n      <td>59772</td>\n    </tr>\n    <tr>\n      <th>2083916</th>\n      <td>0.01</td>\n      <td>10440</td>\n      <td>57349</td>\n    </tr>\n  </tbody>\n</table>\n<p>70000 rows × 3 columns</p>\n</div>"
     },
     "execution_count": 13,
     "metadata": {},
     "output_type": "execute_result"
    }
   ],
   "source": [
    "train_df"
   ],
   "metadata": {
    "collapsed": false
   }
  },
  {
   "cell_type": "code",
   "execution_count": 14,
   "outputs": [
    {
     "data": {
      "text/plain": "      user_id_idx item_id_idx_list                ignor_neg_list\n0              16          [62009]                       [62009]\n1              25          [63977]                       [63977]\n2              27          [56235]                       [56235]\n3              44          [59581]                [68857, 59581]\n4              49          [59260]                       [59260]\n...           ...              ...                           ...\n7445        55727          [57755]                       [57755]\n7446        55744          [64220]                       [64220]\n7447        55774   [77004, 76830]  [77004, 64605, 76830, 75181]\n7448        55786          [59467]                       [59467]\n7449        55803          [56708]                       [56708]\n\n[7450 rows x 3 columns]",
      "text/html": "<div>\n<style scoped>\n    .dataframe tbody tr th:only-of-type {\n        vertical-align: middle;\n    }\n\n    .dataframe tbody tr th {\n        vertical-align: top;\n    }\n\n    .dataframe thead th {\n        text-align: right;\n    }\n</style>\n<table border=\"1\" class=\"dataframe\">\n  <thead>\n    <tr style=\"text-align: right;\">\n      <th></th>\n      <th>user_id_idx</th>\n      <th>item_id_idx_list</th>\n      <th>ignor_neg_list</th>\n    </tr>\n  </thead>\n  <tbody>\n    <tr>\n      <th>0</th>\n      <td>16</td>\n      <td>[62009]</td>\n      <td>[62009]</td>\n    </tr>\n    <tr>\n      <th>1</th>\n      <td>25</td>\n      <td>[63977]</td>\n      <td>[63977]</td>\n    </tr>\n    <tr>\n      <th>2</th>\n      <td>27</td>\n      <td>[56235]</td>\n      <td>[56235]</td>\n    </tr>\n    <tr>\n      <th>3</th>\n      <td>44</td>\n      <td>[59581]</td>\n      <td>[68857, 59581]</td>\n    </tr>\n    <tr>\n      <th>4</th>\n      <td>49</td>\n      <td>[59260]</td>\n      <td>[59260]</td>\n    </tr>\n    <tr>\n      <th>...</th>\n      <td>...</td>\n      <td>...</td>\n      <td>...</td>\n    </tr>\n    <tr>\n      <th>7445</th>\n      <td>55727</td>\n      <td>[57755]</td>\n      <td>[57755]</td>\n    </tr>\n    <tr>\n      <th>7446</th>\n      <td>55744</td>\n      <td>[64220]</td>\n      <td>[64220]</td>\n    </tr>\n    <tr>\n      <th>7447</th>\n      <td>55774</td>\n      <td>[77004, 76830]</td>\n      <td>[77004, 64605, 76830, 75181]</td>\n    </tr>\n    <tr>\n      <th>7448</th>\n      <td>55786</td>\n      <td>[59467]</td>\n      <td>[59467]</td>\n    </tr>\n    <tr>\n      <th>7449</th>\n      <td>55803</td>\n      <td>[56708]</td>\n      <td>[56708]</td>\n    </tr>\n  </tbody>\n</table>\n<p>7450 rows × 3 columns</p>\n</div>"
     },
     "execution_count": 14,
     "metadata": {},
     "output_type": "execute_result"
    }
   ],
   "source": [
    "train_pos_list_df"
   ],
   "metadata": {
    "collapsed": false
   }
  },
  {
   "cell_type": "code",
   "execution_count": 15,
   "outputs": [
    {
     "data": {
      "text/plain": "     user_id_idx item_id_idx_list\n0             95           [9152]\n1            248          [12703]\n2            331          [14474]\n3            437          [19202]\n4            447          [10242]\n..           ...              ...\n584        54143           [3649]\n585        54216           [3745]\n586        54240           [8179]\n587        54271           [3754]\n588        54717           [2125]\n\n[589 rows x 2 columns]",
      "text/html": "<div>\n<style scoped>\n    .dataframe tbody tr th:only-of-type {\n        vertical-align: middle;\n    }\n\n    .dataframe tbody tr th {\n        vertical-align: top;\n    }\n\n    .dataframe thead th {\n        text-align: right;\n    }\n</style>\n<table border=\"1\" class=\"dataframe\">\n  <thead>\n    <tr style=\"text-align: right;\">\n      <th></th>\n      <th>user_id_idx</th>\n      <th>item_id_idx_list</th>\n    </tr>\n  </thead>\n  <tbody>\n    <tr>\n      <th>0</th>\n      <td>95</td>\n      <td>[9152]</td>\n    </tr>\n    <tr>\n      <th>1</th>\n      <td>248</td>\n      <td>[12703]</td>\n    </tr>\n    <tr>\n      <th>2</th>\n      <td>331</td>\n      <td>[14474]</td>\n    </tr>\n    <tr>\n      <th>3</th>\n      <td>437</td>\n      <td>[19202]</td>\n    </tr>\n    <tr>\n      <th>4</th>\n      <td>447</td>\n      <td>[10242]</td>\n    </tr>\n    <tr>\n      <th>...</th>\n      <td>...</td>\n      <td>...</td>\n    </tr>\n    <tr>\n      <th>584</th>\n      <td>54143</td>\n      <td>[3649]</td>\n    </tr>\n    <tr>\n      <th>585</th>\n      <td>54216</td>\n      <td>[3745]</td>\n    </tr>\n    <tr>\n      <th>586</th>\n      <td>54240</td>\n      <td>[8179]</td>\n    </tr>\n    <tr>\n      <th>587</th>\n      <td>54271</td>\n      <td>[3754]</td>\n    </tr>\n    <tr>\n      <th>588</th>\n      <td>54717</td>\n      <td>[2125]</td>\n    </tr>\n  </tbody>\n</table>\n<p>589 rows × 2 columns</p>\n</div>"
     },
     "execution_count": 15,
     "metadata": {},
     "output_type": "execute_result"
    }
   ],
   "source": [
    "val_pos_list_df"
   ],
   "metadata": {
    "collapsed": false
   }
  },
  {
   "cell_type": "code",
   "execution_count": 16,
   "outputs": [
    {
     "data": {
      "text/plain": "     user_id_idx item_id_idx_list\n0             44          [13020]\n1             83          [17319]\n2            104           [5519]\n3            127           [3092]\n4            255          [20453]\n..           ...              ...\n589        55090          [16015]\n590        55214           [3477]\n591        55325   [12895, 20438]\n592        55634           [7893]\n593        55774    [8768, 19344]\n\n[594 rows x 2 columns]",
      "text/html": "<div>\n<style scoped>\n    .dataframe tbody tr th:only-of-type {\n        vertical-align: middle;\n    }\n\n    .dataframe tbody tr th {\n        vertical-align: top;\n    }\n\n    .dataframe thead th {\n        text-align: right;\n    }\n</style>\n<table border=\"1\" class=\"dataframe\">\n  <thead>\n    <tr style=\"text-align: right;\">\n      <th></th>\n      <th>user_id_idx</th>\n      <th>item_id_idx_list</th>\n    </tr>\n  </thead>\n  <tbody>\n    <tr>\n      <th>0</th>\n      <td>44</td>\n      <td>[13020]</td>\n    </tr>\n    <tr>\n      <th>1</th>\n      <td>83</td>\n      <td>[17319]</td>\n    </tr>\n    <tr>\n      <th>2</th>\n      <td>104</td>\n      <td>[5519]</td>\n    </tr>\n    <tr>\n      <th>3</th>\n      <td>127</td>\n      <td>[3092]</td>\n    </tr>\n    <tr>\n      <th>4</th>\n      <td>255</td>\n      <td>[20453]</td>\n    </tr>\n    <tr>\n      <th>...</th>\n      <td>...</td>\n      <td>...</td>\n    </tr>\n    <tr>\n      <th>589</th>\n      <td>55090</td>\n      <td>[16015]</td>\n    </tr>\n    <tr>\n      <th>590</th>\n      <td>55214</td>\n      <td>[3477]</td>\n    </tr>\n    <tr>\n      <th>591</th>\n      <td>55325</td>\n      <td>[12895, 20438]</td>\n    </tr>\n    <tr>\n      <th>592</th>\n      <td>55634</td>\n      <td>[7893]</td>\n    </tr>\n    <tr>\n      <th>593</th>\n      <td>55774</td>\n      <td>[8768, 19344]</td>\n    </tr>\n  </tbody>\n</table>\n<p>594 rows × 2 columns</p>\n</div>"
     },
     "execution_count": 16,
     "metadata": {},
     "output_type": "execute_result"
    }
   ],
   "source": [
    "test_pos_list_df"
   ],
   "metadata": {
    "collapsed": false
   }
  },
  {
   "cell_type": "code",
   "execution_count": 25,
   "outputs": [],
   "source": [
    "# v = val_pos_list_df\n",
    "# v.loc[3] = [809, [2600, 99]]\n",
    "# v.loc[4] = [999, []]\n",
    "# v"
   ],
   "metadata": {
    "collapsed": false
   }
  },
  {
   "cell_type": "code",
   "execution_count": 51,
   "outputs": [],
   "source": [
    "# v.item_id_idx_list = v.item_id_idx_list.apply(lambda x: np.array(x)+100)"
   ],
   "metadata": {
    "collapsed": false
   }
  },
  {
   "cell_type": "code",
   "execution_count": 80,
   "outputs": [],
   "source": [
    "# def ignor_neg_item_list(train_pos_list_df, val_pos_list_df, test_pos_list_df, n_users):\n",
    "#     v = pd.merge(val_pos_list_df, test_pos_list_df, how='outer', left_on='user_id_idx', right_on='user_id_idx')\n",
    "#     train_pos_list_df = pd.merge(train_pos_list_df, v, how='left', left_on='user_id_idx', right_on='user_id_idx')\n",
    "#     train_pos_list_df.item_id_idx_list = train_pos_list_df.item_id_idx_list.fillna('').apply(list)\n",
    "#     train_pos_list_df.item_id_idx_list_x = train_pos_list_df.item_id_idx_list_x.fillna('').apply(list)\n",
    "#     train_pos_list_df.item_id_idx_list_x = train_pos_list_df.item_id_idx_list_x.apply(lambda x: np.array(x) + n_users)\n",
    "#     train_pos_list_df.item_id_idx_list_y = train_pos_list_df.item_id_idx_list_y.fillna('').apply(list)\n",
    "#     train_pos_list_df.item_id_idx_list_y = train_pos_list_df.item_id_idx_list_y.apply(lambda x: np.array(x) + n_users)\n",
    "#\n",
    "#     train_pos_list_df['ignor_neg_list'] = [list((set(a).union(b).union(c))) for a, b, c in\n",
    "#                                            zip(train_pos_list_df.item_id_idx_list, train_pos_list_df.item_id_idx_list_x, train_pos_list_df.item_id_idx_list_y)]\n",
    "#     train_pos_list_df = train_pos_list_df[['user_id_idx', 'item_id_idx_list', 'ignor_neg_list']]\n",
    "#\n",
    "#     return train_pos_list_df"
   ],
   "metadata": {
    "collapsed": false
   }
  },
  {
   "cell_type": "code",
   "execution_count": 26,
   "outputs": [],
   "source": [
    "# x = ignor_neg_item_list(train_pos_list_df, val_pos_list_df, test_pos_list_df, n_users)\n",
    "# x"
   ],
   "metadata": {
    "collapsed": false
   }
  },
  {
   "cell_type": "code",
   "execution_count": null,
   "outputs": [],
   "source": [],
   "metadata": {
    "collapsed": false
   }
  },
  {
   "cell_type": "code",
   "execution_count": 13,
   "outputs": [],
   "source": [
    "# users, pos_items, neg_items = pos_neg_edge_index(train_pos_list_df, 100, n_users, n_items)"
   ],
   "metadata": {
    "collapsed": false
   }
  },
  {
   "cell_type": "code",
   "execution_count": 27,
   "outputs": [],
   "source": [
    "# print('Size of sample pool: ', len(users))"
   ],
   "metadata": {
    "collapsed": false
   }
  },
  {
   "cell_type": "markdown",
   "source": [
    "### Instantiate model and train/val the model"
   ],
   "metadata": {
    "collapsed": false
   }
  },
  {
   "cell_type": "code",
   "execution_count": 17,
   "outputs": [
    {
     "name": "stdout",
     "output_type": "stream",
     "text": [
      "Size of Learnable Embedding :  [torch.Size([77685, 64])]\n"
     ]
    }
   ],
   "source": [
    "latent_dim = 64\n",
    "n_layers = 3\n",
    "LR = 0.005\n",
    "\n",
    "model = LightGCN(num_nodes=n_users+n_items, embedding_dim=latent_dim, num_layers=n_layers)\n",
    "optimizer = torch.optim.Adam(model.parameters(), lr=LR)\n",
    "print(\"Size of Learnable Embedding : \", [x.shape for x in list(model.parameters())])"
   ],
   "metadata": {
    "collapsed": false
   }
  },
  {
   "cell_type": "code",
   "execution_count": 18,
   "outputs": [],
   "source": [
    "def train_and_evl(n_users, n_items, n_neg, train_df, train_pos_list_df, test_pos_list_df, model, optimizer, device, EPOCHS = 50, BATCH_SIZE = 1024, K = 20, DECAY = 0.0001):  # test_u_i_matrix,\n",
    "    edge_index, edge_weight = df_to_graph(train_df, True)\n",
    "\n",
    "    # test_u_i_matrix = test_u_i_matrix.to(device)\n",
    "    edge_index = edge_index.to(device)\n",
    "    edge_weight = edge_weight.to(device)\n",
    "    model.to(device)\n",
    "\n",
    "    bpr_loss_epoch_list = []\n",
    "    reg_loss_epoch_list = []\n",
    "    final_loss_epoch_list = []\n",
    "    recall_epoch_list = []\n",
    "    precision_epoch_list = []\n",
    "\n",
    "    print('bpr_loss | reg_loss | final_loss | precision | recall')\n",
    "    for epoch in tqdm(range(EPOCHS)):\n",
    "        bpr_loss, reg_loss, final_loss = train_loop(train_pos_list_df, n_users, n_items, n_neg, edge_index, edge_weight, model, optimizer, BATCH_SIZE)\n",
    "\n",
    "        precision, recall = evaluation(model, n_users, n_items, edge_index, edge_weight, test_pos_list_df, K)\n",
    "\n",
    "        print(bpr_loss, reg_loss, final_loss, precision, recall)\n",
    "        bpr_loss_epoch_list.append(bpr_loss)\n",
    "        reg_loss_epoch_list.append(reg_loss)\n",
    "        final_loss_epoch_list.append(final_loss)\n",
    "        recall_epoch_list.append(recall)\n",
    "        precision_epoch_list.append(precision)\n",
    "\n",
    "    return (\n",
    "        bpr_loss_epoch_list,\n",
    "        reg_loss_epoch_list,\n",
    "        final_loss_epoch_list,\n",
    "        recall_epoch_list,\n",
    "        precision_epoch_list)"
   ],
   "metadata": {
    "collapsed": false
   }
  },
  {
   "cell_type": "code",
   "execution_count": 19,
   "outputs": [
    {
     "name": "stdout",
     "output_type": "stream",
     "text": [
      "bpr_loss | reg_loss | final_loss | precision | recall\n"
     ]
    },
    {
     "data": {
      "text/plain": "  0%|          | 0/50 [00:00<?, ?it/s]",
      "application/vnd.jupyter.widget-view+json": {
       "version_major": 2,
       "version_minor": 0,
       "model_id": "23327256a92b47cfac9ebca7323e1008"
      }
     },
     "metadata": {},
     "output_type": "display_data"
    },
    {
     "name": "stdout",
     "output_type": "stream",
     "text": [
      "0.0515 0.0005 0.052 0.0003 0.0059\n",
      "0.0004 0.0007 0.0011 0.0003 0.0059\n",
      "0.0002 0.0008 0.001 0.0003 0.0059\n"
     ]
    },
    {
     "ename": "KeyboardInterrupt",
     "evalue": "",
     "output_type": "error",
     "traceback": [
      "\u001B[0;31m---------------------------------------------------------------------------\u001B[0m",
      "\u001B[0;31mKeyboardInterrupt\u001B[0m                         Traceback (most recent call last)",
      "Cell \u001B[0;32mIn[19], line 2\u001B[0m\n\u001B[1;32m      1\u001B[0m bpr_loss, reg_loss, final_loss, recall, precision \u001B[38;5;241m=\u001B[39m \\\n\u001B[0;32m----> 2\u001B[0m     \u001B[43mtrain_and_evl\u001B[49m\u001B[43m(\u001B[49m\u001B[43mn_users\u001B[49m\u001B[43m,\u001B[49m\u001B[43m \u001B[49m\u001B[43mn_items\u001B[49m\u001B[43m,\u001B[49m\u001B[43m \u001B[49m\u001B[38;5;241;43m100\u001B[39;49m\u001B[43m,\u001B[49m\u001B[43m \u001B[49m\u001B[43mtrain_df\u001B[49m\u001B[43m,\u001B[49m\u001B[43m \u001B[49m\u001B[43mtrain_pos_list_df\u001B[49m\u001B[43m,\u001B[49m\u001B[43m \u001B[49m\u001B[43mval_pos_list_df\u001B[49m\u001B[43m,\u001B[49m\u001B[43m \u001B[49m\u001B[43mmodel\u001B[49m\u001B[43m,\u001B[49m\u001B[43m \u001B[49m\u001B[43moptimizer\u001B[49m\u001B[43m,\u001B[49m\u001B[43m \u001B[49m\u001B[43mdevice\u001B[49m\u001B[38;5;241;43m=\u001B[39;49m\u001B[43mdevice\u001B[49m\u001B[43m,\u001B[49m\u001B[43m \u001B[49m\u001B[43mEPOCHS\u001B[49m\u001B[43m \u001B[49m\u001B[38;5;241;43m=\u001B[39;49m\u001B[43m \u001B[49m\u001B[38;5;241;43m50\u001B[39;49m\u001B[43m,\u001B[49m\u001B[43m \u001B[49m\u001B[43mBATCH_SIZE\u001B[49m\u001B[43m \u001B[49m\u001B[38;5;241;43m=\u001B[39;49m\u001B[43m \u001B[49m\u001B[38;5;241;43m1024\u001B[39;49m\u001B[43m,\u001B[49m\u001B[43m \u001B[49m\u001B[43mK\u001B[49m\u001B[43m \u001B[49m\u001B[38;5;241;43m=\u001B[39;49m\u001B[43m \u001B[49m\u001B[38;5;241;43m20\u001B[39;49m\u001B[43m,\u001B[49m\u001B[43m \u001B[49m\u001B[43mDECAY\u001B[49m\u001B[43m \u001B[49m\u001B[38;5;241;43m=\u001B[39;49m\u001B[43m \u001B[49m\u001B[38;5;241;43m0.0001\u001B[39;49m\u001B[43m)\u001B[49m  \u001B[38;5;66;03m# val_u_i_matrix,\u001B[39;00m\n",
      "Cell \u001B[0;32mIn[18], line 17\u001B[0m, in \u001B[0;36mtrain_and_evl\u001B[0;34m(n_users, n_items, n_neg, train_df, train_pos_list_df, test_pos_list_df, model, optimizer, device, EPOCHS, BATCH_SIZE, K, DECAY)\u001B[0m\n\u001B[1;32m     15\u001B[0m \u001B[38;5;28mprint\u001B[39m(\u001B[38;5;124m'\u001B[39m\u001B[38;5;124mbpr_loss | reg_loss | final_loss | precision | recall\u001B[39m\u001B[38;5;124m'\u001B[39m)\n\u001B[1;32m     16\u001B[0m \u001B[38;5;28;01mfor\u001B[39;00m epoch \u001B[38;5;129;01min\u001B[39;00m tqdm(\u001B[38;5;28mrange\u001B[39m(EPOCHS)):\n\u001B[0;32m---> 17\u001B[0m     bpr_loss, reg_loss, final_loss \u001B[38;5;241m=\u001B[39m \u001B[43mtrain_loop\u001B[49m\u001B[43m(\u001B[49m\u001B[43mtrain_pos_list_df\u001B[49m\u001B[43m,\u001B[49m\u001B[43m \u001B[49m\u001B[43mn_users\u001B[49m\u001B[43m,\u001B[49m\u001B[43m \u001B[49m\u001B[43mn_items\u001B[49m\u001B[43m,\u001B[49m\u001B[43m \u001B[49m\u001B[43mn_neg\u001B[49m\u001B[43m,\u001B[49m\u001B[43m \u001B[49m\u001B[43medge_index\u001B[49m\u001B[43m,\u001B[49m\u001B[43m \u001B[49m\u001B[43medge_weight\u001B[49m\u001B[43m,\u001B[49m\u001B[43m \u001B[49m\u001B[43mmodel\u001B[49m\u001B[43m,\u001B[49m\u001B[43m \u001B[49m\u001B[43moptimizer\u001B[49m\u001B[43m,\u001B[49m\u001B[43m \u001B[49m\u001B[43mBATCH_SIZE\u001B[49m\u001B[43m)\u001B[49m\n\u001B[1;32m     19\u001B[0m     precision, recall \u001B[38;5;241m=\u001B[39m evaluation(model, n_users, n_items, edge_index, edge_weight, test_pos_list_df, K)\n\u001B[1;32m     21\u001B[0m     \u001B[38;5;28mprint\u001B[39m(bpr_loss, reg_loss, final_loss, precision, recall)\n",
      "File \u001B[0;32m~/4thBrain/GNN-eCommerce/notebooks/utils.py:306\u001B[0m, in \u001B[0;36mtrain_loop\u001B[0;34m(train_pos_list_df, n_users, n_items, n_neg, edge_index, edge_weight, model, optimizer, BATCH_SIZE)\u001B[0m\n\u001B[1;32m    304\u001B[0m \u001B[38;5;66;03m# print(\"bpr loss: \", loss, \"reg loss: \", reg_loss)\u001B[39;00m\n\u001B[1;32m    305\u001B[0m loss\u001B[38;5;241m.\u001B[39mbackward()\n\u001B[0;32m--> 306\u001B[0m \u001B[43moptimizer\u001B[49m\u001B[38;5;241;43m.\u001B[39;49m\u001B[43mstep\u001B[49m\u001B[43m(\u001B[49m\u001B[43m)\u001B[49m\n\u001B[1;32m    308\u001B[0m bpr_loss_batch_list\u001B[38;5;241m.\u001B[39mappend(bpr_loss\u001B[38;5;241m.\u001B[39mitem())\n\u001B[1;32m    309\u001B[0m reg_loss_batch_list\u001B[38;5;241m.\u001B[39mappend(reg_loss\u001B[38;5;241m.\u001B[39mitem())\n",
      "File \u001B[0;32m~/4thBrain/GNN-eCommerce/venv/lib/python3.9/site-packages/torch/optim/optimizer.py:140\u001B[0m, in \u001B[0;36mOptimizer._hook_for_profile.<locals>.profile_hook_step.<locals>.wrapper\u001B[0;34m(*args, **kwargs)\u001B[0m\n\u001B[1;32m    138\u001B[0m profile_name \u001B[38;5;241m=\u001B[39m \u001B[38;5;124m\"\u001B[39m\u001B[38;5;124mOptimizer.step#\u001B[39m\u001B[38;5;132;01m{}\u001B[39;00m\u001B[38;5;124m.step\u001B[39m\u001B[38;5;124m\"\u001B[39m\u001B[38;5;241m.\u001B[39mformat(obj\u001B[38;5;241m.\u001B[39m\u001B[38;5;18m__class__\u001B[39m\u001B[38;5;241m.\u001B[39m\u001B[38;5;18m__name__\u001B[39m)\n\u001B[1;32m    139\u001B[0m \u001B[38;5;28;01mwith\u001B[39;00m torch\u001B[38;5;241m.\u001B[39mautograd\u001B[38;5;241m.\u001B[39mprofiler\u001B[38;5;241m.\u001B[39mrecord_function(profile_name):\n\u001B[0;32m--> 140\u001B[0m     out \u001B[38;5;241m=\u001B[39m \u001B[43mfunc\u001B[49m\u001B[43m(\u001B[49m\u001B[38;5;241;43m*\u001B[39;49m\u001B[43margs\u001B[49m\u001B[43m,\u001B[49m\u001B[43m \u001B[49m\u001B[38;5;241;43m*\u001B[39;49m\u001B[38;5;241;43m*\u001B[39;49m\u001B[43mkwargs\u001B[49m\u001B[43m)\u001B[49m\n\u001B[1;32m    141\u001B[0m     obj\u001B[38;5;241m.\u001B[39m_optimizer_step_code()\n\u001B[1;32m    142\u001B[0m     \u001B[38;5;28;01mreturn\u001B[39;00m out\n",
      "File \u001B[0;32m~/4thBrain/GNN-eCommerce/venv/lib/python3.9/site-packages/torch/optim/optimizer.py:23\u001B[0m, in \u001B[0;36m_use_grad_for_differentiable.<locals>._use_grad\u001B[0;34m(self, *args, **kwargs)\u001B[0m\n\u001B[1;32m     21\u001B[0m \u001B[38;5;28;01mtry\u001B[39;00m:\n\u001B[1;32m     22\u001B[0m     torch\u001B[38;5;241m.\u001B[39mset_grad_enabled(\u001B[38;5;28mself\u001B[39m\u001B[38;5;241m.\u001B[39mdefaults[\u001B[38;5;124m'\u001B[39m\u001B[38;5;124mdifferentiable\u001B[39m\u001B[38;5;124m'\u001B[39m])\n\u001B[0;32m---> 23\u001B[0m     ret \u001B[38;5;241m=\u001B[39m \u001B[43mfunc\u001B[49m\u001B[43m(\u001B[49m\u001B[38;5;28;43mself\u001B[39;49m\u001B[43m,\u001B[49m\u001B[43m \u001B[49m\u001B[38;5;241;43m*\u001B[39;49m\u001B[43margs\u001B[49m\u001B[43m,\u001B[49m\u001B[43m \u001B[49m\u001B[38;5;241;43m*\u001B[39;49m\u001B[38;5;241;43m*\u001B[39;49m\u001B[43mkwargs\u001B[49m\u001B[43m)\u001B[49m\n\u001B[1;32m     24\u001B[0m \u001B[38;5;28;01mfinally\u001B[39;00m:\n\u001B[1;32m     25\u001B[0m     torch\u001B[38;5;241m.\u001B[39mset_grad_enabled(prev_grad)\n",
      "File \u001B[0;32m~/4thBrain/GNN-eCommerce/venv/lib/python3.9/site-packages/torch/optim/adam.py:234\u001B[0m, in \u001B[0;36mAdam.step\u001B[0;34m(self, closure, grad_scaler)\u001B[0m\n\u001B[1;32m    231\u001B[0m                 \u001B[38;5;28;01mraise\u001B[39;00m \u001B[38;5;167;01mRuntimeError\u001B[39;00m(\u001B[38;5;124m'\u001B[39m\u001B[38;5;124m`requires_grad` is not supported for `step` in differentiable mode\u001B[39m\u001B[38;5;124m'\u001B[39m)\n\u001B[1;32m    232\u001B[0m             state_steps\u001B[38;5;241m.\u001B[39mappend(state[\u001B[38;5;124m'\u001B[39m\u001B[38;5;124mstep\u001B[39m\u001B[38;5;124m'\u001B[39m])\n\u001B[0;32m--> 234\u001B[0m     \u001B[43madam\u001B[49m\u001B[43m(\u001B[49m\u001B[43mparams_with_grad\u001B[49m\u001B[43m,\u001B[49m\n\u001B[1;32m    235\u001B[0m \u001B[43m         \u001B[49m\u001B[43mgrads\u001B[49m\u001B[43m,\u001B[49m\n\u001B[1;32m    236\u001B[0m \u001B[43m         \u001B[49m\u001B[43mexp_avgs\u001B[49m\u001B[43m,\u001B[49m\n\u001B[1;32m    237\u001B[0m \u001B[43m         \u001B[49m\u001B[43mexp_avg_sqs\u001B[49m\u001B[43m,\u001B[49m\n\u001B[1;32m    238\u001B[0m \u001B[43m         \u001B[49m\u001B[43mmax_exp_avg_sqs\u001B[49m\u001B[43m,\u001B[49m\n\u001B[1;32m    239\u001B[0m \u001B[43m         \u001B[49m\u001B[43mstate_steps\u001B[49m\u001B[43m,\u001B[49m\n\u001B[1;32m    240\u001B[0m \u001B[43m         \u001B[49m\u001B[43mamsgrad\u001B[49m\u001B[38;5;241;43m=\u001B[39;49m\u001B[43mgroup\u001B[49m\u001B[43m[\u001B[49m\u001B[38;5;124;43m'\u001B[39;49m\u001B[38;5;124;43mamsgrad\u001B[39;49m\u001B[38;5;124;43m'\u001B[39;49m\u001B[43m]\u001B[49m\u001B[43m,\u001B[49m\n\u001B[1;32m    241\u001B[0m \u001B[43m         \u001B[49m\u001B[43mbeta1\u001B[49m\u001B[38;5;241;43m=\u001B[39;49m\u001B[43mbeta1\u001B[49m\u001B[43m,\u001B[49m\n\u001B[1;32m    242\u001B[0m \u001B[43m         \u001B[49m\u001B[43mbeta2\u001B[49m\u001B[38;5;241;43m=\u001B[39;49m\u001B[43mbeta2\u001B[49m\u001B[43m,\u001B[49m\n\u001B[1;32m    243\u001B[0m \u001B[43m         \u001B[49m\u001B[43mlr\u001B[49m\u001B[38;5;241;43m=\u001B[39;49m\u001B[43mgroup\u001B[49m\u001B[43m[\u001B[49m\u001B[38;5;124;43m'\u001B[39;49m\u001B[38;5;124;43mlr\u001B[39;49m\u001B[38;5;124;43m'\u001B[39;49m\u001B[43m]\u001B[49m\u001B[43m,\u001B[49m\n\u001B[1;32m    244\u001B[0m \u001B[43m         \u001B[49m\u001B[43mweight_decay\u001B[49m\u001B[38;5;241;43m=\u001B[39;49m\u001B[43mgroup\u001B[49m\u001B[43m[\u001B[49m\u001B[38;5;124;43m'\u001B[39;49m\u001B[38;5;124;43mweight_decay\u001B[39;49m\u001B[38;5;124;43m'\u001B[39;49m\u001B[43m]\u001B[49m\u001B[43m,\u001B[49m\n\u001B[1;32m    245\u001B[0m \u001B[43m         \u001B[49m\u001B[43meps\u001B[49m\u001B[38;5;241;43m=\u001B[39;49m\u001B[43mgroup\u001B[49m\u001B[43m[\u001B[49m\u001B[38;5;124;43m'\u001B[39;49m\u001B[38;5;124;43meps\u001B[39;49m\u001B[38;5;124;43m'\u001B[39;49m\u001B[43m]\u001B[49m\u001B[43m,\u001B[49m\n\u001B[1;32m    246\u001B[0m \u001B[43m         \u001B[49m\u001B[43mmaximize\u001B[49m\u001B[38;5;241;43m=\u001B[39;49m\u001B[43mgroup\u001B[49m\u001B[43m[\u001B[49m\u001B[38;5;124;43m'\u001B[39;49m\u001B[38;5;124;43mmaximize\u001B[39;49m\u001B[38;5;124;43m'\u001B[39;49m\u001B[43m]\u001B[49m\u001B[43m,\u001B[49m\n\u001B[1;32m    247\u001B[0m \u001B[43m         \u001B[49m\u001B[43mforeach\u001B[49m\u001B[38;5;241;43m=\u001B[39;49m\u001B[43mgroup\u001B[49m\u001B[43m[\u001B[49m\u001B[38;5;124;43m'\u001B[39;49m\u001B[38;5;124;43mforeach\u001B[39;49m\u001B[38;5;124;43m'\u001B[39;49m\u001B[43m]\u001B[49m\u001B[43m,\u001B[49m\n\u001B[1;32m    248\u001B[0m \u001B[43m         \u001B[49m\u001B[43mcapturable\u001B[49m\u001B[38;5;241;43m=\u001B[39;49m\u001B[43mgroup\u001B[49m\u001B[43m[\u001B[49m\u001B[38;5;124;43m'\u001B[39;49m\u001B[38;5;124;43mcapturable\u001B[39;49m\u001B[38;5;124;43m'\u001B[39;49m\u001B[43m]\u001B[49m\u001B[43m,\u001B[49m\n\u001B[1;32m    249\u001B[0m \u001B[43m         \u001B[49m\u001B[43mdifferentiable\u001B[49m\u001B[38;5;241;43m=\u001B[39;49m\u001B[43mgroup\u001B[49m\u001B[43m[\u001B[49m\u001B[38;5;124;43m'\u001B[39;49m\u001B[38;5;124;43mdifferentiable\u001B[39;49m\u001B[38;5;124;43m'\u001B[39;49m\u001B[43m]\u001B[49m\u001B[43m,\u001B[49m\n\u001B[1;32m    250\u001B[0m \u001B[43m         \u001B[49m\u001B[43mfused\u001B[49m\u001B[38;5;241;43m=\u001B[39;49m\u001B[43mgroup\u001B[49m\u001B[43m[\u001B[49m\u001B[38;5;124;43m'\u001B[39;49m\u001B[38;5;124;43mfused\u001B[39;49m\u001B[38;5;124;43m'\u001B[39;49m\u001B[43m]\u001B[49m\u001B[43m,\u001B[49m\n\u001B[1;32m    251\u001B[0m \u001B[43m         \u001B[49m\u001B[43mgrad_scale\u001B[49m\u001B[38;5;241;43m=\u001B[39;49m\u001B[43mgrad_scale\u001B[49m\u001B[43m,\u001B[49m\n\u001B[1;32m    252\u001B[0m \u001B[43m         \u001B[49m\u001B[43mfound_inf\u001B[49m\u001B[38;5;241;43m=\u001B[39;49m\u001B[43mfound_inf\u001B[49m\u001B[43m)\u001B[49m\n\u001B[1;32m    254\u001B[0m \u001B[38;5;28;01mreturn\u001B[39;00m loss\n",
      "File \u001B[0;32m~/4thBrain/GNN-eCommerce/venv/lib/python3.9/site-packages/torch/optim/adam.py:300\u001B[0m, in \u001B[0;36madam\u001B[0;34m(params, grads, exp_avgs, exp_avg_sqs, max_exp_avg_sqs, state_steps, foreach, capturable, differentiable, fused, grad_scale, found_inf, amsgrad, beta1, beta2, lr, weight_decay, eps, maximize)\u001B[0m\n\u001B[1;32m    297\u001B[0m \u001B[38;5;28;01melse\u001B[39;00m:\n\u001B[1;32m    298\u001B[0m     func \u001B[38;5;241m=\u001B[39m _single_tensor_adam\n\u001B[0;32m--> 300\u001B[0m \u001B[43mfunc\u001B[49m\u001B[43m(\u001B[49m\u001B[43mparams\u001B[49m\u001B[43m,\u001B[49m\n\u001B[1;32m    301\u001B[0m \u001B[43m     \u001B[49m\u001B[43mgrads\u001B[49m\u001B[43m,\u001B[49m\n\u001B[1;32m    302\u001B[0m \u001B[43m     \u001B[49m\u001B[43mexp_avgs\u001B[49m\u001B[43m,\u001B[49m\n\u001B[1;32m    303\u001B[0m \u001B[43m     \u001B[49m\u001B[43mexp_avg_sqs\u001B[49m\u001B[43m,\u001B[49m\n\u001B[1;32m    304\u001B[0m \u001B[43m     \u001B[49m\u001B[43mmax_exp_avg_sqs\u001B[49m\u001B[43m,\u001B[49m\n\u001B[1;32m    305\u001B[0m \u001B[43m     \u001B[49m\u001B[43mstate_steps\u001B[49m\u001B[43m,\u001B[49m\n\u001B[1;32m    306\u001B[0m \u001B[43m     \u001B[49m\u001B[43mamsgrad\u001B[49m\u001B[38;5;241;43m=\u001B[39;49m\u001B[43mamsgrad\u001B[49m\u001B[43m,\u001B[49m\n\u001B[1;32m    307\u001B[0m \u001B[43m     \u001B[49m\u001B[43mbeta1\u001B[49m\u001B[38;5;241;43m=\u001B[39;49m\u001B[43mbeta1\u001B[49m\u001B[43m,\u001B[49m\n\u001B[1;32m    308\u001B[0m \u001B[43m     \u001B[49m\u001B[43mbeta2\u001B[49m\u001B[38;5;241;43m=\u001B[39;49m\u001B[43mbeta2\u001B[49m\u001B[43m,\u001B[49m\n\u001B[1;32m    309\u001B[0m \u001B[43m     \u001B[49m\u001B[43mlr\u001B[49m\u001B[38;5;241;43m=\u001B[39;49m\u001B[43mlr\u001B[49m\u001B[43m,\u001B[49m\n\u001B[1;32m    310\u001B[0m \u001B[43m     \u001B[49m\u001B[43mweight_decay\u001B[49m\u001B[38;5;241;43m=\u001B[39;49m\u001B[43mweight_decay\u001B[49m\u001B[43m,\u001B[49m\n\u001B[1;32m    311\u001B[0m \u001B[43m     \u001B[49m\u001B[43meps\u001B[49m\u001B[38;5;241;43m=\u001B[39;49m\u001B[43meps\u001B[49m\u001B[43m,\u001B[49m\n\u001B[1;32m    312\u001B[0m \u001B[43m     \u001B[49m\u001B[43mmaximize\u001B[49m\u001B[38;5;241;43m=\u001B[39;49m\u001B[43mmaximize\u001B[49m\u001B[43m,\u001B[49m\n\u001B[1;32m    313\u001B[0m \u001B[43m     \u001B[49m\u001B[43mcapturable\u001B[49m\u001B[38;5;241;43m=\u001B[39;49m\u001B[43mcapturable\u001B[49m\u001B[43m,\u001B[49m\n\u001B[1;32m    314\u001B[0m \u001B[43m     \u001B[49m\u001B[43mdifferentiable\u001B[49m\u001B[38;5;241;43m=\u001B[39;49m\u001B[43mdifferentiable\u001B[49m\u001B[43m,\u001B[49m\n\u001B[1;32m    315\u001B[0m \u001B[43m     \u001B[49m\u001B[43mgrad_scale\u001B[49m\u001B[38;5;241;43m=\u001B[39;49m\u001B[43mgrad_scale\u001B[49m\u001B[43m,\u001B[49m\n\u001B[1;32m    316\u001B[0m \u001B[43m     \u001B[49m\u001B[43mfound_inf\u001B[49m\u001B[38;5;241;43m=\u001B[39;49m\u001B[43mfound_inf\u001B[49m\u001B[43m)\u001B[49m\n",
      "File \u001B[0;32m~/4thBrain/GNN-eCommerce/venv/lib/python3.9/site-packages/torch/optim/adam.py:410\u001B[0m, in \u001B[0;36m_single_tensor_adam\u001B[0;34m(params, grads, exp_avgs, exp_avg_sqs, max_exp_avg_sqs, state_steps, grad_scale, found_inf, amsgrad, beta1, beta2, lr, weight_decay, eps, maximize, capturable, differentiable)\u001B[0m\n\u001B[1;32m    408\u001B[0m     denom \u001B[38;5;241m=\u001B[39m (max_exp_avg_sqs[i]\u001B[38;5;241m.\u001B[39msqrt() \u001B[38;5;241m/\u001B[39m bias_correction2_sqrt)\u001B[38;5;241m.\u001B[39madd_(eps)\n\u001B[1;32m    409\u001B[0m \u001B[38;5;28;01melse\u001B[39;00m:\n\u001B[0;32m--> 410\u001B[0m     denom \u001B[38;5;241m=\u001B[39m (\u001B[43mexp_avg_sq\u001B[49m\u001B[38;5;241;43m.\u001B[39;49m\u001B[43msqrt\u001B[49m\u001B[43m(\u001B[49m\u001B[43m)\u001B[49m\u001B[43m \u001B[49m\u001B[38;5;241;43m/\u001B[39;49m\u001B[43m \u001B[49m\u001B[43mbias_correction2_sqrt\u001B[49m)\u001B[38;5;241m.\u001B[39madd_(eps)\n\u001B[1;32m    412\u001B[0m param\u001B[38;5;241m.\u001B[39maddcdiv_(exp_avg, denom, value\u001B[38;5;241m=\u001B[39m\u001B[38;5;241m-\u001B[39mstep_size)\n",
      "\u001B[0;31mKeyboardInterrupt\u001B[0m: "
     ]
    }
   ],
   "source": [
    "bpr_loss, reg_loss, final_loss, recall, precision = \\\n",
    "    train_and_evl(n_users, n_items, 100, train_df, train_pos_list_df, val_pos_list_df, model, optimizer, device=device, EPOCHS = 50, BATCH_SIZE = 1024, K = 20, DECAY = 0.0001)  # val_u_i_matrix,"
   ],
   "metadata": {
    "collapsed": false
   }
  },
  {
   "cell_type": "code",
   "execution_count": 18,
   "outputs": [
    {
     "data": {
      "text/plain": "tensor([[ 1753,  5772,  4461,  ...,  9099,  7207,  8270],\n        [10986,  9195,  7952,  ...,  4856,  1356,   580]])"
     },
     "execution_count": 18,
     "metadata": {},
     "output_type": "execute_result"
    }
   ],
   "source": [
    "edge_index, edge_weight = df_to_graph(train_df, True)\n",
    "edge_index"
   ],
   "metadata": {
    "collapsed": false
   }
  },
  {
   "cell_type": "code",
   "execution_count": 23,
   "outputs": [
    {
     "data": {
      "text/plain": "81100"
     },
     "execution_count": 23,
     "metadata": {},
     "output_type": "execute_result"
    }
   ],
   "source": [
    "idx = list(range(len(users)))\n",
    "random.shuffle(idx)\n",
    "loader = DataLoader(idx, batch_size=100, shuffle=True)\n",
    "len(idx)"
   ],
   "metadata": {
    "collapsed": false
   }
  },
  {
   "cell_type": "code",
   "execution_count": 24,
   "outputs": [],
   "source": [
    "model.train()\n",
    "for batch in loader:\n",
    "    optimizer.zero_grad()\n",
    "\n",
    "    batch_usr = users[batch]\n",
    "    batch_pos_items = pos_items[batch]\n",
    "    batch_neg_items = neg_items[batch]\n",
    "\n",
    "    batch_pos_neg_labels = batch_pos_neg_edges(batch_usr, batch_pos_items, batch_neg_items)"
   ],
   "metadata": {
    "collapsed": false
   }
  },
  {
   "cell_type": "code",
   "execution_count": 25,
   "outputs": [
    {
     "data": {
      "text/plain": "tensor([[ 4647,   142,  1749,  1675,   523,   782,  3760,  5455,   159,  2272,\n          4928,  1460,  6241,  3454,  1992,  3984,   898,  5821,   406,  6291,\n          4630,  3049,  4261,  6359,  4463,  3290,  6498,  2889,  3236,   813,\n          6695,  4228,  6431,  4883,  6329,  4536,  3299,  1699,  2499,  4954,\n          2807,  6749,  4835,   838,  4648,  3746,   819,  1175,   304,  6219,\n          3593,  6021,  1122,  2116,   994,  6398,  3194,  2419,  4156,  2019,\n          5275,  3031,  4143,  3562,   745,   591,  4795,  6338,  1191,  2961,\n          1855,   950,   213,    32,  3634,  2159,  4488,  3664,  1837,   443,\n          5006,  2791,   330,  3838,   130,  2164,  2475,  2899,  5838,  4215,\n          2159,  5032,    66,   398,  5475,  5314,  5193,  4008,   312,  1061,\n          4647,   142,  1749,  1675,   523,   782,  3760,  5455,   159,  2272,\n          4928,  1460,  6241,  3454,  1992,  3984,   898,  5821,   406,  6291,\n          4630,  3049,  4261,  6359,  4463,  3290,  6498,  2889,  3236,   813,\n          6695,  4228,  6431,  4883,  6329,  4536,  3299,  1699,  2499,  4954,\n          2807,  6749,  4835,   838,  4648,  3746,   819,  1175,   304,  6219,\n          3593,  6021,  1122,  2116,   994,  6398,  3194,  2419,  4156,  2019,\n          5275,  3031,  4143,  3562,   745,   591,  4795,  6338,  1191,  2961,\n          1855,   950,   213,    32,  3634,  2159,  4488,  3664,  1837,   443,\n          5006,  2791,   330,  3838,   130,  2164,  2475,  2899,  5838,  4215,\n          2159,  5032,    66,   398,  5475,  5314,  5193,  4008,   312,  1061],\n        [ 8368,  8256, 11601,  8665, 10596,  9268,  8511, 10418, 11702,  8681,\n         10296, 10970,  9091,  8373,  8391,  9493,  8766,  8034, 10626,  9061,\n         10389,  9825,  8350,  8522,  7242,  7795,  7472, 11142,  7117,  7726,\n         10484,  7169,  9448,  9732,  8026,  7096,  9352,  9780,  9648,  9854,\n          9060,  8781,  7223,  9928,  8817,  7574,  9926, 10212,  8906, 10474,\n          6954,  8391,  7865,  9781,  7576,  7856,  9258, 11712,  7162, 10783,\n         11534,  7881,  8589,  7023,  8138,  9097, 10611, 11588, 10967,  6858,\n          8033,  8752,  7507, 10603, 11387,  6993, 10957, 11229,  8652,  9566,\n          8395,  9069,  6850,  8253, 10945,  9710, 10697,  8539, 10724,  6872,\n          6993,  9733, 10190, 11330,  8836,  9646,  7783, 10263,  7193,  7680,\n          8384,  7432,  8091, 10409,  9220,  7794,  7186, 10356, 10113,  9897,\n         11392, 10911, 10538,  8777, 11351,  9241,  7644,  7926,  8154, 11456,\n         10753,  9168,  7535, 11192, 10059, 11655,  8663, 10712,  8725,  8277,\n         10144,  8167,  8672,  7831, 11687,  9497,  9368, 10331, 10391,  7241,\n          7449,  6974,  9021,  8602, 11252, 10233,  8192,  6926, 11400,  9251,\n          7821,  9979,  9970, 11729,  8393, 11462,  8857, 10093, 11757,  9620,\n          7689, 10540,  8959, 11194, 11542, 11283, 11219,  9332, 11364,  9645,\n         11084,  9908,  8292,  7145, 10076,  7322, 11772, 10280, 11144, 11761,\n         11325,  8290,  9903, 10733, 11205,  7747, 10091, 11234, 10822,  8594,\n         11183, 11381, 10741,  7474,  7964, 10313,  8067,  7464,  7255,  9091]])"
     },
     "execution_count": 25,
     "metadata": {},
     "output_type": "execute_result"
    }
   ],
   "source": [
    "batch_pos_neg_labels"
   ],
   "metadata": {
    "collapsed": false
   }
  },
  {
   "cell_type": "code",
   "execution_count": 19,
   "outputs": [
    {
     "data": {
      "text/plain": "tensor(55920)"
     },
     "execution_count": 19,
     "metadata": {},
     "output_type": "execute_result"
    }
   ],
   "source": [
    "# batch_pos_neg_labels[1].min()"
   ],
   "metadata": {
    "collapsed": false
   }
  },
  {
   "cell_type": "code",
   "execution_count": 26,
   "outputs": [
    {
     "data": {
      "text/plain": "tensor([ 8.7462e+00,  9.0312e+00,  8.7245e+00,  8.7949e+00,  8.7454e+00,\n         8.7560e+00,  8.7704e+00,  8.6928e+00,  8.6050e+00,  8.8123e+00,\n         8.7946e+00,  8.7746e+00,  9.3868e+00,  8.7652e+00,  8.8764e+00,\n         8.8347e+00,  8.9700e+00,  8.7243e+00,  8.5606e+00,  8.7655e+00,\n         8.4840e+00,  8.6740e+00,  8.7507e+00,  8.7256e+00,  8.6734e+00,\n         9.2560e+00,  8.9011e+00,  8.7272e+00,  8.7289e+00,  8.4832e+00,\n         8.8131e+00,  8.6571e+00,  8.6996e+00,  8.7895e+00,  9.0355e+00,\n         8.6716e+00,  8.8301e+00,  8.8911e+00,  8.9282e+00,  8.8197e+00,\n         8.6396e+00,  9.0734e+00,  8.7252e+00,  8.9373e+00,  8.6486e+00,\n         8.9984e+00,  8.8802e+00,  8.7302e+00,  9.2221e+00,  8.7233e+00,\n         8.7469e+00,  8.9942e+00,  8.7192e+00,  8.6693e+00,  8.8153e+00,\n         8.6592e+00,  8.6334e+00,  8.7553e+00,  8.6475e+00,  8.6949e+00,\n         8.6151e+00,  8.7265e+00,  8.7388e+00,  8.9374e+00,  8.9761e+00,\n         8.6015e+00,  8.7837e+00,  8.8329e+00,  8.9778e+00,  8.8752e+00,\n         8.7947e+00,  8.9716e+00,  8.7053e+00,  8.6810e+00,  8.9358e+00,\n         8.7783e+00,  8.6923e+00,  8.6622e+00,  8.7513e+00,  8.7088e+00,\n         8.6626e+00,  8.6016e+00,  9.0171e+00,  8.7551e+00,  8.6844e+00,\n         8.7622e+00,  8.8110e+00,  8.9922e+00,  8.8153e+00,  8.6760e+00,\n         8.7783e+00,  8.7406e+00,  8.7449e+00,  8.7113e+00,  8.6274e+00,\n         8.7437e+00,  8.7387e+00,  8.6836e+00,  8.9159e+00,  8.7277e+00,\n        -3.3573e-01,  9.0584e-02,  5.1301e-02, -1.3118e-01, -1.2430e-01,\n         9.7733e-01, -8.0929e-02, -5.4886e-02,  2.1408e-01, -2.4937e-02,\n         4.8833e-02, -2.4946e-01, -8.7639e-02, -1.3043e-02,  1.7663e-02,\n        -1.2714e-01,  1.6100e-01, -1.2875e-02,  3.3436e-02, -2.5249e-02,\n        -1.7177e-01, -7.6852e-02,  2.8729e-02, -2.9453e-01, -2.6104e-02,\n        -4.8571e-02,  8.9062e-02, -1.7159e-01,  1.0202e-01,  2.7107e-02,\n        -1.1969e-01, -3.9161e-02,  2.1752e-02,  5.1849e-03,  5.1901e-02,\n         2.0205e-02,  3.6607e-01, -1.0693e-01, -1.6237e-01, -2.6142e-01,\n         1.1166e-01, -1.4663e-01,  1.7101e-01, -2.4140e-02, -1.3883e-02,\n        -7.0921e-02,  9.3944e-02,  8.4174e-02, -8.9301e-02,  6.8976e-02,\n         5.2198e-02, -1.1086e-01,  1.7378e+00, -6.1747e-02,  1.5136e-01,\n        -3.5304e-02, -1.0118e-03,  1.1957e-01,  1.1613e-01,  7.0988e-02,\n        -1.1910e-01, -1.1722e-01,  4.5452e-02,  6.2228e-01, -3.4872e-02,\n         2.7846e-01, -4.0448e-02,  8.7032e-02,  1.0451e+00,  2.4489e-01,\n        -2.3598e-02, -3.4478e-02,  7.4406e-02, -8.6304e-02, -1.0937e-02,\n         7.4509e-01,  2.9133e-02,  7.7430e-02, -6.2322e-02, -3.2923e-01,\n        -5.2063e-02,  1.5743e+00,  1.9794e-01,  2.7528e-02,  1.9482e-02,\n        -1.8176e-01, -1.7905e-04, -1.3027e-02, -8.3176e-02, -1.9266e-01,\n         1.4954e-01, -1.5426e-01, -9.6983e-03,  1.0070e-01, -2.1704e+00,\n         2.4815e-02, -5.3429e-01, -1.9243e-02, -1.8201e-01,  1.3795e+00],\n       grad_fn=<SumBackward1>)"
     },
     "execution_count": 26,
     "metadata": {},
     "output_type": "execute_result"
    }
   ],
   "source": [
    "out = model(edge_index, batch_pos_neg_labels, edge_weight)\n",
    "out"
   ],
   "metadata": {
    "collapsed": false
   }
  },
  {
   "cell_type": "code",
   "execution_count": 28,
   "outputs": [
    {
     "data": {
      "text/plain": "tensor(0.0010, grad_fn=<AddBackward0>)"
     },
     "execution_count": 28,
     "metadata": {},
     "output_type": "execute_result"
    }
   ],
   "source": [
    "size = len(batch)\n",
    "\n",
    "bpr_loss = model.recommendation_loss(out[:size], out[size:], 0) * size\n",
    "reg_loss = regularization_loss(model.embedding.weight, size, batch_usr, batch_pos_items, batch_neg_items)\n",
    "loss = bpr_loss + reg_loss"
   ],
   "metadata": {
    "collapsed": false
   }
  },
  {
   "cell_type": "code",
   "execution_count": 23,
   "outputs": [],
   "source": [
    "# bpr_loss_batch_list = []\n",
    "# reg_loss_batch_list = []\n",
    "# final_loss_batch_list = []"
   ],
   "metadata": {
    "collapsed": false
   }
  },
  {
   "cell_type": "code",
   "execution_count": 24,
   "outputs": [],
   "source": [
    "# bpr_loss_batch_list.append(bpr_loss.item())\n",
    "# reg_loss_batch_list.append(reg_loss.item())\n",
    "# final_loss_batch_list.append(loss.item())"
   ],
   "metadata": {
    "collapsed": false
   }
  },
  {
   "cell_type": "code",
   "execution_count": 25,
   "outputs": [],
   "source": [
    "# bpr_loss = round(np.mean(bpr_loss_batch_list), 8)\n",
    "# reg_loss = round(np.mean(reg_loss_batch_list), 8)\n",
    "# final_loss = round(np.mean(final_loss_batch_list), 8)"
   ],
   "metadata": {
    "collapsed": false
   }
  },
  {
   "cell_type": "code",
   "execution_count": 30,
   "outputs": [
    {
     "name": "stdout",
     "output_type": "stream",
     "text": [
      "bpr loss:  tensor(0.0010, grad_fn=<AddBackward0>) reg loss:  tensor(0.0009, grad_fn=<MulBackward0>) final loss tensor(0.0010, grad_fn=<AddBackward0>)\n"
     ]
    }
   ],
   "source": [
    "print(\"bpr loss: \", loss, \"reg loss: \", reg_loss, \"final loss\", loss)"
   ],
   "metadata": {
    "collapsed": false
   }
  },
  {
   "cell_type": "code",
   "execution_count": 27,
   "outputs": [],
   "source": [
    "# bpr_loss_epoch_list = []\n",
    "# reg_loss_epoch_list = []\n",
    "# final_loss_epoch_list = []\n",
    "# recall_epoch_list = []\n",
    "# precision_epoch_list = []"
   ],
   "metadata": {
    "collapsed": false
   }
  },
  {
   "cell_type": "code",
   "execution_count": 31,
   "outputs": [],
   "source": [
    "model.eval()\n",
    "with torch.no_grad():\n",
    "    embeds = model.get_embedding(edge_index, edge_weight)   # ?? ???\n",
    "    final_usr_embed, final_item_embed = torch.split(embeds, (n_users, n_items))"
   ],
   "metadata": {
    "collapsed": false
   }
  },
  {
   "cell_type": "code",
   "execution_count": 30,
   "outputs": [],
   "source": [
    "# matrix = interact_matrix(train_df, n_users, n_items)"
   ],
   "metadata": {
    "collapsed": false
   }
  },
  {
   "cell_type": "code",
   "execution_count": 34,
   "outputs": [],
   "source": [
    "test_topK_recall, test_topK_precision = get_metrics(final_usr_embed, final_item_embed, val_pos_list_df, 20)"
   ],
   "metadata": {
    "collapsed": false
   }
  },
  {
   "cell_type": "code",
   "execution_count": 35,
   "outputs": [
    {
     "name": "stdout",
     "output_type": "stream",
     "text": [
      "precision:  0.0 recall:  0.0\n"
     ]
    }
   ],
   "source": [
    "print('precision: ', test_topK_precision, 'recall: ', test_topK_recall)"
   ],
   "metadata": {
    "collapsed": false
   }
  },
  {
   "cell_type": "code",
   "execution_count": 39,
   "outputs": [
    {
     "data": {
      "text/plain": "torch.Size([6767, 5015])"
     },
     "execution_count": 39,
     "metadata": {},
     "output_type": "execute_result"
    }
   ],
   "source": [
    "relevance_score = final_usr_embed @ final_item_embed.t()\n",
    "relevance_score.shape"
   ],
   "metadata": {
    "collapsed": false
   }
  },
  {
   "cell_type": "code",
   "execution_count": 94,
   "outputs": [
    {
     "data": {
      "text/plain": "tensor([[2077, 4210, 1475,  884, 4279, 4977, 1204, 1829, 1261, 2638, 3566,  769,\n         2911, 2088, 2524, 1313, 4375, 1624, 1093, 4767],\n        [4653, 2535,  259, 2326,  434, 2558, 4091,  858, 2389, 3123, 2491, 1451,\n          365, 2345, 4836,  427,  364, 1295, 2467, 4362],\n        [3824, 2881, 3703,  193, 4956, 2139,  141,  119, 3304, 1601, 2023, 4878,\n         2449, 3161, 3079, 3209, 2413, 3356, 2238,  607],\n        [3203,  595, 3981, 4555, 4016, 1511, 3913,  555,  426, 3555, 2531, 2815,\n          400, 1468, 2810, 1314, 2585, 1901, 4093,  539],\n        [ 520,  355, 2326, 1520, 2750, 1199, 2520, 2615, 2490, 2569, 4563, 4279,\n         3696, 2056, 3063, 4091, 2764, 4758, 2065,  705],\n        [4587, 2747, 2157, 1884, 2640, 1175, 2159, 1429, 4898, 1822, 3696, 1016,\n         2326, 1411, 2293, 3529,  259, 4563, 3277, 2413]])"
     },
     "execution_count": 94,
     "metadata": {},
     "output_type": "execute_result"
    }
   ],
   "source": [
    "topk_relevance_indices = torch.topk(relevance_score, 20).indices\n",
    "topk_relevance_indices[0:6]"
   ],
   "metadata": {
    "collapsed": false
   }
  },
  {
   "cell_type": "code",
   "execution_count": 52,
   "outputs": [
    {
     "data": {
      "text/plain": "torch.Size([6767, 20])"
     },
     "execution_count": 52,
     "metadata": {},
     "output_type": "execute_result"
    }
   ],
   "source": [
    "topk_relevance_indices.shape"
   ],
   "metadata": {
    "collapsed": false
   }
  },
  {
   "cell_type": "code",
   "execution_count": 102,
   "outputs": [],
   "source": [
    "# t = topk_relevance_indices\n",
    "# t = torch.flatten(t)\n",
    "# t.shape"
   ],
   "metadata": {
    "collapsed": false
   }
  },
  {
   "cell_type": "code",
   "execution_count": 99,
   "outputs": [],
   "source": [
    "# torch.max(t)"
   ],
   "metadata": {
    "collapsed": false
   }
  },
  {
   "cell_type": "code",
   "execution_count": 100,
   "outputs": [],
   "source": [
    "# torch.min(t)"
   ],
   "metadata": {
    "collapsed": false
   }
  },
  {
   "cell_type": "code",
   "execution_count": 101,
   "outputs": [],
   "source": [
    "# aa = list([68,561,1949,2478,4236,5117,5320,6173])\n",
    "# train_df.loc[train_df['user_id_idx'].isin(aa)]"
   ],
   "metadata": {
    "collapsed": false
   }
  },
  {
   "cell_type": "code",
   "execution_count": 96,
   "outputs": [
    {
     "data": {
      "text/plain": "        0     1     2     3     4     5     6     7     8     9     10    11  \\\n0     2077  4210  1475   884  4279  4977  1204  1829  1261  2638  3566   769   \n1     4653  2535   259  2326   434  2558  4091   858  2389  3123  2491  1451   \n2     3824  2881  3703   193  4956  2139   141   119  3304  1601  2023  4878   \n3     3203   595  3981  4555  4016  1511  3913   555   426  3555  2531  2815   \n4      520   355  2326  1520  2750  1199  2520  2615  2490  2569  4563  4279   \n...    ...   ...   ...   ...   ...   ...   ...   ...   ...   ...   ...   ...   \n6762  1266  2924  1101  2838  1751  2915  2628  3923  1916  2558   400  1494   \n6763  1041   256  1748  2326  2643  1313  2023  3707   701  3753  4653   964   \n6764  2815   632   266  1028  2030  2121  3064  2290  4016  4084  1169  4847   \n6765  2325  2324  4955  1320  3419    35  3923  2920  1487  4200  3487  4218   \n6766  1048  4404  1025  2491  3062  3751   887   980   555  1340  4114   385   \n\n        12    13    14    15    16    17    18    19  \n0     2911  2088  2524  1313  4375  1624  1093  4767  \n1      365  2345  4836   427   364  1295  2467  4362  \n2     2449  3161  3079  3209  2413  3356  2238   607  \n3      400  1468  2810  1314  2585  1901  4093   539  \n4     3696  2056  3063  4091  2764  4758  2065   705  \n...    ...   ...   ...   ...   ...   ...   ...   ...  \n6762  3755  4272  1489  3123  4050  1665  1117  2238  \n6763  3182  2537  2676  4279  2491   187  1199   571  \n6764  3203  3844  1102  2799  2363  2859  4620   478  \n6765  2174  2585  3079  3424   937  2640  3160   838  \n6766  1020  1371  3328  2535  4091    58  2799  2903  \n\n[6767 rows x 20 columns]",
      "text/html": "<div>\n<style scoped>\n    .dataframe tbody tr th:only-of-type {\n        vertical-align: middle;\n    }\n\n    .dataframe tbody tr th {\n        vertical-align: top;\n    }\n\n    .dataframe thead th {\n        text-align: right;\n    }\n</style>\n<table border=\"1\" class=\"dataframe\">\n  <thead>\n    <tr style=\"text-align: right;\">\n      <th></th>\n      <th>0</th>\n      <th>1</th>\n      <th>2</th>\n      <th>3</th>\n      <th>4</th>\n      <th>5</th>\n      <th>6</th>\n      <th>7</th>\n      <th>8</th>\n      <th>9</th>\n      <th>10</th>\n      <th>11</th>\n      <th>12</th>\n      <th>13</th>\n      <th>14</th>\n      <th>15</th>\n      <th>16</th>\n      <th>17</th>\n      <th>18</th>\n      <th>19</th>\n    </tr>\n  </thead>\n  <tbody>\n    <tr>\n      <th>0</th>\n      <td>2077</td>\n      <td>4210</td>\n      <td>1475</td>\n      <td>884</td>\n      <td>4279</td>\n      <td>4977</td>\n      <td>1204</td>\n      <td>1829</td>\n      <td>1261</td>\n      <td>2638</td>\n      <td>3566</td>\n      <td>769</td>\n      <td>2911</td>\n      <td>2088</td>\n      <td>2524</td>\n      <td>1313</td>\n      <td>4375</td>\n      <td>1624</td>\n      <td>1093</td>\n      <td>4767</td>\n    </tr>\n    <tr>\n      <th>1</th>\n      <td>4653</td>\n      <td>2535</td>\n      <td>259</td>\n      <td>2326</td>\n      <td>434</td>\n      <td>2558</td>\n      <td>4091</td>\n      <td>858</td>\n      <td>2389</td>\n      <td>3123</td>\n      <td>2491</td>\n      <td>1451</td>\n      <td>365</td>\n      <td>2345</td>\n      <td>4836</td>\n      <td>427</td>\n      <td>364</td>\n      <td>1295</td>\n      <td>2467</td>\n      <td>4362</td>\n    </tr>\n    <tr>\n      <th>2</th>\n      <td>3824</td>\n      <td>2881</td>\n      <td>3703</td>\n      <td>193</td>\n      <td>4956</td>\n      <td>2139</td>\n      <td>141</td>\n      <td>119</td>\n      <td>3304</td>\n      <td>1601</td>\n      <td>2023</td>\n      <td>4878</td>\n      <td>2449</td>\n      <td>3161</td>\n      <td>3079</td>\n      <td>3209</td>\n      <td>2413</td>\n      <td>3356</td>\n      <td>2238</td>\n      <td>607</td>\n    </tr>\n    <tr>\n      <th>3</th>\n      <td>3203</td>\n      <td>595</td>\n      <td>3981</td>\n      <td>4555</td>\n      <td>4016</td>\n      <td>1511</td>\n      <td>3913</td>\n      <td>555</td>\n      <td>426</td>\n      <td>3555</td>\n      <td>2531</td>\n      <td>2815</td>\n      <td>400</td>\n      <td>1468</td>\n      <td>2810</td>\n      <td>1314</td>\n      <td>2585</td>\n      <td>1901</td>\n      <td>4093</td>\n      <td>539</td>\n    </tr>\n    <tr>\n      <th>4</th>\n      <td>520</td>\n      <td>355</td>\n      <td>2326</td>\n      <td>1520</td>\n      <td>2750</td>\n      <td>1199</td>\n      <td>2520</td>\n      <td>2615</td>\n      <td>2490</td>\n      <td>2569</td>\n      <td>4563</td>\n      <td>4279</td>\n      <td>3696</td>\n      <td>2056</td>\n      <td>3063</td>\n      <td>4091</td>\n      <td>2764</td>\n      <td>4758</td>\n      <td>2065</td>\n      <td>705</td>\n    </tr>\n    <tr>\n      <th>...</th>\n      <td>...</td>\n      <td>...</td>\n      <td>...</td>\n      <td>...</td>\n      <td>...</td>\n      <td>...</td>\n      <td>...</td>\n      <td>...</td>\n      <td>...</td>\n      <td>...</td>\n      <td>...</td>\n      <td>...</td>\n      <td>...</td>\n      <td>...</td>\n      <td>...</td>\n      <td>...</td>\n      <td>...</td>\n      <td>...</td>\n      <td>...</td>\n      <td>...</td>\n    </tr>\n    <tr>\n      <th>6762</th>\n      <td>1266</td>\n      <td>2924</td>\n      <td>1101</td>\n      <td>2838</td>\n      <td>1751</td>\n      <td>2915</td>\n      <td>2628</td>\n      <td>3923</td>\n      <td>1916</td>\n      <td>2558</td>\n      <td>400</td>\n      <td>1494</td>\n      <td>3755</td>\n      <td>4272</td>\n      <td>1489</td>\n      <td>3123</td>\n      <td>4050</td>\n      <td>1665</td>\n      <td>1117</td>\n      <td>2238</td>\n    </tr>\n    <tr>\n      <th>6763</th>\n      <td>1041</td>\n      <td>256</td>\n      <td>1748</td>\n      <td>2326</td>\n      <td>2643</td>\n      <td>1313</td>\n      <td>2023</td>\n      <td>3707</td>\n      <td>701</td>\n      <td>3753</td>\n      <td>4653</td>\n      <td>964</td>\n      <td>3182</td>\n      <td>2537</td>\n      <td>2676</td>\n      <td>4279</td>\n      <td>2491</td>\n      <td>187</td>\n      <td>1199</td>\n      <td>571</td>\n    </tr>\n    <tr>\n      <th>6764</th>\n      <td>2815</td>\n      <td>632</td>\n      <td>266</td>\n      <td>1028</td>\n      <td>2030</td>\n      <td>2121</td>\n      <td>3064</td>\n      <td>2290</td>\n      <td>4016</td>\n      <td>4084</td>\n      <td>1169</td>\n      <td>4847</td>\n      <td>3203</td>\n      <td>3844</td>\n      <td>1102</td>\n      <td>2799</td>\n      <td>2363</td>\n      <td>2859</td>\n      <td>4620</td>\n      <td>478</td>\n    </tr>\n    <tr>\n      <th>6765</th>\n      <td>2325</td>\n      <td>2324</td>\n      <td>4955</td>\n      <td>1320</td>\n      <td>3419</td>\n      <td>35</td>\n      <td>3923</td>\n      <td>2920</td>\n      <td>1487</td>\n      <td>4200</td>\n      <td>3487</td>\n      <td>4218</td>\n      <td>2174</td>\n      <td>2585</td>\n      <td>3079</td>\n      <td>3424</td>\n      <td>937</td>\n      <td>2640</td>\n      <td>3160</td>\n      <td>838</td>\n    </tr>\n    <tr>\n      <th>6766</th>\n      <td>1048</td>\n      <td>4404</td>\n      <td>1025</td>\n      <td>2491</td>\n      <td>3062</td>\n      <td>3751</td>\n      <td>887</td>\n      <td>980</td>\n      <td>555</td>\n      <td>1340</td>\n      <td>4114</td>\n      <td>385</td>\n      <td>1020</td>\n      <td>1371</td>\n      <td>3328</td>\n      <td>2535</td>\n      <td>4091</td>\n      <td>58</td>\n      <td>2799</td>\n      <td>2903</td>\n    </tr>\n  </tbody>\n</table>\n<p>6767 rows × 20 columns</p>\n</div>"
     },
     "execution_count": 96,
     "metadata": {},
     "output_type": "execute_result"
    }
   ],
   "source": [
    "topk_relevance_indices_df = pd.DataFrame(topk_relevance_indices.cpu().numpy())\n",
    "topk_relevance_indices_df"
   ],
   "metadata": {
    "collapsed": false
   }
  },
  {
   "cell_type": "code",
   "execution_count": 103,
   "outputs": [
    {
     "data": {
      "text/plain": "0        [2077, 4210, 1475, 884, 4279, 4977, 1204, 1829, 1261, 2638, 3566, 769, 2911, 2088, 2524, 1313, 4375, 1624, 1093, 4767]\n1            [4653, 2535, 259, 2326, 434, 2558, 4091, 858, 2389, 3123, 2491, 1451, 365, 2345, 4836, 427, 364, 1295, 2467, 4362]\n2          [3824, 2881, 3703, 193, 4956, 2139, 141, 119, 3304, 1601, 2023, 4878, 2449, 3161, 3079, 3209, 2413, 3356, 2238, 607]\n3           [3203, 595, 3981, 4555, 4016, 1511, 3913, 555, 426, 3555, 2531, 2815, 400, 1468, 2810, 1314, 2585, 1901, 4093, 539]\n4         [520, 355, 2326, 1520, 2750, 1199, 2520, 2615, 2490, 2569, 4563, 4279, 3696, 2056, 3063, 4091, 2764, 4758, 2065, 705]\n                                                                 ...                                                           \n6762    [1266, 2924, 1101, 2838, 1751, 2915, 2628, 3923, 1916, 2558, 400, 1494, 3755, 4272, 1489, 3123, 4050, 1665, 1117, 2238]\n6763        [1041, 256, 1748, 2326, 2643, 1313, 2023, 3707, 701, 3753, 4653, 964, 3182, 2537, 2676, 4279, 2491, 187, 1199, 571]\n6764      [2815, 632, 266, 1028, 2030, 2121, 3064, 2290, 4016, 4084, 1169, 4847, 3203, 3844, 1102, 2799, 2363, 2859, 4620, 478]\n6765       [2325, 2324, 4955, 1320, 3419, 35, 3923, 2920, 1487, 4200, 3487, 4218, 2174, 2585, 3079, 3424, 937, 2640, 3160, 838]\n6766         [1048, 4404, 1025, 2491, 3062, 3751, 887, 980, 555, 1340, 4114, 385, 1020, 1371, 3328, 2535, 4091, 58, 2799, 2903]\nName: top_rlvnt_itm, Length: 6767, dtype: object"
     },
     "execution_count": 103,
     "metadata": {},
     "output_type": "execute_result"
    }
   ],
   "source": [
    "topk_relevance_indices_df['top_rlvnt_itm'] = topk_relevance_indices_df.values.tolist()\n",
    "topk_relevance_indices_df['top_rlvnt_itm']"
   ],
   "metadata": {
    "collapsed": false
   }
  },
  {
   "cell_type": "code",
   "execution_count": 104,
   "outputs": [
    {
     "data": {
      "text/plain": "         0     1     2     3     4     5     6     7     8     9  ...    11  \\\n0     2077  4210  1475   884  4279  4977  1204  1829  1261  2638  ...   769   \n1     4653  2535   259  2326   434  2558  4091   858  2389  3123  ...  1451   \n2     3824  2881  3703   193  4956  2139   141   119  3304  1601  ...  4878   \n3     3203   595  3981  4555  4016  1511  3913   555   426  3555  ...  2815   \n4      520   355  2326  1520  2750  1199  2520  2615  2490  2569  ...  4279   \n...    ...   ...   ...   ...   ...   ...   ...   ...   ...   ...  ...   ...   \n6762  1266  2924  1101  2838  1751  2915  2628  3923  1916  2558  ...  1494   \n6763  1041   256  1748  2326  2643  1313  2023  3707   701  3753  ...   964   \n6764  2815   632   266  1028  2030  2121  3064  2290  4016  4084  ...  4847   \n6765  2325  2324  4955  1320  3419    35  3923  2920  1487  4200  ...  4218   \n6766  1048  4404  1025  2491  3062  3751   887   980   555  1340  ...   385   \n\n        12    13    14    15    16    17    18    19  \\\n0     2911  2088  2524  1313  4375  1624  1093  4767   \n1      365  2345  4836   427   364  1295  2467  4362   \n2     2449  3161  3079  3209  2413  3356  2238   607   \n3      400  1468  2810  1314  2585  1901  4093   539   \n4     3696  2056  3063  4091  2764  4758  2065   705   \n...    ...   ...   ...   ...   ...   ...   ...   ...   \n6762  3755  4272  1489  3123  4050  1665  1117  2238   \n6763  3182  2537  2676  4279  2491   187  1199   571   \n6764  3203  3844  1102  2799  2363  2859  4620   478   \n6765  2174  2585  3079  3424   937  2640  3160   838   \n6766  1020  1371  3328  2535  4091    58  2799  2903   \n\n                                                                                                                top_rlvnt_itm  \n0      [2077, 4210, 1475, 884, 4279, 4977, 1204, 1829, 1261, 2638, 3566, 769, 2911, 2088, 2524, 1313, 4375, 1624, 1093, 4767]  \n1          [4653, 2535, 259, 2326, 434, 2558, 4091, 858, 2389, 3123, 2491, 1451, 365, 2345, 4836, 427, 364, 1295, 2467, 4362]  \n2        [3824, 2881, 3703, 193, 4956, 2139, 141, 119, 3304, 1601, 2023, 4878, 2449, 3161, 3079, 3209, 2413, 3356, 2238, 607]  \n3         [3203, 595, 3981, 4555, 4016, 1511, 3913, 555, 426, 3555, 2531, 2815, 400, 1468, 2810, 1314, 2585, 1901, 4093, 539]  \n4       [520, 355, 2326, 1520, 2750, 1199, 2520, 2615, 2490, 2569, 4563, 4279, 3696, 2056, 3063, 4091, 2764, 4758, 2065, 705]  \n...                                                                                                                       ...  \n6762  [1266, 2924, 1101, 2838, 1751, 2915, 2628, 3923, 1916, 2558, 400, 1494, 3755, 4272, 1489, 3123, 4050, 1665, 1117, 2238]  \n6763      [1041, 256, 1748, 2326, 2643, 1313, 2023, 3707, 701, 3753, 4653, 964, 3182, 2537, 2676, 4279, 2491, 187, 1199, 571]  \n6764    [2815, 632, 266, 1028, 2030, 2121, 3064, 2290, 4016, 4084, 1169, 4847, 3203, 3844, 1102, 2799, 2363, 2859, 4620, 478]  \n6765     [2325, 2324, 4955, 1320, 3419, 35, 3923, 2920, 1487, 4200, 3487, 4218, 2174, 2585, 3079, 3424, 937, 2640, 3160, 838]  \n6766       [1048, 4404, 1025, 2491, 3062, 3751, 887, 980, 555, 1340, 4114, 385, 1020, 1371, 3328, 2535, 4091, 58, 2799, 2903]  \n\n[6767 rows x 21 columns]",
      "text/html": "<div>\n<style scoped>\n    .dataframe tbody tr th:only-of-type {\n        vertical-align: middle;\n    }\n\n    .dataframe tbody tr th {\n        vertical-align: top;\n    }\n\n    .dataframe thead th {\n        text-align: right;\n    }\n</style>\n<table border=\"1\" class=\"dataframe\">\n  <thead>\n    <tr style=\"text-align: right;\">\n      <th></th>\n      <th>0</th>\n      <th>1</th>\n      <th>2</th>\n      <th>3</th>\n      <th>4</th>\n      <th>5</th>\n      <th>6</th>\n      <th>7</th>\n      <th>8</th>\n      <th>9</th>\n      <th>...</th>\n      <th>11</th>\n      <th>12</th>\n      <th>13</th>\n      <th>14</th>\n      <th>15</th>\n      <th>16</th>\n      <th>17</th>\n      <th>18</th>\n      <th>19</th>\n      <th>top_rlvnt_itm</th>\n    </tr>\n  </thead>\n  <tbody>\n    <tr>\n      <th>0</th>\n      <td>2077</td>\n      <td>4210</td>\n      <td>1475</td>\n      <td>884</td>\n      <td>4279</td>\n      <td>4977</td>\n      <td>1204</td>\n      <td>1829</td>\n      <td>1261</td>\n      <td>2638</td>\n      <td>...</td>\n      <td>769</td>\n      <td>2911</td>\n      <td>2088</td>\n      <td>2524</td>\n      <td>1313</td>\n      <td>4375</td>\n      <td>1624</td>\n      <td>1093</td>\n      <td>4767</td>\n      <td>[2077, 4210, 1475, 884, 4279, 4977, 1204, 1829, 1261, 2638, 3566, 769, 2911, 2088, 2524, 1313, 4375, 1624, 1093, 4767]</td>\n    </tr>\n    <tr>\n      <th>1</th>\n      <td>4653</td>\n      <td>2535</td>\n      <td>259</td>\n      <td>2326</td>\n      <td>434</td>\n      <td>2558</td>\n      <td>4091</td>\n      <td>858</td>\n      <td>2389</td>\n      <td>3123</td>\n      <td>...</td>\n      <td>1451</td>\n      <td>365</td>\n      <td>2345</td>\n      <td>4836</td>\n      <td>427</td>\n      <td>364</td>\n      <td>1295</td>\n      <td>2467</td>\n      <td>4362</td>\n      <td>[4653, 2535, 259, 2326, 434, 2558, 4091, 858, 2389, 3123, 2491, 1451, 365, 2345, 4836, 427, 364, 1295, 2467, 4362]</td>\n    </tr>\n    <tr>\n      <th>2</th>\n      <td>3824</td>\n      <td>2881</td>\n      <td>3703</td>\n      <td>193</td>\n      <td>4956</td>\n      <td>2139</td>\n      <td>141</td>\n      <td>119</td>\n      <td>3304</td>\n      <td>1601</td>\n      <td>...</td>\n      <td>4878</td>\n      <td>2449</td>\n      <td>3161</td>\n      <td>3079</td>\n      <td>3209</td>\n      <td>2413</td>\n      <td>3356</td>\n      <td>2238</td>\n      <td>607</td>\n      <td>[3824, 2881, 3703, 193, 4956, 2139, 141, 119, 3304, 1601, 2023, 4878, 2449, 3161, 3079, 3209, 2413, 3356, 2238, 607]</td>\n    </tr>\n    <tr>\n      <th>3</th>\n      <td>3203</td>\n      <td>595</td>\n      <td>3981</td>\n      <td>4555</td>\n      <td>4016</td>\n      <td>1511</td>\n      <td>3913</td>\n      <td>555</td>\n      <td>426</td>\n      <td>3555</td>\n      <td>...</td>\n      <td>2815</td>\n      <td>400</td>\n      <td>1468</td>\n      <td>2810</td>\n      <td>1314</td>\n      <td>2585</td>\n      <td>1901</td>\n      <td>4093</td>\n      <td>539</td>\n      <td>[3203, 595, 3981, 4555, 4016, 1511, 3913, 555, 426, 3555, 2531, 2815, 400, 1468, 2810, 1314, 2585, 1901, 4093, 539]</td>\n    </tr>\n    <tr>\n      <th>4</th>\n      <td>520</td>\n      <td>355</td>\n      <td>2326</td>\n      <td>1520</td>\n      <td>2750</td>\n      <td>1199</td>\n      <td>2520</td>\n      <td>2615</td>\n      <td>2490</td>\n      <td>2569</td>\n      <td>...</td>\n      <td>4279</td>\n      <td>3696</td>\n      <td>2056</td>\n      <td>3063</td>\n      <td>4091</td>\n      <td>2764</td>\n      <td>4758</td>\n      <td>2065</td>\n      <td>705</td>\n      <td>[520, 355, 2326, 1520, 2750, 1199, 2520, 2615, 2490, 2569, 4563, 4279, 3696, 2056, 3063, 4091, 2764, 4758, 2065, 705]</td>\n    </tr>\n    <tr>\n      <th>...</th>\n      <td>...</td>\n      <td>...</td>\n      <td>...</td>\n      <td>...</td>\n      <td>...</td>\n      <td>...</td>\n      <td>...</td>\n      <td>...</td>\n      <td>...</td>\n      <td>...</td>\n      <td>...</td>\n      <td>...</td>\n      <td>...</td>\n      <td>...</td>\n      <td>...</td>\n      <td>...</td>\n      <td>...</td>\n      <td>...</td>\n      <td>...</td>\n      <td>...</td>\n      <td>...</td>\n    </tr>\n    <tr>\n      <th>6762</th>\n      <td>1266</td>\n      <td>2924</td>\n      <td>1101</td>\n      <td>2838</td>\n      <td>1751</td>\n      <td>2915</td>\n      <td>2628</td>\n      <td>3923</td>\n      <td>1916</td>\n      <td>2558</td>\n      <td>...</td>\n      <td>1494</td>\n      <td>3755</td>\n      <td>4272</td>\n      <td>1489</td>\n      <td>3123</td>\n      <td>4050</td>\n      <td>1665</td>\n      <td>1117</td>\n      <td>2238</td>\n      <td>[1266, 2924, 1101, 2838, 1751, 2915, 2628, 3923, 1916, 2558, 400, 1494, 3755, 4272, 1489, 3123, 4050, 1665, 1117, 2238]</td>\n    </tr>\n    <tr>\n      <th>6763</th>\n      <td>1041</td>\n      <td>256</td>\n      <td>1748</td>\n      <td>2326</td>\n      <td>2643</td>\n      <td>1313</td>\n      <td>2023</td>\n      <td>3707</td>\n      <td>701</td>\n      <td>3753</td>\n      <td>...</td>\n      <td>964</td>\n      <td>3182</td>\n      <td>2537</td>\n      <td>2676</td>\n      <td>4279</td>\n      <td>2491</td>\n      <td>187</td>\n      <td>1199</td>\n      <td>571</td>\n      <td>[1041, 256, 1748, 2326, 2643, 1313, 2023, 3707, 701, 3753, 4653, 964, 3182, 2537, 2676, 4279, 2491, 187, 1199, 571]</td>\n    </tr>\n    <tr>\n      <th>6764</th>\n      <td>2815</td>\n      <td>632</td>\n      <td>266</td>\n      <td>1028</td>\n      <td>2030</td>\n      <td>2121</td>\n      <td>3064</td>\n      <td>2290</td>\n      <td>4016</td>\n      <td>4084</td>\n      <td>...</td>\n      <td>4847</td>\n      <td>3203</td>\n      <td>3844</td>\n      <td>1102</td>\n      <td>2799</td>\n      <td>2363</td>\n      <td>2859</td>\n      <td>4620</td>\n      <td>478</td>\n      <td>[2815, 632, 266, 1028, 2030, 2121, 3064, 2290, 4016, 4084, 1169, 4847, 3203, 3844, 1102, 2799, 2363, 2859, 4620, 478]</td>\n    </tr>\n    <tr>\n      <th>6765</th>\n      <td>2325</td>\n      <td>2324</td>\n      <td>4955</td>\n      <td>1320</td>\n      <td>3419</td>\n      <td>35</td>\n      <td>3923</td>\n      <td>2920</td>\n      <td>1487</td>\n      <td>4200</td>\n      <td>...</td>\n      <td>4218</td>\n      <td>2174</td>\n      <td>2585</td>\n      <td>3079</td>\n      <td>3424</td>\n      <td>937</td>\n      <td>2640</td>\n      <td>3160</td>\n      <td>838</td>\n      <td>[2325, 2324, 4955, 1320, 3419, 35, 3923, 2920, 1487, 4200, 3487, 4218, 2174, 2585, 3079, 3424, 937, 2640, 3160, 838]</td>\n    </tr>\n    <tr>\n      <th>6766</th>\n      <td>1048</td>\n      <td>4404</td>\n      <td>1025</td>\n      <td>2491</td>\n      <td>3062</td>\n      <td>3751</td>\n      <td>887</td>\n      <td>980</td>\n      <td>555</td>\n      <td>1340</td>\n      <td>...</td>\n      <td>385</td>\n      <td>1020</td>\n      <td>1371</td>\n      <td>3328</td>\n      <td>2535</td>\n      <td>4091</td>\n      <td>58</td>\n      <td>2799</td>\n      <td>2903</td>\n      <td>[1048, 4404, 1025, 2491, 3062, 3751, 887, 980, 555, 1340, 4114, 385, 1020, 1371, 3328, 2535, 4091, 58, 2799, 2903]</td>\n    </tr>\n  </tbody>\n</table>\n<p>6767 rows × 21 columns</p>\n</div>"
     },
     "execution_count": 104,
     "metadata": {},
     "output_type": "execute_result"
    }
   ],
   "source": [
    "topk_relevance_indices_df"
   ],
   "metadata": {
    "collapsed": false
   }
  },
  {
   "cell_type": "code",
   "execution_count": 105,
   "outputs": [
    {
     "data": {
      "text/plain": "         0     1     2     3     4     5     6     7     8     9  ...    12  \\\n0     2077  4210  1475   884  4279  4977  1204  1829  1261  2638  ...  2911   \n1     4653  2535   259  2326   434  2558  4091   858  2389  3123  ...   365   \n2     3824  2881  3703   193  4956  2139   141   119  3304  1601  ...  2449   \n3     3203   595  3981  4555  4016  1511  3913   555   426  3555  ...   400   \n4      520   355  2326  1520  2750  1199  2520  2615  2490  2569  ...  3696   \n...    ...   ...   ...   ...   ...   ...   ...   ...   ...   ...  ...   ...   \n6762  1266  2924  1101  2838  1751  2915  2628  3923  1916  2558  ...  3755   \n6763  1041   256  1748  2326  2643  1313  2023  3707   701  3753  ...  3182   \n6764  2815   632   266  1028  2030  2121  3064  2290  4016  4084  ...  3203   \n6765  2325  2324  4955  1320  3419    35  3923  2920  1487  4200  ...  2174   \n6766  1048  4404  1025  2491  3062  3751   887   980   555  1340  ...  1020   \n\n        13    14    15    16    17    18    19  \\\n0     2088  2524  1313  4375  1624  1093  4767   \n1     2345  4836   427   364  1295  2467  4362   \n2     3161  3079  3209  2413  3356  2238   607   \n3     1468  2810  1314  2585  1901  4093   539   \n4     2056  3063  4091  2764  4758  2065   705   \n...    ...   ...   ...   ...   ...   ...   ...   \n6762  4272  1489  3123  4050  1665  1117  2238   \n6763  2537  2676  4279  2491   187  1199   571   \n6764  3844  1102  2799  2363  2859  4620   478   \n6765  2585  3079  3424   937  2640  3160   838   \n6766  1371  3328  2535  4091    58  2799  2903   \n\n                                                                                                                top_rlvnt_itm  \\\n0      [2077, 4210, 1475, 884, 4279, 4977, 1204, 1829, 1261, 2638, 3566, 769, 2911, 2088, 2524, 1313, 4375, 1624, 1093, 4767]   \n1          [4653, 2535, 259, 2326, 434, 2558, 4091, 858, 2389, 3123, 2491, 1451, 365, 2345, 4836, 427, 364, 1295, 2467, 4362]   \n2        [3824, 2881, 3703, 193, 4956, 2139, 141, 119, 3304, 1601, 2023, 4878, 2449, 3161, 3079, 3209, 2413, 3356, 2238, 607]   \n3         [3203, 595, 3981, 4555, 4016, 1511, 3913, 555, 426, 3555, 2531, 2815, 400, 1468, 2810, 1314, 2585, 1901, 4093, 539]   \n4       [520, 355, 2326, 1520, 2750, 1199, 2520, 2615, 2490, 2569, 4563, 4279, 3696, 2056, 3063, 4091, 2764, 4758, 2065, 705]   \n...                                                                                                                       ...   \n6762  [1266, 2924, 1101, 2838, 1751, 2915, 2628, 3923, 1916, 2558, 400, 1494, 3755, 4272, 1489, 3123, 4050, 1665, 1117, 2238]   \n6763      [1041, 256, 1748, 2326, 2643, 1313, 2023, 3707, 701, 3753, 4653, 964, 3182, 2537, 2676, 4279, 2491, 187, 1199, 571]   \n6764    [2815, 632, 266, 1028, 2030, 2121, 3064, 2290, 4016, 4084, 1169, 4847, 3203, 3844, 1102, 2799, 2363, 2859, 4620, 478]   \n6765     [2325, 2324, 4955, 1320, 3419, 35, 3923, 2920, 1487, 4200, 3487, 4218, 2174, 2585, 3079, 3424, 937, 2640, 3160, 838]   \n6766       [1048, 4404, 1025, 2491, 3062, 3751, 887, 980, 555, 1340, 4114, 385, 1020, 1371, 3328, 2535, 4091, 58, 2799, 2903]   \n\n      user_ID  \n0           0  \n1           1  \n2           2  \n3           3  \n4           4  \n...       ...  \n6762     6762  \n6763     6763  \n6764     6764  \n6765     6765  \n6766     6766  \n\n[6767 rows x 22 columns]",
      "text/html": "<div>\n<style scoped>\n    .dataframe tbody tr th:only-of-type {\n        vertical-align: middle;\n    }\n\n    .dataframe tbody tr th {\n        vertical-align: top;\n    }\n\n    .dataframe thead th {\n        text-align: right;\n    }\n</style>\n<table border=\"1\" class=\"dataframe\">\n  <thead>\n    <tr style=\"text-align: right;\">\n      <th></th>\n      <th>0</th>\n      <th>1</th>\n      <th>2</th>\n      <th>3</th>\n      <th>4</th>\n      <th>5</th>\n      <th>6</th>\n      <th>7</th>\n      <th>8</th>\n      <th>9</th>\n      <th>...</th>\n      <th>12</th>\n      <th>13</th>\n      <th>14</th>\n      <th>15</th>\n      <th>16</th>\n      <th>17</th>\n      <th>18</th>\n      <th>19</th>\n      <th>top_rlvnt_itm</th>\n      <th>user_ID</th>\n    </tr>\n  </thead>\n  <tbody>\n    <tr>\n      <th>0</th>\n      <td>2077</td>\n      <td>4210</td>\n      <td>1475</td>\n      <td>884</td>\n      <td>4279</td>\n      <td>4977</td>\n      <td>1204</td>\n      <td>1829</td>\n      <td>1261</td>\n      <td>2638</td>\n      <td>...</td>\n      <td>2911</td>\n      <td>2088</td>\n      <td>2524</td>\n      <td>1313</td>\n      <td>4375</td>\n      <td>1624</td>\n      <td>1093</td>\n      <td>4767</td>\n      <td>[2077, 4210, 1475, 884, 4279, 4977, 1204, 1829, 1261, 2638, 3566, 769, 2911, 2088, 2524, 1313, 4375, 1624, 1093, 4767]</td>\n      <td>0</td>\n    </tr>\n    <tr>\n      <th>1</th>\n      <td>4653</td>\n      <td>2535</td>\n      <td>259</td>\n      <td>2326</td>\n      <td>434</td>\n      <td>2558</td>\n      <td>4091</td>\n      <td>858</td>\n      <td>2389</td>\n      <td>3123</td>\n      <td>...</td>\n      <td>365</td>\n      <td>2345</td>\n      <td>4836</td>\n      <td>427</td>\n      <td>364</td>\n      <td>1295</td>\n      <td>2467</td>\n      <td>4362</td>\n      <td>[4653, 2535, 259, 2326, 434, 2558, 4091, 858, 2389, 3123, 2491, 1451, 365, 2345, 4836, 427, 364, 1295, 2467, 4362]</td>\n      <td>1</td>\n    </tr>\n    <tr>\n      <th>2</th>\n      <td>3824</td>\n      <td>2881</td>\n      <td>3703</td>\n      <td>193</td>\n      <td>4956</td>\n      <td>2139</td>\n      <td>141</td>\n      <td>119</td>\n      <td>3304</td>\n      <td>1601</td>\n      <td>...</td>\n      <td>2449</td>\n      <td>3161</td>\n      <td>3079</td>\n      <td>3209</td>\n      <td>2413</td>\n      <td>3356</td>\n      <td>2238</td>\n      <td>607</td>\n      <td>[3824, 2881, 3703, 193, 4956, 2139, 141, 119, 3304, 1601, 2023, 4878, 2449, 3161, 3079, 3209, 2413, 3356, 2238, 607]</td>\n      <td>2</td>\n    </tr>\n    <tr>\n      <th>3</th>\n      <td>3203</td>\n      <td>595</td>\n      <td>3981</td>\n      <td>4555</td>\n      <td>4016</td>\n      <td>1511</td>\n      <td>3913</td>\n      <td>555</td>\n      <td>426</td>\n      <td>3555</td>\n      <td>...</td>\n      <td>400</td>\n      <td>1468</td>\n      <td>2810</td>\n      <td>1314</td>\n      <td>2585</td>\n      <td>1901</td>\n      <td>4093</td>\n      <td>539</td>\n      <td>[3203, 595, 3981, 4555, 4016, 1511, 3913, 555, 426, 3555, 2531, 2815, 400, 1468, 2810, 1314, 2585, 1901, 4093, 539]</td>\n      <td>3</td>\n    </tr>\n    <tr>\n      <th>4</th>\n      <td>520</td>\n      <td>355</td>\n      <td>2326</td>\n      <td>1520</td>\n      <td>2750</td>\n      <td>1199</td>\n      <td>2520</td>\n      <td>2615</td>\n      <td>2490</td>\n      <td>2569</td>\n      <td>...</td>\n      <td>3696</td>\n      <td>2056</td>\n      <td>3063</td>\n      <td>4091</td>\n      <td>2764</td>\n      <td>4758</td>\n      <td>2065</td>\n      <td>705</td>\n      <td>[520, 355, 2326, 1520, 2750, 1199, 2520, 2615, 2490, 2569, 4563, 4279, 3696, 2056, 3063, 4091, 2764, 4758, 2065, 705]</td>\n      <td>4</td>\n    </tr>\n    <tr>\n      <th>...</th>\n      <td>...</td>\n      <td>...</td>\n      <td>...</td>\n      <td>...</td>\n      <td>...</td>\n      <td>...</td>\n      <td>...</td>\n      <td>...</td>\n      <td>...</td>\n      <td>...</td>\n      <td>...</td>\n      <td>...</td>\n      <td>...</td>\n      <td>...</td>\n      <td>...</td>\n      <td>...</td>\n      <td>...</td>\n      <td>...</td>\n      <td>...</td>\n      <td>...</td>\n      <td>...</td>\n    </tr>\n    <tr>\n      <th>6762</th>\n      <td>1266</td>\n      <td>2924</td>\n      <td>1101</td>\n      <td>2838</td>\n      <td>1751</td>\n      <td>2915</td>\n      <td>2628</td>\n      <td>3923</td>\n      <td>1916</td>\n      <td>2558</td>\n      <td>...</td>\n      <td>3755</td>\n      <td>4272</td>\n      <td>1489</td>\n      <td>3123</td>\n      <td>4050</td>\n      <td>1665</td>\n      <td>1117</td>\n      <td>2238</td>\n      <td>[1266, 2924, 1101, 2838, 1751, 2915, 2628, 3923, 1916, 2558, 400, 1494, 3755, 4272, 1489, 3123, 4050, 1665, 1117, 2238]</td>\n      <td>6762</td>\n    </tr>\n    <tr>\n      <th>6763</th>\n      <td>1041</td>\n      <td>256</td>\n      <td>1748</td>\n      <td>2326</td>\n      <td>2643</td>\n      <td>1313</td>\n      <td>2023</td>\n      <td>3707</td>\n      <td>701</td>\n      <td>3753</td>\n      <td>...</td>\n      <td>3182</td>\n      <td>2537</td>\n      <td>2676</td>\n      <td>4279</td>\n      <td>2491</td>\n      <td>187</td>\n      <td>1199</td>\n      <td>571</td>\n      <td>[1041, 256, 1748, 2326, 2643, 1313, 2023, 3707, 701, 3753, 4653, 964, 3182, 2537, 2676, 4279, 2491, 187, 1199, 571]</td>\n      <td>6763</td>\n    </tr>\n    <tr>\n      <th>6764</th>\n      <td>2815</td>\n      <td>632</td>\n      <td>266</td>\n      <td>1028</td>\n      <td>2030</td>\n      <td>2121</td>\n      <td>3064</td>\n      <td>2290</td>\n      <td>4016</td>\n      <td>4084</td>\n      <td>...</td>\n      <td>3203</td>\n      <td>3844</td>\n      <td>1102</td>\n      <td>2799</td>\n      <td>2363</td>\n      <td>2859</td>\n      <td>4620</td>\n      <td>478</td>\n      <td>[2815, 632, 266, 1028, 2030, 2121, 3064, 2290, 4016, 4084, 1169, 4847, 3203, 3844, 1102, 2799, 2363, 2859, 4620, 478]</td>\n      <td>6764</td>\n    </tr>\n    <tr>\n      <th>6765</th>\n      <td>2325</td>\n      <td>2324</td>\n      <td>4955</td>\n      <td>1320</td>\n      <td>3419</td>\n      <td>35</td>\n      <td>3923</td>\n      <td>2920</td>\n      <td>1487</td>\n      <td>4200</td>\n      <td>...</td>\n      <td>2174</td>\n      <td>2585</td>\n      <td>3079</td>\n      <td>3424</td>\n      <td>937</td>\n      <td>2640</td>\n      <td>3160</td>\n      <td>838</td>\n      <td>[2325, 2324, 4955, 1320, 3419, 35, 3923, 2920, 1487, 4200, 3487, 4218, 2174, 2585, 3079, 3424, 937, 2640, 3160, 838]</td>\n      <td>6765</td>\n    </tr>\n    <tr>\n      <th>6766</th>\n      <td>1048</td>\n      <td>4404</td>\n      <td>1025</td>\n      <td>2491</td>\n      <td>3062</td>\n      <td>3751</td>\n      <td>887</td>\n      <td>980</td>\n      <td>555</td>\n      <td>1340</td>\n      <td>...</td>\n      <td>1020</td>\n      <td>1371</td>\n      <td>3328</td>\n      <td>2535</td>\n      <td>4091</td>\n      <td>58</td>\n      <td>2799</td>\n      <td>2903</td>\n      <td>[1048, 4404, 1025, 2491, 3062, 3751, 887, 980, 555, 1340, 4114, 385, 1020, 1371, 3328, 2535, 4091, 58, 2799, 2903]</td>\n      <td>6766</td>\n    </tr>\n  </tbody>\n</table>\n<p>6767 rows × 22 columns</p>\n</div>"
     },
     "execution_count": 105,
     "metadata": {},
     "output_type": "execute_result"
    }
   ],
   "source": [
    "topk_relevance_indices_df['user_ID'] = topk_relevance_indices_df.index\n",
    "topk_relevance_indices_df"
   ],
   "metadata": {
    "collapsed": false
   }
  },
  {
   "cell_type": "code",
   "execution_count": 106,
   "outputs": [
    {
     "data": {
      "text/plain": "      user_ID  \\\n0           0   \n1           1   \n2           2   \n3           3   \n4           4   \n...       ...   \n6762     6762   \n6763     6763   \n6764     6764   \n6765     6765   \n6766     6766   \n\n                                                                                                                top_rlvnt_itm  \n0      [2077, 4210, 1475, 884, 4279, 4977, 1204, 1829, 1261, 2638, 3566, 769, 2911, 2088, 2524, 1313, 4375, 1624, 1093, 4767]  \n1          [4653, 2535, 259, 2326, 434, 2558, 4091, 858, 2389, 3123, 2491, 1451, 365, 2345, 4836, 427, 364, 1295, 2467, 4362]  \n2        [3824, 2881, 3703, 193, 4956, 2139, 141, 119, 3304, 1601, 2023, 4878, 2449, 3161, 3079, 3209, 2413, 3356, 2238, 607]  \n3         [3203, 595, 3981, 4555, 4016, 1511, 3913, 555, 426, 3555, 2531, 2815, 400, 1468, 2810, 1314, 2585, 1901, 4093, 539]  \n4       [520, 355, 2326, 1520, 2750, 1199, 2520, 2615, 2490, 2569, 4563, 4279, 3696, 2056, 3063, 4091, 2764, 4758, 2065, 705]  \n...                                                                                                                       ...  \n6762  [1266, 2924, 1101, 2838, 1751, 2915, 2628, 3923, 1916, 2558, 400, 1494, 3755, 4272, 1489, 3123, 4050, 1665, 1117, 2238]  \n6763      [1041, 256, 1748, 2326, 2643, 1313, 2023, 3707, 701, 3753, 4653, 964, 3182, 2537, 2676, 4279, 2491, 187, 1199, 571]  \n6764    [2815, 632, 266, 1028, 2030, 2121, 3064, 2290, 4016, 4084, 1169, 4847, 3203, 3844, 1102, 2799, 2363, 2859, 4620, 478]  \n6765     [2325, 2324, 4955, 1320, 3419, 35, 3923, 2920, 1487, 4200, 3487, 4218, 2174, 2585, 3079, 3424, 937, 2640, 3160, 838]  \n6766       [1048, 4404, 1025, 2491, 3062, 3751, 887, 980, 555, 1340, 4114, 385, 1020, 1371, 3328, 2535, 4091, 58, 2799, 2903]  \n\n[6767 rows x 2 columns]",
      "text/html": "<div>\n<style scoped>\n    .dataframe tbody tr th:only-of-type {\n        vertical-align: middle;\n    }\n\n    .dataframe tbody tr th {\n        vertical-align: top;\n    }\n\n    .dataframe thead th {\n        text-align: right;\n    }\n</style>\n<table border=\"1\" class=\"dataframe\">\n  <thead>\n    <tr style=\"text-align: right;\">\n      <th></th>\n      <th>user_ID</th>\n      <th>top_rlvnt_itm</th>\n    </tr>\n  </thead>\n  <tbody>\n    <tr>\n      <th>0</th>\n      <td>0</td>\n      <td>[2077, 4210, 1475, 884, 4279, 4977, 1204, 1829, 1261, 2638, 3566, 769, 2911, 2088, 2524, 1313, 4375, 1624, 1093, 4767]</td>\n    </tr>\n    <tr>\n      <th>1</th>\n      <td>1</td>\n      <td>[4653, 2535, 259, 2326, 434, 2558, 4091, 858, 2389, 3123, 2491, 1451, 365, 2345, 4836, 427, 364, 1295, 2467, 4362]</td>\n    </tr>\n    <tr>\n      <th>2</th>\n      <td>2</td>\n      <td>[3824, 2881, 3703, 193, 4956, 2139, 141, 119, 3304, 1601, 2023, 4878, 2449, 3161, 3079, 3209, 2413, 3356, 2238, 607]</td>\n    </tr>\n    <tr>\n      <th>3</th>\n      <td>3</td>\n      <td>[3203, 595, 3981, 4555, 4016, 1511, 3913, 555, 426, 3555, 2531, 2815, 400, 1468, 2810, 1314, 2585, 1901, 4093, 539]</td>\n    </tr>\n    <tr>\n      <th>4</th>\n      <td>4</td>\n      <td>[520, 355, 2326, 1520, 2750, 1199, 2520, 2615, 2490, 2569, 4563, 4279, 3696, 2056, 3063, 4091, 2764, 4758, 2065, 705]</td>\n    </tr>\n    <tr>\n      <th>...</th>\n      <td>...</td>\n      <td>...</td>\n    </tr>\n    <tr>\n      <th>6762</th>\n      <td>6762</td>\n      <td>[1266, 2924, 1101, 2838, 1751, 2915, 2628, 3923, 1916, 2558, 400, 1494, 3755, 4272, 1489, 3123, 4050, 1665, 1117, 2238]</td>\n    </tr>\n    <tr>\n      <th>6763</th>\n      <td>6763</td>\n      <td>[1041, 256, 1748, 2326, 2643, 1313, 2023, 3707, 701, 3753, 4653, 964, 3182, 2537, 2676, 4279, 2491, 187, 1199, 571]</td>\n    </tr>\n    <tr>\n      <th>6764</th>\n      <td>6764</td>\n      <td>[2815, 632, 266, 1028, 2030, 2121, 3064, 2290, 4016, 4084, 1169, 4847, 3203, 3844, 1102, 2799, 2363, 2859, 4620, 478]</td>\n    </tr>\n    <tr>\n      <th>6765</th>\n      <td>6765</td>\n      <td>[2325, 2324, 4955, 1320, 3419, 35, 3923, 2920, 1487, 4200, 3487, 4218, 2174, 2585, 3079, 3424, 937, 2640, 3160, 838]</td>\n    </tr>\n    <tr>\n      <th>6766</th>\n      <td>6766</td>\n      <td>[1048, 4404, 1025, 2491, 3062, 3751, 887, 980, 555, 1340, 4114, 385, 1020, 1371, 3328, 2535, 4091, 58, 2799, 2903]</td>\n    </tr>\n  </tbody>\n</table>\n<p>6767 rows × 2 columns</p>\n</div>"
     },
     "execution_count": 106,
     "metadata": {},
     "output_type": "execute_result"
    }
   ],
   "source": [
    "topk_relevance_indices_df = topk_relevance_indices_df[['user_ID', 'top_rlvnt_itm']]\n",
    "topk_relevance_indices_df"
   ],
   "metadata": {
    "collapsed": false
   }
  },
  {
   "cell_type": "code",
   "execution_count": 42,
   "outputs": [],
   "source": [
    "# test_interacted_items = val_df.groupby('user_id_idx')['item_id_idx'].apply(list).reset_index()\n",
    "# test_interacted_items"
   ],
   "metadata": {
    "collapsed": false
   }
  },
  {
   "cell_type": "code",
   "execution_count": 43,
   "outputs": [
    {
     "data": {
      "text/plain": "   user_id_idx item_id_idx_list\n0           68           [2557]\n1          561             [97]\n2         1949           [2314]\n3         2478           [2887]\n4         4236            [547]\n5         5117           [2181]\n6         5320            [868]\n7         6173           [2660]",
      "text/html": "<div>\n<style scoped>\n    .dataframe tbody tr th:only-of-type {\n        vertical-align: middle;\n    }\n\n    .dataframe tbody tr th {\n        vertical-align: top;\n    }\n\n    .dataframe thead th {\n        text-align: right;\n    }\n</style>\n<table border=\"1\" class=\"dataframe\">\n  <thead>\n    <tr style=\"text-align: right;\">\n      <th></th>\n      <th>user_id_idx</th>\n      <th>item_id_idx_list</th>\n    </tr>\n  </thead>\n  <tbody>\n    <tr>\n      <th>0</th>\n      <td>68</td>\n      <td>[2557]</td>\n    </tr>\n    <tr>\n      <th>1</th>\n      <td>561</td>\n      <td>[97]</td>\n    </tr>\n    <tr>\n      <th>2</th>\n      <td>1949</td>\n      <td>[2314]</td>\n    </tr>\n    <tr>\n      <th>3</th>\n      <td>2478</td>\n      <td>[2887]</td>\n    </tr>\n    <tr>\n      <th>4</th>\n      <td>4236</td>\n      <td>[547]</td>\n    </tr>\n    <tr>\n      <th>5</th>\n      <td>5117</td>\n      <td>[2181]</td>\n    </tr>\n    <tr>\n      <th>6</th>\n      <td>5320</td>\n      <td>[868]</td>\n    </tr>\n    <tr>\n      <th>7</th>\n      <td>6173</td>\n      <td>[2660]</td>\n    </tr>\n  </tbody>\n</table>\n</div>"
     },
     "execution_count": 43,
     "metadata": {},
     "output_type": "execute_result"
    }
   ],
   "source": [
    "test_pos_list_df"
   ],
   "metadata": {
    "collapsed": false
   }
  },
  {
   "cell_type": "code",
   "execution_count": 44,
   "outputs": [
    {
     "data": {
      "text/plain": "   user_id_idx item_id_idx_list  user_ID  \\\n0           68           [2557]       68   \n1          561             [97]      561   \n2         1949           [2314]     1949   \n3         2478           [2887]     2478   \n4         4236            [547]     4236   \n5         5117           [2181]     5117   \n6         5320            [868]     5320   \n7         6173           [2660]     6173   \n\n                                                                                                             top_rlvnt_itm  \n0         [4409, 3868, 241, 2960, 2675, 2251, 710, 313, 4160, 2531, 400, 882, 2924, 150, 365, 1797, 4856, 1355, 3030, 610]  \n1    [4300, 2531, 2014, 705, 958, 2915, 4821, 1114, 1910, 4743, 2570, 1080, 1380, 685, 3795, 1028, 1794, 1259, 3914, 1445]  \n2  [1873, 2326, 2078, 2139, 2947, 1199, 4210, 4575, 4401, 1475, 122, 2628, 2520, 4813, 1204, 4396, 2286, 2065, 2911, 3707]  \n3    [4784, 69, 1180, 1687, 4940, 1027, 3763, 3161, 3612, 1093, 3745, 1596, 1820, 2884, 4507, 2325, 2139, 3451, 3554, 465]  \n4        [2436, 377, 1451, 3981, 1800, 2965, 323, 2295, 1057, 782, 508, 2945, 1314, 1969, 329, 2726, 3030, 89, 3327, 4396]  \n5        [3616, 2520, 303, 2799, 2268, 1127, 676, 2045, 481, 1289, 3798, 1607, 373, 353, 4426, 555, 1371, 3566, 1489, 168]  \n6     [3203, 595, 3981, 4555, 4016, 1511, 3913, 555, 426, 2531, 2815, 3555, 400, 1314, 2585, 1468, 2810, 1901, 3125, 3062]  \n7   [2139, 3811, 4668, 4801, 1178, 2184, 3555, 3637, 1289, 508, 3667, 3164, 3327, 353, 2077, 1259, 3078, 2643, 3030, 2828]  ",
      "text/html": "<div>\n<style scoped>\n    .dataframe tbody tr th:only-of-type {\n        vertical-align: middle;\n    }\n\n    .dataframe tbody tr th {\n        vertical-align: top;\n    }\n\n    .dataframe thead th {\n        text-align: right;\n    }\n</style>\n<table border=\"1\" class=\"dataframe\">\n  <thead>\n    <tr style=\"text-align: right;\">\n      <th></th>\n      <th>user_id_idx</th>\n      <th>item_id_idx_list</th>\n      <th>user_ID</th>\n      <th>top_rlvnt_itm</th>\n    </tr>\n  </thead>\n  <tbody>\n    <tr>\n      <th>0</th>\n      <td>68</td>\n      <td>[2557]</td>\n      <td>68</td>\n      <td>[4409, 3868, 241, 2960, 2675, 2251, 710, 313, 4160, 2531, 400, 882, 2924, 150, 365, 1797, 4856, 1355, 3030, 610]</td>\n    </tr>\n    <tr>\n      <th>1</th>\n      <td>561</td>\n      <td>[97]</td>\n      <td>561</td>\n      <td>[4300, 2531, 2014, 705, 958, 2915, 4821, 1114, 1910, 4743, 2570, 1080, 1380, 685, 3795, 1028, 1794, 1259, 3914, 1445]</td>\n    </tr>\n    <tr>\n      <th>2</th>\n      <td>1949</td>\n      <td>[2314]</td>\n      <td>1949</td>\n      <td>[1873, 2326, 2078, 2139, 2947, 1199, 4210, 4575, 4401, 1475, 122, 2628, 2520, 4813, 1204, 4396, 2286, 2065, 2911, 3707]</td>\n    </tr>\n    <tr>\n      <th>3</th>\n      <td>2478</td>\n      <td>[2887]</td>\n      <td>2478</td>\n      <td>[4784, 69, 1180, 1687, 4940, 1027, 3763, 3161, 3612, 1093, 3745, 1596, 1820, 2884, 4507, 2325, 2139, 3451, 3554, 465]</td>\n    </tr>\n    <tr>\n      <th>4</th>\n      <td>4236</td>\n      <td>[547]</td>\n      <td>4236</td>\n      <td>[2436, 377, 1451, 3981, 1800, 2965, 323, 2295, 1057, 782, 508, 2945, 1314, 1969, 329, 2726, 3030, 89, 3327, 4396]</td>\n    </tr>\n    <tr>\n      <th>5</th>\n      <td>5117</td>\n      <td>[2181]</td>\n      <td>5117</td>\n      <td>[3616, 2520, 303, 2799, 2268, 1127, 676, 2045, 481, 1289, 3798, 1607, 373, 353, 4426, 555, 1371, 3566, 1489, 168]</td>\n    </tr>\n    <tr>\n      <th>6</th>\n      <td>5320</td>\n      <td>[868]</td>\n      <td>5320</td>\n      <td>[3203, 595, 3981, 4555, 4016, 1511, 3913, 555, 426, 2531, 2815, 3555, 400, 1314, 2585, 1468, 2810, 1901, 3125, 3062]</td>\n    </tr>\n    <tr>\n      <th>7</th>\n      <td>6173</td>\n      <td>[2660]</td>\n      <td>6173</td>\n      <td>[2139, 3811, 4668, 4801, 1178, 2184, 3555, 3637, 1289, 508, 3667, 3164, 3327, 353, 2077, 1259, 3078, 2643, 3030, 2828]</td>\n    </tr>\n  </tbody>\n</table>\n</div>"
     },
     "execution_count": 44,
     "metadata": {},
     "output_type": "execute_result"
    }
   ],
   "source": [
    "metrics_df = pd.merge(test_pos_list_df, topk_relevance_indices_df, how='left', left_on='user_id_idx', right_on='user_ID')\n",
    "metrics_df"
   ],
   "metadata": {
    "collapsed": false
   }
  },
  {
   "cell_type": "code",
   "execution_count": 46,
   "outputs": [
    {
     "data": {
      "text/plain": "   user_id_idx item_id_idx_list  user_ID  \\\n0           68           [2557]       68   \n1          561             [97]      561   \n2         1949           [2314]     1949   \n3         2478           [2887]     2478   \n4         4236            [547]     4236   \n5         5117           [2181]     5117   \n6         5320            [868]     5320   \n7         6173           [2660]     6173   \n\n                                                                                                             top_rlvnt_itm  \\\n0         [4409, 3868, 241, 2960, 2675, 2251, 710, 313, 4160, 2531, 400, 882, 2924, 150, 365, 1797, 4856, 1355, 3030, 610]   \n1    [4300, 2531, 2014, 705, 958, 2915, 4821, 1114, 1910, 4743, 2570, 1080, 1380, 685, 3795, 1028, 1794, 1259, 3914, 1445]   \n2  [1873, 2326, 2078, 2139, 2947, 1199, 4210, 4575, 4401, 1475, 122, 2628, 2520, 4813, 1204, 4396, 2286, 2065, 2911, 3707]   \n3    [4784, 69, 1180, 1687, 4940, 1027, 3763, 3161, 3612, 1093, 3745, 1596, 1820, 2884, 4507, 2325, 2139, 3451, 3554, 465]   \n4        [2436, 377, 1451, 3981, 1800, 2965, 323, 2295, 1057, 782, 508, 2945, 1314, 1969, 329, 2726, 3030, 89, 3327, 4396]   \n5        [3616, 2520, 303, 2799, 2268, 1127, 676, 2045, 481, 1289, 3798, 1607, 373, 353, 4426, 555, 1371, 3566, 1489, 168]   \n6     [3203, 595, 3981, 4555, 4016, 1511, 3913, 555, 426, 2531, 2815, 3555, 400, 1314, 2585, 1468, 2810, 1901, 3125, 3062]   \n7   [2139, 3811, 4668, 4801, 1178, 2184, 3555, 3637, 1289, 508, 3667, 3164, 3327, 353, 2077, 1259, 3078, 2643, 3030, 2828]   \n\n  intrsctn_itm  \n0           []  \n1           []  \n2           []  \n3           []  \n4           []  \n5           []  \n6           []  \n7           []  ",
      "text/html": "<div>\n<style scoped>\n    .dataframe tbody tr th:only-of-type {\n        vertical-align: middle;\n    }\n\n    .dataframe tbody tr th {\n        vertical-align: top;\n    }\n\n    .dataframe thead th {\n        text-align: right;\n    }\n</style>\n<table border=\"1\" class=\"dataframe\">\n  <thead>\n    <tr style=\"text-align: right;\">\n      <th></th>\n      <th>user_id_idx</th>\n      <th>item_id_idx_list</th>\n      <th>user_ID</th>\n      <th>top_rlvnt_itm</th>\n      <th>intrsctn_itm</th>\n    </tr>\n  </thead>\n  <tbody>\n    <tr>\n      <th>0</th>\n      <td>68</td>\n      <td>[2557]</td>\n      <td>68</td>\n      <td>[4409, 3868, 241, 2960, 2675, 2251, 710, 313, 4160, 2531, 400, 882, 2924, 150, 365, 1797, 4856, 1355, 3030, 610]</td>\n      <td>[]</td>\n    </tr>\n    <tr>\n      <th>1</th>\n      <td>561</td>\n      <td>[97]</td>\n      <td>561</td>\n      <td>[4300, 2531, 2014, 705, 958, 2915, 4821, 1114, 1910, 4743, 2570, 1080, 1380, 685, 3795, 1028, 1794, 1259, 3914, 1445]</td>\n      <td>[]</td>\n    </tr>\n    <tr>\n      <th>2</th>\n      <td>1949</td>\n      <td>[2314]</td>\n      <td>1949</td>\n      <td>[1873, 2326, 2078, 2139, 2947, 1199, 4210, 4575, 4401, 1475, 122, 2628, 2520, 4813, 1204, 4396, 2286, 2065, 2911, 3707]</td>\n      <td>[]</td>\n    </tr>\n    <tr>\n      <th>3</th>\n      <td>2478</td>\n      <td>[2887]</td>\n      <td>2478</td>\n      <td>[4784, 69, 1180, 1687, 4940, 1027, 3763, 3161, 3612, 1093, 3745, 1596, 1820, 2884, 4507, 2325, 2139, 3451, 3554, 465]</td>\n      <td>[]</td>\n    </tr>\n    <tr>\n      <th>4</th>\n      <td>4236</td>\n      <td>[547]</td>\n      <td>4236</td>\n      <td>[2436, 377, 1451, 3981, 1800, 2965, 323, 2295, 1057, 782, 508, 2945, 1314, 1969, 329, 2726, 3030, 89, 3327, 4396]</td>\n      <td>[]</td>\n    </tr>\n    <tr>\n      <th>5</th>\n      <td>5117</td>\n      <td>[2181]</td>\n      <td>5117</td>\n      <td>[3616, 2520, 303, 2799, 2268, 1127, 676, 2045, 481, 1289, 3798, 1607, 373, 353, 4426, 555, 1371, 3566, 1489, 168]</td>\n      <td>[]</td>\n    </tr>\n    <tr>\n      <th>6</th>\n      <td>5320</td>\n      <td>[868]</td>\n      <td>5320</td>\n      <td>[3203, 595, 3981, 4555, 4016, 1511, 3913, 555, 426, 2531, 2815, 3555, 400, 1314, 2585, 1468, 2810, 1901, 3125, 3062]</td>\n      <td>[]</td>\n    </tr>\n    <tr>\n      <th>7</th>\n      <td>6173</td>\n      <td>[2660]</td>\n      <td>6173</td>\n      <td>[2139, 3811, 4668, 4801, 1178, 2184, 3555, 3637, 1289, 508, 3667, 3164, 3327, 353, 2077, 1259, 3078, 2643, 3030, 2828]</td>\n      <td>[]</td>\n    </tr>\n  </tbody>\n</table>\n</div>"
     },
     "execution_count": 46,
     "metadata": {},
     "output_type": "execute_result"
    }
   ],
   "source": [
    "metrics_df['intrsctn_itm'] = [list(set(a).intersection(b)) for a, b in\n",
    "                                  zip(metrics_df.item_id_idx_list, metrics_df.top_rlvnt_itm)]\n",
    "metrics_df"
   ],
   "metadata": {
    "collapsed": false
   }
  },
  {
   "cell_type": "code",
   "execution_count": null,
   "outputs": [],
   "source": [],
   "metadata": {
    "collapsed": false
   }
  }
 ],
 "metadata": {
  "kernelspec": {
   "display_name": "Python 3",
   "language": "python",
   "name": "python3"
  },
  "language_info": {
   "codemirror_mode": {
    "name": "ipython",
    "version": 2
   },
   "file_extension": ".py",
   "mimetype": "text/x-python",
   "name": "python",
   "nbconvert_exporter": "python",
   "pygments_lexer": "ipython2",
   "version": "2.7.6"
  }
 },
 "nbformat": 4,
 "nbformat_minor": 0
}
