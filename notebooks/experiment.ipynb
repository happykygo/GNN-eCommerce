{
 "cells": [
  {
   "cell_type": "code",
   "execution_count": 1,
   "metadata": {
    "collapsed": true
   },
   "outputs": [],
   "source": [
    "import matplotlib.pyplot as plt\n",
    "import networkx as nx\n",
    "from torch.utils.data import DataLoader\n",
    "from torch_geometric.nn import LightGCN\n",
    "from tqdm.notebook import tqdm\n",
    "from sklearn.model_selection import train_test_split\n",
    "from utils import *\n",
    "pd.set_option('display.max_colwidth', None)"
   ]
  },
  {
   "cell_type": "code",
   "execution_count": 2,
   "outputs": [],
   "source": [
    "device = torch.device(\"cuda:0\" if torch.cuda.is_available() else \"cpu\")"
   ],
   "metadata": {
    "collapsed": false
   }
  },
  {
   "cell_type": "code",
   "execution_count": 3,
   "outputs": [],
   "source": [
    "columns_name=['user_id','item_id','rating','timestamp']\n",
    "df = pd.read_csv(\"../data/ml-100k/u.data\",sep=\"\\t\",names=columns_name)\n",
    "# remove low rating\n",
    "df = df[df['rating']>=3]"
   ],
   "metadata": {
    "collapsed": false
   }
  },
  {
   "cell_type": "code",
   "execution_count": 4,
   "outputs": [],
   "source": [
    "# train test split\n",
    "train_df, test_df = train_test_split(df, test_size=0.3, random_state=16)\n",
    "test_df, val_df = train_test_split(test_df, test_size=0.5, random_state=16)\n",
    "# train_df = pd.DataFrame(train, columns=df.columns)\n",
    "# val_df = pd.DataFrame(val, columns=df.columns)\n",
    "# test_df = pd.DataFrame(test, columns=df.columns)"
   ],
   "metadata": {
    "collapsed": false
   }
  },
  {
   "cell_type": "code",
   "execution_count": 5,
   "outputs": [
    {
     "name": "stdout",
     "output_type": "stream",
     "text": [
      "Train Size  :  57764\n",
      "Test Size :  12378\n",
      "Test Size :  12378\n"
     ]
    }
   ],
   "source": [
    "print(\"Train Size  : \", len(train_df))\n",
    "print(\"Val Size : \", len (val_df))\n",
    "print(\"Test Size : \", len (test_df))"
   ],
   "metadata": {
    "collapsed": false
   }
  },
  {
   "cell_type": "code",
   "execution_count": 7,
   "outputs": [],
   "source": [
    "# relabeling nodes\n",
    "# le_user = pp.LabelEncoder()\n",
    "# le_item = pp.LabelEncoder()\n",
    "# train_df['user_id_idx'] = le_user.fit_transform(train_df['user_id'].values)\n",
    "# train_df['item_id_idx'] = le_item.fit_transform(train_df['item_id'].values)"
   ],
   "metadata": {
    "collapsed": false
   }
  },
  {
   "cell_type": "code",
   "execution_count": 8,
   "outputs": [],
   "source": [
    "# remove user item in test but not in train\n",
    "# train_user_ids = train_df['user_id'].unique()\n",
    "# train_item_ids = train_df['item_id'].unique()\n",
    "# test_df = test_df[\n",
    "#   (test_df['user_id'].isin(train_user_ids)) & \\\n",
    "#   (test_df['item_id'].isin(train_item_ids))\n",
    "# ]\n",
    "# test_df['user_id_idx'] = le_user.transform(test_df['user_id'].values)\n",
    "# test_df['item_id_idx'] = le_item.transform(test_df['item_id'].values)"
   ],
   "metadata": {
    "collapsed": false
   }
  },
  {
   "cell_type": "code",
   "execution_count": 148,
   "outputs": [],
   "source": [
    "# n_users = train_df['user_id_idx'].nunique()\n",
    "# n_items = train_df['item_id_idx'].nunique()\n",
    "# print(\"Number of Unique Users : \", n_users)\n",
    "# print(\"Number of unique Items : \", n_items)\n",
    "# print('Size of test set before/ after(remove user/item not in train set):', len(test), len(test_df))"
   ],
   "metadata": {
    "collapsed": false
   }
  },
  {
   "cell_type": "code",
   "execution_count": null,
   "outputs": [],
   "source": [
    "# test_x = torch.Tensor(np.eye(5))\n",
    "# test_edge_index = torch.LongTensor(np.array([\n",
    "#   [0, 0, 1, 1, 2, 3, 3, 4],\n",
    "#   [2, 3, 3, 4, 0, 0, 1, 1]\n",
    "# ]))\n",
    "\n",
    "# sample = train_df.head(50)\n",
    "# le_user = pp.LabelEncoder()\n",
    "# le_item = pp.LabelEncoder()\n",
    "# sample['user_id_idx'] = le_user.fit_transform(sample['user_id'].values)\n",
    "# sample['item_id_idx'] = le_item.fit_transform(sample['item_id'].values)\n",
    "# sample\n",
    "# sampleU = sample['user_id_idx'].unique()\n",
    "# sampleI = sample['item_id_idx'].unique()\n",
    "# test_df = test_df[(test_df['user_id_idx'].isin(sampleU) & test_df['item_id_idx'].isin(sampleI))]  #66*6\n",
    "# sampleU\n",
    "# test_df['item_id_idx'].unique()"
   ],
   "metadata": {
    "collapsed": false
   }
  },
  {
   "cell_type": "code",
   "execution_count": 140,
   "outputs": [],
   "source": [
    "# tt = df_to_graph(train_df, n_users)\n",
    "# tt.shape\n",
    "# users, pos_items, neg_items, usr_pos_label, usr_neg_label = \\\n",
    "#     pos_neg_edge_index(sample, 47, 48)\n",
    "# users, pos_items, neg_items, usr_pos_label, usr_neg_label = \\\n",
    "#     pos_neg_edge_index(train_df, n_users, n_items)\n",
    "# usr_pos_label -- 2 * 66016; usr_neg_label -- 2 * 66016\n",
    "# assert len(usr_pos_label[0]) == len(train_df)"
   ],
   "metadata": {
    "collapsed": false
   }
  },
  {
   "cell_type": "code",
   "execution_count": 141,
   "outputs": [],
   "source": [
    "# latent_dim = 64\n",
    "# n_layers = 3\n",
    "# EPOCHS = 50\n",
    "# BATCH_SIZE = 1024\n",
    "# # DECAY = 0.0001\n",
    "# LR = 0.005\n",
    "# K = 20"
   ],
   "metadata": {
    "collapsed": false
   }
  },
  {
   "cell_type": "code",
   "execution_count": 6,
   "outputs": [
    {
     "name": "stderr",
     "output_type": "stream",
     "text": [
      "/Users/yingkang/4thBrain/GNN-eCommerce/notebooks/utils.py:37: SettingWithCopyWarning: \n",
      "A value is trying to be set on a copy of a slice from a DataFrame.\n",
      "Try using .loc[row_indexer,col_indexer] = value instead\n",
      "\n",
      "See the caveats in the documentation: https://pandas.pydata.org/pandas-docs/stable/user_guide/indexing.html#returning-a-view-versus-a-copy\n",
      "  val_df['user_id_idx'] = le_user.transform(val_df['user_id'].values)\n",
      "/Users/yingkang/4thBrain/GNN-eCommerce/notebooks/utils.py:38: SettingWithCopyWarning: \n",
      "A value is trying to be set on a copy of a slice from a DataFrame.\n",
      "Try using .loc[row_indexer,col_indexer] = value instead\n",
      "\n",
      "See the caveats in the documentation: https://pandas.pydata.org/pandas-docs/stable/user_guide/indexing.html#returning-a-view-versus-a-copy\n",
      "  val_df['item_id_idx'] = le_item.transform(val_df['item_id'].values)\n",
      "/Users/yingkang/4thBrain/GNN-eCommerce/notebooks/utils.py:39: SettingWithCopyWarning: \n",
      "A value is trying to be set on a copy of a slice from a DataFrame.\n",
      "Try using .loc[row_indexer,col_indexer] = value instead\n",
      "\n",
      "See the caveats in the documentation: https://pandas.pydata.org/pandas-docs/stable/user_guide/indexing.html#returning-a-view-versus-a-copy\n",
      "  test_df['user_id_idx'] = le_user.transform(test_df['user_id'].values)\n",
      "/Users/yingkang/4thBrain/GNN-eCommerce/notebooks/utils.py:40: SettingWithCopyWarning: \n",
      "A value is trying to be set on a copy of a slice from a DataFrame.\n",
      "Try using .loc[row_indexer,col_indexer] = value instead\n",
      "\n",
      "See the caveats in the documentation: https://pandas.pydata.org/pandas-docs/stable/user_guide/indexing.html#returning-a-view-versus-a-copy\n",
      "  test_df['item_id_idx'] = le_item.transform(test_df['item_id'].values)\n"
     ]
    }
   ],
   "source": [
    "n_users, n_items, train_df, val_df, test_df = prepare_val_test(train_df, val_df, test_df)"
   ],
   "metadata": {
    "collapsed": false
   }
  },
  {
   "cell_type": "code",
   "execution_count": 7,
   "outputs": [
    {
     "name": "stdout",
     "output_type": "stream",
     "text": [
      "Train Size  :  57764\n",
      "Val Size :  12358\n",
      "Test Size :  12349\n",
      "Users :  943\n",
      "Items :  1530\n"
     ]
    }
   ],
   "source": [
    "print(\"Train Size  : \", len(train_df))\n",
    "print(\"Val Size : \", len (val_df))\n",
    "print(\"Test Size : \", len (test_df))\n",
    "print(\"Users : \", n_users)\n",
    "print(\"Items : \", n_items)"
   ],
   "metadata": {
    "collapsed": false
   }
  },
  {
   "cell_type": "code",
   "execution_count": 8,
   "outputs": [
    {
     "name": "stdout",
     "output_type": "stream",
     "text": [
      "Size of Learnable Embedding :  [torch.Size([2473, 64])]\n"
     ]
    }
   ],
   "source": [
    "latent_dim = 64\n",
    "n_layers = 3\n",
    "LR = 0.005\n",
    "\n",
    "model = LightGCN(num_nodes=n_users+n_items, embedding_dim=latent_dim, num_layers=n_layers).to(device)\n",
    "optimizer = torch.optim.Adam(model.parameters(), lr=LR)\n",
    "print(\"Size of Learnable Embedding : \", [x.shape for x in list(model.parameters())])"
   ],
   "metadata": {
    "collapsed": false
   }
  },
  {
   "cell_type": "code",
   "execution_count": 9,
   "outputs": [],
   "source": [
    "def train_and_evl(model, train_df, n_users, n_items, optimizer, val_df, EPOCHS = 50, BATCH_SIZE = 1024, K = 20, DECAY = 0.0001):\n",
    "    edge_index = df_to_graph(train_df, n_users).to(device)\n",
    "\n",
    "    bpr_loss_epoch_list = []\n",
    "    reg_loss_epoch_list = []\n",
    "    final_loss_epoch_list = []\n",
    "    recall_epoch_list = []\n",
    "    precision_epoch_list = []\n",
    "\n",
    "    idx = list(range(len(train_df)))\n",
    "    random.shuffle(idx)\n",
    "    loader = DataLoader(idx, batch_size=BATCH_SIZE, shuffle=True)\n",
    "\n",
    "    print('bpr_loss \\t reg_loss \\t final_loss \\t precision \\t recall')\n",
    "    for epoch in tqdm(range(EPOCHS)):\n",
    "        # bpr_loss_batch_list = []\n",
    "        # reg_loss_batch_list = []\n",
    "        # final_loss_batch_list = []\n",
    "        #\n",
    "        # users, pos_items, neg_items= pos_neg_edge_index(train_df, n_users, n_items)\n",
    "        # model.train()\n",
    "        # for batch in loader:\n",
    "        #     optimizer.zero_grad()\n",
    "        #\n",
    "        #     batch_usr = users[batch]\n",
    "        #     batch_pos_items = pos_items[batch]\n",
    "        #     batch_neg_items = neg_items[batch]\n",
    "        #\n",
    "        #     batch_pos_neg_labels = batch_pos_neg_edges(batch_usr, batch_pos_items, batch_neg_items).to(device)\n",
    "        #     out = model(edge_index, batch_pos_neg_labels)\n",
    "        #     size = len(batch)\n",
    "        #\n",
    "        #     bpr_loss = model.recommendation_loss(out[:size], out[size:], 0) * size\n",
    "        #     reg_loss = regularization_loss(model.embedding.weight, size, batch_usr, batch_pos_items, batch_neg_items)\n",
    "        #     loss = bpr_loss + reg_loss\n",
    "        #\n",
    "        #     # print(\"bpr loss: \", loss, \"reg loss: \", reg_loss)\n",
    "        #     loss.backward()\n",
    "        #     optimizer.step()\n",
    "        #\n",
    "        #     bpr_loss_batch_list.append(bpr_loss.item())\n",
    "        #     reg_loss_batch_list.append(reg_loss.item())\n",
    "        #     final_loss_batch_list.append(loss.item())\n",
    "        # bpr_loss = round(np.mean(bpr_loss_batch_list), 4)\n",
    "        # reg_loss = round(np.mean(reg_loss_batch_list), 4)\n",
    "        # final_loss = round(np.mean(final_loss_batch_list), 4)\n",
    "\n",
    "        bpr_loss, reg_loss, final_loss = train_loop(model, train_df, n_users, n_items, edge_index, optimizer, loader)\n",
    "\n",
    "        # model.eval()\n",
    "        # with torch.no_grad():\n",
    "        #     embeds = model.get_embedding(edge_index)\n",
    "        #     final_usr_embed, final_item_embed = torch.split(embeds, (n_users, n_items))\n",
    "        #     matrix = interact_matrix(train_df, n_users, n_items).to(device)\n",
    "        #     test_topK_recall, test_topK_precision = get_metrics(final_usr_embed, final_item_embed, matrix, val_df, K)\n",
    "        # precision = round(test_topK_precision, 4)\n",
    "        # recall = round(test_topK_recall, 4)\n",
    "\n",
    "        precision, recall = evaluation(model, train_df, n_users, n_items, edge_index, val_df, K)\n",
    "\n",
    "        print(bpr_loss, reg_loss, final_loss, precision, recall)\n",
    "        bpr_loss_epoch_list.append(bpr_loss)\n",
    "        reg_loss_epoch_list.append(reg_loss)\n",
    "        final_loss_epoch_list.append(final_loss)\n",
    "        recall_epoch_list.append(recall)\n",
    "        precision_epoch_list.append(precision)\n",
    "\n",
    "    return (\n",
    "        bpr_loss_epoch_list,\n",
    "        reg_loss_epoch_list,\n",
    "        final_loss_epoch_list,\n",
    "        recall_epoch_list,\n",
    "        precision_epoch_list)"
   ],
   "metadata": {
    "collapsed": false
   }
  },
  {
   "cell_type": "code",
   "execution_count": 10,
   "outputs": [
    {
     "name": "stdout",
     "output_type": "stream",
     "text": [
      "bpr_loss \t reg_loss \t final_loss \t precision \t recall\n"
     ]
    },
    {
     "data": {
      "text/plain": "  0%|          | 0/50 [00:00<?, ?it/s]",
      "application/vnd.jupyter.widget-view+json": {
       "version_major": 2,
       "version_minor": 0,
       "model_id": "c09ae9be60b244cda32a0486c9339d3f"
      }
     },
     "metadata": {},
     "output_type": "display_data"
    },
    {
     "name": "stdout",
     "output_type": "stream",
     "text": [
      "0.5137 0.0002 0.5139 0.0907 0.1689\n",
      "0.3651 0.0004 0.3655 0.0966 0.1797\n",
      "0.3492 0.0004 0.3497 0.1056 0.2111\n",
      "0.3301 0.0005 0.3306 0.118 0.2419\n",
      "0.3099 0.0006 0.3105 0.1197 0.2433\n",
      "0.2976 0.0007 0.2983 0.1197 0.2417\n",
      "0.2857 0.0008 0.2865 0.1222 0.2445\n",
      "0.2747 0.0009 0.2756 0.1293 0.2545\n",
      "0.2596 0.001 0.2606 0.1327 0.2602\n",
      "0.2476 0.0012 0.2487 0.1351 0.2658\n",
      "0.2457 0.0013 0.247 0.1351 0.267\n",
      "0.2438 0.0013 0.2452 0.1391 0.2753\n",
      "0.2398 0.0014 0.2413 0.1409 0.2821\n",
      "0.2354 0.0015 0.2369 0.1406 0.2822\n",
      "0.2277 0.0016 0.2293 0.143 0.2874\n",
      "0.2249 0.0017 0.2266 0.1446 0.2903\n",
      "0.2184 0.0018 0.2201 0.1452 0.2911\n",
      "0.2163 0.0019 0.2182 0.1458 0.2933\n",
      "0.2107 0.002 0.2127 0.1476 0.2961\n",
      "0.2064 0.0021 0.2084 0.1497 0.2966\n",
      "0.2065 0.0022 0.2086 0.1503 0.2967\n",
      "0.2031 0.0023 0.2053 0.1511 0.2987\n",
      "0.2022 0.0023 0.2045 0.1508 0.298\n",
      "0.1958 0.0024 0.1982 0.1503 0.2955\n",
      "0.1903 0.0025 0.1928 0.1503 0.2928\n",
      "0.1887 0.0026 0.1913 0.1518 0.299\n",
      "0.1879 0.0027 0.1907 0.1508 0.2956\n",
      "0.1827 0.0028 0.1855 0.1517 0.2965\n",
      "0.1833 0.0029 0.1863 0.151 0.2974\n",
      "0.1789 0.003 0.1819 0.1526 0.2983\n",
      "0.1762 0.0031 0.1793 0.1517 0.2967\n",
      "0.1745 0.0032 0.1778 0.1512 0.2972\n",
      "0.1713 0.0034 0.1746 0.153 0.2969\n",
      "0.1683 0.0035 0.1718 0.1539 0.3004\n",
      "0.1654 0.0036 0.169 0.1538 0.3013\n",
      "0.1628 0.0037 0.1665 0.1542 0.3006\n",
      "0.1613 0.0038 0.1651 0.155 0.3003\n",
      "0.1616 0.0039 0.1655 0.1544 0.3026\n",
      "0.1585 0.004 0.1626 0.1531 0.3005\n",
      "0.1541 0.0041 0.1582 0.1552 0.3018\n",
      "0.1543 0.0042 0.1585 0.1562 0.3028\n",
      "0.1506 0.0044 0.155 0.1554 0.3033\n",
      "0.1492 0.0045 0.1536 0.157 0.3075\n",
      "0.1474 0.0046 0.152 0.1569 0.3064\n",
      "0.1467 0.0047 0.1514 0.1572 0.3077\n",
      "0.1427 0.0048 0.1475 0.1577 0.3089\n",
      "0.1407 0.005 0.1457 0.157 0.3074\n",
      "0.1374 0.0051 0.1425 0.1576 0.3091\n",
      "0.1372 0.0052 0.1424 0.157 0.3102\n",
      "0.1348 0.0053 0.1401 0.1583 0.3125\n"
     ]
    }
   ],
   "source": [
    "bpr_loss, reg_loss, final_loss, recall, precision = train_and_evl(model, train_df, n_users, n_items, optimizer, val_df)"
   ],
   "metadata": {
    "collapsed": false
   }
  },
  {
   "cell_type": "code",
   "execution_count": 11,
   "outputs": [],
   "source": [
    "epoch_list = [(i+1) for i in range(50)]"
   ],
   "metadata": {
    "collapsed": false
   }
  },
  {
   "cell_type": "code",
   "execution_count": 12,
   "outputs": [
    {
     "data": {
      "text/plain": "<matplotlib.legend.Legend at 0x136099760>"
     },
     "execution_count": 12,
     "metadata": {},
     "output_type": "execute_result"
    },
    {
     "data": {
      "text/plain": "<Figure size 640x480 with 1 Axes>",
      "image/png": "[encoded data removed]"
     },
     "metadata": {},
     "output_type": "display_data"
    }
   ],
   "source": [
    "plt.plot(epoch_list, final_loss, label='Total Training Loss')\n",
    "plt.plot(epoch_list, bpr_loss, label='BPR Training Loss')\n",
    "plt.plot(epoch_list, reg_loss, label='Reg Training Loss')\n",
    "\n",
    "plt.xlabel('Epoch')\n",
    "plt.ylabel('Loss')\n",
    "plt.legend()"
   ],
   "metadata": {
    "collapsed": false
   }
  },
  {
   "cell_type": "code",
   "execution_count": 13,
   "outputs": [
    {
     "data": {
      "text/plain": "<matplotlib.legend.Legend at 0x15095dca0>"
     },
     "execution_count": 13,
     "metadata": {},
     "output_type": "execute_result"
    },
    {
     "data": {
      "text/plain": "<Figure size 640x480 with 1 Axes>",
      "image/png": "[encoded data removed]"
     },
     "metadata": {},
     "output_type": "display_data"
    }
   ],
   "source": [
    "plt.plot(epoch_list, recall, label='Recall')\n",
    "plt.plot(epoch_list, precision, label='Precision')\n",
    "plt.xlabel('Epoch')\n",
    "plt.ylabel('Metrics')\n",
    "plt.legend()"
   ],
   "metadata": {
    "collapsed": false
   }
  },
  {
   "cell_type": "code",
   "execution_count": 14,
   "outputs": [
    {
     "data": {
      "text/plain": "(0.1583, 0.3125)"
     },
     "execution_count": 14,
     "metadata": {},
     "output_type": "execute_result"
    }
   ],
   "source": [
    "max(precision), max(recall)"
   ],
   "metadata": {
    "collapsed": false
   }
  },
  {
   "cell_type": "code",
   "execution_count": 15,
   "outputs": [],
   "source": [
    "edge_index = df_to_graph(train_df, n_users).to(device)"
   ],
   "metadata": {
    "collapsed": false
   }
  },
  {
   "cell_type": "code",
   "execution_count": 16,
   "outputs": [
    {
     "data": {
      "text/plain": "(0.1559, 0.3144)"
     },
     "execution_count": 16,
     "metadata": {},
     "output_type": "execute_result"
    }
   ],
   "source": [
    "evaluation(model, train_df, n_users, n_items, edge_index, test_df, K=20)"
   ],
   "metadata": {
    "collapsed": false
   }
  },
  {
   "cell_type": "code",
   "execution_count": null,
   "outputs": [],
   "source": [],
   "metadata": {
    "collapsed": false
   }
  },
  {
   "cell_type": "code",
   "execution_count": null,
   "outputs": [],
   "source": [],
   "metadata": {
    "collapsed": false
   }
  },
  {
   "cell_type": "code",
   "execution_count": 17,
   "outputs": [
    {
     "data": {
      "text/plain": "  0%|          | 0/50 [00:00<?, ?it/s]",
      "application/vnd.jupyter.widget-view+json": {
       "version_major": 2,
       "version_minor": 0,
       "model_id": "f2d2969b92844a32b904dac283f36a6a"
      }
     },
     "metadata": {},
     "output_type": "display_data"
    },
    {
     "name": "stdout",
     "output_type": "stream",
     "text": [
      "0.4899 0.0002 0.4901 0.131 0.1802\n",
      "0.3513 0.0004 0.3517 0.1388 0.195\n",
      "0.3335 0.0005 0.3339 0.1592 0.2431\n",
      "0.3107 0.0005 0.3113 0.1698 0.2608\n",
      "0.2934 0.0007 0.294 0.1747 0.2613\n",
      "0.2824 0.0008 0.2832 0.1802 0.2664\n",
      "0.2688 0.0009 0.2697 0.1874 0.2755\n",
      "0.2534 0.001 0.2545 0.1959 0.2891\n",
      "0.2417 0.0012 0.2429 0.1958 0.2917\n",
      "0.2359 0.0013 0.2372 0.1981 0.2942\n",
      "0.2307 0.0014 0.2321 0.2004 0.2989\n",
      "0.2278 0.0014 0.2293 0.2018 0.303\n",
      "0.2229 0.0015 0.2244 0.2046 0.3079\n",
      "0.2219 0.0016 0.2235 0.2075 0.3121\n",
      "0.2152 0.0017 0.2169 0.2093 0.3127\n",
      "0.2114 0.0018 0.2132 0.21 0.3132\n",
      "0.2051 0.0019 0.207 0.2131 0.3184\n",
      "0.2047 0.002 0.2067 0.2145 0.3193\n",
      "0.1982 0.0021 0.2003 0.2163 0.3201\n",
      "0.1923 0.0022 0.1945 0.2171 0.3175\n",
      "0.1911 0.0023 0.1934 0.217 0.3209\n",
      "0.189 0.0024 0.1914 0.2184 0.322\n",
      "0.1857 0.0025 0.1882 0.219 0.3239\n",
      "0.1841 0.0026 0.1867 0.2193 0.3228\n",
      "0.1783 0.0027 0.181 0.2214 0.3264\n",
      "0.1777 0.0028 0.1805 0.2206 0.3251\n",
      "0.1774 0.0029 0.1803 0.2237 0.3286\n",
      "0.174 0.003 0.177 0.224 0.329\n",
      "0.1727 0.0031 0.1758 0.2238 0.3295\n",
      "0.1711 0.0032 0.1743 0.2261 0.3328\n",
      "0.1669 0.0033 0.1702 0.2271 0.3324\n",
      "0.1651 0.0034 0.1685 0.2286 0.3343\n",
      "0.1656 0.0035 0.1691 0.2294 0.3383\n",
      "0.1585 0.0036 0.1622 0.2295 0.3368\n",
      "0.1549 0.0038 0.1587 0.2302 0.3375\n",
      "0.1553 0.0039 0.1592 0.2325 0.3415\n",
      "0.1551 0.004 0.1591 0.2305 0.3384\n",
      "0.1515 0.0041 0.1556 0.2308 0.3431\n",
      "0.1505 0.0042 0.1548 0.2322 0.3424\n",
      "0.1464 0.0043 0.1508 0.2317 0.3418\n",
      "0.1448 0.0045 0.1493 0.2309 0.3412\n",
      "0.1422 0.0046 0.1468 0.2319 0.3413\n",
      "0.1424 0.0047 0.1471 0.232 0.3402\n",
      "0.1402 0.0048 0.145 0.2341 0.3453\n",
      "0.1364 0.0049 0.1413 0.235 0.3456\n",
      "0.1347 0.0051 0.1397 0.2354 0.3458\n",
      "0.1317 0.0052 0.1369 0.2343 0.3481\n",
      "0.1329 0.0053 0.1382 0.2346 0.3475\n",
      "0.1289 0.0055 0.1343 0.2365 0.3484\n",
      "0.1285 0.0056 0.1341 0.2358 0.3465\n"
     ]
    }
   ],
   "source": [
    "# bpr_loss, reg_loss, final_loss, recall, precision = train_and_evl(model, optimizer, train_df, val_df)"
   ],
   "metadata": {
    "collapsed": false
   }
  },
  {
   "cell_type": "code",
   "execution_count": 319,
   "outputs": [],
   "source": [
    "# test_x = torch.Tensor(np.eye(5))\n",
    "# test_edge_index = torch.LongTensor(np.array([\n",
    "#   [0, 0, 1, 2, 3, 3],\n",
    "#   [2, 3, 4, 0, 0, 1]\n",
    "# ]))\n",
    "#\n",
    "# pos_label = torch.LongTensor(np.array([\n",
    "#   [0, 0, 1],\n",
    "#   [2, 3, 4]\n",
    "# ]))\n",
    "# neg_label = torch.LongTensor(np.array([\n",
    "#   [0, 0, 1],\n",
    "#   [4, 5, 2]\n",
    "# ]))\n",
    "# total_label = torch.cat([pos_label, neg_label], dim=1)"
   ],
   "metadata": {
    "collapsed": false
   }
  },
  {
   "cell_type": "code",
   "execution_count": 392,
   "outputs": [
    {
     "name": "stdout",
     "output_type": "stream",
     "text": [
      "[0.12924085557460785, 0.1303127408027649]\n",
      "0.019230769230769232\n",
      "0.019230769230769232\n"
     ]
    }
   ],
   "source": [
    "# recommendation_loss_list = []\n",
    "# model.train()\n",
    "# edge_index = df_to_graph(sample, 47)\n",
    "# for batch in loader:\n",
    "#     optimizer.zero_grad()\n",
    "#\n",
    "#     pos_train_edge_label = usr_pos_label[:,batch]\n",
    "#     neg_train_edge_label = usr_neg_label[:,batch]\n",
    "#     # print(pos_train_edge_label)\n",
    "#     # print(neg_train_edge_label)\n",
    "#     total_label = torch.cat([pos_train_edge_label, neg_train_edge_label], dim=1)\n",
    "#\n",
    "#     out = model(edge_index, total_label)\n",
    "#     # print(out)\n",
    "#     size = len(pos_train_edge_label[0])\n",
    "#     loss = model.recommendation_loss(out[:size], out[size:])\n",
    "#     # print(loss)\n",
    "#     recommendation_loss_list.append(loss.item())\n",
    "#\n",
    "# model.eval()\n",
    "# with torch.no_grad():\n",
    "#     embeds = model.get_embedding(edge_index)\n",
    "#     final_usr_embed, final_item_embed = torch.split(embeds, (47, 48))\n",
    "#     # print(final_usr_embed.shape)\n",
    "#     test_topK_recall, test_topK_precision = get_metrics(final_usr_embed, final_item_embed, 47, 48, sample, test_df, 2)\n",
    "#\n",
    "# print(recommendation_loss_list)\n",
    "# print(test_topK_recall)\n",
    "# print(test_topK_precision)"
   ],
   "metadata": {
    "collapsed": false
   }
  },
  {
   "cell_type": "code",
   "execution_count": 381,
   "outputs": [],
   "source": [
    "# def get_metrics_1(user_Embed_wts, item_Embed_wts, n_users, n_items, train_data, test_data, K):\n",
    "#   # compute the score of all user-item pairs\n",
    "#   relevance_score = user_Embed_wts @ item_Embed_wts.t()\n",
    "#\n",
    "#   # create dense tensor of all user-item interactions\n",
    "#   i = torch.stack((\n",
    "#     torch.LongTensor(train_data['user_id_idx'].values),\n",
    "#     torch.LongTensor(train_data['item_id_idx'].values)\n",
    "#   ))\n",
    "#   v = torch.ones((len(train_data)), dtype=torch.float64)\n",
    "#   interactions_t = torch.sparse.FloatTensor(i, v, (n_users, n_items)).to_dense().to(device)\n",
    "#\n",
    "#   # mask out training user-item interactions from metric computation\n",
    "#   relevance_score = torch.mul(relevance_score, (1 - interactions_t))\n",
    "#\n",
    "#   # compute top scoring items for each user\n",
    "#   topk_relevance_indices = torch.topk(relevance_score, K).indices\n",
    "#   topk_relevance_indices_df = pd.DataFrame(topk_relevance_indices.cpu().numpy())\n",
    "#   topk_relevance_indices_df['top_rlvnt_itm'] = topk_relevance_indices_df.values.tolist()\n",
    "#   topk_relevance_indices_df['user_ID'] = topk_relevance_indices_df.index\n",
    "#   topk_relevance_indices_df = topk_relevance_indices_df[['user_ID','top_rlvnt_itm']]\n",
    "#\n",
    "#   # measure overlap between recommended (top-K) and held-out user-item interactions\n",
    "#   test_interacted_items = test_data.groupby('user_id_idx')['item_id_idx'].apply(list).reset_index()\n",
    "#   metrics_df = pd.merge(test_interacted_items,topk_relevance_indices_df, how= 'left', left_on = 'user_id_idx',right_on = ['user_ID'])\n",
    "#   # print(metrics_df)\n",
    "#   metrics_df['intrsctn_itm'] = [list(set(a).intersection(b)) for a, b in zip(metrics_df.item_id_idx, metrics_df.top_rlvnt_itm)] #TP\n",
    "#\n",
    "#   metrics_df['recall'] = metrics_df.apply(lambda x : len(x['intrsctn_itm'])/len(x['item_id_idx']), axis = 1)\n",
    "#   metrics_df['precision'] = metrics_df.apply(lambda x : len(x['intrsctn_itm'])/K, axis = 1)\n",
    "#\n",
    "#   return metrics_df['recall'].mean(), metrics_df['precision'].mean()"
   ],
   "metadata": {
    "collapsed": false
   }
  },
  {
   "cell_type": "code",
   "execution_count": null,
   "outputs": [],
   "source": [
    "# test_topK_recall, test_topK_precision = get_metrics_1(final_usr_embed, final_item_embed, 47, 48, sample, test_df, 2)\n",
    "# print(\"recall@K: \", test_topK_recall, \" precision@K: \", test_topK_precision)"
   ],
   "metadata": {
    "collapsed": false
   }
  },
  {
   "cell_type": "code",
   "execution_count": null,
   "outputs": [],
   "source": [
    "# from torch_geometric.transforms import RandomLinkSplit\n",
    "#\n",
    "# transform = RandomLinkSplit(is_undirected=False, split_labels=True, add_negative_train_samples=True, num_val=0, num_test=2)\n",
    "# train_data, val_data, test_data = transform(data)"
   ],
   "metadata": {
    "collapsed": false
   }
  },
  {
   "cell_type": "code",
   "execution_count": null,
   "outputs": [],
   "source": [
    "# print(train_data.pos_edge_label_index)\n",
    "# print(val_data.pos_edge_label_index)\n",
    "# print(test_data.pos_edge_label_index)"
   ],
   "metadata": {
    "collapsed": false
   }
  }
 ],
 "metadata": {
  "kernelspec": {
   "display_name": "Python 3",
   "language": "python",
   "name": "python3"
  },
  "language_info": {
   "codemirror_mode": {
    "name": "ipython",
    "version": 2
   },
   "file_extension": ".py",
   "mimetype": "text/x-python",
   "name": "python",
   "nbconvert_exporter": "python",
   "pygments_lexer": "ipython2",
   "version": "2.7.6"
  }
 },
 "nbformat": 4,
 "nbformat_minor": 0
}
