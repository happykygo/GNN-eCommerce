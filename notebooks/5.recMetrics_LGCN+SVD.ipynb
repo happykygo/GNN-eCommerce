{
 "cells": [
  {
   "cell_type": "code",
   "execution_count": 1,
   "id": "c39bb6a6",
   "metadata": {},
   "outputs": [],
   "source": [
    "# import numpy as np\n",
    "# import pandas as pd\n",
    "# from surprise import SVD, Dataset, Reader\n",
    "# from surprise.model_selection import train_test_split"
   ]
  },
  {
   "cell_type": "markdown",
   "id": "bd61d345",
   "metadata": {},
   "source": [
    "## Load Data"
   ]
  },
  {
   "cell_type": "code",
   "execution_count": 1,
   "id": "7f25c11a",
   "metadata": {},
   "outputs": [],
   "source": [
    "import numpy as np\n",
    "import yaml\n",
    "import matplotlib.pyplot as plt\n",
    "import recmetrics\n",
    "from src.lightgcn import LightGCN\n",
    "from src.train_lightgcn import *\n",
    "from src.utils_v2 import *\n",
    "import glob"
   ]
  },
  {
   "cell_type": "code",
   "execution_count": 2,
   "id": "119f6e0a",
   "metadata": {},
   "outputs": [
    {
     "data": {
      "text/plain": "device(type='cpu')"
     },
     "execution_count": 2,
     "metadata": {},
     "output_type": "execute_result"
    }
   ],
   "source": [
    "device = torch.device(\"cuda:0\" if torch.cuda.is_available() else \"cpu\")\n",
    "device # = \"cpu\""
   ]
  },
  {
   "cell_type": "code",
   "execution_count": 3,
   "id": "55c74872",
   "metadata": {},
   "outputs": [
    {
     "name": "stdout",
     "output_type": "stream",
     "text": [
      "/Users/yingkang/4thBrain/GNN-eCommerce\n"
     ]
    }
   ],
   "source": [
    "%cd ..\n",
    "with open(\"config.yaml\") as config_file:\n",
    "    config = yaml.safe_load(config_file)"
   ]
  },
  {
   "cell_type": "code",
   "execution_count": 4,
   "outputs": [],
   "source": [
    "checkpoint_dir = config['training']['checkpoints_dir']+'2023-02-15_060043/'"
   ],
   "metadata": {
    "collapsed": false
   }
  },
  {
   "cell_type": "code",
   "execution_count": 5,
   "outputs": [],
   "source": [
    "train_df = pd.read_csv(checkpoint_dir + 'processed_train.csv')\n",
    "test_df = pd.read_csv(checkpoint_dir + 'processed_test.csv')\n",
    "val_df = pd.read_csv(checkpoint_dir + 'processed_val.csv')"
   ],
   "metadata": {
    "collapsed": false
   }
  },
  {
   "cell_type": "code",
   "execution_count": 6,
   "outputs": [],
   "source": [
    "edge_index, edge_weight = df_to_graph(train_df, True)"
   ],
   "metadata": {
    "collapsed": false
   }
  },
  {
   "cell_type": "code",
   "execution_count": 7,
   "outputs": [],
   "source": [
    "n_users = train_df['user_id_idx'].nunique()\n",
    "n_items = train_df['item_id_idx'].nunique()"
   ],
   "metadata": {
    "collapsed": false
   }
  },
  {
   "cell_type": "code",
   "execution_count": 8,
   "outputs": [],
   "source": [
    "train_df['item_id_idx'] = train_df['item_id_idx']-n_users"
   ],
   "metadata": {
    "collapsed": false
   }
  },
  {
   "cell_type": "code",
   "execution_count": 9,
   "outputs": [],
   "source": [
    "combined = pd.concat([train_df, test_df, val_df], ignore_index=True)\n",
    "interactions_t = interact_matrix(combined, n_users, n_items)"
   ],
   "metadata": {
    "collapsed": false
   }
  },
  {
   "cell_type": "markdown",
   "source": [
    "##### Registered users list + Real purchase data"
   ],
   "metadata": {
    "collapsed": false
   }
  },
  {
   "cell_type": "code",
   "execution_count": 20,
   "outputs": [
    {
     "data": {
      "text/plain": "           user_id  user_id_idx\n0        492998340       196372\n4        568760540       719382\n24       451861530       119424\n32       604677197      1306361\n41       597163052      1163544\n...            ...          ...\n9773394  417026247        77289\n9773815  505463598       221282\n9774575  568939049       722693\n9774966  477344956       164067\n9775317  586329527       997392\n\n[110422 rows x 2 columns]",
      "text/html": "<div>\n<style scoped>\n    .dataframe tbody tr th:only-of-type {\n        vertical-align: middle;\n    }\n\n    .dataframe tbody tr th {\n        vertical-align: top;\n    }\n\n    .dataframe thead th {\n        text-align: right;\n    }\n</style>\n<table border=\"1\" class=\"dataframe\">\n  <thead>\n    <tr style=\"text-align: right;\">\n      <th></th>\n      <th>user_id</th>\n      <th>user_id_idx</th>\n    </tr>\n  </thead>\n  <tbody>\n    <tr>\n      <th>0</th>\n      <td>492998340</td>\n      <td>196372</td>\n    </tr>\n    <tr>\n      <th>4</th>\n      <td>568760540</td>\n      <td>719382</td>\n    </tr>\n    <tr>\n      <th>24</th>\n      <td>451861530</td>\n      <td>119424</td>\n    </tr>\n    <tr>\n      <th>32</th>\n      <td>604677197</td>\n      <td>1306361</td>\n    </tr>\n    <tr>\n      <th>41</th>\n      <td>597163052</td>\n      <td>1163544</td>\n    </tr>\n    <tr>\n      <th>...</th>\n      <td>...</td>\n      <td>...</td>\n    </tr>\n    <tr>\n      <th>9773394</th>\n      <td>417026247</td>\n      <td>77289</td>\n    </tr>\n    <tr>\n      <th>9773815</th>\n      <td>505463598</td>\n      <td>221282</td>\n    </tr>\n    <tr>\n      <th>9774575</th>\n      <td>568939049</td>\n      <td>722693</td>\n    </tr>\n    <tr>\n      <th>9774966</th>\n      <td>477344956</td>\n      <td>164067</td>\n    </tr>\n    <tr>\n      <th>9775317</th>\n      <td>586329527</td>\n      <td>997392</td>\n    </tr>\n  </tbody>\n</table>\n<p>110422 rows × 2 columns</p>\n</div>"
     },
     "execution_count": 20,
     "metadata": {},
     "output_type": "execute_result"
    }
   ],
   "source": [
    "purchased_users = combined.loc[combined['weight'] == 1.0]\n",
    "p_user_list = purchased_users[['user_id', 'user_id_idx']].drop_duplicates()\n",
    "p_user_list\n",
    "# Can also recommend for non-purchase user, but cannot verify if recommendation is good\n",
    "# users_list = combined[['user_id', 'user_id_idx']].drop_duplicates()\n",
    "# users_list"
   ],
   "metadata": {
    "collapsed": false
   }
  },
  {
   "cell_type": "code",
   "execution_count": 22,
   "outputs": [
    {
     "name": "stdout",
     "output_type": "stream",
     "text": [
      "Target users are : [867540]\n"
     ]
    }
   ],
   "source": [
    "# Pick target user\n",
    "target_users = list(p_user_list['user_id_idx'].sample(1))\n",
    "test_interactions_t = torch.index_select(interactions_t, 0, torch.tensor(target_users)).to_dense()\n",
    "print(f'Target users are : {target_users}')"
   ],
   "metadata": {
    "collapsed": false
   }
  },
  {
   "cell_type": "code",
   "execution_count": null,
   "outputs": [],
   "source": [
    "df = combined.loc[combined['weight'] == 1.0]\n",
    "df = df[['user_id', 'item_id', 'weight', 'user_id_idx', 'item_id_idx']]\n",
    "df.groupby()"
   ],
   "metadata": {
    "collapsed": false
   }
  },
  {
   "cell_type": "code",
   "execution_count": 24,
   "outputs": [
    {
     "name": "stdout",
     "output_type": "stream",
     "text": [
      "Real data: \n",
      "          Unnamed: 0.1  Unnamed: 0    user_id  item_id  weight  user_id_idx  \\\n",
      "2663755       7211099     7211099  577444426  5668346    0.01       867540   \n",
      "6160834       7211100     7211100  577444426  5759279    1.00       867540   \n",
      "6200988       7211103     7211103  577444426  5815036    0.01       867540   \n",
      "6238541       7211102     7211102  577444426  5809912    1.00       867540   \n",
      "6909725       7211105     7211105  577444426  5854832    1.00       867540   \n",
      "9411228       7211104     7211104  577444426  5850625    1.00       867540   \n",
      "9721292       7211106     7211106  577444426  5861721    1.00       867540   \n",
      "9728928       7211101     7211101  577444426  5809910    1.00       867540   \n",
      "\n",
      "         item_id_idx  \n",
      "2663755         6433  \n",
      "6160834        14591  \n",
      "6200988        23294  \n",
      "6238541        21752  \n",
      "6909725        34266  \n",
      "9411228        32731  \n",
      "9721292        36277  \n",
      "9728928        21750  \n"
     ]
    }
   ],
   "source": [
    "df = df.loc[(df['user_id_idx'].isin(target_users))]\n",
    "print(f\"Real data: \\n {df}\")"
   ],
   "metadata": {
    "collapsed": false
   }
  },
  {
   "cell_type": "markdown",
   "source": [
    "## Load saved best LGCN model"
   ],
   "metadata": {
    "collapsed": false
   }
  },
  {
   "cell_type": "code",
   "execution_count": 14,
   "outputs": [],
   "source": [
    "best_model = torch.load(checkpoint_dir + \"LightGCN_best.pt\", map_location=torch.device('cpu'))"
   ],
   "metadata": {
    "collapsed": false
   }
  },
  {
   "cell_type": "code",
   "execution_count": 15,
   "outputs": [
    {
     "data": {
      "text/plain": "<All keys matched successfully>"
     },
     "execution_count": 15,
     "metadata": {},
     "output_type": "execute_result"
    }
   ],
   "source": [
    "# \"latent_dim\": 80, \"n_layers\": 3,\n",
    "test_model = LightGCN(n_users + n_items, 80, 3)\n",
    "test_model.load_state_dict(best_model['model_state_dict'])"
   ],
   "metadata": {
    "collapsed": false
   }
  },
  {
   "cell_type": "markdown",
   "source": [
    "## LGCN Recommendation"
   ],
   "metadata": {
    "collapsed": false
   }
  },
  {
   "cell_type": "code",
   "execution_count": 25,
   "outputs": [
    {
     "name": "stdout",
     "output_type": "stream",
     "text": [
      "LGCN Rec for : [867540]; \n",
      "tensor([[23643, 21751, 23639, 23642, 34246]])\n"
     ]
    }
   ],
   "source": [
    "k = 5\n",
    "LGCN_rec_df = test_model.recommendK(edge_index, edge_weight, n_users, n_items, test_interactions_t, target_users, k)\n",
    "print(f'LGCN Rec for : {target_users}; \\n{LGCN_rec_df}')"
   ],
   "metadata": {
    "collapsed": false
   }
  },
  {
   "cell_type": "markdown",
   "id": "fc04937a",
   "metadata": {},
   "source": [
    "### MAR@K Plot"
   ]
  },
  {
   "cell_type": "code",
   "execution_count": null,
   "outputs": [],
   "source": [
    "random_mark = []\n",
    "SVD_mark = []"
   ],
   "metadata": {
    "collapsed": false
   }
  },
  {
   "cell_type": "code",
   "execution_count": null,
   "outputs": [],
   "source": [
    "LGCN_mark = []\n",
    "LGCN_mapk = []\n",
    "for k in np.arange(1, 11):\n",
    "    top_index_df = test_model.recommendK(edge_index, edge_weight, n_users, n_items, interactions_t, target_users, k)\n",
    "    mark, mapk, metrics = test_model.MARK_MAPK(test_pos_list_df, top_index_df, k)\n",
    "    LGCN_mark.extend([mark])\n",
    "    LGCN_mapk.extend([mapk])\n"
   ],
   "metadata": {
    "collapsed": false
   }
  },
  {
   "cell_type": "code",
   "execution_count": null,
   "id": "b5d94c4a",
   "metadata": {},
   "outputs": [],
   "source": [
    "mark_scores = [random_mark, SVD_mark, LGCN_mark]\n",
    "index = range(1,10+1)\n",
    "names = ['Random Recommender', 'SVD Recommender', 'LGCN Recommender']\n",
    "\n",
    "fig = plt.figure(figsize=(15, 7))\n",
    "recmetrics.mark_plot(mark_scores, model_names=names, k_range=index)"
   ]
  },
  {
   "cell_type": "code",
   "execution_count": null,
   "id": "8aaf0719",
   "metadata": {},
   "outputs": [],
   "source": []
  },
  {
   "cell_type": "code",
   "execution_count": null,
   "id": "d4bb8cf7",
   "metadata": {},
   "outputs": [],
   "source": []
  },
  {
   "cell_type": "markdown",
   "id": "2c9bfc49",
   "metadata": {},
   "source": [
    "## Hit Rate"
   ]
  },
  {
   "cell_type": "code",
   "execution_count": null,
   "id": "e0dde55b",
   "metadata": {},
   "outputs": [],
   "source": []
  },
  {
   "cell_type": "code",
   "execution_count": null,
   "id": "dc2a99b9",
   "metadata": {},
   "outputs": [],
   "source": []
  },
  {
   "cell_type": "code",
   "execution_count": null,
   "id": "fa56c4cf",
   "metadata": {},
   "outputs": [],
   "source": []
  },
  {
   "cell_type": "markdown",
   "id": "6af3ff1e",
   "metadata": {},
   "source": [
    "## ROC Plot + Precision Recall Plot"
   ]
  },
  {
   "cell_type": "code",
   "execution_count": null,
   "id": "6ac642c2",
   "metadata": {},
   "outputs": [],
   "source": []
  },
  {
   "cell_type": "code",
   "execution_count": null,
   "id": "663d6044",
   "metadata": {},
   "outputs": [],
   "source": []
  },
  {
   "cell_type": "code",
   "execution_count": null,
   "id": "86f20be5",
   "metadata": {},
   "outputs": [],
   "source": []
  },
  {
   "cell_type": "markdown",
   "id": "c6097e8b",
   "metadata": {},
   "source": [
    "## Average Precision"
   ]
  },
  {
   "cell_type": "code",
   "execution_count": null,
   "id": "20c98c03",
   "metadata": {},
   "outputs": [],
   "source": []
  },
  {
   "cell_type": "code",
   "execution_count": null,
   "id": "13aaf548",
   "metadata": {},
   "outputs": [],
   "source": []
  },
  {
   "cell_type": "code",
   "execution_count": null,
   "id": "069272be",
   "metadata": {},
   "outputs": [],
   "source": []
  },
  {
   "cell_type": "code",
   "execution_count": null,
   "id": "32dd500d",
   "metadata": {},
   "outputs": [],
   "source": []
  },
  {
   "cell_type": "markdown",
   "id": "4a0b1c5b",
   "metadata": {},
   "source": [
    "## Prediction Coverage + Coverage Plot"
   ]
  },
  {
   "cell_type": "code",
   "execution_count": null,
   "id": "bec94873",
   "metadata": {},
   "outputs": [],
   "source": []
  },
  {
   "cell_type": "code",
   "execution_count": null,
   "id": "1c8ff0f3",
   "metadata": {},
   "outputs": [],
   "source": []
  },
  {
   "cell_type": "code",
   "execution_count": null,
   "id": "e741f12a",
   "metadata": {},
   "outputs": [],
   "source": []
  },
  {
   "cell_type": "code",
   "execution_count": null,
   "id": "8271feb6",
   "metadata": {},
   "outputs": [],
   "source": []
  },
  {
   "cell_type": "code",
   "execution_count": null,
   "id": "0ef08d2e",
   "metadata": {},
   "outputs": [],
   "source": []
  },
  {
   "cell_type": "raw",
   "source": [
    "## MAR@K, MAP@K for Baseline model(SVD)\n",
    "test = svd_model.test(testSet)\n",
    "test = pd.DataFrame(test)\n",
    "test.drop(\"details\", inplace=True, axis=1)\n",
    "test.columns = ['userId', 'itemId', 'actual', 'SVD_predict']\n",
    "\n",
    "actual = test.copy().groupby('userId')['itemId'].agg({\n",
    "    'actual': (lambda x: list(set(x)))}).reset_index()\n",
    "\n",
    "actual = actual.set_index(\"userId\")\n",
    "predict = test.pivot_table(index='userId', columns='itemId', values='SVD_predict').fillna(0)\n",
    "\n",
    "def get_users_predictions(user_id, K, model):\n",
    "    recommended_items = pd.DataFrame(model.loc[user_id])\n",
    "    recommended_items.columns = [\"predicted_rating\"]\n",
    "    recommended_items = recommended_items.sort_values('predicted_rating', ascending=False)\n",
    "    recommended_items = recommended_items.head(K)\n",
    "    return recommended_items.index.tolist()\n",
    "\n",
    "cf_recs = [] = []\n",
    "for user in actual.index:\n",
    "    cf_predictions = get_users_predictions(user, 10, predict)\n",
    "    cf_recs.append(cf_predictions)\n",
    "\n",
    "actual = test.actual.values.tolist()\n",
    "cf_predictions = test.SVD_predict.values.tolist()\n",
    "\n",
    "cf_mark = []\n",
    "for K in np.arange(1, 11):\n",
    "    cf_mark.extend([recmetrics.mark(actual, cf_predictions, k=K)])\n",
    "cf_mark"
   ],
   "metadata": {
    "collapsed": false
   }
  },
  {
   "cell_type": "markdown",
   "source": [
    "## Maybe not -- Long Tail Plot for item popularity and active user\n",
    "\n",
    "Some item is extremly popular(massive user shows interest to it)"
   ],
   "metadata": {
    "collapsed": false
   }
  },
  {
   "cell_type": "code",
   "execution_count": null,
   "outputs": [],
   "source": [
    "# fig = plt.figure(figsize=(15, 7))\n",
    "# recmetrics.long_tail_plot(df=interaction_matrix,\n",
    "#              item_id_column=\"item_id\",\n",
    "#              interaction_type=\"received interests\",\n",
    "#              percentage=0.5,\n",
    "#              x_labels=False)\n",
    "# interaction_matrix['item_id'].value_counts()"
   ],
   "metadata": {
    "collapsed": false
   }
  }
 ],
 "metadata": {
  "kernelspec": {
   "display_name": "Python 3 (ipykernel)",
   "language": "python",
   "name": "python3"
  },
  "language_info": {
   "codemirror_mode": {
    "name": "ipython",
    "version": 3
   },
   "file_extension": ".py",
   "mimetype": "text/x-python",
   "name": "python",
   "nbconvert_exporter": "python",
   "pygments_lexer": "ipython3",
   "version": "3.9.6"
  }
 },
 "nbformat": 4,
 "nbformat_minor": 5
}
