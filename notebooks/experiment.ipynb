{
 "cells": [
  {
   "cell_type": "code",
   "execution_count": 2,
   "metadata": {
    "collapsed": true
   },
   "outputs": [],
   "source": [
    "# Standard library imports\n",
    "import random\n",
    "import time\n",
    "\n",
    "# Third-party imports\n",
    "import matplotlib.pyplot as plt\n",
    "import networkx as nx\n",
    "import numpy as np\n",
    "import pandas as pd\n",
    "pd.set_option('display.max_colwidth', None)\n",
    "\n",
    "import torch\n",
    "import torch.nn as nn\n",
    "import torch.nn.functional as F\n",
    "import torch.optim as optim\n",
    "from torch.utils.data import Dataset, DataLoader\n",
    "import torch_geometric\n",
    "from torch_geometric.nn.conv import MessagePassing\n",
    "from torch_geometric.utils import degree\n",
    "from torch_geometric.nn.models import lightgcn\n",
    "\n",
    "from tqdm.notebook import tqdm\n",
    "from sklearn import preprocessing as pp\n",
    "from sklearn.model_selection import train_test_split\n"
   ]
  },
  {
   "cell_type": "code",
   "execution_count": null,
   "outputs": [],
   "source": [
    "columns_name=['user_id','item_id','rating','timestamp']\n",
    "df = pd.read_csv(\"../data/ml-100k/u.data\",sep=\"\\t\",names=columns_name)\n",
    "print(len(df))\n",
    "display(df.head(5))"
   ],
   "metadata": {
    "collapsed": false
   }
  },
  {
   "cell_type": "code",
   "execution_count": null,
   "outputs": [],
   "source": [
    "# remove low rating\n",
    "df = df[df['rating']>=3]\n",
    "print(len(df))"
   ],
   "metadata": {
    "collapsed": false
   }
  },
  {
   "cell_type": "code",
   "execution_count": null,
   "outputs": [],
   "source": [
    "# train test split\n",
    "train, test = train_test_split(df.values, test_size=0.2, random_state=16)\n",
    "train_df = pd.DataFrame(train, columns=df.columns)\n",
    "test_df = pd.DataFrame(test, columns=df.columns)"
   ],
   "metadata": {
    "collapsed": false
   }
  },
  {
   "cell_type": "code",
   "execution_count": null,
   "outputs": [],
   "source": [
    "print(\"Train Size  : \", len(train_df))\n",
    "print(\"Test Size : \", len (test_df))"
   ],
   "metadata": {
    "collapsed": false
   }
  },
  {
   "cell_type": "code",
   "execution_count": null,
   "outputs": [],
   "source": [
    "# relabeling nodes\n",
    "le_user = pp.LabelEncoder()\n",
    "le_item = pp.LabelEncoder()\n",
    "train_df['user_id_idx'] = le_user.fit_transform(train_df['user_id'].values)\n",
    "train_df['item_id_idx'] = le_item.fit_transform(train_df['item_id'].values)"
   ],
   "metadata": {
    "collapsed": false
   }
  },
  {
   "cell_type": "code",
   "execution_count": null,
   "outputs": [],
   "source": [
    "# remove user item in test but not in train\n",
    "train_user_ids = train_df['user_id'].unique()\n",
    "train_item_ids = train_df['item_id'].unique()\n",
    "\n",
    "test_df = test_df[\n",
    "  (test_df['user_id'].isin(train_user_ids)) & \\\n",
    "  (test_df['item_id'].isin(train_item_ids))\n",
    "]\n",
    "print('Size of test set before/ after(remove user/item not in train set):', len(test), len(test_df))"
   ],
   "metadata": {
    "collapsed": false
   }
  },
  {
   "cell_type": "code",
   "execution_count": null,
   "outputs": [],
   "source": [
    "test_df['user_id_idx'] = le_user.transform(test_df['user_id'].values)\n",
    "test_df['item_id_idx'] = le_item.transform(test_df['item_id'].values)"
   ],
   "metadata": {
    "collapsed": false
   }
  },
  {
   "cell_type": "code",
   "execution_count": null,
   "outputs": [],
   "source": [
    "n_users = train_df['user_id_idx'].nunique()\n",
    "n_items = train_df['item_id_idx'].nunique()\n",
    "print(\"Number of Unique Users : \", n_users)\n",
    "print(\"Number of unique Items : \", n_items)"
   ],
   "metadata": {
    "collapsed": false
   }
  },
  {
   "cell_type": "code",
   "execution_count": null,
   "outputs": [],
   "source": [
    "interected_items_df = train_df.groupby('user_id_idx')['item_id_idx'].apply(list).reset_index()\n",
    "interected_items_df"
   ],
   "metadata": {
    "collapsed": false
   }
  },
  {
   "cell_type": "code",
   "execution_count": null,
   "outputs": [],
   "source": [
    "device = torch.device(\"cuda:0\" if torch.cuda.is_available() else \"cpu\")\n",
    "device"
   ],
   "metadata": {
    "collapsed": false
   }
  },
  {
   "cell_type": "markdown",
   "source": [
    "# data loader"
   ],
   "metadata": {
    "collapsed": false
   }
  },
  {
   "cell_type": "code",
   "execution_count": null,
   "outputs": [],
   "source": [
    "def data_loader(data, batch_size, n_usr, n_itm):\n",
    "\n",
    "    def sample_neg(x):\n",
    "        while True:\n",
    "            neg_id = random.randint(0, n_itm - 1)\n",
    "            if neg_id not in x:\n",
    "                return neg_id\n",
    "\n",
    "    interected_items_df = data.groupby('user_id_idx')['item_id_idx'].apply(list).reset_index()\n",
    "    indices = [x for x in range(n_usr)]\n",
    "\n",
    "    if n_usr < batch_size:\n",
    "        users = [random.choice(indices) for _ in range(batch_size)]\n",
    "    else:\n",
    "        users = random.sample(indices, batch_size)\n",
    "    users.sort()\n",
    "    users_df = pd.DataFrame(users,columns = ['users'])\n",
    "\n",
    "    interected_items_df = pd.merge(interected_items_df, users_df, how = 'right', left_on = 'user_id_idx', right_on = 'users')\n",
    "    pos_items = interected_items_df['item_id_idx'].apply(lambda x : random.choice(x)).values\n",
    "    neg_items = interected_items_df['item_id_idx'].apply(lambda x: sample_neg(x)).values\n",
    "\n",
    "    print(\n",
    "        torch.LongTensor(list(users)).to(device),'\\n',\n",
    "        torch.LongTensor(list(pos_items)).to(device) + n_usr,'\\n',\n",
    "        torch.LongTensor(list(neg_items)).to(device) + n_usr, '\\n'\n",
    "    )\n",
    "    return (\n",
    "        torch.LongTensor(list(users)).to(device),\n",
    "        torch.LongTensor(list(pos_items)).to(device) + n_usr,\n",
    "        torch.LongTensor(list(neg_items)).to(device) + n_usr\n",
    "    )\n",
    "\n",
    "# data_loader(train_df, 16, n_users, n_items)"
   ],
   "metadata": {
    "collapsed": false
   }
  },
  {
   "cell_type": "markdown",
   "source": [
    "# Edge Index"
   ],
   "metadata": {
    "collapsed": false
   }
  },
  {
   "cell_type": "code",
   "execution_count": null,
   "outputs": [],
   "source": [
    "u_t = torch.LongTensor(train_df.user_id_idx)\n",
    "i_t = torch.LongTensor(train_df.item_id_idx) + n_users\n",
    "\n",
    "train_edge_index = torch.stack((\n",
    "  torch.cat([u_t, i_t]),\n",
    "  torch.cat([i_t, u_t])\n",
    ")).to(device)\n",
    "train_edge_index"
   ],
   "metadata": {
    "collapsed": false
   }
  },
  {
   "cell_type": "markdown",
   "source": [
    "# LGConv layer"
   ],
   "metadata": {
    "collapsed": false
   }
  },
  {
   "cell_type": "code",
   "execution_count": null,
   "outputs": [],
   "source": [
    "test_x = torch.Tensor(np.eye(5))\n",
    "test_edge_index = torch.LongTensor(np.array([\n",
    "  [0, 0, 1, 1, 2, 3, 3, 4],\n",
    "  [2, 3, 3, 4, 0, 0, 1, 1]\n",
    "]))"
   ],
   "metadata": {
    "collapsed": false
   }
  },
  {
   "cell_type": "code",
   "execution_count": null,
   "outputs": [],
   "source": [
    "from torch_geometric.nn import LGConv\n",
    "LGConv()(test_x, test_edge_index)"
   ],
   "metadata": {
    "collapsed": false
   }
  },
  {
   "cell_type": "markdown",
   "source": [
    "# BPR Loss + Eval_Metrics"
   ],
   "metadata": {
    "collapsed": false
   }
  },
  {
   "cell_type": "markdown",
   "source": [
    "# Train_and_eval"
   ],
   "metadata": {
    "collapsed": false
   }
  },
  {
   "cell_type": "code",
   "execution_count": null,
   "outputs": [],
   "source": [
    "users, pos_items, neg_items = data_loader(train_df, , n_users, n_items)"
   ],
   "metadata": {
    "collapsed": false
   }
  },
  {
   "cell_type": "code",
   "execution_count": null,
   "outputs": [],
   "source": [],
   "metadata": {
    "collapsed": false
   }
  },
  {
   "cell_type": "code",
   "execution_count": null,
   "outputs": [],
   "source": [
    "from torch_geometric.nn import LightGCN\n",
    "from torch_geometric.loader import DataLoader\n",
    "from torch_geometric.utils import negative_sampling"
   ],
   "metadata": {
    "collapsed": false
   }
  },
  {
   "cell_type": "code",
   "execution_count": null,
   "outputs": [],
   "source": [
    "latent_dim = 64\n",
    "n_layers = 3\n",
    "\n",
    "EPOCHS = 50\n",
    "BATCH_SIZE = 10\n",
    "LR = 0.005\n",
    "K = 20"
   ],
   "metadata": {
    "collapsed": false
   }
  },
  {
   "cell_type": "code",
   "execution_count": null,
   "outputs": [],
   "source": [
    "device = torch.device('cuda' if torch.cuda.is_available() else 'cpu')"
   ],
   "metadata": {
    "collapsed": false
   }
  },
  {
   "cell_type": "code",
   "execution_count": null,
   "outputs": [],
   "source": [
    "model = LightGCN(num_nodes=n_users+n_items, embedding_dim=latent_dim, num_layers=n_layers).to(device)\n",
    "optimizer = torch.optim.Adam(model.parameters(), lr=LR)\n",
    "print(\"Size of Learnable Embedding : \", [x.shape for x in list(model.parameters())])"
   ],
   "metadata": {
    "collapsed": false
   }
  },
  {
   "cell_type": "code",
   "execution_count": null,
   "outputs": [],
   "source": [
    "# edge_label need to indicate positive and negative edges\n",
    "# edge_index for the graph\n",
    "# data = dataset[0].to(device)\n",
    "\n",
    "index = [[0, 0, 1, 1, 2, 3, 3, 4], [2, 3, 3, 4, 0, 0, 1, 1]]\n",
    "\n",
    "loader = DataLoader(index, batch_size=2, shuffle=True)\n",
    "# loader = DataLoader(train_edge_index, batch_size=BATCH_SIZE, shuffle=True)"
   ],
   "metadata": {
    "collapsed": false
   }
  },
  {
   "cell_type": "code",
   "execution_count": null,
   "outputs": [],
   "source": [
    "from torch_geometric.datasets import LastFM"
   ],
   "metadata": {
    "collapsed": false
   }
  },
  {
   "cell_type": "code",
   "execution_count": null,
   "outputs": [],
   "source": [
    "dataset = LastFM(root=\"./LastFM\")"
   ],
   "metadata": {
    "collapsed": false
   }
  },
  {
   "cell_type": "code",
   "execution_count": null,
   "outputs": [],
   "source": [
    "loader = DataLoader(dataset, batch_size=2, shuffle=True)"
   ],
   "metadata": {
    "collapsed": false
   }
  },
  {
   "cell_type": "code",
   "execution_count": null,
   "outputs": [],
   "source": [
    "dataset[0]"
   ],
   "metadata": {
    "collapsed": false
   }
  },
  {
   "cell_type": "code",
   "execution_count": null,
   "outputs": [],
   "source": [],
   "metadata": {
    "collapsed": false
   }
  },
  {
   "cell_type": "code",
   "execution_count": null,
   "outputs": [],
   "source": [
    "for batch in loader:\n",
    "    print(batch.num_edges)"
   ],
   "metadata": {
    "collapsed": false
   }
  },
  {
   "cell_type": "code",
   "execution_count": null,
   "outputs": [],
   "source": [
    "model.train()\n",
    "\n",
    "for epoch in range(EPOCHS):\n",
    "    for batch in loader:\n",
    "        optimizer.zero_grad()\n",
    "        edge_index = train_edge_index\n",
    "        pos_label =\n",
    "        neg_label = negative_sampling(pos_label)\n",
    "        total_label =\n",
    "        out = model(edge_index, total_label)\n",
    "        loss = model.recommendation_loss(out[pos_label], out[neg_label])\n",
    "        loss.backward()\n",
    "        optimizer.step()"
   ],
   "metadata": {
    "collapsed": false
   }
  },
  {
   "cell_type": "code",
   "execution_count": null,
   "outputs": [],
   "source": [],
   "metadata": {
    "collapsed": false
   }
  },
  {
   "cell_type": "code",
   "execution_count": null,
   "outputs": [],
   "source": [],
   "metadata": {
    "collapsed": false
   }
  },
  {
   "cell_type": "code",
   "execution_count": null,
   "outputs": [],
   "source": [
    "# cc = LGCN.get_embedding(train_edge_index)\n",
    "# cc"
   ],
   "metadata": {
    "collapsed": false
   }
  },
  {
   "cell_type": "code",
   "execution_count": null,
   "outputs": [],
   "source": [
    "# cc.shape"
   ],
   "metadata": {
    "collapsed": false
   }
  },
  {
   "cell_type": "code",
   "execution_count": null,
   "outputs": [],
   "source": [
    "# light_loss, light_bpr, light_reg, light_recall, light_precision = train_and_eval(lightgcn, optimizer, train_df)"
   ],
   "metadata": {
    "collapsed": false
   }
  },
  {
   "cell_type": "code",
   "execution_count": null,
   "outputs": [],
   "source": [
    "LGCN.eval()\n",
    "\n",
    "# pred = model(data).argmax(dim=1)\n",
    "# correct = (pred[data.test_mask] == data.y[data.test_mask]).sum()\n",
    "# acc = int(correct) / int(data.test_mask.sum())\n",
    "# print(f'Accuracy: {acc:.4f}')"
   ],
   "metadata": {
    "collapsed": false
   }
  },
  {
   "cell_type": "code",
   "execution_count": null,
   "outputs": [],
   "source": [],
   "metadata": {
    "collapsed": false
   }
  },
  {
   "cell_type": "code",
   "execution_count": null,
   "outputs": [],
   "source": [
    "# usr: 0, 1; itm: 2, 3, 4\n",
    "# positive: 0 - 2,3 ; 1 - 3, 4\n",
    "# negative: 0 - 4; 1 - 2\n",
    "\n",
    "test_edge_index"
   ],
   "metadata": {
    "collapsed": false
   }
  },
  {
   "cell_type": "code",
   "execution_count": 53,
   "outputs": [],
   "source": [
    "test_edge_index_1 = torch.as_tensor([[0,  0,  1,  1,  2,  3,  3,  4],\n",
    "                                     [12, 13, 13, 14, 10, 10, 11, 11],])"
   ],
   "metadata": {
    "collapsed": false
   }
  },
  {
   "cell_type": "code",
   "execution_count": 41,
   "outputs": [
    {
     "data": {
      "text/plain": "(tensor([0, 0, 1, 1, 2, 3, 3, 4]),\n tensor([12, 13, 13, 14, 10, 10, 11, 11]),\n tensor([ 6,  1, 12,  6,  4, 14,  5,  4]))"
     },
     "execution_count": 41,
     "metadata": {},
     "output_type": "execute_result"
    }
   ],
   "source": [
    "from torch_geometric.utils import negative_sampling\n",
    "from torch_geometric.utils import structured_negative_sampling\n",
    "neg_edge_index = structured_negative_sampling(test_edge_index_1)\n",
    "neg_edge_index"
   ],
   "metadata": {
    "collapsed": false
   }
  },
  {
   "cell_type": "code",
   "execution_count": 70,
   "outputs": [],
   "source": [
    "from torch.utils.data import DataLoader\n",
    "idx = list(range(8))\n",
    "random.shuffle(idx)\n",
    "\n",
    "loader = DataLoader(idx, batch_size=2, shuffle=True)"
   ],
   "metadata": {
    "collapsed": false
   }
  },
  {
   "cell_type": "code",
   "execution_count": 75,
   "outputs": [
    {
     "name": "stdout",
     "output_type": "stream",
     "text": [
      "tensor([2, 6])\n",
      "(tensor([1, 3]), tensor([13, 11]), tensor([12,  5]))\n",
      "tensor([1, 7])\n",
      "(tensor([0, 4]), tensor([13, 11]), tensor([1, 4]))\n",
      "tensor([4, 0])\n",
      "(tensor([2, 0]), tensor([10, 12]), tensor([4, 6]))\n",
      "tensor([5, 3])\n",
      "(tensor([3, 1]), tensor([10, 14]), tensor([14,  6]))\n"
     ]
    }
   ],
   "source": [
    "for batch in loader:\n",
    "    print(batch)\n",
    "    p = (neg_edge_index[0][batch], neg_edge_index[1][batch], neg_edge_index[2][batch])\n",
    "    print(p)"
   ],
   "metadata": {
    "collapsed": false
   }
  },
  {
   "cell_type": "code",
   "execution_count": null,
   "outputs": [],
   "source": [],
   "metadata": {
    "collapsed": false
   }
  },
  {
   "cell_type": "code",
   "execution_count": 30,
   "outputs": [],
   "source": [
    "from torch_geometric.data import Data\n",
    "data = Data(edge_index=test_edge_index_1)"
   ],
   "metadata": {
    "collapsed": false
   }
  },
  {
   "cell_type": "code",
   "execution_count": 36,
   "outputs": [
    {
     "name": "stderr",
     "output_type": "stream",
     "text": [
      "/Users/CPang/Ying/GNN-eCommerce/venv/lib/python3.10/site-packages/torch_geometric/data/storage.py:280: UserWarning: Unable to accurately infer 'num_nodes' from the attribute set '{'edge_index'}'. Please explicitly set 'num_nodes' as an attribute of 'data' to suppress this warning\n",
      "  warnings.warn(\n"
     ]
    }
   ],
   "source": [
    "from torch_geometric.transforms import RandomLinkSplit\n",
    "\n",
    "transform = RandomLinkSplit(is_undirected=False, split_labels=True, add_negative_train_samples=False, num_val=0, num_test=2)\n",
    "train_data, val_data, test_data = transform(data)"
   ],
   "metadata": {
    "collapsed": false
   }
  },
  {
   "cell_type": "code",
   "execution_count": 40,
   "outputs": [
    {
     "name": "stdout",
     "output_type": "stream",
     "text": [
      "tensor([[ 1,  1,  3,  3,  0,  0],\n",
      "        [14, 13, 10, 11, 12, 13]])\n",
      "tensor([], size=(2, 0), dtype=torch.int64)\n",
      "tensor([[ 4,  2],\n",
      "        [11, 10]])\n"
     ]
    }
   ],
   "source": [
    "print(train_data.pos_edge_label_index)\n",
    "print(val_data.pos_edge_label_index)\n",
    "print(test_data.pos_edge_label_index)"
   ],
   "metadata": {
    "collapsed": false
   }
  },
  {
   "cell_type": "code",
   "execution_count": 35,
   "outputs": [
    {
     "data": {
      "text/plain": "tensor([[ 4,  0],\n        [11, 12]])"
     },
     "execution_count": 35,
     "metadata": {},
     "output_type": "execute_result"
    }
   ],
   "source": [],
   "metadata": {
    "collapsed": false
   }
  },
  {
   "cell_type": "code",
   "execution_count": null,
   "outputs": [],
   "source": [
    "test_data.edge_index"
   ],
   "metadata": {
    "collapsed": false
   }
  },
  {
   "cell_type": "code",
   "execution_count": null,
   "outputs": [],
   "source": [],
   "metadata": {
    "collapsed": false
   }
  },
  {
   "cell_type": "code",
   "execution_count": null,
   "outputs": [],
   "source": [],
   "metadata": {
    "collapsed": false
   }
  },
  {
   "cell_type": "code",
   "execution_count": null,
   "outputs": [],
   "source": [],
   "metadata": {
    "collapsed": false
   }
  },
  {
   "cell_type": "code",
   "execution_count": null,
   "outputs": [],
   "source": [],
   "metadata": {
    "collapsed": false
   }
  },
  {
   "cell_type": "code",
   "execution_count": null,
   "outputs": [],
   "source": [],
   "metadata": {
    "collapsed": false
   }
  },
  {
   "cell_type": "code",
   "execution_count": null,
   "outputs": [],
   "source": [],
   "metadata": {
    "collapsed": false
   }
  },
  {
   "cell_type": "code",
   "execution_count": null,
   "outputs": [],
   "source": [
    "x_s = torch.randn(2, 16)"
   ],
   "metadata": {
    "collapsed": false
   }
  },
  {
   "cell_type": "code",
   "execution_count": null,
   "outputs": [],
   "source": [
    "x_s"
   ],
   "metadata": {
    "collapsed": false
   }
  },
  {
   "cell_type": "code",
   "execution_count": null,
   "outputs": [],
   "source": [],
   "metadata": {
    "collapsed": false
   }
  }
 ],
 "metadata": {
  "kernelspec": {
   "display_name": "Python 3",
   "language": "python",
   "name": "python3"
  },
  "language_info": {
   "codemirror_mode": {
    "name": "ipython",
    "version": 2
   },
   "file_extension": ".py",
   "mimetype": "text/x-python",
   "name": "python",
   "nbconvert_exporter": "python",
   "pygments_lexer": "ipython2",
   "version": "2.7.6"
  }
 },
 "nbformat": 4,
 "nbformat_minor": 0
}
