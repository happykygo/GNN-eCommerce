{
 "cells": [
  {
   "cell_type": "markdown",
   "source": [
    "# Baseline Model"
   ],
   "metadata": {
    "collapsed": false
   }
  },
  {
   "cell_type": "code",
   "execution_count": 1,
   "outputs": [],
   "source": [
    "import numpy as np\n",
    "import pandas as pd\n",
    "import yaml\n",
    "import glob\n",
    "import matplotlib.pyplot as plt\n",
    "%matplotlib inline"
   ],
   "metadata": {
    "collapsed": false
   }
  },
  {
   "cell_type": "code",
   "execution_count": 2,
   "outputs": [],
   "source": [
    "from surprise import SVD\n",
    "from surprise import Dataset\n",
    "from surprise.model_selection import cross_validate"
   ],
   "metadata": {
    "collapsed": false
   }
  },
  {
   "cell_type": "code",
   "execution_count": null,
   "outputs": [],
   "source": [
    "# Load the movielens-100k dataset (download it if needed).\n",
    "data = Dataset.load_builtin('ml-100k')"
   ],
   "metadata": {
    "collapsed": false
   }
  },
  {
   "cell_type": "code",
   "execution_count": null,
   "outputs": [],
   "source": [
    "df = pd.DataFrame(data.__dict__['raw_ratings'], columns=['user_id','item_id','rating','timestamp'])"
   ],
   "metadata": {
    "collapsed": false
   }
  },
  {
   "cell_type": "code",
   "execution_count": null,
   "outputs": [],
   "source": [
    "df.head()"
   ],
   "metadata": {
    "collapsed": false
   }
  },
  {
   "cell_type": "markdown",
   "source": [
    "# Load Config\n"
   ],
   "metadata": {
    "collapsed": false
   }
  },
  {
   "cell_type": "code",
   "execution_count": 3,
   "outputs": [
    {
     "data": {
      "text/plain": "'/Users/CPang/Ying/GNN-eCommerce/notebooks'"
     },
     "execution_count": 3,
     "metadata": {},
     "output_type": "execute_result"
    }
   ],
   "source": [
    "%pwd"
   ],
   "metadata": {
    "collapsed": false
   }
  },
  {
   "cell_type": "code",
   "execution_count": 4,
   "outputs": [
    {
     "name": "stdout",
     "output_type": "stream",
     "text": [
      "/Users/CPang/Ying/GNN-eCommerce\n"
     ]
    }
   ],
   "source": [
    "%cd .."
   ],
   "metadata": {
    "collapsed": false
   }
  },
  {
   "cell_type": "code",
   "execution_count": 34,
   "outputs": [
    {
     "data": {
      "text/plain": "{'base': {'random_seed': 42},\n 'data': {'cosmetic_shop': 'data/raw/cosmetic-shop-ecommerce-events/'},\n 'training': {'event_type_weights': {'view': 0.01,\n   'cart': 0.2,\n   'remove_from_cart': -0.19,\n   'purchase': 1.0}},\n 'reports': None}"
     },
     "execution_count": 34,
     "metadata": {},
     "output_type": "execute_result"
    }
   ],
   "source": [
    "with open(\"params.yaml\") as config_file:\n",
    "    config = yaml.safe_load(config_file)\n",
    "\n",
    "config"
   ],
   "metadata": {
    "collapsed": false
   }
  },
  {
   "cell_type": "markdown",
   "source": [
    "# Load Dataset and EDA"
   ],
   "metadata": {
    "collapsed": false
   }
  },
  {
   "cell_type": "code",
   "execution_count": 6,
   "outputs": [],
   "source": [
    "# Get CSV files list of cosmetic shop dataset\n",
    "path = config['data']['cosmetic_shop']\n",
    "csv_files = glob.glob(path + \"/*.csv\")\n",
    "\n",
    "# Read each CSV file into DataFrame. This creates a list of dataframes\n",
    "df_list = (pd.read_csv(file) for file in csv_files)\n",
    "\n",
    "# Concatenate all DataFrames\n",
    "all_events = pd.concat(df_list, ignore_index=True)"
   ],
   "metadata": {
    "collapsed": false
   }
  },
  {
   "cell_type": "code",
   "execution_count": 7,
   "outputs": [
    {
     "name": "stdout",
     "output_type": "stream",
     "text": [
      "(20692840, 9)\n"
     ]
    },
    {
     "data": {
      "text/plain": "                       event_time        event_type  product_id  \\\n15450247  2019-11-24 12:44:04 UTC  remove_from_cart     5842141   \n7889880   2020-02-01 16:23:36 UTC              view     5808664   \n12874681  2019-11-07 17:03:54 UTC              view     5836725   \n9114872   2020-02-09 17:46:30 UTC              cart     5882417   \n15420664  2019-11-24 10:02:13 UTC          purchase     5875432   \n1422242   2020-01-12 19:22:10 UTC              view     5706479   \n20514804  2019-10-30 14:13:58 UTC              view     5738800   \n19442119  2019-10-22 05:52:01 UTC              view     5793261   \n8727429   2020-02-06 20:19:38 UTC  remove_from_cart     5723529   \n19635286  2019-10-23 13:33:21 UTC              view     5730206   \n\n                  category_id category_code    brand  price    user_id  \\\n15450247  1487580006317032337           NaN      NaN   1.43  419246960   \n7889880   2089259162625114209           NaN   ardell   6.37  520347806   \n12874681  1487580011702517887           NaN  bergamo  22.51  563538360   \n9114872   1487580009286598681           NaN   zinger   0.44  545348327   \n15420664  2084144451428549153           NaN      NaN   1.94  509688411   \n1422242   1487580013950664926           NaN    irisk  11.35  543105680   \n20514804  1487580013858390233           NaN  concept   5.56  565779164   \n19442119  1487580010100293687           NaN      NaN  22.21  562526648   \n8727429   1487580005268456287           NaN   runail   2.94  552908674   \n19635286  1487580005092295511           NaN      NaN  10.32  527472834   \n\n                                  user_session  \n15450247  a9bf9099-52bd-4270-8996-eb40f360ddae  \n7889880   9c834180-5e71-465a-9e9c-188dfaf60f96  \n12874681  cc501cc6-1cbb-4659-864d-dc01aafc3784  \n9114872   35a80fca-8f38-4098-b7de-5085c1594411  \n15420664  75b4914c-d209-4feb-9711-8e64ecd9de86  \n1422242   c8e6d876-16e2-40d5-8add-f3ee83732b6a  \n20514804  b3f53999-b965-4e3a-95ed-610edf92e24f  \n19442119  4f5b573f-a137-4d05-8551-6212a7f68e47  \n8727429   f6defebb-9ecf-40fb-9667-c7d6a702dd08  \n19635286  a1165777-9882-4618-8f93-e89964401294  ",
      "text/html": "<div>\n<style scoped>\n    .dataframe tbody tr th:only-of-type {\n        vertical-align: middle;\n    }\n\n    .dataframe tbody tr th {\n        vertical-align: top;\n    }\n\n    .dataframe thead th {\n        text-align: right;\n    }\n</style>\n<table border=\"1\" class=\"dataframe\">\n  <thead>\n    <tr style=\"text-align: right;\">\n      <th></th>\n      <th>event_time</th>\n      <th>event_type</th>\n      <th>product_id</th>\n      <th>category_id</th>\n      <th>category_code</th>\n      <th>brand</th>\n      <th>price</th>\n      <th>user_id</th>\n      <th>user_session</th>\n    </tr>\n  </thead>\n  <tbody>\n    <tr>\n      <th>15450247</th>\n      <td>2019-11-24 12:44:04 UTC</td>\n      <td>remove_from_cart</td>\n      <td>5842141</td>\n      <td>1487580006317032337</td>\n      <td>NaN</td>\n      <td>NaN</td>\n      <td>1.43</td>\n      <td>419246960</td>\n      <td>a9bf9099-52bd-4270-8996-eb40f360ddae</td>\n    </tr>\n    <tr>\n      <th>7889880</th>\n      <td>2020-02-01 16:23:36 UTC</td>\n      <td>view</td>\n      <td>5808664</td>\n      <td>2089259162625114209</td>\n      <td>NaN</td>\n      <td>ardell</td>\n      <td>6.37</td>\n      <td>520347806</td>\n      <td>9c834180-5e71-465a-9e9c-188dfaf60f96</td>\n    </tr>\n    <tr>\n      <th>12874681</th>\n      <td>2019-11-07 17:03:54 UTC</td>\n      <td>view</td>\n      <td>5836725</td>\n      <td>1487580011702517887</td>\n      <td>NaN</td>\n      <td>bergamo</td>\n      <td>22.51</td>\n      <td>563538360</td>\n      <td>cc501cc6-1cbb-4659-864d-dc01aafc3784</td>\n    </tr>\n    <tr>\n      <th>9114872</th>\n      <td>2020-02-09 17:46:30 UTC</td>\n      <td>cart</td>\n      <td>5882417</td>\n      <td>1487580009286598681</td>\n      <td>NaN</td>\n      <td>zinger</td>\n      <td>0.44</td>\n      <td>545348327</td>\n      <td>35a80fca-8f38-4098-b7de-5085c1594411</td>\n    </tr>\n    <tr>\n      <th>15420664</th>\n      <td>2019-11-24 10:02:13 UTC</td>\n      <td>purchase</td>\n      <td>5875432</td>\n      <td>2084144451428549153</td>\n      <td>NaN</td>\n      <td>NaN</td>\n      <td>1.94</td>\n      <td>509688411</td>\n      <td>75b4914c-d209-4feb-9711-8e64ecd9de86</td>\n    </tr>\n    <tr>\n      <th>1422242</th>\n      <td>2020-01-12 19:22:10 UTC</td>\n      <td>view</td>\n      <td>5706479</td>\n      <td>1487580013950664926</td>\n      <td>NaN</td>\n      <td>irisk</td>\n      <td>11.35</td>\n      <td>543105680</td>\n      <td>c8e6d876-16e2-40d5-8add-f3ee83732b6a</td>\n    </tr>\n    <tr>\n      <th>20514804</th>\n      <td>2019-10-30 14:13:58 UTC</td>\n      <td>view</td>\n      <td>5738800</td>\n      <td>1487580013858390233</td>\n      <td>NaN</td>\n      <td>concept</td>\n      <td>5.56</td>\n      <td>565779164</td>\n      <td>b3f53999-b965-4e3a-95ed-610edf92e24f</td>\n    </tr>\n    <tr>\n      <th>19442119</th>\n      <td>2019-10-22 05:52:01 UTC</td>\n      <td>view</td>\n      <td>5793261</td>\n      <td>1487580010100293687</td>\n      <td>NaN</td>\n      <td>NaN</td>\n      <td>22.21</td>\n      <td>562526648</td>\n      <td>4f5b573f-a137-4d05-8551-6212a7f68e47</td>\n    </tr>\n    <tr>\n      <th>8727429</th>\n      <td>2020-02-06 20:19:38 UTC</td>\n      <td>remove_from_cart</td>\n      <td>5723529</td>\n      <td>1487580005268456287</td>\n      <td>NaN</td>\n      <td>runail</td>\n      <td>2.94</td>\n      <td>552908674</td>\n      <td>f6defebb-9ecf-40fb-9667-c7d6a702dd08</td>\n    </tr>\n    <tr>\n      <th>19635286</th>\n      <td>2019-10-23 13:33:21 UTC</td>\n      <td>view</td>\n      <td>5730206</td>\n      <td>1487580005092295511</td>\n      <td>NaN</td>\n      <td>NaN</td>\n      <td>10.32</td>\n      <td>527472834</td>\n      <td>a1165777-9882-4618-8f93-e89964401294</td>\n    </tr>\n  </tbody>\n</table>\n</div>"
     },
     "execution_count": 7,
     "metadata": {},
     "output_type": "execute_result"
    }
   ],
   "source": [
    "print(all_events.shape)\n",
    "all_events.sample(10)"
   ],
   "metadata": {
    "collapsed": false
   }
  },
  {
   "cell_type": "code",
   "execution_count": 13,
   "outputs": [
    {
     "name": "stdout",
     "output_type": "stream",
     "text": [
      "Unique users:  1639358\n",
      "Unique products:  54571\n",
      "Event types:  ['view', 'cart', 'remove_from_cart', 'purchase']\n"
     ]
    }
   ],
   "source": [
    "# Number of unique users\n",
    "users_count = len(pd.unique(all_events['user_id']))\n",
    "print(\"Unique users: \", users_count)\n",
    "\n",
    "# Number of unique products\n",
    "products_count = len(pd.unique(all_events['product_id']))\n",
    "print(\"Unique products: \", products_count)\n",
    "\n",
    "print(\"Event types: \", pd.unique(all_events.event_type).tolist())\n"
   ],
   "metadata": {
    "collapsed": false
   }
  },
  {
   "cell_type": "code",
   "execution_count": null,
   "outputs": [],
   "source": [],
   "metadata": {
    "collapsed": false
   }
  },
  {
   "cell_type": "code",
   "execution_count": 40,
   "outputs": [],
   "source": [
    "# a small dataset used for code development only\n",
    "all_events_mini = all_events.head(100000)\n",
    "all_events_mini = all_events_mini[['user_id', 'product_id', 'event_type']]\n"
   ],
   "metadata": {
    "collapsed": false
   }
  },
  {
   "cell_type": "code",
   "execution_count": 73,
   "outputs": [],
   "source": [
    "def interaction_matrix(events, event_type_weights):\n",
    "\n",
    "    events = events[['user_id', 'product_id', 'event_type']]\n",
    "    events['weight'] = events.event_type.apply(lambda x: config['training']['event_type_weights'][x])\n",
    "\n",
    "    from functools import reduce\n",
    "\n",
    "    # Add weight column to all_events dataframe\n",
    "    #events['weight'] = events.apply(lambda x: event_type_weights[x['event_type']], axis=1)\n",
    "    i_matrix = events.groupby(['user_id', 'product_id'], as_index=False) \\\n",
    "        .agg({'event_type': list, 'weight': lambda x: 0.01 if x.sum() < 0 else 1.0 if x.sum() > 1.0 else x.sum()})\n",
    "\n",
    "    return i_matrix"
   ],
   "metadata": {
    "collapsed": false
   }
  },
  {
   "cell_type": "code",
   "execution_count": 74,
   "outputs": [
    {
     "data": {
      "text/plain": "         user_id  product_id event_type  weight\n0       38560385     5861734     [view]    0.01\n1       43695999     5686278     [view]    0.01\n2       43695999     5712736     [view]    0.01\n3       43695999     5730212     [view]    0.01\n4       43695999     5730214     [view]    0.01\n...          ...         ...        ...     ...\n61751  595853462     5804820     [view]    0.01\n61752  595853555     5714119     [view]    0.01\n61753  595853918     5863525     [view]    0.01\n61754  595853961     5677422     [view]    0.01\n61755  595854040        6627     [view]    0.01\n\n[61756 rows x 4 columns]",
      "text/html": "<div>\n<style scoped>\n    .dataframe tbody tr th:only-of-type {\n        vertical-align: middle;\n    }\n\n    .dataframe tbody tr th {\n        vertical-align: top;\n    }\n\n    .dataframe thead th {\n        text-align: right;\n    }\n</style>\n<table border=\"1\" class=\"dataframe\">\n  <thead>\n    <tr style=\"text-align: right;\">\n      <th></th>\n      <th>user_id</th>\n      <th>product_id</th>\n      <th>event_type</th>\n      <th>weight</th>\n    </tr>\n  </thead>\n  <tbody>\n    <tr>\n      <th>0</th>\n      <td>38560385</td>\n      <td>5861734</td>\n      <td>[view]</td>\n      <td>0.01</td>\n    </tr>\n    <tr>\n      <th>1</th>\n      <td>43695999</td>\n      <td>5686278</td>\n      <td>[view]</td>\n      <td>0.01</td>\n    </tr>\n    <tr>\n      <th>2</th>\n      <td>43695999</td>\n      <td>5712736</td>\n      <td>[view]</td>\n      <td>0.01</td>\n    </tr>\n    <tr>\n      <th>3</th>\n      <td>43695999</td>\n      <td>5730212</td>\n      <td>[view]</td>\n      <td>0.01</td>\n    </tr>\n    <tr>\n      <th>4</th>\n      <td>43695999</td>\n      <td>5730214</td>\n      <td>[view]</td>\n      <td>0.01</td>\n    </tr>\n    <tr>\n      <th>...</th>\n      <td>...</td>\n      <td>...</td>\n      <td>...</td>\n      <td>...</td>\n    </tr>\n    <tr>\n      <th>61751</th>\n      <td>595853462</td>\n      <td>5804820</td>\n      <td>[view]</td>\n      <td>0.01</td>\n    </tr>\n    <tr>\n      <th>61752</th>\n      <td>595853555</td>\n      <td>5714119</td>\n      <td>[view]</td>\n      <td>0.01</td>\n    </tr>\n    <tr>\n      <th>61753</th>\n      <td>595853918</td>\n      <td>5863525</td>\n      <td>[view]</td>\n      <td>0.01</td>\n    </tr>\n    <tr>\n      <th>61754</th>\n      <td>595853961</td>\n      <td>5677422</td>\n      <td>[view]</td>\n      <td>0.01</td>\n    </tr>\n    <tr>\n      <th>61755</th>\n      <td>595854040</td>\n      <td>6627</td>\n      <td>[view]</td>\n      <td>0.01</td>\n    </tr>\n  </tbody>\n</table>\n<p>61756 rows × 4 columns</p>\n</div>"
     },
     "execution_count": 74,
     "metadata": {},
     "output_type": "execute_result"
    }
   ],
   "source": [
    "im = interaction_matrix(all_events_mini, config['training']['event_type_weights'])\n",
    "im"
   ],
   "metadata": {
    "collapsed": false
   }
  },
  {
   "cell_type": "code",
   "execution_count": 75,
   "outputs": [],
   "source": [
    "from surprise import Dataset\n",
    "from surprise import Reader\n",
    "reader = Reader(rating_scale=(0, 1))\n",
    "surprise_dataset = Dataset.load_from_df(im[['user_id', 'product_id', 'weight']], reader)"
   ],
   "metadata": {
    "collapsed": false
   }
  },
  {
   "cell_type": "code",
   "execution_count": 78,
   "outputs": [
    {
     "data": {
      "text/plain": "               0        1     2     3\n0       38560385  5861734  0.01  None\n1       43695999  5686278  0.01  None\n2       43695999  5712736  0.01  None\n3       43695999  5730212  0.01  None\n4       43695999  5730214  0.01  None\n...          ...      ...   ...   ...\n61751  595853462  5804820  0.01  None\n61752  595853555  5714119  0.01  None\n61753  595853918  5863525  0.01  None\n61754  595853961  5677422  0.01  None\n61755  595854040     6627  0.01  None\n\n[61756 rows x 4 columns]",
      "text/html": "<div>\n<style scoped>\n    .dataframe tbody tr th:only-of-type {\n        vertical-align: middle;\n    }\n\n    .dataframe tbody tr th {\n        vertical-align: top;\n    }\n\n    .dataframe thead th {\n        text-align: right;\n    }\n</style>\n<table border=\"1\" class=\"dataframe\">\n  <thead>\n    <tr style=\"text-align: right;\">\n      <th></th>\n      <th>0</th>\n      <th>1</th>\n      <th>2</th>\n      <th>3</th>\n    </tr>\n  </thead>\n  <tbody>\n    <tr>\n      <th>0</th>\n      <td>38560385</td>\n      <td>5861734</td>\n      <td>0.01</td>\n      <td>None</td>\n    </tr>\n    <tr>\n      <th>1</th>\n      <td>43695999</td>\n      <td>5686278</td>\n      <td>0.01</td>\n      <td>None</td>\n    </tr>\n    <tr>\n      <th>2</th>\n      <td>43695999</td>\n      <td>5712736</td>\n      <td>0.01</td>\n      <td>None</td>\n    </tr>\n    <tr>\n      <th>3</th>\n      <td>43695999</td>\n      <td>5730212</td>\n      <td>0.01</td>\n      <td>None</td>\n    </tr>\n    <tr>\n      <th>4</th>\n      <td>43695999</td>\n      <td>5730214</td>\n      <td>0.01</td>\n      <td>None</td>\n    </tr>\n    <tr>\n      <th>...</th>\n      <td>...</td>\n      <td>...</td>\n      <td>...</td>\n      <td>...</td>\n    </tr>\n    <tr>\n      <th>61751</th>\n      <td>595853462</td>\n      <td>5804820</td>\n      <td>0.01</td>\n      <td>None</td>\n    </tr>\n    <tr>\n      <th>61752</th>\n      <td>595853555</td>\n      <td>5714119</td>\n      <td>0.01</td>\n      <td>None</td>\n    </tr>\n    <tr>\n      <th>61753</th>\n      <td>595853918</td>\n      <td>5863525</td>\n      <td>0.01</td>\n      <td>None</td>\n    </tr>\n    <tr>\n      <th>61754</th>\n      <td>595853961</td>\n      <td>5677422</td>\n      <td>0.01</td>\n      <td>None</td>\n    </tr>\n    <tr>\n      <th>61755</th>\n      <td>595854040</td>\n      <td>6627</td>\n      <td>0.01</td>\n      <td>None</td>\n    </tr>\n  </tbody>\n</table>\n<p>61756 rows × 4 columns</p>\n</div>"
     },
     "execution_count": 78,
     "metadata": {},
     "output_type": "execute_result"
    }
   ],
   "source": [
    "df = pd.DataFrame(surprise_dataset.__dict__['raw_ratings'])\n",
    "df"
   ],
   "metadata": {
    "collapsed": false
   }
  },
  {
   "cell_type": "markdown",
   "source": [
    "# Further Work\n",
    "Use event time to influence the weight of the event. i.e. More recent events carry more weight."
   ],
   "metadata": {
    "collapsed": false
   }
  },
  {
   "cell_type": "code",
   "execution_count": 80,
   "outputs": [
    {
     "name": "stdout",
     "output_type": "stream",
     "text": [
      "Evaluating RMSE, MAE of algorithm SVD on 5 split(s).\n",
      "\n",
      "                  Fold 1  Fold 2  Fold 3  Fold 4  Fold 5  Mean    Std     \n",
      "RMSE (testset)    0.2166  0.2165  0.2189  0.2218  0.2174  0.2183  0.0020  \n",
      "MAE (testset)     0.1406  0.1399  0.1414  0.1429  0.1412  0.1412  0.0010  \n",
      "Fit time          0.72    0.69    0.64    0.65    0.65    0.67    0.03    \n",
      "Test time         0.08    0.06    0.06    0.06    0.06    0.06    0.01    \n"
     ]
    },
    {
     "data": {
      "text/plain": "{'test_rmse': array([0.2166297 , 0.21653958, 0.2189495 , 0.22178635, 0.21735138]),\n 'test_mae': array([0.14056058, 0.13987806, 0.14136231, 0.14288741, 0.14124248]),\n 'fit_time': (0.7152256965637207,\n  0.688176155090332,\n  0.6414568424224854,\n  0.6458718776702881,\n  0.6473128795623779),\n 'test_time': (0.0792088508605957,\n  0.060974836349487305,\n  0.06274080276489258,\n  0.061547040939331055,\n  0.0601191520690918)}"
     },
     "execution_count": 80,
     "metadata": {},
     "output_type": "execute_result"
    }
   ],
   "source": [
    "# Use the famous SVD algorithm.\n",
    "algo = SVD()\n",
    "\n",
    "# Run 5-fold cross-validation and print results.\n",
    "cross_validate(algo, surprise_dataset, measures=['RMSE', 'MAE'], cv=5, verbose=True)"
   ],
   "metadata": {
    "collapsed": false
   }
  },
  {
   "cell_type": "code",
   "execution_count": null,
   "outputs": [],
   "source": [],
   "metadata": {
    "collapsed": false
   }
  }
 ],
 "metadata": {
  "kernelspec": {
   "display_name": "Python 3",
   "language": "python",
   "name": "python3"
  },
  "language_info": {
   "codemirror_mode": {
    "name": "ipython",
    "version": 2
   },
   "file_extension": ".py",
   "mimetype": "text/x-python",
   "name": "python",
   "nbconvert_exporter": "python",
   "pygments_lexer": "ipython2",
   "version": "2.7.6"
  }
 },
 "nbformat": 4,
 "nbformat_minor": 0
}
