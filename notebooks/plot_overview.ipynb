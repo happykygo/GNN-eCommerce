{
 "cells": [
  {
   "cell_type": "code",
   "execution_count": 1,
   "outputs": [],
   "source": [
    "from src.plot import *"
   ],
   "metadata": {
    "collapsed": false
   }
  },
  {
   "cell_type": "code",
   "execution_count": 2,
   "outputs": [
    {
     "name": "stdout",
     "output_type": "stream",
     "text": [
      "/Users/yingkang/4thBrain/GNN-eCommerce\n"
     ]
    }
   ],
   "source": [
    "%cd ..\n",
    "with open(\"config.yaml\") as config_file:\n",
    "    config = yaml.safe_load(config_file)\n",
    "device = torch.device(f\"cuda:0\" if torch.cuda.is_available() else \"cpu\")"
   ],
   "metadata": {
    "collapsed": false
   }
  },
  {
   "cell_type": "code",
   "execution_count": 5,
   "outputs": [
    {
     "name": "stdout",
     "output_type": "stream",
     "text": [
      "n_users 15866, n_items 14272, len(glance) 31930, len(edge_weight) 63860\n"
     ]
    }
   ],
   "source": [
    "checkpoint_dir = config['training']['checkpoints_dir']+'2023-02-18_071308/'\n",
    "train_df, test_df, val_df, best_model = load_data_model(checkpoint_dir, device)\n",
    "n_users, n_items, edge_index, edge_weight = glance_df(test_df.sample(frac=0.5))\n",
    "g = create_dgl_graph(n_users, n_items, edge_index, edge_weight)"
   ],
   "metadata": {
    "collapsed": false
   }
  },
  {
   "cell_type": "code",
   "execution_count": 6,
   "outputs": [
    {
     "name": "stdout",
     "output_type": "stream",
     "text": [
      "Server config: {'FRONT_ROOT': '/Users/yingkang/4thBrain/GNN-eCommerce/venv/lib/python3.9/site-packages/gnnlens/./visbuild', 'STATIC_FOLDER': '/Users/yingkang/4thBrain/GNN-eCommerce/venv/lib/python3.9/site-packages/gnnlens/./visbuild/static', 'LOGDIR': 'GNN-Plot'}\r\n",
      " * Serving Flask app 'gnnlens.server' (lazy loading)\r\n",
      " * Environment: production\r\n",
      "\u001B[31m   WARNING: This is a development server. Do not use it in a production deployment.\u001B[0m\r\n",
      "\u001B[2m   Use a production WSGI server instead.\u001B[0m\r\n",
      " * Debug mode: off\r\n",
      "\u001B[31m\u001B[1mWARNING: This is a development server. Do not use it in a production deployment. Use a production WSGI server instead.\u001B[0m\r\n",
      " * Running on all addresses (0.0.0.0)\r\n",
      " * Running on http://127.0.0.1:7777\r\n",
      " * Running on http://192.168.0.172:7777\r\n",
      "\u001B[33mPress CTRL+C to quit\u001B[0m\r\n",
      "#index\r\n",
      "127.0.0.1 - - [22/Feb/2023 20:22:12] \"\u001B[36mGET / HTTP/1.1\u001B[0m\" 304 -\r\n",
      "127.0.0.1 - - [22/Feb/2023 20:22:12] \"\u001B[36mGET /static/css/2.929389fa.chunk.css HTTP/1.1\u001B[0m\" 304 -\r\n",
      "127.0.0.1 - - [22/Feb/2023 20:22:12] \"\u001B[36mGET /static/css/main.8d5084fd.chunk.css HTTP/1.1\u001B[0m\" 304 -\r\n",
      "127.0.0.1 - - [22/Feb/2023 20:22:12] \"\u001B[36mGET /static/js/2.b9f0e663.chunk.js HTTP/1.1\u001B[0m\" 304 -\r\n",
      "127.0.0.1 - - [22/Feb/2023 20:22:12] \"\u001B[36mGET /static/js/main.e553e190.chunk.js HTTP/1.1\u001B[0m\" 304 -\r\n",
      "127.0.0.1 - - [22/Feb/2023 20:22:12] \"\u001B[36mGET /static/media/logo2.4b8ec5cf.png HTTP/1.1\u001B[0m\" 304 -\r\n",
      "127.0.0.1 - - [22/Feb/2023 20:22:12] \"GET /api/graphs HTTP/1.1\" 200 -\r\n",
      "127.0.0.1 - - [22/Feb/2023 20:22:12] \"\u001B[36mGET /manifest.json HTTP/1.1\u001B[0m\" 304 -\r\n",
      "127.0.0.1 - - [22/Feb/2023 20:22:15] \"GET /api/models?dataset_id=1 HTTP/1.1\" 200 -\r\n",
      "127.0.0.1 - - [22/Feb/2023 20:22:15] \"GET /api/subgraphs?dataset_id=1 HTTP/1.1\" 200 -\r\n",
      "127.0.0.1 - - [22/Feb/2023 20:22:15] \"GET /api/graphinfo?dataset_id=1 HTTP/1.1\" 200 -\r\n",
      "#index\r\n",
      "127.0.0.1 - - [22/Feb/2023 22:26:49] \"\u001B[36mGET / HTTP/1.1\u001B[0m\" 304 -\r\n",
      "127.0.0.1 - - [22/Feb/2023 22:26:49] \"\u001B[36mGET /static/css/2.929389fa.chunk.css HTTP/1.1\u001B[0m\" 304 -\r\n",
      "127.0.0.1 - - [22/Feb/2023 22:26:49] \"\u001B[36mGET /static/css/main.8d5084fd.chunk.css HTTP/1.1\u001B[0m\" 304 -\r\n",
      "127.0.0.1 - - [22/Feb/2023 22:26:49] \"\u001B[36mGET /static/js/2.b9f0e663.chunk.js HTTP/1.1\u001B[0m\" 304 -\r\n",
      "127.0.0.1 - - [22/Feb/2023 22:26:49] \"\u001B[36mGET /static/js/main.e553e190.chunk.js HTTP/1.1\u001B[0m\" 304 -\r\n",
      "127.0.0.1 - - [22/Feb/2023 22:26:49] \"GET /api/graphs HTTP/1.1\" 200 -\r\n",
      "127.0.0.1 - - [22/Feb/2023 22:26:49] \"\u001B[36mGET /static/media/logo2.4b8ec5cf.png HTTP/1.1\u001B[0m\" 304 -\r\n",
      "127.0.0.1 - - [22/Feb/2023 22:26:49] \"\u001B[36mGET /manifest.json HTTP/1.1\u001B[0m\" 304 -\r\n",
      "^C\r\n"
     ]
    }
   ],
   "source": [
    "gnn_writer_name = 'GNN-Plot'\n",
    "gnn_writer = create_writer(gnn_writer_name)\n",
    "gnn_writer = add_graph(gnn_writer, 'Glance_graph', g, 7)\n",
    "!gnnlens --logdir GNN-Plot"
   ],
   "metadata": {
    "collapsed": false
   }
  },
  {
   "cell_type": "code",
   "execution_count": null,
   "outputs": [],
   "source": [],
   "metadata": {
    "collapsed": false
   }
  }
 ],
 "metadata": {
  "kernelspec": {
   "display_name": "Python 3 (ipykernel)",
   "language": "python",
   "name": "python3"
  },
  "language_info": {
   "codemirror_mode": {
    "name": "ipython",
    "version": 3
   },
   "file_extension": ".py",
   "mimetype": "text/x-python",
   "name": "python",
   "nbconvert_exporter": "python",
   "pygments_lexer": "ipython3",
   "version": "3.9.6"
  }
 },
 "nbformat": 4,
 "nbformat_minor": 5
}
