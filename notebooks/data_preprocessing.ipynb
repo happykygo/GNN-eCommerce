{
 "cells": [
  {
   "cell_type": "markdown",
   "source": [
    "# Simple Collaborative Filtering model using Matrix Factorization"
   ],
   "metadata": {
    "collapsed": false
   }
  },
  {
   "cell_type": "code",
   "execution_count": 1,
   "outputs": [],
   "source": [
    "import pandas as pd\n",
    "import yaml"
   ],
   "metadata": {
    "collapsed": false
   }
  },
  {
   "cell_type": "markdown",
   "source": [
    "# Load Config\n"
   ],
   "metadata": {
    "collapsed": false
   }
  },
  {
   "cell_type": "code",
   "execution_count": 2,
   "outputs": [
    {
     "name": "stdout",
     "output_type": "stream",
     "text": [
      "/Users/yingkang/4thBrain/GNN-eCommerce\n"
     ]
    }
   ],
   "source": [
    "%cd ..\n",
    "with open(\"params.yaml\") as config_file:\n",
    "    config = yaml.safe_load(config_file)"
   ],
   "metadata": {
    "collapsed": false
   }
  },
  {
   "cell_type": "markdown",
   "source": [
    "# Load Raw Dataset"
   ],
   "metadata": {
    "collapsed": false
   }
  },
  {
   "cell_type": "code",
   "execution_count": 3,
   "outputs": [
    {
     "data": {
      "text/plain": "          Unnamed: 0    user_id  item_id        event_type\n0                  0  595414620  5809910              view\n1                  1  595414640  5812943              view\n2                  2  595412617  5798924              view\n3                  3  420652863  5793052              view\n4                  4  484071203  5899926              view\n...              ...        ...      ...               ...\n20692835    20692835  429913900  5848062  remove_from_cart\n20692836    20692836  556138645  5885631              view\n20692837    20692837  564441099  5784898              view\n20692838    20692838  429913900  5870838              view\n20692839    20692839  566280798    59996              view\n\n[20692840 rows x 4 columns]",
      "text/html": "<div>\n<style scoped>\n    .dataframe tbody tr th:only-of-type {\n        vertical-align: middle;\n    }\n\n    .dataframe tbody tr th {\n        vertical-align: top;\n    }\n\n    .dataframe thead th {\n        text-align: right;\n    }\n</style>\n<table border=\"1\" class=\"dataframe\">\n  <thead>\n    <tr style=\"text-align: right;\">\n      <th></th>\n      <th>Unnamed: 0</th>\n      <th>user_id</th>\n      <th>item_id</th>\n      <th>event_type</th>\n    </tr>\n  </thead>\n  <tbody>\n    <tr>\n      <th>0</th>\n      <td>0</td>\n      <td>595414620</td>\n      <td>5809910</td>\n      <td>view</td>\n    </tr>\n    <tr>\n      <th>1</th>\n      <td>1</td>\n      <td>595414640</td>\n      <td>5812943</td>\n      <td>view</td>\n    </tr>\n    <tr>\n      <th>2</th>\n      <td>2</td>\n      <td>595412617</td>\n      <td>5798924</td>\n      <td>view</td>\n    </tr>\n    <tr>\n      <th>3</th>\n      <td>3</td>\n      <td>420652863</td>\n      <td>5793052</td>\n      <td>view</td>\n    </tr>\n    <tr>\n      <th>4</th>\n      <td>4</td>\n      <td>484071203</td>\n      <td>5899926</td>\n      <td>view</td>\n    </tr>\n    <tr>\n      <th>...</th>\n      <td>...</td>\n      <td>...</td>\n      <td>...</td>\n      <td>...</td>\n    </tr>\n    <tr>\n      <th>20692835</th>\n      <td>20692835</td>\n      <td>429913900</td>\n      <td>5848062</td>\n      <td>remove_from_cart</td>\n    </tr>\n    <tr>\n      <th>20692836</th>\n      <td>20692836</td>\n      <td>556138645</td>\n      <td>5885631</td>\n      <td>view</td>\n    </tr>\n    <tr>\n      <th>20692837</th>\n      <td>20692837</td>\n      <td>564441099</td>\n      <td>5784898</td>\n      <td>view</td>\n    </tr>\n    <tr>\n      <th>20692838</th>\n      <td>20692838</td>\n      <td>429913900</td>\n      <td>5870838</td>\n      <td>view</td>\n    </tr>\n    <tr>\n      <th>20692839</th>\n      <td>20692839</td>\n      <td>566280798</td>\n      <td>59996</td>\n      <td>view</td>\n    </tr>\n  </tbody>\n</table>\n<p>20692840 rows × 4 columns</p>\n</div>"
     },
     "execution_count": 3,
     "metadata": {},
     "output_type": "execute_result"
    }
   ],
   "source": [
    "u_i_e_df = pd.read_csv(config['data']['preprocessed'] + \"user_item_event.csv\")\n",
    "u_i_e_df"
   ],
   "metadata": {
    "collapsed": false
   }
  },
  {
   "cell_type": "markdown",
   "source": [
    "### A small dataset used for code development only"
   ],
   "metadata": {
    "collapsed": false
   }
  },
  {
   "cell_type": "code",
   "execution_count": 10,
   "outputs": [],
   "source": [
    "mini = u_i_e_df.head(100000)"
   ],
   "metadata": {
    "collapsed": false
   }
  },
  {
   "cell_type": "markdown",
   "source": [
    "## Map eventType to eventWeight, compute rawEdgeWeight"
   ],
   "metadata": {
    "collapsed": false
   }
  },
  {
   "cell_type": "code",
   "execution_count": 16,
   "outputs": [],
   "source": [
    "def raw_edge_weight(u_i_e, eType_weights_config):\n",
    "    # Map eventWeight\n",
    "    u_i_e['weight'] = u_i_e.event_type.apply(lambda x: eType_weights_config[x])\n",
    "    # compute raw edge weight\n",
    "    view = eType_weights_config['view']\n",
    "    u_i_e = u_i_e.groupby(['user_id', 'item_id']).agg({\n",
    "        'event_type': list,\n",
    "        'weight': lambda x: view if x.sum() < view else x.sum()}).reset_index()\n",
    "    u_i_e['purchased'] = u_i_e.event_type.apply(lambda x: x.__contains__('purchase'))\n",
    "    u_i_e = u_i_e.rename(columns={\"event_type\": \"event_type_list\"})\n",
    "    return u_i_e"
   ],
   "metadata": {
    "collapsed": false
   }
  },
  {
   "cell_type": "code",
   "execution_count": 6,
   "outputs": [],
   "source": [
    "eType_weights_config1 = config['training']['event_type_weights_v1']\n",
    "eType_weights_config2 = config['training']['event_type_weights_v2']"
   ],
   "metadata": {
    "collapsed": false
   }
  },
  {
   "cell_type": "code",
   "execution_count": 7,
   "outputs": [
    {
     "data": {
      "text/plain": "            user_id  item_id event_type  weight  purchased\n0            465496  5769989     [view]    0.01      False\n1            465496  5865524     [view]    0.01      False\n2            465496  5865526     [view]    0.01      False\n3           1120748     5240     [view]    0.01      False\n4           1180452  5881337     [view]    0.01      False\n...             ...      ...        ...     ...        ...\n10157403  622090043  5850628     [view]    0.01      False\n10157404  622090052  5688691     [view]    0.01      False\n10157405  622090052  5931986     [view]    0.01      False\n10157406  622090098  5650609     [view]    0.01      False\n10157407  622090237  5754853     [view]    0.01      False\n\n[10157408 rows x 5 columns]",
      "text/html": "<div>\n<style scoped>\n    .dataframe tbody tr th:only-of-type {\n        vertical-align: middle;\n    }\n\n    .dataframe tbody tr th {\n        vertical-align: top;\n    }\n\n    .dataframe thead th {\n        text-align: right;\n    }\n</style>\n<table border=\"1\" class=\"dataframe\">\n  <thead>\n    <tr style=\"text-align: right;\">\n      <th></th>\n      <th>user_id</th>\n      <th>item_id</th>\n      <th>event_type</th>\n      <th>weight</th>\n      <th>purchased</th>\n    </tr>\n  </thead>\n  <tbody>\n    <tr>\n      <th>0</th>\n      <td>465496</td>\n      <td>5769989</td>\n      <td>[view]</td>\n      <td>0.01</td>\n      <td>False</td>\n    </tr>\n    <tr>\n      <th>1</th>\n      <td>465496</td>\n      <td>5865524</td>\n      <td>[view]</td>\n      <td>0.01</td>\n      <td>False</td>\n    </tr>\n    <tr>\n      <th>2</th>\n      <td>465496</td>\n      <td>5865526</td>\n      <td>[view]</td>\n      <td>0.01</td>\n      <td>False</td>\n    </tr>\n    <tr>\n      <th>3</th>\n      <td>1120748</td>\n      <td>5240</td>\n      <td>[view]</td>\n      <td>0.01</td>\n      <td>False</td>\n    </tr>\n    <tr>\n      <th>4</th>\n      <td>1180452</td>\n      <td>5881337</td>\n      <td>[view]</td>\n      <td>0.01</td>\n      <td>False</td>\n    </tr>\n    <tr>\n      <th>...</th>\n      <td>...</td>\n      <td>...</td>\n      <td>...</td>\n      <td>...</td>\n      <td>...</td>\n    </tr>\n    <tr>\n      <th>10157403</th>\n      <td>622090043</td>\n      <td>5850628</td>\n      <td>[view]</td>\n      <td>0.01</td>\n      <td>False</td>\n    </tr>\n    <tr>\n      <th>10157404</th>\n      <td>622090052</td>\n      <td>5688691</td>\n      <td>[view]</td>\n      <td>0.01</td>\n      <td>False</td>\n    </tr>\n    <tr>\n      <th>10157405</th>\n      <td>622090052</td>\n      <td>5931986</td>\n      <td>[view]</td>\n      <td>0.01</td>\n      <td>False</td>\n    </tr>\n    <tr>\n      <th>10157406</th>\n      <td>622090098</td>\n      <td>5650609</td>\n      <td>[view]</td>\n      <td>0.01</td>\n      <td>False</td>\n    </tr>\n    <tr>\n      <th>10157407</th>\n      <td>622090237</td>\n      <td>5754853</td>\n      <td>[view]</td>\n      <td>0.01</td>\n      <td>False</td>\n    </tr>\n  </tbody>\n</table>\n<p>10157408 rows × 5 columns</p>\n</div>"
     },
     "execution_count": 7,
     "metadata": {},
     "output_type": "execute_result"
    }
   ],
   "source": [
    "u_i_weight_1 = raw_edge_weight(u_i_e_df, eType_weights_config1)\n",
    "u_i_weight_1"
   ],
   "metadata": {
    "collapsed": false
   }
  },
  {
   "cell_type": "code",
   "execution_count": 22,
   "outputs": [
    {
     "data": {
      "text/plain": "            user_id  item_id event_type_list  weight  purchased\n0            465496  5769989          [view]    0.15      False\n1            465496  5865524          [view]    0.15      False\n2            465496  5865526          [view]    0.15      False\n3           1120748     5240          [view]    0.15      False\n4           1180452  5881337          [view]    0.15      False\n...             ...      ...             ...     ...        ...\n10157403  622090043  5850628          [view]    0.15      False\n10157404  622090052  5688691          [view]    0.15      False\n10157405  622090052  5931986          [view]    0.15      False\n10157406  622090098  5650609          [view]    0.15      False\n10157407  622090237  5754853          [view]    0.15      False\n\n[10157408 rows x 5 columns]",
      "text/html": "<div>\n<style scoped>\n    .dataframe tbody tr th:only-of-type {\n        vertical-align: middle;\n    }\n\n    .dataframe tbody tr th {\n        vertical-align: top;\n    }\n\n    .dataframe thead th {\n        text-align: right;\n    }\n</style>\n<table border=\"1\" class=\"dataframe\">\n  <thead>\n    <tr style=\"text-align: right;\">\n      <th></th>\n      <th>user_id</th>\n      <th>item_id</th>\n      <th>event_type_list</th>\n      <th>weight</th>\n      <th>purchased</th>\n    </tr>\n  </thead>\n  <tbody>\n    <tr>\n      <th>0</th>\n      <td>465496</td>\n      <td>5769989</td>\n      <td>[view]</td>\n      <td>0.15</td>\n      <td>False</td>\n    </tr>\n    <tr>\n      <th>1</th>\n      <td>465496</td>\n      <td>5865524</td>\n      <td>[view]</td>\n      <td>0.15</td>\n      <td>False</td>\n    </tr>\n    <tr>\n      <th>2</th>\n      <td>465496</td>\n      <td>5865526</td>\n      <td>[view]</td>\n      <td>0.15</td>\n      <td>False</td>\n    </tr>\n    <tr>\n      <th>3</th>\n      <td>1120748</td>\n      <td>5240</td>\n      <td>[view]</td>\n      <td>0.15</td>\n      <td>False</td>\n    </tr>\n    <tr>\n      <th>4</th>\n      <td>1180452</td>\n      <td>5881337</td>\n      <td>[view]</td>\n      <td>0.15</td>\n      <td>False</td>\n    </tr>\n    <tr>\n      <th>...</th>\n      <td>...</td>\n      <td>...</td>\n      <td>...</td>\n      <td>...</td>\n      <td>...</td>\n    </tr>\n    <tr>\n      <th>10157403</th>\n      <td>622090043</td>\n      <td>5850628</td>\n      <td>[view]</td>\n      <td>0.15</td>\n      <td>False</td>\n    </tr>\n    <tr>\n      <th>10157404</th>\n      <td>622090052</td>\n      <td>5688691</td>\n      <td>[view]</td>\n      <td>0.15</td>\n      <td>False</td>\n    </tr>\n    <tr>\n      <th>10157405</th>\n      <td>622090052</td>\n      <td>5931986</td>\n      <td>[view]</td>\n      <td>0.15</td>\n      <td>False</td>\n    </tr>\n    <tr>\n      <th>10157406</th>\n      <td>622090098</td>\n      <td>5650609</td>\n      <td>[view]</td>\n      <td>0.15</td>\n      <td>False</td>\n    </tr>\n    <tr>\n      <th>10157407</th>\n      <td>622090237</td>\n      <td>5754853</td>\n      <td>[view]</td>\n      <td>0.15</td>\n      <td>False</td>\n    </tr>\n  </tbody>\n</table>\n<p>10157408 rows × 5 columns</p>\n</div>"
     },
     "execution_count": 22,
     "metadata": {},
     "output_type": "execute_result"
    }
   ],
   "source": [
    "u_i_weight_2 = raw_edge_weight(u_i_e_df, eType_weights_config2)\n",
    "u_i_weight_2"
   ],
   "metadata": {
    "collapsed": false
   }
  },
  {
   "cell_type": "markdown",
   "source": [
    "## Compute proper edge weight"
   ],
   "metadata": {
    "collapsed": false
   }
  },
  {
   "cell_type": "code",
   "execution_count": 17,
   "outputs": [],
   "source": [
    "def proper_edge_weight(raw_u_i_e_w):\n",
    "    # exceeds 1.0 and True --> 1.0\n",
    "    # exceeds 1.0 and False --> 0.5\n",
    "    raw_u_i_e_w.loc[(raw_u_i_e_w['weight']>1.0) & (raw_u_i_e_w['purchased']), 'weight'] = 1.0\n",
    "    raw_u_i_e_w.loc[(raw_u_i_e_w['weight']>1.0) & (~raw_u_i_e_w['purchased']), 'weight'] = 0.5\n",
    "    u_i_weight = raw_u_i_e_w[['user_id', 'item_id', 'weight']]\n",
    "    return u_i_weight"
   ],
   "metadata": {
    "collapsed": false
   }
  },
  {
   "cell_type": "code",
   "execution_count": 18,
   "outputs": [
    {
     "data": {
      "text/plain": "            user_id  item_id  weight\n0            465496  5769989    0.01\n1            465496  5865524    0.01\n2            465496  5865526    0.01\n3           1120748     5240    0.01\n4           1180452  5881337    0.01\n...             ...      ...     ...\n10157403  622090043  5850628    0.01\n10157404  622090052  5688691    0.01\n10157405  622090052  5931986    0.01\n10157406  622090098  5650609    0.01\n10157407  622090237  5754853    0.01\n\n[10157408 rows x 3 columns]",
      "text/html": "<div>\n<style scoped>\n    .dataframe tbody tr th:only-of-type {\n        vertical-align: middle;\n    }\n\n    .dataframe tbody tr th {\n        vertical-align: top;\n    }\n\n    .dataframe thead th {\n        text-align: right;\n    }\n</style>\n<table border=\"1\" class=\"dataframe\">\n  <thead>\n    <tr style=\"text-align: right;\">\n      <th></th>\n      <th>user_id</th>\n      <th>item_id</th>\n      <th>weight</th>\n    </tr>\n  </thead>\n  <tbody>\n    <tr>\n      <th>0</th>\n      <td>465496</td>\n      <td>5769989</td>\n      <td>0.01</td>\n    </tr>\n    <tr>\n      <th>1</th>\n      <td>465496</td>\n      <td>5865524</td>\n      <td>0.01</td>\n    </tr>\n    <tr>\n      <th>2</th>\n      <td>465496</td>\n      <td>5865526</td>\n      <td>0.01</td>\n    </tr>\n    <tr>\n      <th>3</th>\n      <td>1120748</td>\n      <td>5240</td>\n      <td>0.01</td>\n    </tr>\n    <tr>\n      <th>4</th>\n      <td>1180452</td>\n      <td>5881337</td>\n      <td>0.01</td>\n    </tr>\n    <tr>\n      <th>...</th>\n      <td>...</td>\n      <td>...</td>\n      <td>...</td>\n    </tr>\n    <tr>\n      <th>10157403</th>\n      <td>622090043</td>\n      <td>5850628</td>\n      <td>0.01</td>\n    </tr>\n    <tr>\n      <th>10157404</th>\n      <td>622090052</td>\n      <td>5688691</td>\n      <td>0.01</td>\n    </tr>\n    <tr>\n      <th>10157405</th>\n      <td>622090052</td>\n      <td>5931986</td>\n      <td>0.01</td>\n    </tr>\n    <tr>\n      <th>10157406</th>\n      <td>622090098</td>\n      <td>5650609</td>\n      <td>0.01</td>\n    </tr>\n    <tr>\n      <th>10157407</th>\n      <td>622090237</td>\n      <td>5754853</td>\n      <td>0.01</td>\n    </tr>\n  </tbody>\n</table>\n<p>10157408 rows × 3 columns</p>\n</div>"
     },
     "execution_count": 18,
     "metadata": {},
     "output_type": "execute_result"
    }
   ],
   "source": [
    "u_i_weight_1 = proper_edge_weight(u_i_weight_1)\n",
    "u_i_weight_1"
   ],
   "metadata": {
    "collapsed": false
   }
  },
  {
   "cell_type": "code",
   "execution_count": 23,
   "outputs": [
    {
     "data": {
      "text/plain": "            user_id  item_id  weight\n0            465496  5769989    0.15\n1            465496  5865524    0.15\n2            465496  5865526    0.15\n3           1120748     5240    0.15\n4           1180452  5881337    0.15\n...             ...      ...     ...\n10157403  622090043  5850628    0.15\n10157404  622090052  5688691    0.15\n10157405  622090052  5931986    0.15\n10157406  622090098  5650609    0.15\n10157407  622090237  5754853    0.15\n\n[10157408 rows x 3 columns]",
      "text/html": "<div>\n<style scoped>\n    .dataframe tbody tr th:only-of-type {\n        vertical-align: middle;\n    }\n\n    .dataframe tbody tr th {\n        vertical-align: top;\n    }\n\n    .dataframe thead th {\n        text-align: right;\n    }\n</style>\n<table border=\"1\" class=\"dataframe\">\n  <thead>\n    <tr style=\"text-align: right;\">\n      <th></th>\n      <th>user_id</th>\n      <th>item_id</th>\n      <th>weight</th>\n    </tr>\n  </thead>\n  <tbody>\n    <tr>\n      <th>0</th>\n      <td>465496</td>\n      <td>5769989</td>\n      <td>0.15</td>\n    </tr>\n    <tr>\n      <th>1</th>\n      <td>465496</td>\n      <td>5865524</td>\n      <td>0.15</td>\n    </tr>\n    <tr>\n      <th>2</th>\n      <td>465496</td>\n      <td>5865526</td>\n      <td>0.15</td>\n    </tr>\n    <tr>\n      <th>3</th>\n      <td>1120748</td>\n      <td>5240</td>\n      <td>0.15</td>\n    </tr>\n    <tr>\n      <th>4</th>\n      <td>1180452</td>\n      <td>5881337</td>\n      <td>0.15</td>\n    </tr>\n    <tr>\n      <th>...</th>\n      <td>...</td>\n      <td>...</td>\n      <td>...</td>\n    </tr>\n    <tr>\n      <th>10157403</th>\n      <td>622090043</td>\n      <td>5850628</td>\n      <td>0.15</td>\n    </tr>\n    <tr>\n      <th>10157404</th>\n      <td>622090052</td>\n      <td>5688691</td>\n      <td>0.15</td>\n    </tr>\n    <tr>\n      <th>10157405</th>\n      <td>622090052</td>\n      <td>5931986</td>\n      <td>0.15</td>\n    </tr>\n    <tr>\n      <th>10157406</th>\n      <td>622090098</td>\n      <td>5650609</td>\n      <td>0.15</td>\n    </tr>\n    <tr>\n      <th>10157407</th>\n      <td>622090237</td>\n      <td>5754853</td>\n      <td>0.15</td>\n    </tr>\n  </tbody>\n</table>\n<p>10157408 rows × 3 columns</p>\n</div>"
     },
     "execution_count": 23,
     "metadata": {},
     "output_type": "execute_result"
    }
   ],
   "source": [
    "u_i_weight_2 = proper_edge_weight(u_i_weight_2)\n",
    "u_i_weight_2"
   ],
   "metadata": {
    "collapsed": false
   }
  },
  {
   "cell_type": "markdown",
   "source": [
    "## Persist 2 version u_i_weight data into csv"
   ],
   "metadata": {
    "collapsed": false
   }
  },
  {
   "cell_type": "code",
   "execution_count": 21,
   "outputs": [],
   "source": [
    "u_i_weight_1.to_csv(config['data']['preprocessed'] + \"u_i_weight_0.01_0.1_-0.09.csv\")"
   ],
   "metadata": {
    "collapsed": false
   }
  },
  {
   "cell_type": "code",
   "execution_count": 25,
   "outputs": [],
   "source": [
    "u_i_weight_2.to_csv(config['data']['preprocessed'] + \"u_i_weight_0.15_0.35_-0.2.csv\")"
   ],
   "metadata": {
    "collapsed": false
   }
  },
  {
   "cell_type": "code",
   "execution_count": 24,
   "outputs": [],
   "source": [],
   "metadata": {
    "collapsed": false
   }
  },
  {
   "cell_type": "markdown",
   "source": [
    "# Further Work\n",
    "Use event time to influence the weight of the event. i.e. More recent events carry more weight."
   ],
   "metadata": {
    "collapsed": false
   }
  },
  {
   "cell_type": "code",
   "execution_count": null,
   "outputs": [],
   "source": [],
   "metadata": {
    "collapsed": false
   }
  }
 ],
 "metadata": {
  "kernelspec": {
   "display_name": "Python 3",
   "language": "python",
   "name": "python3"
  },
  "language_info": {
   "codemirror_mode": {
    "name": "ipython",
    "version": 2
   },
   "file_extension": ".py",
   "mimetype": "text/x-python",
   "name": "python",
   "nbconvert_exporter": "python",
   "pygments_lexer": "ipython2",
   "version": "2.7.6"
  }
 },
 "nbformat": 4,
 "nbformat_minor": 0
}
