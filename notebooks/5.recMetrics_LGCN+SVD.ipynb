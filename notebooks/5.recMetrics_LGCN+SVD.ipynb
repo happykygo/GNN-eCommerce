{
 "cells": [
  {
   "cell_type": "code",
   "execution_count": 1,
   "id": "c39bb6a6",
   "metadata": {},
   "outputs": [],
   "source": [
    "# import numpy as np\n",
    "# import pandas as pd\n",
    "# from surprise import SVD, Dataset, Reader\n",
    "# from surprise.model_selection import train_test_split"
   ]
  },
  {
   "cell_type": "markdown",
   "id": "bd61d345",
   "metadata": {},
   "source": [
    "## Load Data"
   ]
  },
  {
   "cell_type": "code",
   "execution_count": 1,
   "id": "7f25c11a",
   "metadata": {},
   "outputs": [],
   "source": [
    "import yaml\n",
    "import matplotlib.pyplot as plt\n",
    "from sklearn.model_selection import train_test_split\n",
    "import torch\n",
    "import pandas as pd\n",
    "import recmetrics\n",
    "from src.lightgcn import LightGCN\n",
    "from src.train_lightgcn import *\n",
    "# from src.utils_v2 import *\n",
    "# pd.set_option('display.max_colwidth', None)"
   ]
  },
  {
   "cell_type": "code",
   "execution_count": 2,
   "id": "119f6e0a",
   "metadata": {},
   "outputs": [
    {
     "data": {
      "text/plain": "device(type='cpu')"
     },
     "execution_count": 2,
     "metadata": {},
     "output_type": "execute_result"
    }
   ],
   "source": [
    "device = torch.device(\"cuda:0\" if torch.cuda.is_available() else \"cpu\")\n",
    "device # = \"cpu\""
   ]
  },
  {
   "cell_type": "code",
   "execution_count": 3,
   "id": "55c74872",
   "metadata": {},
   "outputs": [
    {
     "name": "stdout",
     "output_type": "stream",
     "text": [
      "/Users/yingkang/4thBrain/GNN-eCommerce\n"
     ]
    }
   ],
   "source": [
    "# Load Config\n",
    "%cd ..\n",
    "with open(\"config.yaml\") as config_file:\n",
    "    config = yaml.safe_load(config_file)"
   ]
  },
  {
   "cell_type": "code",
   "execution_count": 15,
   "outputs": [
    {
     "data": {
      "text/plain": "          Unnamed: 0    user_id  item_id  weight\n0                  0     465496  5769989    0.01\n1                  1     465496  5865524    0.01\n2                  2     465496  5865526    0.01\n3                  3    1120748     5240    0.01\n4                  4    1180452  5881337    0.01\n...              ...        ...      ...     ...\n10157403    10157403  622090043  5850628    0.01\n10157404    10157404  622090052  5688691    0.01\n10157405    10157405  622090052  5931986    0.01\n10157406    10157406  622090098  5650609    0.01\n10157407    10157407  622090237  5754853    0.01\n\n[10157408 rows x 4 columns]",
      "text/html": "<div>\n<style scoped>\n    .dataframe tbody tr th:only-of-type {\n        vertical-align: middle;\n    }\n\n    .dataframe tbody tr th {\n        vertical-align: top;\n    }\n\n    .dataframe thead th {\n        text-align: right;\n    }\n</style>\n<table border=\"1\" class=\"dataframe\">\n  <thead>\n    <tr style=\"text-align: right;\">\n      <th></th>\n      <th>Unnamed: 0</th>\n      <th>user_id</th>\n      <th>item_id</th>\n      <th>weight</th>\n    </tr>\n  </thead>\n  <tbody>\n    <tr>\n      <th>0</th>\n      <td>0</td>\n      <td>465496</td>\n      <td>5769989</td>\n      <td>0.01</td>\n    </tr>\n    <tr>\n      <th>1</th>\n      <td>1</td>\n      <td>465496</td>\n      <td>5865524</td>\n      <td>0.01</td>\n    </tr>\n    <tr>\n      <th>2</th>\n      <td>2</td>\n      <td>465496</td>\n      <td>5865526</td>\n      <td>0.01</td>\n    </tr>\n    <tr>\n      <th>3</th>\n      <td>3</td>\n      <td>1120748</td>\n      <td>5240</td>\n      <td>0.01</td>\n    </tr>\n    <tr>\n      <th>4</th>\n      <td>4</td>\n      <td>1180452</td>\n      <td>5881337</td>\n      <td>0.01</td>\n    </tr>\n    <tr>\n      <th>...</th>\n      <td>...</td>\n      <td>...</td>\n      <td>...</td>\n      <td>...</td>\n    </tr>\n    <tr>\n      <th>10157403</th>\n      <td>10157403</td>\n      <td>622090043</td>\n      <td>5850628</td>\n      <td>0.01</td>\n    </tr>\n    <tr>\n      <th>10157404</th>\n      <td>10157404</td>\n      <td>622090052</td>\n      <td>5688691</td>\n      <td>0.01</td>\n    </tr>\n    <tr>\n      <th>10157405</th>\n      <td>10157405</td>\n      <td>622090052</td>\n      <td>5931986</td>\n      <td>0.01</td>\n    </tr>\n    <tr>\n      <th>10157406</th>\n      <td>10157406</td>\n      <td>622090098</td>\n      <td>5650609</td>\n      <td>0.01</td>\n    </tr>\n    <tr>\n      <th>10157407</th>\n      <td>10157407</td>\n      <td>622090237</td>\n      <td>5754853</td>\n      <td>0.01</td>\n    </tr>\n  </tbody>\n</table>\n<p>10157408 rows × 4 columns</p>\n</div>"
     },
     "execution_count": 15,
     "metadata": {},
     "output_type": "execute_result"
    }
   ],
   "source": [
    "newdf = pd.read_csv(config['data']['preprocessed'] + \"u_i_weight_0.01_0.1_-0.09.csv\")\n",
    "newdf"
   ],
   "metadata": {
    "collapsed": false
   }
  },
  {
   "cell_type": "markdown",
   "source": [
    "## Load saved best LGCN model"
   ],
   "metadata": {
    "collapsed": false
   }
  },
  {
   "cell_type": "code",
   "execution_count": 5,
   "outputs": [],
   "source": [
    "csv_path = config['data']['preprocessed'] + \"interaction_matrix.csv\"\n",
    "checkpoint_dir = \"model-checkpoints\""
   ],
   "metadata": {
    "collapsed": false
   }
  },
  {
   "cell_type": "code",
   "execution_count": null,
   "outputs": [],
   "source": [],
   "metadata": {
    "collapsed": false
   }
  },
  {
   "cell_type": "code",
   "execution_count": 9,
   "outputs": [
    {
     "name": "stdout",
     "output_type": "stream",
     "text": [
      "n_users :  1589341 , n_items :  54412\n",
      "train_df Size  :  9649537\n",
      "val_pos_list_df Size :  22170\n",
      "test_pos_list_df Size :  22071\n"
     ]
    }
   ],
   "source": [
    "test_LGCN = TrainLightGCN(csv_path, checkpoint_dir)"
   ],
   "metadata": {
    "collapsed": false
   }
  },
  {
   "cell_type": "code",
   "execution_count": 10,
   "outputs": [],
   "source": [
    "tune_config = {\n",
    "    \"latent_dim\": 80,\n",
    "    \"n_layers\": 3,\n",
    "    \"LR\": 0.005,\n",
    "    \"DECAY\": 0.0001,  # reg loss\n",
    "    \"BATCH_SIZE\": 1024,  # train mini batch size\n",
    "}"
   ],
   "metadata": {
    "collapsed": false
   }
  },
  {
   "cell_type": "code",
   "execution_count": 11,
   "outputs": [
    {
     "ename": "RuntimeError",
     "evalue": "Error(s) in loading state_dict for LightGCN:\n\tsize mismatch for embedding.weight: copying a param with shape torch.Size([1592523, 80]) from checkpoint, the shape in current model is torch.Size([1643753, 80]).",
     "output_type": "error",
     "traceback": [
      "\u001B[0;31m---------------------------------------------------------------------------\u001B[0m",
      "\u001B[0;31mRuntimeError\u001B[0m                              Traceback (most recent call last)",
      "\u001B[0;32m/var/folders/2m/5xp51wfs0ys9x236dbd6s4lr0000gn/T/ipykernel_27550/1428448275.py\u001B[0m in \u001B[0;36m<cell line: 8>\u001B[0;34m()\u001B[0m\n\u001B[1;32m      6\u001B[0m \u001B[0;34m\u001B[0m\u001B[0m\n\u001B[1;32m      7\u001B[0m \u001B[0mtest_model\u001B[0m \u001B[0;34m=\u001B[0m \u001B[0mLightGCN\u001B[0m\u001B[0;34m(\u001B[0m\u001B[0mtest_LGCN\u001B[0m\u001B[0;34m.\u001B[0m\u001B[0mn_users\u001B[0m\u001B[0;34m+\u001B[0m\u001B[0mtest_LGCN\u001B[0m\u001B[0;34m.\u001B[0m\u001B[0mn_items\u001B[0m\u001B[0;34m,\u001B[0m \u001B[0mtune_config\u001B[0m\u001B[0;34m[\u001B[0m\u001B[0;34m\"latent_dim\"\u001B[0m\u001B[0;34m]\u001B[0m\u001B[0;34m,\u001B[0m \u001B[0mtune_config\u001B[0m\u001B[0;34m[\u001B[0m\u001B[0;34m\"n_layers\"\u001B[0m\u001B[0;34m]\u001B[0m\u001B[0;34m)\u001B[0m\u001B[0;34m\u001B[0m\u001B[0;34m\u001B[0m\u001B[0m\n\u001B[0;32m----> 8\u001B[0;31m \u001B[0mtest_model\u001B[0m\u001B[0;34m.\u001B[0m\u001B[0mload_state_dict\u001B[0m\u001B[0;34m(\u001B[0m\u001B[0mbest_model\u001B[0m\u001B[0;34m[\u001B[0m\u001B[0;34m'model_state_dict'\u001B[0m\u001B[0;34m]\u001B[0m\u001B[0;34m)\u001B[0m\u001B[0;34m\u001B[0m\u001B[0;34m\u001B[0m\u001B[0m\n\u001B[0m",
      "\u001B[0;32m~/4thBrain/GNN-eCommerce/venv/lib/python3.9/site-packages/torch/nn/modules/module.py\u001B[0m in \u001B[0;36mload_state_dict\u001B[0;34m(self, state_dict, strict)\u001B[0m\n\u001B[1;32m   1669\u001B[0m \u001B[0;34m\u001B[0m\u001B[0m\n\u001B[1;32m   1670\u001B[0m         \u001B[0;32mif\u001B[0m \u001B[0mlen\u001B[0m\u001B[0;34m(\u001B[0m\u001B[0merror_msgs\u001B[0m\u001B[0;34m)\u001B[0m \u001B[0;34m>\u001B[0m \u001B[0;36m0\u001B[0m\u001B[0;34m:\u001B[0m\u001B[0;34m\u001B[0m\u001B[0;34m\u001B[0m\u001B[0m\n\u001B[0;32m-> 1671\u001B[0;31m             raise RuntimeError('Error(s) in loading state_dict for {}:\\n\\t{}'.format(\n\u001B[0m\u001B[1;32m   1672\u001B[0m                                self.__class__.__name__, \"\\n\\t\".join(error_msgs)))\n\u001B[1;32m   1673\u001B[0m         \u001B[0;32mreturn\u001B[0m \u001B[0m_IncompatibleKeys\u001B[0m\u001B[0;34m(\u001B[0m\u001B[0mmissing_keys\u001B[0m\u001B[0;34m,\u001B[0m \u001B[0munexpected_keys\u001B[0m\u001B[0;34m)\u001B[0m\u001B[0;34m\u001B[0m\u001B[0;34m\u001B[0m\u001B[0m\n",
      "\u001B[0;31mRuntimeError\u001B[0m: Error(s) in loading state_dict for LightGCN:\n\tsize mismatch for embedding.weight: copying a param with shape torch.Size([1592523, 80]) from checkpoint, the shape in current model is torch.Size([1643753, 80])."
     ]
    }
   ],
   "source": [
    "best_model = torch.load(checkpoint_dir + \"/2023-02-13_203014/LightGCN_best.pt\",\n",
    "                        map_location=torch.device('cpu'))\n",
    "best_epoch = best_model['epoch']\n",
    "best_val_precision = best_model['precision']\n",
    "best_val_recall = best_model['recall']\n",
    "\n",
    "test_model = LightGCN(test_LGCN.n_users+test_LGCN.n_items, tune_config[\"latent_dim\"], tune_config[\"n_layers\"])\n",
    "test_model.load_state_dict(best_model['model_state_dict'])"
   ],
   "metadata": {
    "collapsed": false
   }
  },
  {
   "cell_type": "code",
   "execution_count": null,
   "outputs": [],
   "source": [
    "test_p, test_recall = test_LGCN.test(test_model, test_LGCN.test_pos_list_df, test_LGCN.test_interactions_t, K=20)\n",
    "print(f\"Best epoch {best_epoch}\")\n",
    "print(f\"Test Precision: {test_p:>0.4f}, Recall: {test_recall:>0.4f}\")\n",
    "print(f\"Val Precision: {best_val_precision:>0.4f}, Recall: {best_val_recall:>0.4f}\")"
   ],
   "metadata": {
    "collapsed": false
   }
  },
  {
   "cell_type": "code",
   "execution_count": null,
   "outputs": [],
   "source": [],
   "metadata": {
    "collapsed": false
   }
  },
  {
   "cell_type": "code",
   "execution_count": null,
   "outputs": [],
   "source": [],
   "metadata": {
    "collapsed": false
   }
  },
  {
   "cell_type": "code",
   "execution_count": null,
   "outputs": [],
   "source": [],
   "metadata": {
    "collapsed": false
   }
  },
  {
   "cell_type": "markdown",
   "id": "7c1fa3a9",
   "metadata": {},
   "source": [
    "## Maybe not -- Long Tail Plot for item popularity and active user"
   ]
  },
  {
   "cell_type": "code",
   "execution_count": null,
   "id": "48fd6698",
   "metadata": {},
   "outputs": [],
   "source": [
    "# fig = plt.figure(figsize=(15, 7))\n",
    "# recmetrics.long_tail_plot(df=interaction_matrix,\n",
    "#              item_id_column=\"item_id\",\n",
    "#              interaction_type=\"received interests\",\n",
    "#              percentage=0.5,\n",
    "#              x_labels=False)"
   ]
  },
  {
   "cell_type": "code",
   "execution_count": 1,
   "id": "11d76c31",
   "metadata": {},
   "outputs": [],
   "source": [
    "# interaction_matrix['item_id'].value_counts()"
   ]
  },
  {
   "cell_type": "markdown",
   "id": "bb10d0cc",
   "metadata": {},
   "source": [
    "Some item is extremly popular(massive user shows interest to it)"
   ]
  },
  {
   "cell_type": "raw",
   "source": [
    "## MAR@K, MAP@K for Baseline model(SVD)"
   ],
   "metadata": {
    "collapsed": false
   }
  },
  {
   "cell_type": "raw",
   "source": [
    "test = svd_model.test(testSet)\n",
    "test = pd.DataFrame(test)\n",
    "test.drop(\"details\", inplace=True, axis=1)\n",
    "test.columns = ['userId', 'itemId', 'actual', 'SVD_predict']"
   ],
   "metadata": {
    "collapsed": false
   }
  },
  {
   "cell_type": "raw",
   "source": [
    "actual = test.copy().groupby('userId')['itemId'].agg({\n",
    "    'actual': (lambda x: list(set(x)))}).reset_index()"
   ],
   "metadata": {
    "collapsed": false
   }
  },
  {
   "cell_type": "raw",
   "source": [
    "actual = actual.set_index(\"userId\")"
   ],
   "metadata": {
    "collapsed": false
   }
  },
  {
   "cell_type": "raw",
   "source": [
    "predict = test.pivot_table(index='userId', columns='itemId', values='SVD_predict').fillna(0)"
   ],
   "metadata": {
    "collapsed": false
   }
  },
  {
   "cell_type": "raw",
   "source": [
    "def get_users_predictions(user_id, K, model):\n",
    "    recommended_items = pd.DataFrame(model.loc[user_id])\n",
    "    recommended_items.columns = [\"predicted_rating\"]\n",
    "    recommended_items = recommended_items.sort_values('predicted_rating', ascending=False)    \n",
    "    recommended_items = recommended_items.head(K)\n",
    "    return recommended_items.index.tolist()"
   ],
   "metadata": {
    "collapsed": false
   }
  },
  {
   "cell_type": "raw",
   "source": [
    "cf_recs = [] = []\n",
    "for user in actual.index:\n",
    "    cf_predictions = get_users_predictions(user, 10, predict)\n",
    "    cf_recs.append(cf_predictions)"
   ],
   "metadata": {
    "collapsed": false
   }
  },
  {
   "cell_type": "raw",
   "source": [
    "actual = test.actual.values.tolist()\n",
    "cf_predictions = test.SVD_predict.values.tolist()"
   ],
   "metadata": {
    "collapsed": false
   }
  },
  {
   "cell_type": "raw",
   "source": [
    "cf_mark = []\n",
    "for K in np.arange(1, 11):\n",
    "    cf_mark.extend([recmetrics.mark(actual, cf_predictions, k=K)])\n",
    "cf_mark"
   ],
   "metadata": {
    "collapsed": false
   }
  },
  {
   "cell_type": "markdown",
   "id": "fc04937a",
   "metadata": {},
   "source": [
    "### MAR@K Plot"
   ]
  },
  {
   "cell_type": "code",
   "execution_count": null,
   "id": "b5d94c4a",
   "metadata": {},
   "outputs": [],
   "source": [
    "mark_scores = [random_mark, pop_mark, cf_mark]\n",
    "index = range(1,10+1)\n",
    "names = ['Random Recommender', 'Popularity Recommender', 'Collaborative Filter']\n",
    "\n",
    "fig = plt.figure(figsize=(15, 7))\n",
    "recmetrics.mark_plot(mark_scores, model_names=names, k_range=index)"
   ]
  },
  {
   "cell_type": "code",
   "execution_count": null,
   "id": "8aaf0719",
   "metadata": {},
   "outputs": [],
   "source": []
  },
  {
   "cell_type": "code",
   "execution_count": null,
   "id": "d4bb8cf7",
   "metadata": {},
   "outputs": [],
   "source": []
  },
  {
   "cell_type": "markdown",
   "id": "2c9bfc49",
   "metadata": {},
   "source": [
    "## Hit Rate"
   ]
  },
  {
   "cell_type": "code",
   "execution_count": null,
   "id": "e0dde55b",
   "metadata": {},
   "outputs": [],
   "source": []
  },
  {
   "cell_type": "code",
   "execution_count": null,
   "id": "dc2a99b9",
   "metadata": {},
   "outputs": [],
   "source": []
  },
  {
   "cell_type": "code",
   "execution_count": null,
   "id": "fa56c4cf",
   "metadata": {},
   "outputs": [],
   "source": []
  },
  {
   "cell_type": "markdown",
   "id": "6af3ff1e",
   "metadata": {},
   "source": [
    "## ROC Plot + Precision Recall Plot"
   ]
  },
  {
   "cell_type": "code",
   "execution_count": null,
   "id": "6ac642c2",
   "metadata": {},
   "outputs": [],
   "source": []
  },
  {
   "cell_type": "code",
   "execution_count": null,
   "id": "663d6044",
   "metadata": {},
   "outputs": [],
   "source": []
  },
  {
   "cell_type": "code",
   "execution_count": null,
   "id": "86f20be5",
   "metadata": {},
   "outputs": [],
   "source": []
  },
  {
   "cell_type": "markdown",
   "id": "c6097e8b",
   "metadata": {},
   "source": [
    "## Average Precision"
   ]
  },
  {
   "cell_type": "code",
   "execution_count": null,
   "id": "20c98c03",
   "metadata": {},
   "outputs": [],
   "source": []
  },
  {
   "cell_type": "code",
   "execution_count": null,
   "id": "13aaf548",
   "metadata": {},
   "outputs": [],
   "source": []
  },
  {
   "cell_type": "code",
   "execution_count": null,
   "id": "069272be",
   "metadata": {},
   "outputs": [],
   "source": []
  },
  {
   "cell_type": "code",
   "execution_count": null,
   "id": "32dd500d",
   "metadata": {},
   "outputs": [],
   "source": []
  },
  {
   "cell_type": "markdown",
   "id": "4a0b1c5b",
   "metadata": {},
   "source": [
    "## Prediction Coverage + Coverage Plot"
   ]
  },
  {
   "cell_type": "code",
   "execution_count": null,
   "id": "bec94873",
   "metadata": {},
   "outputs": [],
   "source": []
  },
  {
   "cell_type": "code",
   "execution_count": null,
   "id": "1c8ff0f3",
   "metadata": {},
   "outputs": [],
   "source": []
  },
  {
   "cell_type": "code",
   "execution_count": null,
   "id": "e741f12a",
   "metadata": {},
   "outputs": [],
   "source": []
  },
  {
   "cell_type": "code",
   "execution_count": null,
   "id": "8271feb6",
   "metadata": {},
   "outputs": [],
   "source": []
  },
  {
   "cell_type": "code",
   "execution_count": null,
   "id": "0ef08d2e",
   "metadata": {},
   "outputs": [],
   "source": []
  }
 ],
 "metadata": {
  "kernelspec": {
   "display_name": "Python 3 (ipykernel)",
   "language": "python",
   "name": "python3"
  },
  "language_info": {
   "codemirror_mode": {
    "name": "ipython",
    "version": 3
   },
   "file_extension": ".py",
   "mimetype": "text/x-python",
   "name": "python",
   "nbconvert_exporter": "python",
   "pygments_lexer": "ipython3",
   "version": "3.9.6"
  }
 },
 "nbformat": 4,
 "nbformat_minor": 5
}
