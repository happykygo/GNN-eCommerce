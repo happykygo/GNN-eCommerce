{
 "cells": [
  {
   "cell_type": "markdown",
   "source": [
    "# LightGCN model RecSys"
   ],
   "metadata": {
    "collapsed": false
   }
  },
  {
   "cell_type": "code",
   "execution_count": 1,
   "outputs": [],
   "source": [
    "# import matplotlib.pyplot as plt\n",
    "# import networkx as nx\n",
    "# import numpy as np\n",
    "# import pandas as pd\n",
    "import yaml\n",
    "# import glob\n",
    "# import torch\n",
    "# import torch.nn\n",
    "from lightgcn import LightGCN\n",
    "# from torch_geometric.nn import LightGCN\n",
    "from tqdm.notebook import tqdm\n",
    "from sklearn.model_selection import train_test_split\n",
    "# from collections import defaultdict\n",
    "from utils import *\n",
    "pd.set_option('display.max_colwidth', None)"
   ],
   "metadata": {
    "collapsed": false
   }
  },
  {
   "cell_type": "code",
   "execution_count": 2,
   "outputs": [
    {
     "data": {
      "text/plain": "device(type='cuda', index=0)"
     },
     "execution_count": 2,
     "metadata": {},
     "output_type": "execute_result"
    }
   ],
   "source": [
    "device = torch.device(\"cuda:0\" if torch.cuda.is_available() else \"cpu\")\n",
    "device # = \"cpu\""
   ],
   "metadata": {
    "collapsed": false
   }
  },
  {
   "cell_type": "markdown",
   "source": [
    "# Load Config"
   ],
   "metadata": {
    "collapsed": false
   }
  },
  {
   "cell_type": "code",
   "execution_count": 3,
   "outputs": [
    {
     "name": "stdout",
     "output_type": "stream",
     "text": [
      "/home/ying/GNN-eCommerce\n"
     ]
    },
    {
     "data": {
      "text/plain": "{'base': {'random_seed': 42},\n 'data': {'cosmetic_shop': 'data/raw/cosmetic-shop-ecommerce-events/',\n  'preprocessed': 'data/preprocessed/'},\n 'training': {'event_type_weights': {'view': 0.01,\n   'cart': 0.1,\n   'remove_from_cart': -0.09,\n   'purchase': 1.0}},\n 'reports': None}"
     },
     "execution_count": 3,
     "metadata": {},
     "output_type": "execute_result"
    }
   ],
   "source": [
    "%cd ..\n",
    "with open(\"params.yaml\") as config_file:\n",
    "    config = yaml.safe_load(config_file)\n",
    "config"
   ],
   "metadata": {
    "collapsed": false
   }
  },
  {
   "cell_type": "markdown",
   "source": [
    "# Load Interaction Matrix from csv"
   ],
   "metadata": {
    "collapsed": false
   }
  },
  {
   "cell_type": "code",
   "execution_count": 4,
   "outputs": [],
   "source": [
    "interaction_matrix = pd.read_csv(config['data']['preprocessed'] + \"interaction_matrix.csv\")\n",
    "interaction_matrix = interaction_matrix.rename(columns={\"product_id\": \"item_id\"})"
   ],
   "metadata": {
    "collapsed": false
   }
  },
  {
   "cell_type": "code",
   "execution_count": 5,
   "outputs": [],
   "source": [
    "im = interaction_matrix[['user_id', 'item_id', 'weight']].copy()"
   ],
   "metadata": {
    "collapsed": false
   }
  },
  {
   "cell_type": "code",
   "execution_count": 6,
   "outputs": [
    {
     "name": "stdout",
     "output_type": "stream",
     "text": [
      "Total data size:  10157408 , unique user:  1639358 , unique items:  54571\n"
     ]
    }
   ],
   "source": [
    "print('Total data size: ', len(im), ', unique user: ', im.user_id.nunique(), ', unique items: ', im.item_id.nunique())"
   ],
   "metadata": {
    "collapsed": false
   }
  },
  {
   "cell_type": "raw",
   "source": [
    "# ying = im.head(1000)\n",
    "# ying"
   ],
   "metadata": {
    "collapsed": false
   }
  },
  {
   "cell_type": "raw",
   "source": [
    "# train_df, test_df = train_test_split(ying, test_size=0.3, random_state=16)\n",
    "# test_df, val_df = train_test_split(test_df, test_size=0.5, random_state=16)"
   ],
   "metadata": {
    "collapsed": false
   }
  },
  {
   "cell_type": "code",
   "execution_count": 7,
   "outputs": [],
   "source": [
    "# ?? Should user never purchase removed at the beginning ??? NO for now!!\n",
    "# mini_im = purchase_users(im)\n",
    "mini_im = im.sample(200000, random_state=1)  #100000"
   ],
   "metadata": {
    "collapsed": false
   }
  },
  {
   "cell_type": "code",
   "execution_count": 8,
   "outputs": [
    {
     "name": "stdout",
     "output_type": "stream",
     "text": [
      "Mini dataset size:  200000 , Users at least purchased once:  46191\n"
     ]
    }
   ],
   "source": [
    "print('Mini dataset size: ', len(mini_im), ', Users at least purchased once: ', len(purchase_users(mini_im)))\n",
    "# print('Valid data percentage: ', f'{len(mini_im)/len(im):.2%}')"
   ],
   "metadata": {
    "collapsed": false
   }
  },
  {
   "cell_type": "raw",
   "source": [
    "# mini_im.loc[~mini_im['user_id'].isin(u_id_filter)]"
   ],
   "metadata": {
    "collapsed": false
   }
  },
  {
   "cell_type": "markdown",
   "source": [
    "### Prepare Train/ Val/ Test dataset"
   ],
   "metadata": {
    "collapsed": false
   }
  },
  {
   "cell_type": "code",
   "execution_count": 9,
   "outputs": [],
   "source": [
    "train_df, test_df = train_test_split(mini_im, test_size=0.3, random_state=16)\n",
    "test_df, val_df = train_test_split(test_df, test_size=0.5, random_state=16)"
   ],
   "metadata": {
    "collapsed": false
   }
  },
  {
   "cell_type": "code",
   "execution_count": 10,
   "outputs": [
    {
     "name": "stdout",
     "output_type": "stream",
     "text": [
      "Mini set unique user:  128555 , unique items:  32907\n",
      "Train Size  :  140000\n",
      "Val Size :  30000\n",
      "Test Size :  30000\n"
     ]
    }
   ],
   "source": [
    "print('Mini set unique user: ', mini_im.user_id.nunique(), ', unique items: ', mini_im.item_id.nunique())\n",
    "print(\"Train Size  : \", len(train_df))\n",
    "print(\"Val Size : \", len (val_df))\n",
    "print(\"Test Size : \", len (test_df))"
   ],
   "metadata": {
    "collapsed": false
   }
  },
  {
   "cell_type": "code",
   "execution_count": 11,
   "outputs": [],
   "source": [
    "n_users, n_items, train_df, train_pos_list_df, val_pos_list_df, test_pos_list_df = prepare_val_test(train_df, val_df, test_df)  # , val_u_i_matrix, test_u_i_matrix"
   ],
   "metadata": {
    "collapsed": false
   }
  },
  {
   "cell_type": "code",
   "execution_count": 12,
   "outputs": [
    {
     "name": "stdout",
     "output_type": "stream",
     "text": [
      "Users :  97855\n",
      "Items :  29177\n",
      "Train Size  :  140000\n",
      "Val Size :  1763\n",
      "Test Size :  1742\n"
     ]
    }
   ],
   "source": [
    "print(\"Users : \", n_users)\n",
    "print(\"Items : \", n_items)\n",
    "print(\"Train Size  : \", len(train_df))\n",
    "print(\"Val Size : \", len (val_pos_list_df))\n",
    "print(\"Test Size : \", len (test_pos_list_df))"
   ],
   "metadata": {
    "collapsed": false
   }
  },
  {
   "cell_type": "raw",
   "source": [
    "# train_df"
   ],
   "metadata": {
    "collapsed": false
   }
  },
  {
   "cell_type": "raw",
   "source": [
    "# train_pos_list_df"
   ],
   "metadata": {
    "collapsed": false
   }
  },
  {
   "cell_type": "raw",
   "source": [
    "# val_pos_list_df"
   ],
   "metadata": {
    "collapsed": false
   }
  },
  {
   "cell_type": "raw",
   "source": [
    "# val_df, test_df = sync_nodes(train_df, val_df, test_df)\n",
    "# n_users, n_items, train_df, val_df, test_df = relabelling(train_df, val_df, test_df)\n",
    "# train_df['item_id_idx'] = train_df['item_id_idx'] + n_users\n",
    "# train_pos_list_df = pos_item_list(train_df)\n",
    "# val_pos_list_df = pos_item_list(val_df)\n",
    "# test_pos_list_df = pos_item_list(test_df)"
   ],
   "metadata": {
    "collapsed": false
   }
  },
  {
   "cell_type": "code",
   "execution_count": 13,
   "outputs": [],
   "source": [
    "# train_df"
   ],
   "metadata": {
    "collapsed": false
   }
  },
  {
   "cell_type": "code",
   "execution_count": 14,
   "outputs": [],
   "source": [
    "# train_pos_list_df"
   ],
   "metadata": {
    "collapsed": false
   }
  },
  {
   "cell_type": "code",
   "execution_count": 15,
   "outputs": [],
   "source": [
    "# val_pos_list_df"
   ],
   "metadata": {
    "collapsed": false
   }
  },
  {
   "cell_type": "code",
   "execution_count": 16,
   "outputs": [],
   "source": [
    "# test_pos_list_df"
   ],
   "metadata": {
    "collapsed": false
   }
  },
  {
   "cell_type": "raw",
   "source": [
    "# v = val_pos_list_df\n",
    "# v.loc[3] = [809, [2600, 99]]\n",
    "# v.loc[4] = [999, []]\n",
    "# v"
   ],
   "metadata": {
    "collapsed": false
   }
  },
  {
   "cell_type": "raw",
   "source": [
    "# v.item_id_idx_list = v.item_id_idx_list.apply(lambda x: np.array(x)+100)"
   ],
   "metadata": {
    "collapsed": false
   }
  },
  {
   "cell_type": "raw",
   "source": [
    "# def ignor_neg_item_list(train_pos_list_df, val_pos_list_df, test_pos_list_df, n_users):\n",
    "#     v = pd.merge(val_pos_list_df, test_pos_list_df, how='outer', left_on='user_id_idx', right_on='user_id_idx')\n",
    "#     train_pos_list_df = pd.merge(train_pos_list_df, v, how='left', left_on='user_id_idx', right_on='user_id_idx')\n",
    "#     train_pos_list_df.item_id_idx_list = train_pos_list_df.item_id_idx_list.fillna('').apply(list)\n",
    "#     train_pos_list_df.item_id_idx_list_x = train_pos_list_df.item_id_idx_list_x.fillna('').apply(list)\n",
    "#     train_pos_list_df.item_id_idx_list_x = train_pos_list_df.item_id_idx_list_x.apply(lambda x: np.array(x) + n_users)\n",
    "#     train_pos_list_df.item_id_idx_list_y = train_pos_list_df.item_id_idx_list_y.fillna('').apply(list)\n",
    "#     train_pos_list_df.item_id_idx_list_y = train_pos_list_df.item_id_idx_list_y.apply(lambda x: np.array(x) + n_users)\n",
    "#\n",
    "#     train_pos_list_df['ignor_neg_list'] = [list((set(a).union(b).union(c))) for a, b, c in\n",
    "#                                            zip(train_pos_list_df.item_id_idx_list, train_pos_list_df.item_id_idx_list_x, train_pos_list_df.item_id_idx_list_y)]\n",
    "#     train_pos_list_df = train_pos_list_df[['user_id_idx', 'item_id_idx_list', 'ignor_neg_list']]\n",
    "#\n",
    "#     return train_pos_list_df"
   ],
   "metadata": {
    "collapsed": false
   }
  },
  {
   "cell_type": "raw",
   "source": [
    "# x = ignor_neg_item_list(train_pos_list_df, val_pos_list_df, test_pos_list_df, n_users)\n",
    "# x"
   ],
   "metadata": {
    "collapsed": false
   }
  },
  {
   "cell_type": "raw",
   "source": [],
   "metadata": {
    "collapsed": false
   }
  },
  {
   "cell_type": "raw",
   "source": [
    "# users, pos_items, neg_items = pos_neg_edge_index(train_pos_list_df, 100, n_users, n_items)"
   ],
   "metadata": {
    "collapsed": false
   }
  },
  {
   "cell_type": "raw",
   "source": [
    "# print('Size of sample pool: ', len(users))"
   ],
   "metadata": {
    "collapsed": false
   }
  },
  {
   "cell_type": "markdown",
   "source": [
    "### Instantiate model and train/val the model"
   ],
   "metadata": {
    "collapsed": false
   }
  },
  {
   "cell_type": "code",
   "execution_count": 17,
   "outputs": [
    {
     "name": "stdout",
     "output_type": "stream",
     "text": [
      "Size of Learnable Embedding :  [torch.Size([127032, 64])]\n"
     ]
    }
   ],
   "source": [
    "latent_dim = 64\n",
    "n_layers = 3\n",
    "LR = 0.005\n",
    "\n",
    "model = LightGCN(num_nodes=n_users+n_items, embedding_dim=latent_dim, num_layers=n_layers)\n",
    "optimizer = torch.optim.Adam(model.parameters(), lr=LR)\n",
    "print(\"Size of Learnable Embedding : \", [x.shape for x in list(model.parameters())])"
   ],
   "metadata": {
    "collapsed": false
   }
  },
  {
   "cell_type": "raw",
   "source": [
    "# def train_and_evl(n_users, n_items, n_neg, train_df, train_pos_list_df, test_pos_list_df, model, optimizer, device, EPOCHS = 50, BATCH_SIZE = 1024, K = 20, DECAY = 0.0001):  # test_u_i_matrix,\n",
    "#     edge_index, edge_weight = df_to_graph(train_df, True)\n",
    "#\n",
    "#     # test_u_i_matrix = test_u_i_matrix.to(device)\n",
    "#     edge_index = edge_index.to(device)\n",
    "#     edge_weight = edge_weight.to(device)\n",
    "#     model.to(device)\n",
    "#\n",
    "#     bpr_loss_epoch_list = []\n",
    "#     reg_loss_epoch_list = []\n",
    "#     final_loss_epoch_list = []\n",
    "#     recall_epoch_list = []\n",
    "#     precision_epoch_list = []\n",
    "#\n",
    "#     print('bpr_loss | reg_loss | final_loss | precision | recall')\n",
    "#     for epoch in tqdm(range(EPOCHS)):\n",
    "#         bpr_loss, reg_loss, final_loss = train_loop(train_pos_list_df, n_users, n_items, n_neg, edge_index, edge_weight, model, optimizer, BATCH_SIZE, device)\n",
    "#\n",
    "#         precision, recall = evaluation(model, n_users, n_items, edge_index, edge_weight, test_pos_list_df, K)\n",
    "#\n",
    "#         print(bpr_loss, reg_loss, final_loss, precision, recall)\n",
    "#         bpr_loss_epoch_list.append(bpr_loss)\n",
    "#         reg_loss_epoch_list.append(reg_loss)\n",
    "#         final_loss_epoch_list.append(final_loss)\n",
    "#         recall_epoch_list.append(recall)\n",
    "#         precision_epoch_list.append(precision)\n",
    "#\n",
    "#     return (\n",
    "#         bpr_loss_epoch_list,\n",
    "#         reg_loss_epoch_list,\n",
    "#         final_loss_epoch_list,\n",
    "#         recall_epoch_list,\n",
    "#         precision_epoch_list)"
   ],
   "metadata": {
    "collapsed": false
   }
  },
  {
   "cell_type": "code",
   "execution_count": 18,
   "outputs": [
    {
     "name": "stdout",
     "output_type": "stream",
     "text": [
      "bpr_loss | reg_loss | final_loss | precision | recall\n"
     ]
    },
    {
     "data": {
      "text/plain": "  0%|          | 0/50 [00:00<?, ?it/s]",
      "application/vnd.jupyter.widget-view+json": {
       "version_major": 2,
       "version_minor": 0,
       "model_id": "63cb3a44ffa845e1a42c8a98b8d968bd"
      }
     },
     "metadata": {},
     "output_type": "display_data"
    },
    {
     "name": "stdout",
     "output_type": "stream",
     "text": [
      "0.0225 0.0007 0.0231 0.0006 0.0116\n",
      "0.0002 0.0008 0.001 0.0005 0.0102\n",
      "0.0002 0.0007 0.0009 0.0008 0.015\n",
      "0.0002 0.0006 0.0008 0.0007 0.0135\n",
      "0.0002 0.0005 0.0007 0.0007 0.0128\n",
      "0.0001 0.0005 0.0006 0.0006 0.0116\n",
      "0.0001 0.0004 0.0006 0.0006 0.0108\n",
      "0.0001 0.0004 0.0005 0.0006 0.0122\n",
      "0.0001 0.0004 0.0005 0.0006 0.0119\n",
      "0.0001 0.0003 0.0005 0.0007 0.0128\n",
      "0.0001 0.0003 0.0005 0.0006 0.0111\n",
      "0.0001 0.0003 0.0004 0.0007 0.0139\n",
      "0.0001 0.0003 0.0004 0.0006 0.0119\n",
      "0.0001 0.0003 0.0004 0.0005 0.0102\n",
      "0.0001 0.0003 0.0004 0.0005 0.0094\n",
      "0.0001 0.0003 0.0004 0.0005 0.0088\n",
      "0.0001 0.0003 0.0004 0.0006 0.0111\n",
      "0.0001 0.0003 0.0004 0.0004 0.0073\n",
      "0.0001 0.0003 0.0004 0.0005 0.0094\n",
      "0.0001 0.0002 0.0004 0.0005 0.009\n",
      "0.0001 0.0002 0.0004 0.0005 0.0101\n",
      "0.0001 0.0002 0.0003 0.0005 0.0105\n",
      "0.0001 0.0002 0.0003 0.0005 0.0085\n",
      "0.0001 0.0002 0.0003 0.0005 0.0091\n",
      "0.0001 0.0002 0.0004 0.0005 0.0102\n",
      "0.0001 0.0002 0.0004 0.0004 0.0076\n",
      "0.0001 0.0002 0.0003 0.0005 0.0091\n",
      "0.0001 0.0002 0.0003 0.0005 0.0087\n",
      "0.0001 0.0002 0.0003 0.0004 0.0078\n",
      "0.0001 0.0002 0.0003 0.0005 0.0087\n",
      "0.0001 0.0002 0.0003 0.0005 0.0087\n",
      "0.0001 0.0002 0.0003 0.0005 0.0087\n",
      "0.0001 0.0002 0.0003 0.0006 0.011\n",
      "0.0001 0.0002 0.0003 0.0005 0.0104\n",
      "0.0001 0.0002 0.0003 0.0005 0.0087\n",
      "0.0001 0.0002 0.0003 0.0005 0.0101\n",
      "0.0001 0.0002 0.0003 0.0005 0.0104\n",
      "0.0001 0.0002 0.0003 0.0006 0.0118\n",
      "0.0001 0.0002 0.0003 0.0005 0.0105\n",
      "0.0001 0.0002 0.0003 0.0005 0.0101\n",
      "0.0001 0.0002 0.0003 0.0006 0.0111\n",
      "0.0001 0.0002 0.0003 0.0005 0.0094\n",
      "0.0001 0.0002 0.0003 0.0005 0.0098\n",
      "0.0001 0.0002 0.0003 0.0006 0.0112\n",
      "0.0001 0.0002 0.0003 0.0007 0.0132\n",
      "0.0001 0.0002 0.0003 0.0007 0.0138\n",
      "0.0001 0.0002 0.0003 0.0007 0.0135\n",
      "0.0001 0.0002 0.0003 0.0007 0.0135\n",
      "0.0002 0.0002 0.0003 0.0007 0.0118\n",
      "0.0001 0.0002 0.0003 0.0007 0.0132\n"
     ]
    }
   ],
   "source": [
    "bpr_loss, reg_loss, final_loss, recall, precision = \\\n",
    "    train_and_evl(n_users, n_items, 100, train_df, train_pos_list_df, val_pos_list_df, model, optimizer, device=device, EPOCHS = 50, BATCH_SIZE = 512, K = 20, DECAY = 0.0001)  # val_u_i_matrix,"
   ],
   "metadata": {
    "collapsed": false
   }
  },
  {
   "cell_type": "code",
   "execution_count": null,
   "outputs": [],
   "source": [
    "edge_index, edge_weight = df_to_graph(train_df, True)\n",
    "edge_index"
   ],
   "metadata": {
    "collapsed": false
   }
  },
  {
   "cell_type": "code",
   "execution_count": null,
   "outputs": [],
   "source": [
    "idx = list(range(len(users)))\n",
    "random.shuffle(idx)\n",
    "loader = DataLoader(idx, batch_size=100, shuffle=True)\n",
    "len(idx)"
   ],
   "metadata": {
    "collapsed": false
   }
  },
  {
   "cell_type": "code",
   "execution_count": null,
   "outputs": [],
   "source": [
    "model.train()\n",
    "for batch in loader:\n",
    "    optimizer.zero_grad()\n",
    "\n",
    "    batch_usr = users[batch]\n",
    "    batch_pos_items = pos_items[batch]\n",
    "    batch_neg_items = neg_items[batch]\n",
    "\n",
    "    batch_pos_neg_labels = batch_pos_neg_edges(batch_usr, batch_pos_items, batch_neg_items)"
   ],
   "metadata": {
    "collapsed": false
   }
  },
  {
   "cell_type": "code",
   "execution_count": null,
   "outputs": [],
   "source": [
    "batch_pos_neg_labels"
   ],
   "metadata": {
    "collapsed": false
   }
  },
  {
   "cell_type": "code",
   "execution_count": null,
   "outputs": [],
   "source": [
    "# batch_pos_neg_labels[1].min()"
   ],
   "metadata": {
    "collapsed": false
   }
  },
  {
   "cell_type": "code",
   "execution_count": null,
   "outputs": [],
   "source": [
    "out = model(edge_index, batch_pos_neg_labels, edge_weight)\n",
    "out"
   ],
   "metadata": {
    "collapsed": false
   }
  },
  {
   "cell_type": "code",
   "execution_count": null,
   "outputs": [],
   "source": [
    "size = len(batch)\n",
    "\n",
    "bpr_loss = model.recommendation_loss(out[:size], out[size:], 0) * size\n",
    "reg_loss = regularization_loss(model.embedding.weight, size, batch_usr, batch_pos_items, batch_neg_items)\n",
    "loss = bpr_loss + reg_loss"
   ],
   "metadata": {
    "collapsed": false
   }
  },
  {
   "cell_type": "code",
   "execution_count": null,
   "outputs": [],
   "source": [
    "# bpr_loss_batch_list = []\n",
    "# reg_loss_batch_list = []\n",
    "# final_loss_batch_list = []"
   ],
   "metadata": {
    "collapsed": false
   }
  },
  {
   "cell_type": "code",
   "execution_count": null,
   "outputs": [],
   "source": [
    "# bpr_loss_batch_list.append(bpr_loss.item())\n",
    "# reg_loss_batch_list.append(reg_loss.item())\n",
    "# final_loss_batch_list.append(loss.item())"
   ],
   "metadata": {
    "collapsed": false
   }
  },
  {
   "cell_type": "code",
   "execution_count": null,
   "outputs": [],
   "source": [
    "# bpr_loss = round(np.mean(bpr_loss_batch_list), 8)\n",
    "# reg_loss = round(np.mean(reg_loss_batch_list), 8)\n",
    "# final_loss = round(np.mean(final_loss_batch_list), 8)"
   ],
   "metadata": {
    "collapsed": false
   }
  },
  {
   "cell_type": "code",
   "execution_count": null,
   "outputs": [],
   "source": [
    "print(\"bpr loss: \", loss, \"reg loss: \", reg_loss, \"final loss\", loss)"
   ],
   "metadata": {
    "collapsed": false
   }
  },
  {
   "cell_type": "code",
   "execution_count": null,
   "outputs": [],
   "source": [
    "# bpr_loss_epoch_list = []\n",
    "# reg_loss_epoch_list = []\n",
    "# final_loss_epoch_list = []\n",
    "# recall_epoch_list = []\n",
    "# precision_epoch_list = []"
   ],
   "metadata": {
    "collapsed": false
   }
  },
  {
   "cell_type": "code",
   "execution_count": null,
   "outputs": [],
   "source": [
    "model.eval()\n",
    "with torch.no_grad():\n",
    "    embeds = model.get_embedding(edge_index, edge_weight)   # ?? ???\n",
    "    final_usr_embed, final_item_embed = torch.split(embeds, (n_users, n_items))"
   ],
   "metadata": {
    "collapsed": false
   }
  },
  {
   "cell_type": "code",
   "execution_count": null,
   "outputs": [],
   "source": [
    "# matrix = interact_matrix(train_df, n_users, n_items)"
   ],
   "metadata": {
    "collapsed": false
   }
  },
  {
   "cell_type": "code",
   "execution_count": null,
   "outputs": [],
   "source": [
    "test_topK_recall, test_topK_precision = get_metrics(final_usr_embed, final_item_embed, val_pos_list_df, 20)"
   ],
   "metadata": {
    "collapsed": false
   }
  },
  {
   "cell_type": "code",
   "execution_count": null,
   "outputs": [],
   "source": [
    "print('precision: ', test_topK_precision, 'recall: ', test_topK_recall)"
   ],
   "metadata": {
    "collapsed": false
   }
  },
  {
   "cell_type": "code",
   "execution_count": null,
   "outputs": [],
   "source": [
    "relevance_score = final_usr_embed @ final_item_embed.t()\n",
    "relevance_score.shape"
   ],
   "metadata": {
    "collapsed": false
   }
  },
  {
   "cell_type": "code",
   "execution_count": null,
   "outputs": [],
   "source": [
    "topk_relevance_indices = torch.topk(relevance_score, 20).indices\n",
    "topk_relevance_indices[0:6]"
   ],
   "metadata": {
    "collapsed": false
   }
  },
  {
   "cell_type": "code",
   "execution_count": null,
   "outputs": [],
   "source": [
    "topk_relevance_indices.shape"
   ],
   "metadata": {
    "collapsed": false
   }
  },
  {
   "cell_type": "code",
   "execution_count": null,
   "outputs": [],
   "source": [
    "# t = topk_relevance_indices\n",
    "# t = torch.flatten(t)\n",
    "# t.shape"
   ],
   "metadata": {
    "collapsed": false
   }
  },
  {
   "cell_type": "code",
   "execution_count": null,
   "outputs": [],
   "source": [
    "# torch.max(t)"
   ],
   "metadata": {
    "collapsed": false
   }
  },
  {
   "cell_type": "code",
   "execution_count": null,
   "outputs": [],
   "source": [
    "# torch.min(t)"
   ],
   "metadata": {
    "collapsed": false
   }
  },
  {
   "cell_type": "code",
   "execution_count": null,
   "outputs": [],
   "source": [
    "# aa = list([68,561,1949,2478,4236,5117,5320,6173])\n",
    "# train_df.loc[train_df['user_id_idx'].isin(aa)]"
   ],
   "metadata": {
    "collapsed": false
   }
  },
  {
   "cell_type": "code",
   "execution_count": null,
   "outputs": [],
   "source": [
    "topk_relevance_indices_df = pd.DataFrame(topk_relevance_indices.cpu().numpy())\n",
    "topk_relevance_indices_df"
   ],
   "metadata": {
    "collapsed": false
   }
  },
  {
   "cell_type": "code",
   "execution_count": null,
   "outputs": [],
   "source": [
    "topk_relevance_indices_df['top_rlvnt_itm'] = topk_relevance_indices_df.values.tolist()\n",
    "topk_relevance_indices_df['top_rlvnt_itm']"
   ],
   "metadata": {
    "collapsed": false
   }
  },
  {
   "cell_type": "code",
   "execution_count": null,
   "outputs": [],
   "source": [
    "topk_relevance_indices_df"
   ],
   "metadata": {
    "collapsed": false
   }
  },
  {
   "cell_type": "code",
   "execution_count": null,
   "outputs": [],
   "source": [
    "topk_relevance_indices_df['user_ID'] = topk_relevance_indices_df.index\n",
    "topk_relevance_indices_df"
   ],
   "metadata": {
    "collapsed": false
   }
  },
  {
   "cell_type": "code",
   "execution_count": null,
   "outputs": [],
   "source": [
    "topk_relevance_indices_df = topk_relevance_indices_df[['user_ID', 'top_rlvnt_itm']]\n",
    "topk_relevance_indices_df"
   ],
   "metadata": {
    "collapsed": false
   }
  },
  {
   "cell_type": "code",
   "execution_count": null,
   "outputs": [],
   "source": [
    "# test_interacted_items = val_df.groupby('user_id_idx')['item_id_idx'].apply(list).reset_index()\n",
    "# test_interacted_items"
   ],
   "metadata": {
    "collapsed": false
   }
  },
  {
   "cell_type": "code",
   "execution_count": null,
   "outputs": [],
   "source": [
    "test_pos_list_df"
   ],
   "metadata": {
    "collapsed": false
   }
  },
  {
   "cell_type": "code",
   "execution_count": null,
   "outputs": [],
   "source": [
    "metrics_df = pd.merge(test_pos_list_df, topk_relevance_indices_df, how='left', left_on='user_id_idx', right_on='user_ID')\n",
    "metrics_df"
   ],
   "metadata": {
    "collapsed": false
   }
  },
  {
   "cell_type": "code",
   "execution_count": null,
   "outputs": [],
   "source": [
    "metrics_df['intrsctn_itm'] = [list(set(a).intersection(b)) for a, b in\n",
    "                                  zip(metrics_df.item_id_idx_list, metrics_df.top_rlvnt_itm)]\n",
    "metrics_df"
   ],
   "metadata": {
    "collapsed": false
   }
  },
  {
   "cell_type": "code",
   "execution_count": null,
   "outputs": [],
   "source": [],
   "metadata": {
    "collapsed": false
   }
  }
 ],
 "metadata": {
  "kernelspec": {
   "display_name": "Python 3",
   "language": "python",
   "name": "python3"
  },
  "language_info": {
   "codemirror_mode": {
    "name": "ipython",
    "version": 2
   },
   "file_extension": ".py",
   "mimetype": "text/x-python",
   "name": "python",
   "nbconvert_exporter": "python",
   "pygments_lexer": "ipython2",
   "version": "2.7.6"
  }
 },
 "nbformat": 4,
 "nbformat_minor": 0
}
