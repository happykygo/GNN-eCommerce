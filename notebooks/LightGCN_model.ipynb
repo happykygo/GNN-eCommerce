{
 "cells": [
  {
   "cell_type": "markdown",
   "source": [
    "# LightGCN model RecSys"
   ],
   "metadata": {
    "collapsed": false
   }
  },
  {
   "cell_type": "code",
   "execution_count": 1,
   "outputs": [],
   "source": [
    "# import matplotlib.pyplot as plt\n",
    "# import networkx as nx\n",
    "# import numpy as np\n",
    "# import pandas as pd\n",
    "import yaml\n",
    "# import glob\n",
    "# import torch\n",
    "# import torch.nn\n",
    "from lightgcn import LightGCN\n",
    "# from torch_geometric.nn import LightGCN\n",
    "from tqdm.notebook import tqdm\n",
    "from sklearn.model_selection import train_test_split\n",
    "# from collections import defaultdict\n",
    "from utils import *\n",
    "pd.set_option('display.max_colwidth', None)"
   ],
   "metadata": {
    "collapsed": false
   }
  },
  {
   "cell_type": "code",
   "execution_count": 2,
   "outputs": [
    {
     "data": {
      "text/plain": "device(type='cuda', index=0)"
     },
     "execution_count": 2,
     "metadata": {},
     "output_type": "execute_result"
    }
   ],
   "source": [
    "device = torch.device(\"cuda:0\" if torch.cuda.is_available() else \"cpu\")\n",
    "device # = \"cpu\""
   ],
   "metadata": {
    "collapsed": false
   }
  },
  {
   "cell_type": "markdown",
   "source": [
    "# Load Config"
   ],
   "metadata": {
    "collapsed": false
   }
  },
  {
   "cell_type": "code",
   "execution_count": 3,
   "outputs": [
    {
     "name": "stdout",
     "output_type": "stream",
     "text": [
      "/home/ying/GNN-eCommerce\n"
     ]
    },
    {
     "data": {
      "text/plain": "{'base': {'random_seed': 42},\n 'data': {'cosmetic_shop': 'data/raw/cosmetic-shop-ecommerce-events/',\n  'preprocessed': 'data/preprocessed/'},\n 'training': {'event_type_weights': {'view': 0.01,\n   'cart': 0.1,\n   'remove_from_cart': -0.09,\n   'purchase': 1.0}},\n 'reports': None}"
     },
     "execution_count": 3,
     "metadata": {},
     "output_type": "execute_result"
    }
   ],
   "source": [
    "%cd ..\n",
    "with open(\"params.yaml\") as config_file:\n",
    "    config = yaml.safe_load(config_file)\n",
    "config"
   ],
   "metadata": {
    "collapsed": false
   }
  },
  {
   "cell_type": "markdown",
   "source": [
    "# Load Interaction Matrix from csv"
   ],
   "metadata": {
    "collapsed": false
   }
  },
  {
   "cell_type": "code",
   "execution_count": 4,
   "outputs": [],
   "source": [
    "interaction_matrix = pd.read_csv(config['data']['preprocessed'] + \"interaction_matrix.csv\")\n",
    "interaction_matrix = interaction_matrix.rename(columns={\"product_id\": \"item_id\"})"
   ],
   "metadata": {
    "collapsed": false
   }
  },
  {
   "cell_type": "code",
   "execution_count": 5,
   "outputs": [],
   "source": [
    "im = interaction_matrix[['user_id', 'item_id', 'weight']].copy()"
   ],
   "metadata": {
    "collapsed": false
   }
  },
  {
   "cell_type": "code",
   "execution_count": 6,
   "outputs": [
    {
     "name": "stdout",
     "output_type": "stream",
     "text": [
      "Total data size:  10157408 , unique user:  1639358 , unique items:  54571\n"
     ]
    }
   ],
   "source": [
    "print('Total data size: ', len(im), ', unique user: ', im.user_id.nunique(), ', unique items: ', im.item_id.nunique())"
   ],
   "metadata": {
    "collapsed": false
   }
  },
  {
   "cell_type": "raw",
   "source": [
    "# ying = im.head(1000)\n",
    "# ying"
   ],
   "metadata": {
    "collapsed": false
   }
  },
  {
   "cell_type": "raw",
   "source": [
    "# train_df, test_df = train_test_split(ying, test_size=0.3, random_state=16)\n",
    "# test_df, val_df = train_test_split(test_df, test_size=0.5, random_state=16)"
   ],
   "metadata": {
    "collapsed": false
   }
  },
  {
   "cell_type": "code",
   "execution_count": 7,
   "outputs": [],
   "source": [
    "# ?? Should user never purchase removed at the beginning ??? NO for now!!\n",
    "# mini_im = purchase_users(im)\n",
    "#mini_im = im.sample(200000, random_state=1)  #100000\n",
    "mini_im = im"
   ],
   "metadata": {
    "collapsed": false
   }
  },
  {
   "cell_type": "code",
   "execution_count": 8,
   "outputs": [
    {
     "name": "stdout",
     "output_type": "stream",
     "text": [
      "Mini dataset size:  10157408 , Users at least purchased once:  4688157\n"
     ]
    }
   ],
   "source": [
    "print('Mini dataset size: ', len(mini_im), ', Users at least purchased once: ', len(purchase_users(mini_im)))\n",
    "# print('Valid data percentage: ', f'{len(mini_im)/len(im):.2%}')"
   ],
   "metadata": {
    "collapsed": false
   }
  },
  {
   "cell_type": "raw",
   "source": [
    "# mini_im.loc[~mini_im['user_id'].isin(u_id_filter)]"
   ],
   "metadata": {
    "collapsed": false
   }
  },
  {
   "cell_type": "markdown",
   "source": [
    "### Prepare Train/ Val/ Test dataset"
   ],
   "metadata": {
    "collapsed": false
   }
  },
  {
   "cell_type": "code",
   "execution_count": 9,
   "outputs": [],
   "source": [
    "train_df, test_df = train_test_split(mini_im, test_size=0.02)\n",
    "test_df, val_df = train_test_split(test_df, test_size=0.5)"
   ],
   "metadata": {
    "collapsed": false
   }
  },
  {
   "cell_type": "code",
   "execution_count": 10,
   "outputs": [
    {
     "name": "stdout",
     "output_type": "stream",
     "text": [
      "Mini set unique user:  1639358 , unique items:  54571\n",
      "Train Size  :  9954259\n",
      "Val Size :  101575\n",
      "Test Size :  101574\n"
     ]
    }
   ],
   "source": [
    "print('Mini set unique user: ', mini_im.user_id.nunique(), ', unique items: ', mini_im.item_id.nunique())\n",
    "print(\"Train Size  : \", len(train_df))\n",
    "print(\"Val Size : \", len (val_df))\n",
    "print(\"Test Size : \", len (test_df))"
   ],
   "metadata": {
    "collapsed": false
   }
  },
  {
   "cell_type": "code",
   "execution_count": 11,
   "outputs": [],
   "source": [
    "n_users, n_items, train_df, train_pos_list_df, val_pos_list_df, test_pos_list_df = prepare_val_test(train_df, val_df, test_df)  # , val_u_i_matrix, test_u_i_matrix"
   ],
   "metadata": {
    "collapsed": false
   }
  },
  {
   "cell_type": "code",
   "execution_count": 12,
   "outputs": [
    {
     "name": "stdout",
     "output_type": "stream",
     "text": [
      "Users :  1619629\n",
      "Items :  54500\n",
      "Train Size  :  9954259\n",
      "Val Size :  10413\n",
      "Test Size :  10474\n"
     ]
    }
   ],
   "source": [
    "print(\"Users : \", n_users)\n",
    "print(\"Items : \", n_items)\n",
    "print(\"Train Size  : \", len(train_df))\n",
    "print(\"Val Size : \", len (val_pos_list_df))\n",
    "print(\"Test Size : \", len (test_pos_list_df))"
   ],
   "metadata": {
    "collapsed": false
   }
  },
  {
   "cell_type": "raw",
   "source": [
    "# train_df"
   ],
   "metadata": {
    "collapsed": false
   }
  },
  {
   "cell_type": "raw",
   "source": [
    "# train_pos_list_df"
   ],
   "metadata": {
    "collapsed": false
   }
  },
  {
   "cell_type": "raw",
   "source": [
    "# val_pos_list_df"
   ],
   "metadata": {
    "collapsed": false
   }
  },
  {
   "cell_type": "raw",
   "source": [
    "# val_df, test_df = sync_nodes(train_df, val_df, test_df)\n",
    "# n_users, n_items, train_df, val_df, test_df = relabelling(train_df, val_df, test_df)\n",
    "# train_df['item_id_idx'] = train_df['item_id_idx'] + n_users\n",
    "# train_pos_list_df = pos_item_list(train_df)\n",
    "# val_pos_list_df = pos_item_list(val_df)\n",
    "# test_pos_list_df = pos_item_list(test_df)"
   ],
   "metadata": {
    "collapsed": false
   }
  },
  {
   "cell_type": "code",
   "execution_count": 13,
   "outputs": [],
   "source": [
    "# train_df"
   ],
   "metadata": {
    "collapsed": false
   }
  },
  {
   "cell_type": "code",
   "execution_count": 14,
   "outputs": [],
   "source": [
    "# train_pos_list_df"
   ],
   "metadata": {
    "collapsed": false
   }
  },
  {
   "cell_type": "code",
   "execution_count": 15,
   "outputs": [],
   "source": [
    "# val_pos_list_df"
   ],
   "metadata": {
    "collapsed": false
   }
  },
  {
   "cell_type": "code",
   "execution_count": 16,
   "outputs": [],
   "source": [
    "# test_pos_list_df"
   ],
   "metadata": {
    "collapsed": false
   }
  },
  {
   "cell_type": "raw",
   "source": [
    "# v = val_pos_list_df\n",
    "# v.loc[3] = [809, [2600, 99]]\n",
    "# v.loc[4] = [999, []]\n",
    "# v"
   ],
   "metadata": {
    "collapsed": false
   }
  },
  {
   "cell_type": "raw",
   "source": [
    "# v.item_id_idx_list = v.item_id_idx_list.apply(lambda x: np.array(x)+100)"
   ],
   "metadata": {
    "collapsed": false
   }
  },
  {
   "cell_type": "raw",
   "source": [
    "# def ignor_neg_item_list(train_pos_list_df, val_pos_list_df, test_pos_list_df, n_users):\n",
    "#     v = pd.merge(val_pos_list_df, test_pos_list_df, how='outer', left_on='user_id_idx', right_on='user_id_idx')\n",
    "#     train_pos_list_df = pd.merge(train_pos_list_df, v, how='left', left_on='user_id_idx', right_on='user_id_idx')\n",
    "#     train_pos_list_df.item_id_idx_list = train_pos_list_df.item_id_idx_list.fillna('').apply(list)\n",
    "#     train_pos_list_df.item_id_idx_list_x = train_pos_list_df.item_id_idx_list_x.fillna('').apply(list)\n",
    "#     train_pos_list_df.item_id_idx_list_x = train_pos_list_df.item_id_idx_list_x.apply(lambda x: np.array(x) + n_users)\n",
    "#     train_pos_list_df.item_id_idx_list_y = train_pos_list_df.item_id_idx_list_y.fillna('').apply(list)\n",
    "#     train_pos_list_df.item_id_idx_list_y = train_pos_list_df.item_id_idx_list_y.apply(lambda x: np.array(x) + n_users)\n",
    "#\n",
    "#     train_pos_list_df['ignor_neg_list'] = [list((set(a).union(b).union(c))) for a, b, c in\n",
    "#                                            zip(train_pos_list_df.item_id_idx_list, train_pos_list_df.item_id_idx_list_x, train_pos_list_df.item_id_idx_list_y)]\n",
    "#     train_pos_list_df = train_pos_list_df[['user_id_idx', 'item_id_idx_list', 'ignor_neg_list']]\n",
    "#\n",
    "#     return train_pos_list_df"
   ],
   "metadata": {
    "collapsed": false
   }
  },
  {
   "cell_type": "raw",
   "source": [
    "# x = ignor_neg_item_list(train_pos_list_df, val_pos_list_df, test_pos_list_df, n_users)\n",
    "# x"
   ],
   "metadata": {
    "collapsed": false
   }
  },
  {
   "cell_type": "raw",
   "source": [],
   "metadata": {
    "collapsed": false
   }
  },
  {
   "cell_type": "raw",
   "source": [
    "# users, pos_items, neg_items = pos_neg_edge_index(train_pos_list_df, 100, n_users, n_items)"
   ],
   "metadata": {
    "collapsed": false
   }
  },
  {
   "cell_type": "raw",
   "source": [
    "# print('Size of sample pool: ', len(users))"
   ],
   "metadata": {
    "collapsed": false
   }
  },
  {
   "cell_type": "markdown",
   "source": [
    "### Instantiate model and train/val the model"
   ],
   "metadata": {
    "collapsed": false
   }
  },
  {
   "cell_type": "code",
   "execution_count": 17,
   "outputs": [
    {
     "name": "stdout",
     "output_type": "stream",
     "text": [
      "Size of Learnable Embedding :  [torch.Size([1674129, 64])]\n"
     ]
    }
   ],
   "source": [
    "latent_dim = 64\n",
    "n_layers = 3\n",
    "LR = 0.005\n",
    "\n",
    "model = LightGCN(num_nodes=n_users+n_items, embedding_dim=latent_dim, num_layers=n_layers)\n",
    "optimizer = torch.optim.Adam(model.parameters(), lr=LR)\n",
    "print(\"Size of Learnable Embedding : \", [x.shape for x in list(model.parameters())])"
   ],
   "metadata": {
    "collapsed": false
   }
  },
  {
   "cell_type": "raw",
   "source": [
    "# def train_and_evl(n_users, n_items, n_neg, train_df, train_pos_list_df, test_pos_list_df, model, optimizer, device, EPOCHS = 50, BATCH_SIZE = 1024, K = 20, DECAY = 0.0001):  # test_u_i_matrix,\n",
    "#     edge_index, edge_weight = df_to_graph(train_df, True)\n",
    "#\n",
    "#     # test_u_i_matrix = test_u_i_matrix.to(device)\n",
    "#     edge_index = edge_index.to(device)\n",
    "#     edge_weight = edge_weight.to(device)\n",
    "#     model.to(device)\n",
    "#\n",
    "#     bpr_loss_epoch_list = []\n",
    "#     reg_loss_epoch_list = []\n",
    "#     final_loss_epoch_list = []\n",
    "#     recall_epoch_list = []\n",
    "#     precision_epoch_list = []\n",
    "#\n",
    "#     print('bpr_loss | reg_loss | final_loss | precision | recall')\n",
    "#     for epoch in tqdm(range(EPOCHS)):\n",
    "#         bpr_loss, reg_loss, final_loss = train_loop(train_pos_list_df, n_users, n_items, n_neg, edge_index, edge_weight, model, optimizer, BATCH_SIZE, device)\n",
    "#\n",
    "#         precision, recall = evaluation(model, n_users, n_items, edge_index, edge_weight, test_pos_list_df, K)\n",
    "#\n",
    "#         print(bpr_loss, reg_loss, final_loss, precision, recall)\n",
    "#         bpr_loss_epoch_list.append(bpr_loss)\n",
    "#         reg_loss_epoch_list.append(reg_loss)\n",
    "#         final_loss_epoch_list.append(final_loss)\n",
    "#         recall_epoch_list.append(recall)\n",
    "#         precision_epoch_list.append(precision)\n",
    "#\n",
    "#     return (\n",
    "#         bpr_loss_epoch_list,\n",
    "#         reg_loss_epoch_list,\n",
    "#         final_loss_epoch_list,\n",
    "#         recall_epoch_list,\n",
    "#         precision_epoch_list)"
   ],
   "metadata": {
    "collapsed": false
   }
  },
  {
   "cell_type": "code",
   "execution_count": 18,
   "outputs": [
    {
     "name": "stdout",
     "output_type": "stream",
     "text": [
      "bpr_loss | reg_loss | final_loss | precision | recall\n"
     ]
    },
    {
     "data": {
      "text/plain": "  0%|          | 0/50 [00:00<?, ?it/s]",
      "application/vnd.jupyter.widget-view+json": {
       "version_major": 2,
       "version_minor": 0,
       "model_id": "35b05fce70c14696ac1ff992104ad17e"
      }
     },
     "metadata": {},
     "output_type": "display_data"
    },
    {
     "name": "stdout",
     "output_type": "stream",
     "text": [
      "0.4829 0.0001 0.4829 0.0026 0.0463\n",
      "0.2428 0.0002 0.243 0.0029 0.0524\n",
      "0.2042 0.0003 0.2045 0.0032 0.0581\n",
      "0.1812 0.0004 0.1816 0.0034 0.0616\n",
      "0.1631 0.0004 0.1634 0.0035 0.0645\n",
      "0.1558 0.0004 0.1563 0.0036 0.0663\n",
      "0.1454 0.0005 0.1459 0.0036 0.0666\n",
      "0.1381 0.0005 0.1386 0.0037 0.0679\n",
      "0.1361 0.0005 0.1366 0.0038 0.0688\n",
      "0.1264 0.0005 0.127 0.0038 0.0692\n",
      "0.1246 0.0006 0.1251 0.004 0.0725\n",
      "0.1171 0.0006 0.1177 0.004 0.0732\n",
      "0.1146 0.0006 0.1152 0.0041 0.0747\n",
      "0.1111 0.0007 0.1117 0.0041 0.0751\n",
      "0.1073 0.0007 0.1079 0.0041 0.0757\n",
      "0.1047 0.0007 0.1054 0.0042 0.076\n",
      "0.1032 0.0007 0.1039 0.0043 0.078\n",
      "0.0972 0.0008 0.098 0.0043 0.0784\n",
      "0.096 0.0008 0.0968 0.0042 0.0781\n",
      "0.0954 0.0008 0.0962 0.0044 0.0799\n",
      "0.0921 0.0008 0.0929 0.0044 0.08\n",
      "0.0886 0.0009 0.0894 0.0044 0.0803\n",
      "0.0859 0.0009 0.0867 0.0044 0.0808\n",
      "0.0846 0.0009 0.0855 0.0044 0.0816\n",
      "0.0827 0.0009 0.0836 0.0045 0.0833\n",
      "0.0806 0.001 0.0815 0.0045 0.0835\n",
      "0.0762 0.001 0.0772 0.0045 0.0827\n",
      "0.0747 0.001 0.0757 0.0046 0.0837\n",
      "0.0758 0.001 0.0769 0.0045 0.0836\n",
      "0.0722 0.001 0.0733 0.0046 0.0843\n",
      "0.0706 0.0011 0.0717 0.0046 0.085\n",
      "0.0693 0.0011 0.0704 0.0046 0.0848\n",
      "0.0687 0.0011 0.0698 0.0047 0.0858\n",
      "0.0676 0.0011 0.0687 0.0047 0.0868\n",
      "0.066 0.0012 0.0671 0.0048 0.0876\n",
      "0.0644 0.0012 0.0656 0.0047 0.0873\n",
      "0.0637 0.0012 0.0649 0.0048 0.0883\n",
      "0.0625 0.0012 0.0637 0.0048 0.088\n",
      "0.0608 0.0012 0.062 0.0048 0.088\n",
      "0.058 0.0013 0.0592 0.0049 0.0897\n",
      "0.0602 0.0013 0.0615 0.0048 0.0891\n",
      "0.0561 0.0013 0.0574 0.0048 0.0879\n",
      "0.0565 0.0013 0.0579 0.0049 0.0897\n",
      "0.0542 0.0013 0.0555 0.0049 0.0905\n",
      "0.0538 0.0014 0.0552 0.0049 0.0901\n",
      "0.0534 0.0014 0.0548 0.0049 0.0905\n",
      "0.0512 0.0014 0.0526 0.0049 0.0907\n",
      "0.0511 0.0014 0.0525 0.005 0.0909\n",
      "0.0508 0.0014 0.0522 0.005 0.0913\n",
      "0.0503 0.0015 0.0518 0.0049 0.091\n"
     ]
    }
   ],
   "source": [
    "bpr_loss, reg_loss, final_loss, recall, precision = \\\n",
    "    train_and_evl(n_users, n_items, 1, train_df, train_pos_list_df, val_pos_list_df, model, optimizer, device=device, EPOCHS = 50, BATCH_SIZE = 2048, K = 20, DECAY = 0.0001)  # val_u_i_matrix,"
   ],
   "metadata": {
    "collapsed": false
   }
  },
  {
   "cell_type": "code",
   "execution_count": null,
   "outputs": [],
   "source": [
    "edge_index, edge_weight = df_to_graph(train_df, True)\n",
    "edge_index"
   ],
   "metadata": {
    "collapsed": false
   }
  },
  {
   "cell_type": "code",
   "execution_count": null,
   "outputs": [],
   "source": [
    "idx = list(range(len(users)))\n",
    "random.shuffle(idx)\n",
    "loader = DataLoader(idx, batch_size=100, shuffle=True)\n",
    "len(idx)"
   ],
   "metadata": {
    "collapsed": false
   }
  },
  {
   "cell_type": "code",
   "execution_count": null,
   "outputs": [],
   "source": [
    "model.train()\n",
    "for batch in loader:\n",
    "    optimizer.zero_grad()\n",
    "\n",
    "    batch_usr = users[batch]\n",
    "    batch_pos_items = pos_items[batch]\n",
    "    batch_neg_items = neg_items[batch]\n",
    "\n",
    "    batch_pos_neg_labels = batch_pos_neg_edges(batch_usr, batch_pos_items, batch_neg_items)"
   ],
   "metadata": {
    "collapsed": false
   }
  },
  {
   "cell_type": "code",
   "execution_count": null,
   "outputs": [],
   "source": [
    "batch_pos_neg_labels"
   ],
   "metadata": {
    "collapsed": false
   }
  },
  {
   "cell_type": "code",
   "execution_count": null,
   "outputs": [],
   "source": [
    "# batch_pos_neg_labels[1].min()"
   ],
   "metadata": {
    "collapsed": false
   }
  },
  {
   "cell_type": "code",
   "execution_count": null,
   "outputs": [],
   "source": [
    "out = model(edge_index, batch_pos_neg_labels, edge_weight)\n",
    "out"
   ],
   "metadata": {
    "collapsed": false
   }
  },
  {
   "cell_type": "code",
   "execution_count": null,
   "outputs": [],
   "source": [
    "size = len(batch)\n",
    "\n",
    "bpr_loss = model.recommendation_loss(out[:size], out[size:], 0) * size\n",
    "reg_loss = regularization_loss(model.embedding.weight, size, batch_usr, batch_pos_items, batch_neg_items)\n",
    "loss = bpr_loss + reg_loss"
   ],
   "metadata": {
    "collapsed": false
   }
  },
  {
   "cell_type": "code",
   "execution_count": null,
   "outputs": [],
   "source": [
    "# bpr_loss_batch_list = []\n",
    "# reg_loss_batch_list = []\n",
    "# final_loss_batch_list = []"
   ],
   "metadata": {
    "collapsed": false
   }
  },
  {
   "cell_type": "code",
   "execution_count": null,
   "outputs": [],
   "source": [
    "# bpr_loss_batch_list.append(bpr_loss.item())\n",
    "# reg_loss_batch_list.append(reg_loss.item())\n",
    "# final_loss_batch_list.append(loss.item())"
   ],
   "metadata": {
    "collapsed": false
   }
  },
  {
   "cell_type": "code",
   "execution_count": null,
   "outputs": [],
   "source": [
    "# bpr_loss = round(np.mean(bpr_loss_batch_list), 8)\n",
    "# reg_loss = round(np.mean(reg_loss_batch_list), 8)\n",
    "# final_loss = round(np.mean(final_loss_batch_list), 8)"
   ],
   "metadata": {
    "collapsed": false
   }
  },
  {
   "cell_type": "code",
   "execution_count": null,
   "outputs": [],
   "source": [
    "print(\"bpr loss: \", loss, \"reg loss: \", reg_loss, \"final loss\", loss)"
   ],
   "metadata": {
    "collapsed": false
   }
  },
  {
   "cell_type": "code",
   "execution_count": null,
   "outputs": [],
   "source": [
    "# bpr_loss_epoch_list = []\n",
    "# reg_loss_epoch_list = []\n",
    "# final_loss_epoch_list = []\n",
    "# recall_epoch_list = []\n",
    "# precision_epoch_list = []"
   ],
   "metadata": {
    "collapsed": false
   }
  },
  {
   "cell_type": "code",
   "execution_count": null,
   "outputs": [],
   "source": [
    "model.eval()\n",
    "with torch.no_grad():\n",
    "    embeds = model.get_embedding(edge_index, edge_weight)   # ?? ???\n",
    "    final_usr_embed, final_item_embed = torch.split(embeds, (n_users, n_items))"
   ],
   "metadata": {
    "collapsed": false
   }
  },
  {
   "cell_type": "code",
   "execution_count": null,
   "outputs": [],
   "source": [
    "# matrix = interact_matrix(train_df, n_users, n_items)"
   ],
   "metadata": {
    "collapsed": false
   }
  },
  {
   "cell_type": "code",
   "execution_count": null,
   "outputs": [],
   "source": [
    "test_topK_recall, test_topK_precision = get_metrics(final_usr_embed, final_item_embed, val_pos_list_df, 20)"
   ],
   "metadata": {
    "collapsed": false
   }
  },
  {
   "cell_type": "code",
   "execution_count": null,
   "outputs": [],
   "source": [
    "print('precision: ', test_topK_precision, 'recall: ', test_topK_recall)"
   ],
   "metadata": {
    "collapsed": false
   }
  },
  {
   "cell_type": "code",
   "execution_count": null,
   "outputs": [],
   "source": [
    "relevance_score = final_usr_embed @ final_item_embed.t()\n",
    "relevance_score.shape"
   ],
   "metadata": {
    "collapsed": false
   }
  },
  {
   "cell_type": "code",
   "execution_count": null,
   "outputs": [],
   "source": [
    "topk_relevance_indices = torch.topk(relevance_score, 20).indices\n",
    "topk_relevance_indices[0:6]"
   ],
   "metadata": {
    "collapsed": false
   }
  },
  {
   "cell_type": "code",
   "execution_count": null,
   "outputs": [],
   "source": [
    "topk_relevance_indices.shape"
   ],
   "metadata": {
    "collapsed": false
   }
  },
  {
   "cell_type": "code",
   "execution_count": null,
   "outputs": [],
   "source": [
    "# t = topk_relevance_indices\n",
    "# t = torch.flatten(t)\n",
    "# t.shape"
   ],
   "metadata": {
    "collapsed": false
   }
  },
  {
   "cell_type": "code",
   "execution_count": null,
   "outputs": [],
   "source": [
    "# torch.max(t)"
   ],
   "metadata": {
    "collapsed": false
   }
  },
  {
   "cell_type": "code",
   "execution_count": null,
   "outputs": [],
   "source": [
    "# torch.min(t)"
   ],
   "metadata": {
    "collapsed": false
   }
  },
  {
   "cell_type": "code",
   "execution_count": null,
   "outputs": [],
   "source": [
    "# aa = list([68,561,1949,2478,4236,5117,5320,6173])\n",
    "# train_df.loc[train_df['user_id_idx'].isin(aa)]"
   ],
   "metadata": {
    "collapsed": false
   }
  },
  {
   "cell_type": "code",
   "execution_count": null,
   "outputs": [],
   "source": [
    "topk_relevance_indices_df = pd.DataFrame(topk_relevance_indices.cpu().numpy())\n",
    "topk_relevance_indices_df"
   ],
   "metadata": {
    "collapsed": false
   }
  },
  {
   "cell_type": "code",
   "execution_count": null,
   "outputs": [],
   "source": [
    "topk_relevance_indices_df['top_rlvnt_itm'] = topk_relevance_indices_df.values.tolist()\n",
    "topk_relevance_indices_df['top_rlvnt_itm']"
   ],
   "metadata": {
    "collapsed": false
   }
  },
  {
   "cell_type": "code",
   "execution_count": null,
   "outputs": [],
   "source": [
    "topk_relevance_indices_df"
   ],
   "metadata": {
    "collapsed": false
   }
  },
  {
   "cell_type": "code",
   "execution_count": null,
   "outputs": [],
   "source": [
    "topk_relevance_indices_df['user_ID'] = topk_relevance_indices_df.index\n",
    "topk_relevance_indices_df"
   ],
   "metadata": {
    "collapsed": false
   }
  },
  {
   "cell_type": "code",
   "execution_count": null,
   "outputs": [],
   "source": [
    "topk_relevance_indices_df = topk_relevance_indices_df[['user_ID', 'top_rlvnt_itm']]\n",
    "topk_relevance_indices_df"
   ],
   "metadata": {
    "collapsed": false
   }
  },
  {
   "cell_type": "code",
   "execution_count": null,
   "outputs": [],
   "source": [
    "# test_interacted_items = val_df.groupby('user_id_idx')['item_id_idx'].apply(list).reset_index()\n",
    "# test_interacted_items"
   ],
   "metadata": {
    "collapsed": false
   }
  },
  {
   "cell_type": "code",
   "execution_count": null,
   "outputs": [],
   "source": [
    "test_pos_list_df"
   ],
   "metadata": {
    "collapsed": false
   }
  },
  {
   "cell_type": "code",
   "execution_count": null,
   "outputs": [],
   "source": [
    "metrics_df = pd.merge(test_pos_list_df, topk_relevance_indices_df, how='left', left_on='user_id_idx', right_on='user_ID')\n",
    "metrics_df"
   ],
   "metadata": {
    "collapsed": false
   }
  },
  {
   "cell_type": "code",
   "execution_count": null,
   "outputs": [],
   "source": [
    "metrics_df['intrsctn_itm'] = [list(set(a).intersection(b)) for a, b in\n",
    "                                  zip(metrics_df.item_id_idx_list, metrics_df.top_rlvnt_itm)]\n",
    "metrics_df"
   ],
   "metadata": {
    "collapsed": false
   }
  },
  {
   "cell_type": "code",
   "execution_count": null,
   "outputs": [],
   "source": [],
   "metadata": {
    "collapsed": false
   }
  }
 ],
 "metadata": {
  "kernelspec": {
   "display_name": "Python 3",
   "language": "python",
   "name": "python3"
  },
  "language_info": {
   "codemirror_mode": {
    "name": "ipython",
    "version": 2
   },
   "file_extension": ".py",
   "mimetype": "text/x-python",
   "name": "python",
   "nbconvert_exporter": "python",
   "pygments_lexer": "ipython2",
   "version": "2.7.6"
  }
 },
 "nbformat": 4,
 "nbformat_minor": 0
}
