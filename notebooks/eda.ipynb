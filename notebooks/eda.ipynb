{
 "cells": [
  {
   "cell_type": "markdown",
   "source": [
    "<p align = \"center\" draggable=”false” ><img src=\"https://user-images.githubusercontent.com/37101144/161836199-fdb0219d-0361-4988-bf26-48b0fad160a3.png\"\n",
    "     width=\"200px\"\n",
    "     height=\"auto\"/>\n",
    "</p>"
   ],
   "metadata": {
    "collapsed": false
   }
  },
  {
   "cell_type": "markdown",
   "source": [
    "# <h1 align=\"center\" id=\"heading\">Ecommerce Recommender via Graph Neural Network</h1>"
   ],
   "metadata": {
    "collapsed": false
   }
  },
  {
   "cell_type": "markdown",
   "metadata": {},
   "source": [
    "# Part 0: Config"
   ]
  },
  {
   "cell_type": "code",
   "execution_count": 1,
   "outputs": [],
   "source": [
    "import yaml\n",
    "import pandas as pd\n",
    "import glob"
   ],
   "metadata": {
    "collapsed": false
   }
  },
  {
   "cell_type": "code",
   "execution_count": 2,
   "outputs": [
    {
     "name": "stdout",
     "output_type": "stream",
     "text": [
      "/Users/yingkang/4thBrain/GNN-eCommerce\n"
     ]
    }
   ],
   "source": [
    "%cd .."
   ],
   "metadata": {
    "collapsed": false
   }
  },
  {
   "cell_type": "code",
   "execution_count": 3,
   "metadata": {},
   "outputs": [
    {
     "data": {
      "text/plain": "{'base': {'random_seed': 42},\n 'data': {'cosmetic_shop': 'data/raw/cosmetic-shop-ecommerce-events/'},\n 'training': None,\n 'reports': None}"
     },
     "execution_count": 3,
     "metadata": {},
     "output_type": "execute_result"
    }
   ],
   "source": [
    "with open(\"params.yaml\") as config_file:\n",
    "    config = yaml.safe_load(config_file)\n",
    "config"
   ]
  },
  {
   "cell_type": "markdown",
   "source": [
    "# Part 1: EDA\n",
    "\n"
   ],
   "metadata": {
    "collapsed": false
   }
  },
  {
   "cell_type": "markdown",
   "metadata": {},
   "source": [
    "## 1.0: Data Loader\n"
   ]
  },
  {
   "cell_type": "code",
   "execution_count": 4,
   "metadata": {},
   "outputs": [],
   "source": [
    "# Get CSV files list of cosmetic shop dataset(month data per file)\n",
    "path = config['data']['cosmetic_shop']\n",
    "csv_files = glob.glob(path + \"/*.csv\")\n",
    "\n",
    "# Read each CSV file into DataFrame. This creates a list of dataframes\n",
    "df_list = (pd.read_csv(file) for file in csv_files)\n",
    "\n",
    "# Concatenate all DataFrames\n",
    "all_events = pd.concat(df_list, ignore_index=True)\n"
   ]
  },
  {
   "cell_type": "code",
   "execution_count": 5,
   "metadata": {},
   "outputs": [
    {
     "data": {
      "text/plain": "(20692840, 9)"
     },
     "execution_count": 5,
     "metadata": {},
     "output_type": "execute_result"
    }
   ],
   "source": [
    "all_events.shape"
   ]
  },
  {
   "cell_type": "code",
   "execution_count": 6,
   "metadata": {},
   "outputs": [
    {
     "data": {
      "text/plain": "                       event_time        event_type  product_id  \\\n18917661  2019-10-17 17:28:07 UTC              cart     5851067   \n17584087  2019-10-07 14:35:17 UTC              view        5001   \n14594764  2019-11-20 11:50:43 UTC              view     5842153   \n4396352   2019-12-02 03:31:38 UTC  remove_from_cart     5779268   \n14488242  2019-11-19 16:37:08 UTC  remove_from_cart     5820749   \n11984446  2019-11-01 09:05:52 UTC              cart     5793261   \n8579517   2020-02-05 20:11:31 UTC  remove_from_cart     5800788   \n5252016   2019-12-08 18:59:34 UTC              view     5809910   \n16977373  2019-10-03 10:28:07 UTC  remove_from_cart     5800788   \n16526924  2019-11-30 16:14:10 UTC  remove_from_cart        4958   \n\n                  category_id category_code    brand  price    user_id  \\\n18917661  1487580013841613016           NaN   kaypro  12.06  561304347   \n17584087  1487580010721050707           NaN      NaN  20.63  554689425   \n14594764  1487580006317032337           NaN      NaN   1.59  533413947   \n4396352   1487580006962955182           NaN      NaN   7.14  580614449   \n14488242  1487580006317032337           NaN      NaN   7.14  416344202   \n11984446  1487580010100293687           NaN      NaN  22.21  371505220   \n8579517   1487580007256556476           NaN      NaN   4.52  562386185   \n5252016   1602943681873052386           NaN  grattol   5.24  583962448   \n16977373  1487580007256556476           NaN      NaN   4.52  513406182   \n16526924  1487580009471148064           NaN   runail   1.10  550575227   \n\n                                  user_session  \n18917661  07d23998-5249-476d-996d-232f71b2dfb8  \n17584087  f88650d2-b0f3-4c08-a0c4-4e4b243beb5b  \n14594764  3cda2b17-19b8-4613-b17f-a863a551eb63  \n4396352   fe9fd180-49c4-4133-b701-f0985d115586  \n14488242  44b840d9-bef2-40b1-bef1-0fd8b1422cef  \n11984446  38aa8289-e5a2-44f0-bdc7-e0018a4e6a60  \n8579517   8c70b883-9a29-4a6d-a40e-043746166c75  \n5252016   74da65cb-58ac-4f8d-a8de-d67ef7150c41  \n16977373  0d0aa2c8-fd43-48e3-812f-a1bf4b9a0c4e  \n16526924  b9e94d91-92dc-4880-9cac-1862f5920a0d  ",
      "text/html": "<div>\n<style scoped>\n    .dataframe tbody tr th:only-of-type {\n        vertical-align: middle;\n    }\n\n    .dataframe tbody tr th {\n        vertical-align: top;\n    }\n\n    .dataframe thead th {\n        text-align: right;\n    }\n</style>\n<table border=\"1\" class=\"dataframe\">\n  <thead>\n    <tr style=\"text-align: right;\">\n      <th></th>\n      <th>event_time</th>\n      <th>event_type</th>\n      <th>product_id</th>\n      <th>category_id</th>\n      <th>category_code</th>\n      <th>brand</th>\n      <th>price</th>\n      <th>user_id</th>\n      <th>user_session</th>\n    </tr>\n  </thead>\n  <tbody>\n    <tr>\n      <th>18917661</th>\n      <td>2019-10-17 17:28:07 UTC</td>\n      <td>cart</td>\n      <td>5851067</td>\n      <td>1487580013841613016</td>\n      <td>NaN</td>\n      <td>kaypro</td>\n      <td>12.06</td>\n      <td>561304347</td>\n      <td>07d23998-5249-476d-996d-232f71b2dfb8</td>\n    </tr>\n    <tr>\n      <th>17584087</th>\n      <td>2019-10-07 14:35:17 UTC</td>\n      <td>view</td>\n      <td>5001</td>\n      <td>1487580010721050707</td>\n      <td>NaN</td>\n      <td>NaN</td>\n      <td>20.63</td>\n      <td>554689425</td>\n      <td>f88650d2-b0f3-4c08-a0c4-4e4b243beb5b</td>\n    </tr>\n    <tr>\n      <th>14594764</th>\n      <td>2019-11-20 11:50:43 UTC</td>\n      <td>view</td>\n      <td>5842153</td>\n      <td>1487580006317032337</td>\n      <td>NaN</td>\n      <td>NaN</td>\n      <td>1.59</td>\n      <td>533413947</td>\n      <td>3cda2b17-19b8-4613-b17f-a863a551eb63</td>\n    </tr>\n    <tr>\n      <th>4396352</th>\n      <td>2019-12-02 03:31:38 UTC</td>\n      <td>remove_from_cart</td>\n      <td>5779268</td>\n      <td>1487580006962955182</td>\n      <td>NaN</td>\n      <td>NaN</td>\n      <td>7.14</td>\n      <td>580614449</td>\n      <td>fe9fd180-49c4-4133-b701-f0985d115586</td>\n    </tr>\n    <tr>\n      <th>14488242</th>\n      <td>2019-11-19 16:37:08 UTC</td>\n      <td>remove_from_cart</td>\n      <td>5820749</td>\n      <td>1487580006317032337</td>\n      <td>NaN</td>\n      <td>NaN</td>\n      <td>7.14</td>\n      <td>416344202</td>\n      <td>44b840d9-bef2-40b1-bef1-0fd8b1422cef</td>\n    </tr>\n    <tr>\n      <th>11984446</th>\n      <td>2019-11-01 09:05:52 UTC</td>\n      <td>cart</td>\n      <td>5793261</td>\n      <td>1487580010100293687</td>\n      <td>NaN</td>\n      <td>NaN</td>\n      <td>22.21</td>\n      <td>371505220</td>\n      <td>38aa8289-e5a2-44f0-bdc7-e0018a4e6a60</td>\n    </tr>\n    <tr>\n      <th>8579517</th>\n      <td>2020-02-05 20:11:31 UTC</td>\n      <td>remove_from_cart</td>\n      <td>5800788</td>\n      <td>1487580007256556476</td>\n      <td>NaN</td>\n      <td>NaN</td>\n      <td>4.52</td>\n      <td>562386185</td>\n      <td>8c70b883-9a29-4a6d-a40e-043746166c75</td>\n    </tr>\n    <tr>\n      <th>5252016</th>\n      <td>2019-12-08 18:59:34 UTC</td>\n      <td>view</td>\n      <td>5809910</td>\n      <td>1602943681873052386</td>\n      <td>NaN</td>\n      <td>grattol</td>\n      <td>5.24</td>\n      <td>583962448</td>\n      <td>74da65cb-58ac-4f8d-a8de-d67ef7150c41</td>\n    </tr>\n    <tr>\n      <th>16977373</th>\n      <td>2019-10-03 10:28:07 UTC</td>\n      <td>remove_from_cart</td>\n      <td>5800788</td>\n      <td>1487580007256556476</td>\n      <td>NaN</td>\n      <td>NaN</td>\n      <td>4.52</td>\n      <td>513406182</td>\n      <td>0d0aa2c8-fd43-48e3-812f-a1bf4b9a0c4e</td>\n    </tr>\n    <tr>\n      <th>16526924</th>\n      <td>2019-11-30 16:14:10 UTC</td>\n      <td>remove_from_cart</td>\n      <td>4958</td>\n      <td>1487580009471148064</td>\n      <td>NaN</td>\n      <td>runail</td>\n      <td>1.10</td>\n      <td>550575227</td>\n      <td>b9e94d91-92dc-4880-9cac-1862f5920a0d</td>\n    </tr>\n  </tbody>\n</table>\n</div>"
     },
     "execution_count": 6,
     "metadata": {},
     "output_type": "execute_result"
    }
   ],
   "source": [
    "all_events.sample(10)"
   ]
  },
  {
   "cell_type": "code",
   "execution_count": 7,
   "outputs": [],
   "source": [
    "# persist all_events to a csv file\n",
    "all_events.to_csv('data/raw/cosmetic-shop-ecommerce-events/combined_raw.csv')"
   ],
   "metadata": {
    "collapsed": false
   }
  },
  {
   "cell_type": "markdown",
   "metadata": {},
   "source": [
    "## 1.1. Explore, Describe, Counts\n"
   ]
  },
  {
   "cell_type": "code",
   "execution_count": 8,
   "outputs": [],
   "source": [
    "import numpy as np\n",
    "import seaborn as sns\n",
    "import matplotlib.pyplot as plt\n",
    "%matplotlib inline\n",
    "\n",
    "import warnings\n",
    "warnings.filterwarnings(action=\"ignore\")"
   ],
   "metadata": {
    "collapsed": false
   }
  },
  {
   "cell_type": "code",
   "execution_count": 11,
   "outputs": [
    {
     "data": {
      "text/plain": "(20692840, 10)"
     },
     "execution_count": 11,
     "metadata": {},
     "output_type": "execute_result"
    }
   ],
   "source": [
    "# read from persisted csv file\n",
    "df = pd.read_csv('data/raw/cosmetic-shop-ecommerce-events/combined_raw.csv')\n",
    "df.shape"
   ],
   "metadata": {
    "collapsed": false
   }
  },
  {
   "cell_type": "code",
   "execution_count": 12,
   "outputs": [
    {
     "data": {
      "text/plain": "          Unnamed: 0               event_time        event_type  product_id  \\\n799567        799567  2020-01-08 09:37:11 UTC              view        5345   \n2088368      2088368  2020-01-17 02:47:37 UTC              cart        5374   \n13214559    13214559  2019-11-09 21:44:08 UTC          purchase     5881332   \n13030437    13030437  2019-11-08 14:09:02 UTC  remove_from_cart     5773607   \n3880500      3880500  2020-01-29 09:19:07 UTC              cart     5768057   \n17659446    17659446  2019-10-08 05:11:04 UTC              cart     5808322   \n4691121      4691121  2019-12-04 08:10:34 UTC              view     5759979   \n14892149    14892149  2019-11-21 22:24:00 UTC  remove_from_cart     5854341   \n14204187    14204187  2019-11-17 17:49:14 UTC              view     5773329   \n5640294      5640294  2019-12-11 11:48:21 UTC  remove_from_cart     5779813   \n\n                  category_id category_code     brand  price    user_id  \\\n799567    1487580009445982239           NaN    runail   1.27  533047380   \n2088368   1487580009496313889           NaN    runail   6.83  576458292   \n13214559  1487580005092295511           NaN   beautix  15.71  442585177   \n13030437  1487580006317032337           NaN     irisk   1.59  434872123   \n3880500   1487580012574933146           NaN       NaN   4.05  406615497   \n17659446  1487580009362096156           NaN    kapous   1.95  557808874   \n4691121   1487580009051717646           NaN     irisk  51.59  581848711   \n14892149  1487580005092295511           NaN  jessnail   2.19  501711265   \n14204187  1487580005134238553           NaN    runail   2.62  485440188   \n5640294   1638456119066100510           NaN      pole   4.11  515577705   \n\n                                  user_session  \n799567    9907b120-e59d-4f84-b993-d690d947b652  \n2088368   38389f30-35db-4675-b4e1-ec69674d954e  \n13214559  e1c3bf27-93d3-4bf2-a857-ddcd46e5a39d  \n13030437  11803d3a-c1f2-436b-a311-05f92aa55178  \n3880500   75ed5209-82aa-4669-8bbb-966f4397f8d4  \n17659446  b7542cfb-20eb-4a13-b83d-0693a8640f25  \n4691121   21e0c137-8e26-4f1d-8dd7-724520726b9a  \n14892149  6c48be86-84bb-4084-b782-814135cc5919  \n14204187  b993adbc-36f9-493a-9fde-eddd917f0616  \n5640294   304a4d3e-308d-482f-b01b-ae9fa0fb0c3c  ",
      "text/html": "<div>\n<style scoped>\n    .dataframe tbody tr th:only-of-type {\n        vertical-align: middle;\n    }\n\n    .dataframe tbody tr th {\n        vertical-align: top;\n    }\n\n    .dataframe thead th {\n        text-align: right;\n    }\n</style>\n<table border=\"1\" class=\"dataframe\">\n  <thead>\n    <tr style=\"text-align: right;\">\n      <th></th>\n      <th>Unnamed: 0</th>\n      <th>event_time</th>\n      <th>event_type</th>\n      <th>product_id</th>\n      <th>category_id</th>\n      <th>category_code</th>\n      <th>brand</th>\n      <th>price</th>\n      <th>user_id</th>\n      <th>user_session</th>\n    </tr>\n  </thead>\n  <tbody>\n    <tr>\n      <th>799567</th>\n      <td>799567</td>\n      <td>2020-01-08 09:37:11 UTC</td>\n      <td>view</td>\n      <td>5345</td>\n      <td>1487580009445982239</td>\n      <td>NaN</td>\n      <td>runail</td>\n      <td>1.27</td>\n      <td>533047380</td>\n      <td>9907b120-e59d-4f84-b993-d690d947b652</td>\n    </tr>\n    <tr>\n      <th>2088368</th>\n      <td>2088368</td>\n      <td>2020-01-17 02:47:37 UTC</td>\n      <td>cart</td>\n      <td>5374</td>\n      <td>1487580009496313889</td>\n      <td>NaN</td>\n      <td>runail</td>\n      <td>6.83</td>\n      <td>576458292</td>\n      <td>38389f30-35db-4675-b4e1-ec69674d954e</td>\n    </tr>\n    <tr>\n      <th>13214559</th>\n      <td>13214559</td>\n      <td>2019-11-09 21:44:08 UTC</td>\n      <td>purchase</td>\n      <td>5881332</td>\n      <td>1487580005092295511</td>\n      <td>NaN</td>\n      <td>beautix</td>\n      <td>15.71</td>\n      <td>442585177</td>\n      <td>e1c3bf27-93d3-4bf2-a857-ddcd46e5a39d</td>\n    </tr>\n    <tr>\n      <th>13030437</th>\n      <td>13030437</td>\n      <td>2019-11-08 14:09:02 UTC</td>\n      <td>remove_from_cart</td>\n      <td>5773607</td>\n      <td>1487580006317032337</td>\n      <td>NaN</td>\n      <td>irisk</td>\n      <td>1.59</td>\n      <td>434872123</td>\n      <td>11803d3a-c1f2-436b-a311-05f92aa55178</td>\n    </tr>\n    <tr>\n      <th>3880500</th>\n      <td>3880500</td>\n      <td>2020-01-29 09:19:07 UTC</td>\n      <td>cart</td>\n      <td>5768057</td>\n      <td>1487580012574933146</td>\n      <td>NaN</td>\n      <td>NaN</td>\n      <td>4.05</td>\n      <td>406615497</td>\n      <td>75ed5209-82aa-4669-8bbb-966f4397f8d4</td>\n    </tr>\n    <tr>\n      <th>17659446</th>\n      <td>17659446</td>\n      <td>2019-10-08 05:11:04 UTC</td>\n      <td>cart</td>\n      <td>5808322</td>\n      <td>1487580009362096156</td>\n      <td>NaN</td>\n      <td>kapous</td>\n      <td>1.95</td>\n      <td>557808874</td>\n      <td>b7542cfb-20eb-4a13-b83d-0693a8640f25</td>\n    </tr>\n    <tr>\n      <th>4691121</th>\n      <td>4691121</td>\n      <td>2019-12-04 08:10:34 UTC</td>\n      <td>view</td>\n      <td>5759979</td>\n      <td>1487580009051717646</td>\n      <td>NaN</td>\n      <td>irisk</td>\n      <td>51.59</td>\n      <td>581848711</td>\n      <td>21e0c137-8e26-4f1d-8dd7-724520726b9a</td>\n    </tr>\n    <tr>\n      <th>14892149</th>\n      <td>14892149</td>\n      <td>2019-11-21 22:24:00 UTC</td>\n      <td>remove_from_cart</td>\n      <td>5854341</td>\n      <td>1487580005092295511</td>\n      <td>NaN</td>\n      <td>jessnail</td>\n      <td>2.19</td>\n      <td>501711265</td>\n      <td>6c48be86-84bb-4084-b782-814135cc5919</td>\n    </tr>\n    <tr>\n      <th>14204187</th>\n      <td>14204187</td>\n      <td>2019-11-17 17:49:14 UTC</td>\n      <td>view</td>\n      <td>5773329</td>\n      <td>1487580005134238553</td>\n      <td>NaN</td>\n      <td>runail</td>\n      <td>2.62</td>\n      <td>485440188</td>\n      <td>b993adbc-36f9-493a-9fde-eddd917f0616</td>\n    </tr>\n    <tr>\n      <th>5640294</th>\n      <td>5640294</td>\n      <td>2019-12-11 11:48:21 UTC</td>\n      <td>remove_from_cart</td>\n      <td>5779813</td>\n      <td>1638456119066100510</td>\n      <td>NaN</td>\n      <td>pole</td>\n      <td>4.11</td>\n      <td>515577705</td>\n      <td>304a4d3e-308d-482f-b01b-ae9fa0fb0c3c</td>\n    </tr>\n  </tbody>\n</table>\n</div>"
     },
     "execution_count": 12,
     "metadata": {},
     "output_type": "execute_result"
    }
   ],
   "source": [
    "df.sample(10)"
   ],
   "metadata": {
    "collapsed": false
   }
  },
  {
   "cell_type": "code",
   "execution_count": 29,
   "metadata": {},
   "outputs": [
    {
     "name": "stdout",
     "output_type": "stream",
     "text": [
      "Unique users count:  1639358\n",
      "Unique products count:  54571\n",
      "Unique event type count:  4\n"
     ]
    }
   ],
   "source": [
    "# Number of unique users\n",
    "users_count = len(pd.unique(df['user_id']))\n",
    "print(\"Unique users count: \", users_count)\n",
    "\n",
    "# Number of unique products\n",
    "products_count = len(pd.unique(df['product_id']))\n",
    "print(\"Unique products count: \", products_count)\n",
    "\n",
    "# Number of unique event_type\n",
    "event_type_count = len(pd.unique(df['event_type']))\n",
    "print(\"Unique event type count: \", event_type_count)"
   ]
  },
  {
   "cell_type": "code",
   "execution_count": 14,
   "metadata": {},
   "outputs": [
    {
     "name": "stdout",
     "output_type": "stream",
     "text": [
      "all_events.isna().sum():\n"
     ]
    },
    {
     "data": {
      "text/plain": "Unnamed: 0              0\nevent_time              0\nevent_type              0\nproduct_id              0\ncategory_id             0\ncategory_code    20339246\nbrand             8757117\nprice                   0\nuser_id                 0\nuser_session         4598\ndtype: int64"
     },
     "execution_count": 14,
     "metadata": {},
     "output_type": "execute_result"
    }
   ],
   "source": [
    "print('all_events.isna().sum():')\n",
    "df.isna().sum()"
   ]
  },
  {
   "cell_type": "markdown",
   "source": [
    "### check NaN brand and category_code vs category_id"
   ],
   "metadata": {
    "collapsed": false
   }
  },
  {
   "cell_type": "code",
   "execution_count": null,
   "outputs": [],
   "source": [],
   "metadata": {
    "collapsed": false
   }
  },
  {
   "cell_type": "code",
   "execution_count": null,
   "outputs": [],
   "source": [],
   "metadata": {
    "collapsed": false
   }
  },
  {
   "cell_type": "markdown",
   "source": [
    "### check # of session per user"
   ],
   "metadata": {
    "collapsed": false
   }
  },
  {
   "cell_type": "code",
   "execution_count": 16,
   "outputs": [],
   "source": [
    "session_by_user = df.groupby(\"user_id\")[\"user_session\"].count()"
   ],
   "metadata": {
    "collapsed": false
   }
  },
  {
   "cell_type": "code",
   "execution_count": 21,
   "outputs": [
    {
     "data": {
      "text/plain": "user_id\n465496        3\n1120748       1\n1180452       1\n1458813      31\n2038666       1\n             ..\n622090016     2\n622090043     3\n622090052     2\n622090098     1\n622090237     1\nName: user_session, Length: 1639358, dtype: int64"
     },
     "execution_count": 21,
     "metadata": {},
     "output_type": "execute_result"
    }
   ],
   "source": [
    "session_by_user.head(10)"
   ],
   "metadata": {
    "collapsed": false
   }
  },
  {
   "cell_type": "code",
   "execution_count": null,
   "outputs": [],
   "source": [],
   "metadata": {
    "collapsed": false
   }
  },
  {
   "cell_type": "markdown",
   "source": [
    "### check # of events(view/ add/ remove/ buy) per user"
   ],
   "metadata": {
    "collapsed": false
   }
  },
  {
   "cell_type": "code",
   "execution_count": 27,
   "outputs": [],
   "source": [
    "events_per_user = df.groupby([\"user_id\", \"event_type\"], as_index=True)[\"event_type\"].count()"
   ],
   "metadata": {
    "collapsed": false
   }
  },
  {
   "cell_type": "code",
   "execution_count": 28,
   "outputs": [
    {
     "data": {
      "text/plain": "user_id    event_type\n465496     view           3\n1120748    view           1\n1180452    view           1\n1458813    view          31\n2038666    view           1\n                         ..\n622090043  cart           1\n           view           2\n622090052  view           2\n622090098  view           1\n622090237  view           1\nName: event_type, Length: 2289812, dtype: int64"
     },
     "execution_count": 28,
     "metadata": {},
     "output_type": "execute_result"
    }
   ],
   "source": [
    "events_per_user"
   ],
   "metadata": {
    "collapsed": false
   }
  },
  {
   "cell_type": "markdown",
   "source": [
    "### check price range per user, mark buy price within the range"
   ],
   "metadata": {
    "collapsed": false
   }
  },
  {
   "cell_type": "code",
   "execution_count": null,
   "outputs": [],
   "source": [],
   "metadata": {
    "collapsed": false
   }
  },
  {
   "cell_type": "code",
   "execution_count": null,
   "outputs": [],
   "source": [],
   "metadata": {
    "collapsed": false
   }
  },
  {
   "cell_type": "code",
   "execution_count": null,
   "outputs": [],
   "source": [],
   "metadata": {
    "collapsed": false
   }
  },
  {
   "cell_type": "code",
   "execution_count": null,
   "outputs": [],
   "source": [],
   "metadata": {
    "collapsed": false
   }
  },
  {
   "cell_type": "code",
   "execution_count": null,
   "outputs": [],
   "source": [],
   "metadata": {
    "collapsed": false
   }
  },
  {
   "cell_type": "code",
   "execution_count": null,
   "outputs": [],
   "source": [],
   "metadata": {
    "collapsed": false
   }
  },
  {
   "cell_type": "code",
   "execution_count": null,
   "outputs": [],
   "source": [],
   "metadata": {
    "collapsed": false
   }
  }
 ],
 "metadata": {
  "kernelspec": {
   "display_name": "Python 3 (ipykernel)",
   "language": "python",
   "name": "python3"
  },
  "language_info": {
   "codemirror_mode": {
    "name": "ipython",
    "version": 3
   },
   "file_extension": ".py",
   "mimetype": "text/x-python",
   "name": "python",
   "nbconvert_exporter": "python",
   "pygments_lexer": "ipython3",
   "version": "3.10.8"
  }
 },
 "nbformat": 4,
 "nbformat_minor": 1
}
