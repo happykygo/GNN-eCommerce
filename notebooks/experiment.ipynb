{
 "cells": [
  {
   "cell_type": "code",
   "execution_count": 1,
   "metadata": {
    "collapsed": true
   },
   "outputs": [],
   "source": [
    "# Standard library imports\n",
    "import random\n",
    "import time\n",
    "\n",
    "# Third-party imports\n",
    "import matplotlib.pyplot as plt\n",
    "import networkx as nx\n",
    "import numpy as np\n",
    "import pandas as pd\n",
    "pd.set_option('display.max_colwidth', None)\n",
    "\n",
    "import torch\n",
    "import torch.nn as nn\n",
    "import torch.nn.functional as F\n",
    "import torch.optim as optim\n",
    "# from torch.utils.data import Dataset, DataLoader\n",
    "import torch_geometric\n",
    "from torch_geometric.nn.conv import MessagePassing\n",
    "from torch_geometric.utils import degree\n",
    "from torch_geometric.nn.models import lightgcn\n",
    "\n",
    "from tqdm.notebook import tqdm\n",
    "from sklearn import preprocessing as pp\n",
    "from sklearn.model_selection import train_test_split\n",
    "import scipy.sparse as sp"
   ]
  },
  {
   "cell_type": "code",
   "execution_count": 2,
   "outputs": [
    {
     "name": "stdout",
     "output_type": "stream",
     "text": [
      "100000\n"
     ]
    },
    {
     "data": {
      "text/plain": "   user_id  item_id  rating  timestamp\n0      196      242       3  881250949\n1      186      302       3  891717742\n2       22      377       1  878887116\n3      244       51       2  880606923\n4      166      346       1  886397596",
      "text/html": "<div>\n<style scoped>\n    .dataframe tbody tr th:only-of-type {\n        vertical-align: middle;\n    }\n\n    .dataframe tbody tr th {\n        vertical-align: top;\n    }\n\n    .dataframe thead th {\n        text-align: right;\n    }\n</style>\n<table border=\"1\" class=\"dataframe\">\n  <thead>\n    <tr style=\"text-align: right;\">\n      <th></th>\n      <th>user_id</th>\n      <th>item_id</th>\n      <th>rating</th>\n      <th>timestamp</th>\n    </tr>\n  </thead>\n  <tbody>\n    <tr>\n      <th>0</th>\n      <td>196</td>\n      <td>242</td>\n      <td>3</td>\n      <td>881250949</td>\n    </tr>\n    <tr>\n      <th>1</th>\n      <td>186</td>\n      <td>302</td>\n      <td>3</td>\n      <td>891717742</td>\n    </tr>\n    <tr>\n      <th>2</th>\n      <td>22</td>\n      <td>377</td>\n      <td>1</td>\n      <td>878887116</td>\n    </tr>\n    <tr>\n      <th>3</th>\n      <td>244</td>\n      <td>51</td>\n      <td>2</td>\n      <td>880606923</td>\n    </tr>\n    <tr>\n      <th>4</th>\n      <td>166</td>\n      <td>346</td>\n      <td>1</td>\n      <td>886397596</td>\n    </tr>\n  </tbody>\n</table>\n</div>"
     },
     "metadata": {},
     "output_type": "display_data"
    }
   ],
   "source": [
    "columns_name=['user_id','item_id','rating','timestamp']\n",
    "df = pd.read_csv(\"../data/ml-100k/u.data\",sep=\"\\t\",names=columns_name)\n",
    "print(len(df))\n",
    "display(df.head(5))"
   ],
   "metadata": {
    "collapsed": false
   }
  },
  {
   "cell_type": "code",
   "execution_count": 3,
   "outputs": [
    {
     "name": "stdout",
     "output_type": "stream",
     "text": [
      "82520\n"
     ]
    }
   ],
   "source": [
    "# remove low rating\n",
    "df = df[df['rating']>=3]\n",
    "print(len(df))"
   ],
   "metadata": {
    "collapsed": false
   }
  },
  {
   "cell_type": "code",
   "execution_count": 4,
   "outputs": [],
   "source": [
    "# train test split\n",
    "train, test = train_test_split(df.values, test_size=0.2, random_state=16)\n",
    "train_df = pd.DataFrame(train, columns=df.columns)\n",
    "test_df = pd.DataFrame(test, columns=df.columns)"
   ],
   "metadata": {
    "collapsed": false
   }
  },
  {
   "cell_type": "code",
   "execution_count": 5,
   "outputs": [
    {
     "name": "stdout",
     "output_type": "stream",
     "text": [
      "Train Size  :  66016\n",
      "Test Size :  16504\n"
     ]
    }
   ],
   "source": [
    "print(\"Train Size  : \", len(train_df))\n",
    "print(\"Test Size : \", len (test_df))"
   ],
   "metadata": {
    "collapsed": false
   }
  },
  {
   "cell_type": "code",
   "execution_count": 6,
   "outputs": [],
   "source": [
    "# relabeling nodes\n",
    "le_user = pp.LabelEncoder()\n",
    "le_item = pp.LabelEncoder()\n",
    "train_df['user_id_idx'] = le_user.fit_transform(train_df['user_id'].values)\n",
    "train_df['item_id_idx'] = le_item.fit_transform(train_df['item_id'].values)"
   ],
   "metadata": {
    "collapsed": false
   }
  },
  {
   "cell_type": "code",
   "execution_count": 7,
   "outputs": [
    {
     "name": "stdout",
     "output_type": "stream",
     "text": [
      "Size of test set before/ after(remove user/item not in train set): 16504 16472\n"
     ]
    }
   ],
   "source": [
    "# remove user item in test but not in train\n",
    "train_user_ids = train_df['user_id'].unique()\n",
    "train_item_ids = train_df['item_id'].unique()\n",
    "\n",
    "test_df = test_df[\n",
    "  (test_df['user_id'].isin(train_user_ids)) & \\\n",
    "  (test_df['item_id'].isin(train_item_ids))\n",
    "]\n",
    "print('Size of test set before/ after(remove user/item not in train set):', len(test), len(test_df))"
   ],
   "metadata": {
    "collapsed": false
   }
  },
  {
   "cell_type": "code",
   "execution_count": 8,
   "outputs": [],
   "source": [
    "test_df['user_id_idx'] = le_user.transform(test_df['user_id'].values)\n",
    "test_df['item_id_idx'] = le_item.transform(test_df['item_id'].values)"
   ],
   "metadata": {
    "collapsed": false
   }
  },
  {
   "cell_type": "code",
   "execution_count": 9,
   "outputs": [
    {
     "name": "stdout",
     "output_type": "stream",
     "text": [
      "Number of Unique Users :  943\n",
      "Number of unique Items :  1546\n"
     ]
    }
   ],
   "source": [
    "n_users = train_df['user_id_idx'].nunique()\n",
    "n_items = train_df['item_id_idx'].nunique()\n",
    "print(\"Number of Unique Users : \", n_users)\n",
    "print(\"Number of unique Items : \", n_items)"
   ],
   "metadata": {
    "collapsed": false
   }
  },
  {
   "cell_type": "code",
   "execution_count": 10,
   "outputs": [
    {
     "data": {
      "text/plain": "     user_id_idx  \\\n0              0   \n1              1   \n2              2   \n3              3   \n4              4   \n..           ...   \n938          938   \n939          939   \n940          940   \n941          941   \n942          942   \n\n                                                                                                                                                                                                                                                                                                                                                                                                                                                                                             item_id_idx  \n0                          [37, 112, 206, 79, 189, 13, 32, 57, 3, 247, 194, 269, 221, 186, 29, 200, 160, 54, 158, 67, 155, 223, 89, 27, 187, 249, 138, 234, 87, 179, 81, 49, 14, 126, 31, 47, 133, 52, 63, 53, 240, 44, 113, 256, 58, 6, 245, 66, 238, 86, 199, 209, 116, 170, 192, 205, 75, 157, 225, 180, 195, 153, 105, 150, 241, 85, 9, 210, 2, 17, 69, 173, 182, 222, 177, 5, 226, 134, 15, 204, 255, 235, 45, 41, 167, 12, 184, 71, 207, 203, 132, 55, 183, 233, 171, 190, 122, 215, 188, 88, ...]  \n1                                                                                                                                                                                                                                                          [304, 283, 18, 281, 305, 311, 296, 290, 289, 302, 287, 284, 295, 24, 298, 279, 285, 250, 13, 309, 0, 314, 12, 278, 273, 110, 275, 310, 282, 256, 286, 297, 291, 312, 292, 49, 99, 307, 126, 300, 268, 294, 254, 271, 272, 299, 257, 301, 288]  \n2                                                                                                                                                                                                                                                                                                                                                                          [341, 346, 327, 337, 345, 302, 347, 349, 343, 306, 353, 180, 325, 267, 344, 319, 270, 332, 348, 320, 318, 338, 342, 340, 298]  \n3                                                                                                                                                                                                                                                                                                                                                                                                [326, 359, 270, 352, 302, 358, 357, 257, 355, 299, 360, 354, 259, 325, 263, 287, 49, 300, 209, 327, 10]  \n4                                                               [180, 20, 94, 266, 436, 226, 182, 420, 41, 238, 184, 150, 120, 173, 61, 427, 49, 372, 93, 209, 415, 397, 424, 377, 249, 210, 24, 412, 143, 382, 69, 416, 16, 361, 142, 97, 373, 229, 162, 1, 134, 89, 430, 410, 432, 185, 406, 371, 411, 399, 256, 203, 448, 425, 153, 78, 207, 418, 167, 378, 433, 365, 100, 138, 99, 429, 232, 364, 104, 152, 171, 218, 213, 381, 426, 428, 168, 417, 101, 225, 439, 440, 221, 403, 188, 423, 421, 23]  \n..                                                                                                                                                                                                                                                                                                                                                                                                                                                                                                   ...  \n938                                                                                                                                                                                                                                                                                                 [297, 469, 273, 282, 251, 409, 590, 8, 830, 978, 464, 219, 1259, 681, 253, 221, 274, 284, 808, 403, 1013, 126, 117, 14, 407, 748, 734, 919, 1008, 236, 105, 1173, 324, 120, 256, 584, 539, 254, 279]  \n939                                                                                                                                         [65, 136, 314, 190, 355, 475, 167, 49, 203, 199, 501, 99, 171, 6, 643, 345, 13, 193, 94, 173, 212, 859, 237, 1150, 309, 88, 258, 865, 738, 380, 69, 204, 288, 299, 268, 509, 146, 313, 701, 169, 301, 215, 271, 620, 95, 315, 11, 843, 670, 175, 684, 284, 433, 464, 192, 312, 522, 467, 743, 427, 561, 7, 700, 182, 160, 649, 293, 1122, 180, 424, 97, 647]  \n940                                                                                                                                                                                                                                                                                                                                                                                                                             [904, 123, 257, 978, 14, 116, 0, 406, 297, 256, 293, 180, 448, 272, 755]  \n941                                                                                                                                                                                                 [49, 30, 878, 489, 477, 432, 70, 320, 264, 326, 214, 130, 513, 316, 930, 599, 258, 480, 697, 504, 209, 196, 654, 491, 532, 192, 865, 424, 742, 314, 313, 954, 321, 116, 312, 199, 507, 653, 473, 215, 596, 493, 98, 521, 257, 94, 1187, 1204, 182, 577, 123, 355, 651, 607, 1013, 309, 96, 472, 271]  \n942  [181, 724, 755, 428, 171, 72, 280, 519, 559, 200, 217, 1211, 806, 216, 30, 186, 180, 199, 501, 120, 66, 160, 55, 209, 173, 464, 404, 281, 424, 204, 478, 53, 664, 116, 26, 67, 423, 1171, 99, 215, 1301, 194, 214, 714, 110, 316, 27, 195, 75, 1059, 354, 1029, 57, 61, 569, 757, 41, 365, 68, 54, 185, 187, 606, 78, 1, 238, 421, 383, 552, 93, 123, 617, 713, 273, 172, 709, 21, 37, 227, 798, 561, 203, 52, 63, 218, 10, 403, 786, 463, 574, 22, 97, 468, 225, 231, 677, 131, 814, 371, 95, ...]  \n\n[943 rows x 2 columns]",
      "text/html": "<div>\n<style scoped>\n    .dataframe tbody tr th:only-of-type {\n        vertical-align: middle;\n    }\n\n    .dataframe tbody tr th {\n        vertical-align: top;\n    }\n\n    .dataframe thead th {\n        text-align: right;\n    }\n</style>\n<table border=\"1\" class=\"dataframe\">\n  <thead>\n    <tr style=\"text-align: right;\">\n      <th></th>\n      <th>user_id_idx</th>\n      <th>item_id_idx</th>\n    </tr>\n  </thead>\n  <tbody>\n    <tr>\n      <th>0</th>\n      <td>0</td>\n      <td>[37, 112, 206, 79, 189, 13, 32, 57, 3, 247, 194, 269, 221, 186, 29, 200, 160, 54, 158, 67, 155, 223, 89, 27, 187, 249, 138, 234, 87, 179, 81, 49, 14, 126, 31, 47, 133, 52, 63, 53, 240, 44, 113, 256, 58, 6, 245, 66, 238, 86, 199, 209, 116, 170, 192, 205, 75, 157, 225, 180, 195, 153, 105, 150, 241, 85, 9, 210, 2, 17, 69, 173, 182, 222, 177, 5, 226, 134, 15, 204, 255, 235, 45, 41, 167, 12, 184, 71, 207, 203, 132, 55, 183, 233, 171, 190, 122, 215, 188, 88, ...]</td>\n    </tr>\n    <tr>\n      <th>1</th>\n      <td>1</td>\n      <td>[304, 283, 18, 281, 305, 311, 296, 290, 289, 302, 287, 284, 295, 24, 298, 279, 285, 250, 13, 309, 0, 314, 12, 278, 273, 110, 275, 310, 282, 256, 286, 297, 291, 312, 292, 49, 99, 307, 126, 300, 268, 294, 254, 271, 272, 299, 257, 301, 288]</td>\n    </tr>\n    <tr>\n      <th>2</th>\n      <td>2</td>\n      <td>[341, 346, 327, 337, 345, 302, 347, 349, 343, 306, 353, 180, 325, 267, 344, 319, 270, 332, 348, 320, 318, 338, 342, 340, 298]</td>\n    </tr>\n    <tr>\n      <th>3</th>\n      <td>3</td>\n      <td>[326, 359, 270, 352, 302, 358, 357, 257, 355, 299, 360, 354, 259, 325, 263, 287, 49, 300, 209, 327, 10]</td>\n    </tr>\n    <tr>\n      <th>4</th>\n      <td>4</td>\n      <td>[180, 20, 94, 266, 436, 226, 182, 420, 41, 238, 184, 150, 120, 173, 61, 427, 49, 372, 93, 209, 415, 397, 424, 377, 249, 210, 24, 412, 143, 382, 69, 416, 16, 361, 142, 97, 373, 229, 162, 1, 134, 89, 430, 410, 432, 185, 406, 371, 411, 399, 256, 203, 448, 425, 153, 78, 207, 418, 167, 378, 433, 365, 100, 138, 99, 429, 232, 364, 104, 152, 171, 218, 213, 381, 426, 428, 168, 417, 101, 225, 439, 440, 221, 403, 188, 423, 421, 23]</td>\n    </tr>\n    <tr>\n      <th>...</th>\n      <td>...</td>\n      <td>...</td>\n    </tr>\n    <tr>\n      <th>938</th>\n      <td>938</td>\n      <td>[297, 469, 273, 282, 251, 409, 590, 8, 830, 978, 464, 219, 1259, 681, 253, 221, 274, 284, 808, 403, 1013, 126, 117, 14, 407, 748, 734, 919, 1008, 236, 105, 1173, 324, 120, 256, 584, 539, 254, 279]</td>\n    </tr>\n    <tr>\n      <th>939</th>\n      <td>939</td>\n      <td>[65, 136, 314, 190, 355, 475, 167, 49, 203, 199, 501, 99, 171, 6, 643, 345, 13, 193, 94, 173, 212, 859, 237, 1150, 309, 88, 258, 865, 738, 380, 69, 204, 288, 299, 268, 509, 146, 313, 701, 169, 301, 215, 271, 620, 95, 315, 11, 843, 670, 175, 684, 284, 433, 464, 192, 312, 522, 467, 743, 427, 561, 7, 700, 182, 160, 649, 293, 1122, 180, 424, 97, 647]</td>\n    </tr>\n    <tr>\n      <th>940</th>\n      <td>940</td>\n      <td>[904, 123, 257, 978, 14, 116, 0, 406, 297, 256, 293, 180, 448, 272, 755]</td>\n    </tr>\n    <tr>\n      <th>941</th>\n      <td>941</td>\n      <td>[49, 30, 878, 489, 477, 432, 70, 320, 264, 326, 214, 130, 513, 316, 930, 599, 258, 480, 697, 504, 209, 196, 654, 491, 532, 192, 865, 424, 742, 314, 313, 954, 321, 116, 312, 199, 507, 653, 473, 215, 596, 493, 98, 521, 257, 94, 1187, 1204, 182, 577, 123, 355, 651, 607, 1013, 309, 96, 472, 271]</td>\n    </tr>\n    <tr>\n      <th>942</th>\n      <td>942</td>\n      <td>[181, 724, 755, 428, 171, 72, 280, 519, 559, 200, 217, 1211, 806, 216, 30, 186, 180, 199, 501, 120, 66, 160, 55, 209, 173, 464, 404, 281, 424, 204, 478, 53, 664, 116, 26, 67, 423, 1171, 99, 215, 1301, 194, 214, 714, 110, 316, 27, 195, 75, 1059, 354, 1029, 57, 61, 569, 757, 41, 365, 68, 54, 185, 187, 606, 78, 1, 238, 421, 383, 552, 93, 123, 617, 713, 273, 172, 709, 21, 37, 227, 798, 561, 203, 52, 63, 218, 10, 403, 786, 463, 574, 22, 97, 468, 225, 231, 677, 131, 814, 371, 95, ...]</td>\n    </tr>\n  </tbody>\n</table>\n<p>943 rows × 2 columns</p>\n</div>"
     },
     "execution_count": 10,
     "metadata": {},
     "output_type": "execute_result"
    }
   ],
   "source": [
    "interected_items_df = train_df.groupby('user_id_idx')['item_id_idx'].apply(list).reset_index()\n",
    "interected_items_df"
   ],
   "metadata": {
    "collapsed": false
   }
  },
  {
   "cell_type": "code",
   "execution_count": 11,
   "outputs": [
    {
     "data": {
      "text/plain": "device(type='cpu')"
     },
     "execution_count": 11,
     "metadata": {},
     "output_type": "execute_result"
    }
   ],
   "source": [
    "device = torch.device(\"cuda:0\" if torch.cuda.is_available() else \"cpu\")\n",
    "device"
   ],
   "metadata": {
    "collapsed": false
   }
  },
  {
   "cell_type": "markdown",
   "source": [
    "# data loader"
   ],
   "metadata": {
    "collapsed": false
   }
  },
  {
   "cell_type": "code",
   "execution_count": 12,
   "outputs": [],
   "source": [
    "def data_loader(data, batch_size, n_usr, n_itm):\n",
    "\n",
    "    def sample_neg(x):\n",
    "        while True:\n",
    "            neg_id = random.randint(0, n_itm - 1)\n",
    "            if neg_id not in x:\n",
    "                return neg_id\n",
    "\n",
    "    interected_items_df = data.groupby('user_id_idx')['item_id_idx'].apply(list).reset_index()\n",
    "    indices = [x for x in range(n_usr)]\n",
    "\n",
    "    if n_usr < batch_size:\n",
    "        users = [random.choice(indices) for _ in range(batch_size)]\n",
    "    else:\n",
    "        users = random.sample(indices, batch_size)\n",
    "    users.sort()\n",
    "    users_df = pd.DataFrame(users,columns = ['users'])\n",
    "\n",
    "    interected_items_df = pd.merge(interected_items_df, users_df, how = 'right', left_on = 'user_id_idx', right_on = 'users')\n",
    "    pos_items = interected_items_df['item_id_idx'].apply(lambda x : random.choice(x)).values\n",
    "    neg_items = interected_items_df['item_id_idx'].apply(lambda x: sample_neg(x)).values\n",
    "\n",
    "    print(\n",
    "        torch.LongTensor(list(users)).to(device),'\\n',\n",
    "        torch.LongTensor(list(pos_items)).to(device) + n_usr,'\\n',\n",
    "        torch.LongTensor(list(neg_items)).to(device) + n_usr, '\\n'\n",
    "    )\n",
    "    return (\n",
    "        torch.LongTensor(list(users)).to(device),\n",
    "        torch.LongTensor(list(pos_items)).to(device) + n_usr,\n",
    "        torch.LongTensor(list(neg_items)).to(device) + n_usr\n",
    "    )\n",
    "\n",
    "# data_loader(train_df, 16, n_users, n_items)"
   ],
   "metadata": {
    "collapsed": false
   }
  },
  {
   "cell_type": "markdown",
   "source": [
    "# Edge Index"
   ],
   "metadata": {
    "collapsed": false
   }
  },
  {
   "cell_type": "code",
   "execution_count": 13,
   "outputs": [
    {
     "data": {
      "text/plain": "tensor([[ 769,  168,  326,  ..., 1683, 2006,  989],\n        [1192, 1272, 1085,  ...,  601,  621,   59]])"
     },
     "execution_count": 13,
     "metadata": {},
     "output_type": "execute_result"
    }
   ],
   "source": [
    "u_t = torch.LongTensor(train_df.user_id_idx)\n",
    "i_t = torch.LongTensor(train_df.item_id_idx) + n_users\n",
    "\n",
    "train_edge_index = torch.stack((\n",
    "  torch.cat([u_t, i_t]),\n",
    "  torch.cat([i_t, u_t])\n",
    ")).to(device)\n",
    "train_edge_index"
   ],
   "metadata": {
    "collapsed": false
   }
  },
  {
   "cell_type": "markdown",
   "source": [
    "# LGConv layer"
   ],
   "metadata": {
    "collapsed": false
   }
  },
  {
   "cell_type": "code",
   "execution_count": 14,
   "outputs": [],
   "source": [
    "test_x = torch.Tensor(np.eye(5))\n",
    "test_edge_index = torch.LongTensor(np.array([\n",
    "  [0, 0, 1, 1, 2, 3, 3, 4],\n",
    "  [2, 3, 3, 4, 0, 0, 1, 1]\n",
    "]))"
   ],
   "metadata": {
    "collapsed": false
   }
  },
  {
   "cell_type": "code",
   "execution_count": 15,
   "outputs": [
    {
     "data": {
      "text/plain": "tensor([[0.0000, 0.0000, 0.7071, 0.5000, 0.0000],\n        [0.0000, 0.0000, 0.0000, 0.5000, 0.7071],\n        [0.7071, 0.0000, 0.0000, 0.0000, 0.0000],\n        [0.5000, 0.5000, 0.0000, 0.0000, 0.0000],\n        [0.0000, 0.7071, 0.0000, 0.0000, 0.0000]])"
     },
     "execution_count": 15,
     "metadata": {},
     "output_type": "execute_result"
    }
   ],
   "source": [
    "from torch_geometric.nn import LGConv\n",
    "LGConv()(test_x, test_edge_index)"
   ],
   "metadata": {
    "collapsed": false
   }
  },
  {
   "cell_type": "markdown",
   "source": [
    "# BPR Loss + Eval_Metrics"
   ],
   "metadata": {
    "collapsed": false
   }
  },
  {
   "cell_type": "markdown",
   "source": [
    "# Train_and_eval"
   ],
   "metadata": {
    "collapsed": false
   }
  },
  {
   "cell_type": "code",
   "execution_count": 44,
   "outputs": [
    {
     "name": "stdout",
     "output_type": "stream",
     "text": [
      "tensor([232, 295, 308, 451, 544, 546, 566, 702, 712, 843]) \n",
      " tensor([1319, 1122, 1275, 1410, 1084, 1286, 1434, 1975, 1286, 1059]) \n",
      " tensor([2317, 1422, 1545, 1087, 1386, 1151, 1602, 1881, 1053, 1132]) \n",
      "\n"
     ]
    }
   ],
   "source": [
    "users, pos_items, neg_items = data_loader(train_df, , n_users, n_items)"
   ],
   "metadata": {
    "collapsed": false
   }
  },
  {
   "cell_type": "code",
   "execution_count": null,
   "outputs": [],
   "source": [],
   "metadata": {
    "collapsed": false
   }
  },
  {
   "cell_type": "code",
   "execution_count": 16,
   "outputs": [],
   "source": [
    "from torch_geometric.nn import LightGCN\n",
    "from torch_geometric.loader import DataLoader\n",
    "from torch_geometric.utils import negative_sampling"
   ],
   "metadata": {
    "collapsed": false
   }
  },
  {
   "cell_type": "code",
   "execution_count": 17,
   "outputs": [],
   "source": [
    "latent_dim = 64\n",
    "n_layers = 3\n",
    "\n",
    "EPOCHS = 50\n",
    "BATCH_SIZE = 10\n",
    "LR = 0.005\n",
    "K = 20"
   ],
   "metadata": {
    "collapsed": false
   }
  },
  {
   "cell_type": "code",
   "execution_count": 18,
   "outputs": [],
   "source": [
    "device = torch.device('cuda' if torch.cuda.is_available() else 'cpu')"
   ],
   "metadata": {
    "collapsed": false
   }
  },
  {
   "cell_type": "code",
   "execution_count": 19,
   "outputs": [
    {
     "name": "stdout",
     "output_type": "stream",
     "text": [
      "Size of Learnable Embedding :  [torch.Size([2489, 64])]\n"
     ]
    }
   ],
   "source": [
    "model = LightGCN(num_nodes=n_users+n_items, embedding_dim=latent_dim, num_layers=n_layers).to(device)\n",
    "optimizer = torch.optim.Adam(model.parameters(), lr=LR)\n",
    "print(\"Size of Learnable Embedding : \", [x.shape for x in list(model.parameters())])"
   ],
   "metadata": {
    "collapsed": false
   }
  },
  {
   "cell_type": "code",
   "execution_count": 90,
   "outputs": [],
   "source": [
    "# edge_label need to indicate positive and negative edges\n",
    "# edge_index for the graph\n",
    "# data = dataset[0].to(device)\n",
    "\n",
    "index = [[0, 0, 1, 1, 2, 3, 3, 4], [2, 3, 3, 4, 0, 0, 1, 1]]\n",
    "\n",
    "loader = DataLoader(index, batch_size=2, shuffle=True)\n",
    "# loader = DataLoader(train_edge_index, batch_size=BATCH_SIZE, shuffle=True)"
   ],
   "metadata": {
    "collapsed": false
   }
  },
  {
   "cell_type": "code",
   "execution_count": 93,
   "outputs": [],
   "source": [
    "from torch_geometric.datasets import LastFM"
   ],
   "metadata": {
    "collapsed": false
   }
  },
  {
   "cell_type": "code",
   "execution_count": 94,
   "outputs": [],
   "source": [
    "dataset = LastFM(root=\"./LastFM\")"
   ],
   "metadata": {
    "collapsed": false
   }
  },
  {
   "cell_type": "code",
   "execution_count": 100,
   "outputs": [],
   "source": [
    "loader = DataLoader(dataset, batch_size=2, shuffle=True)"
   ],
   "metadata": {
    "collapsed": false
   }
  },
  {
   "cell_type": "code",
   "execution_count": 99,
   "outputs": [
    {
     "data": {
      "text/plain": "HeteroData(\n  \u001B[1muser\u001B[0m={ num_nodes=1892 },\n  \u001B[1martist\u001B[0m={ num_nodes=17632 },\n  \u001B[1mtag\u001B[0m={ num_nodes=1088 },\n  \u001B[1m(user, to, artist)\u001B[0m={\n    train_neg_edge_index=[2, 33294760],\n    val_pos_edge_index=[2, 9283],\n    val_neg_edge_index=[2, 9283],\n    test_pos_edge_index=[2, 18567],\n    test_neg_edge_index=[2, 18567],\n    edge_index=[2, 64984]\n  },\n  \u001B[1m(user, to, user)\u001B[0m={ edge_index=[2, 25434] },\n  \u001B[1m(artist, to, user)\u001B[0m={ edge_index=[2, 64984] },\n  \u001B[1m(artist, to, tag)\u001B[0m={ edge_index=[2, 23253] },\n  \u001B[1m(tag, to, artist)\u001B[0m={ edge_index=[2, 23253] }\n)"
     },
     "execution_count": 99,
     "metadata": {},
     "output_type": "execute_result"
    }
   ],
   "source": [
    "dataset[0]"
   ],
   "metadata": {
    "collapsed": false
   }
  },
  {
   "cell_type": "code",
   "execution_count": null,
   "outputs": [],
   "source": [],
   "metadata": {
    "collapsed": false
   }
  },
  {
   "cell_type": "code",
   "execution_count": 104,
   "outputs": [
    {
     "name": "stdout",
     "output_type": "stream",
     "text": [
      "33431684\n"
     ]
    }
   ],
   "source": [
    "for batch in loader:\n",
    "    print(batch.num_edges)"
   ],
   "metadata": {
    "collapsed": false
   }
  },
  {
   "cell_type": "code",
   "execution_count": 46,
   "outputs": [],
   "source": [
    "model.train()\n",
    "\n",
    "for epoch in range(EPOCHS):\n",
    "    for batch in loader:\n",
    "        optimizer.zero_grad()\n",
    "        edge_index = train_edge_index\n",
    "        pos_label =\n",
    "        neg_label = negative_sampling(pos_label)\n",
    "        total_label =\n",
    "        out = model(edge_index, total_label)\n",
    "        loss = model.recommendation_loss(out[pos_label], out[neg_label])\n",
    "        loss.backward()\n",
    "        optimizer.step()"
   ],
   "metadata": {
    "collapsed": false
   }
  },
  {
   "cell_type": "code",
   "execution_count": null,
   "outputs": [],
   "source": [],
   "metadata": {
    "collapsed": false
   }
  },
  {
   "cell_type": "code",
   "execution_count": null,
   "outputs": [],
   "source": [],
   "metadata": {
    "collapsed": false
   }
  },
  {
   "cell_type": "code",
   "execution_count": 51,
   "outputs": [
    {
     "data": {
      "text/plain": "tensor([[-2.9700e-03,  6.7198e-03, -7.0369e-03,  ..., -4.2175e-03,\n         -1.1041e-02, -1.3709e-02],\n        [-6.5093e-03,  7.2192e-03, -1.0881e-02,  ...,  9.0594e-03,\n         -8.7273e-03,  1.1111e-02],\n        [-3.9874e-03, -2.0468e-03,  7.7710e-03,  ..., -1.7289e-03,\n          1.8313e-04,  4.8628e-03],\n        ...,\n        [-7.5256e-03,  1.3774e-03,  9.3665e-03,  ...,  1.3144e-02,\n          1.3366e-03,  8.6798e-03],\n        [-3.0878e-04, -4.0927e-03, -3.4533e-05,  ...,  5.2982e-03,\n          2.0726e-03,  6.3662e-03],\n        [ 5.5121e-03, -1.9212e-03,  1.1485e-02,  ..., -1.0579e-02,\n         -8.9293e-03, -3.5650e-03]], grad_fn=<AddBackward0>)"
     },
     "execution_count": 51,
     "metadata": {},
     "output_type": "execute_result"
    }
   ],
   "source": [
    "# cc = LGCN.get_embedding(train_edge_index)\n",
    "# cc"
   ],
   "metadata": {
    "collapsed": false
   }
  },
  {
   "cell_type": "code",
   "execution_count": 52,
   "outputs": [
    {
     "data": {
      "text/plain": "torch.Size([2489, 64])"
     },
     "execution_count": 52,
     "metadata": {},
     "output_type": "execute_result"
    }
   ],
   "source": [
    "# cc.shape"
   ],
   "metadata": {
    "collapsed": false
   }
  },
  {
   "cell_type": "code",
   "execution_count": 1,
   "outputs": [],
   "source": [
    "# light_loss, light_bpr, light_reg, light_recall, light_precision = train_and_eval(lightgcn, optimizer, train_df)"
   ],
   "metadata": {
    "collapsed": false
   }
  },
  {
   "cell_type": "code",
   "execution_count": null,
   "outputs": [],
   "source": [
    "LGCN.eval()\n",
    "\n",
    "# pred = model(data).argmax(dim=1)\n",
    "# correct = (pred[data.test_mask] == data.y[data.test_mask]).sum()\n",
    "# acc = int(correct) / int(data.test_mask.sum())\n",
    "# print(f'Accuracy: {acc:.4f}')"
   ],
   "metadata": {
    "collapsed": false
   }
  },
  {
   "cell_type": "code",
   "execution_count": null,
   "outputs": [],
   "source": [],
   "metadata": {
    "collapsed": false
   }
  },
  {
   "cell_type": "code",
   "execution_count": 20,
   "outputs": [
    {
     "data": {
      "text/plain": "tensor([[0, 0, 1, 1, 2, 3, 3, 4],\n        [2, 3, 3, 4, 0, 0, 1, 1]])"
     },
     "execution_count": 20,
     "metadata": {},
     "output_type": "execute_result"
    }
   ],
   "source": [
    "# usr: 0, 1; itm: 2, 3, 4\n",
    "# positive: 0 - 2,3 ; 1 - 3, 4\n",
    "# negative: 0 - 4; 1 - 2\n",
    "\n",
    "test_edge_index"
   ],
   "metadata": {
    "collapsed": false
   }
  },
  {
   "cell_type": "code",
   "execution_count": 45,
   "outputs": [],
   "source": [
    "test_edge_index_1 = torch.as_tensor([[0,  0,  1,  1,  2,  3,  3,  4],\n",
    "                                     [12, 13, 13, 14, 10, 10, 11, 11]])"
   ],
   "metadata": {
    "collapsed": false
   }
  },
  {
   "cell_type": "code",
   "execution_count": 46,
   "outputs": [
    {
     "data": {
      "text/plain": "(tensor([0, 0, 1, 1, 2, 3, 3, 4]),\n tensor([12, 13, 13, 14, 10, 10, 11, 11]),\n tensor([4, 0, 3, 8, 0, 6, 1, 2]))"
     },
     "execution_count": 46,
     "metadata": {},
     "output_type": "execute_result"
    }
   ],
   "source": [
    "from torch_geometric.utils import negative_sampling\n",
    "from torch_geometric.utils import structured_negative_sampling\n",
    "neg_edge_index = structured_negative_sampling(test_edge_index_1)\n",
    "neg_edge_index"
   ],
   "metadata": {
    "collapsed": false
   }
  },
  {
   "cell_type": "code",
   "execution_count": 52,
   "outputs": [],
   "source": [
    "from torch_geometric.data import Data\n",
    "data = Data(x = ,edge_index=test_edge_index_1)"
   ],
   "metadata": {
    "collapsed": false
   }
  },
  {
   "cell_type": "code",
   "execution_count": 53,
   "outputs": [
    {
     "name": "stderr",
     "output_type": "stream",
     "text": [
      "/Users/yingkang/4thBrain/GNN-eCommerce/venv/lib/python3.9/site-packages/torch_geometric/data/storage.py:283: UserWarning: Unable to accurately infer 'num_nodes' from the attribute set '{'edge_index'}'. Please explicitly set 'num_nodes' as an attribute of 'data' to suppress this warning\n",
      "  warnings.warn(\n"
     ]
    }
   ],
   "source": [
    "from torch_geometric.transforms import RandomLinkSplit\n",
    "\n",
    "transform = RandomLinkSplit(is_undirected=False, add_negative_train_samples=True)\n",
    "train_data, val_data, test_data = transform(data)"
   ],
   "metadata": {
    "collapsed": false
   }
  },
  {
   "cell_type": "code",
   "execution_count": 56,
   "outputs": [
    {
     "data": {
      "text/plain": "tensor([[ 0,  4,  3,  3,  2,  1,  0],\n        [12, 11, 10, 11, 10, 13, 13]])"
     },
     "execution_count": 56,
     "metadata": {},
     "output_type": "execute_result"
    }
   ],
   "source": [
    "train_data.edge_index"
   ],
   "metadata": {
    "collapsed": false
   }
  },
  {
   "cell_type": "code",
   "execution_count": 57,
   "outputs": [
    {
     "data": {
      "text/plain": "tensor([[ 0,  4,  3,  3,  2,  1,  0],\n        [12, 11, 10, 11, 10, 13, 13]])"
     },
     "execution_count": 57,
     "metadata": {},
     "output_type": "execute_result"
    }
   ],
   "source": [
    "val_data.edge_index"
   ],
   "metadata": {
    "collapsed": false
   }
  },
  {
   "cell_type": "code",
   "execution_count": 58,
   "outputs": [
    {
     "data": {
      "text/plain": "tensor([[ 0,  4,  3,  3,  2,  1,  0],\n        [12, 11, 10, 11, 10, 13, 13]])"
     },
     "execution_count": 58,
     "metadata": {},
     "output_type": "execute_result"
    }
   ],
   "source": [
    "test_data.edge_index"
   ],
   "metadata": {
    "collapsed": false
   }
  },
  {
   "cell_type": "code",
   "execution_count": null,
   "outputs": [],
   "source": [],
   "metadata": {
    "collapsed": false,
    "pycharm": {
     "is_executing": true
    }
   }
  },
  {
   "cell_type": "code",
   "execution_count": null,
   "outputs": [],
   "source": [],
   "metadata": {
    "collapsed": false,
    "pycharm": {
     "is_executing": true
    }
   }
  },
  {
   "cell_type": "code",
   "execution_count": null,
   "outputs": [],
   "source": [],
   "metadata": {
    "collapsed": false,
    "pycharm": {
     "is_executing": true
    }
   }
  },
  {
   "cell_type": "code",
   "execution_count": null,
   "outputs": [],
   "source": [],
   "metadata": {
    "collapsed": false,
    "pycharm": {
     "is_executing": true
    }
   }
  },
  {
   "cell_type": "code",
   "execution_count": null,
   "outputs": [],
   "source": [],
   "metadata": {
    "collapsed": false,
    "pycharm": {
     "is_executing": true
    }
   }
  },
  {
   "cell_type": "code",
   "execution_count": null,
   "outputs": [],
   "source": [],
   "metadata": {
    "collapsed": false,
    "pycharm": {
     "is_executing": true
    }
   }
  },
  {
   "cell_type": "code",
   "execution_count": 59,
   "outputs": [],
   "source": [
    "x_s = torch.randn(2, 16)"
   ],
   "metadata": {
    "collapsed": false
   }
  },
  {
   "cell_type": "code",
   "execution_count": 60,
   "outputs": [
    {
     "data": {
      "text/plain": "tensor([[-0.3352,  1.6670, -1.1732,  0.2516, -0.1516,  0.6130,  1.2359,  0.2416,\n          0.1629,  0.7882,  1.4856, -0.1718, -0.4131, -0.2350,  1.1422,  1.0242],\n        [-0.3668, -0.1371,  0.9067, -0.9148,  0.3964, -1.0921, -0.7567, -0.1679,\n          0.6423, -0.1423, -0.9084, -0.0144, -0.9528, -0.6947, -0.4912,  1.5782]])"
     },
     "execution_count": 60,
     "metadata": {},
     "output_type": "execute_result"
    }
   ],
   "source": [
    "x_s"
   ],
   "metadata": {
    "collapsed": false
   }
  },
  {
   "cell_type": "code",
   "execution_count": null,
   "outputs": [],
   "source": [],
   "metadata": {
    "collapsed": false
   }
  }
 ],
 "metadata": {
  "kernelspec": {
   "display_name": "Python 3",
   "language": "python",
   "name": "python3"
  },
  "language_info": {
   "codemirror_mode": {
    "name": "ipython",
    "version": 2
   },
   "file_extension": ".py",
   "mimetype": "text/x-python",
   "name": "python",
   "nbconvert_exporter": "python",
   "pygments_lexer": "ipython2",
   "version": "2.7.6"
  }
 },
 "nbformat": 4,
 "nbformat_minor": 0
}
