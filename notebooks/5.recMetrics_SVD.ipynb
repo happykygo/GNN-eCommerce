{
 "cells": [
  {
   "cell_type": "code",
   "execution_count": null,
   "id": "35031c8e",
   "metadata": {},
   "outputs": [],
   "source": []
  },
  {
   "cell_type": "code",
   "execution_count": 1,
   "id": "c39bb6a6",
   "metadata": {},
   "outputs": [],
   "source": [
    "import matplotlib.pyplot as plt\n",
    "import numpy as np\n",
    "import pandas as pd\n",
    "from surprise import SVD, Dataset, Reader\n",
    "from surprise.model_selection import train_test_split\n",
    "import recmetrics"
   ]
  },
  {
   "cell_type": "markdown",
   "id": "bd61d345",
   "metadata": {},
   "source": [
    "## Load Data"
   ]
  },
  {
   "cell_type": "code",
   "execution_count": 2,
   "id": "7f25c11a",
   "metadata": {},
   "outputs": [],
   "source": [
    "import yaml\n",
    "from lightgcn import LightGCN\n",
    "from sklearn.model_selection import train_test_split\n",
    "from utils import *\n",
    "pd.set_option('display.max_colwidth', None)"
   ]
  },
  {
   "cell_type": "code",
   "execution_count": 3,
   "id": "119f6e0a",
   "metadata": {},
   "outputs": [
    {
     "data": {
      "text/plain": [
       "device(type='cpu')"
      ]
     },
     "execution_count": 3,
     "metadata": {},
     "output_type": "execute_result"
    }
   ],
   "source": [
    "device = torch.device(\"cuda:0\" if torch.cuda.is_available() else \"cpu\")\n",
    "device # = \"cpu\""
   ]
  },
  {
   "cell_type": "code",
   "execution_count": 4,
   "id": "55c74872",
   "metadata": {},
   "outputs": [
    {
     "name": "stdout",
     "output_type": "stream",
     "text": [
      "/Users/yingkang/4thBrain/GNN-eCommerce\n"
     ]
    },
    {
     "data": {
      "text/plain": [
       "{'base': {'random_seed': 42},\n",
       " 'data': {'cosmetic_shop': 'data/raw/cosmetic-shop-ecommerce-events/',\n",
       "  'preprocessed': 'data/preprocessed/'},\n",
       " 'training': {'event_type_weights_v1': {'view': 0.01,\n",
       "   'cart': 0.1,\n",
       "   'remove_from_cart': -0.09,\n",
       "   'purchase': 1.0},\n",
       "  'event_type_weights_v2': {'view': 0.15,\n",
       "   'cart': 0.35,\n",
       "   'remove_from_cart': -0.2,\n",
       "   'purchase': 1.0}},\n",
       " 'reports': None}"
      ]
     },
     "execution_count": 4,
     "metadata": {},
     "output_type": "execute_result"
    }
   ],
   "source": [
    "# Load Config\n",
    "%cd ..\n",
    "with open(\"params.yaml\") as config_file:\n",
    "    config = yaml.safe_load(config_file)\n",
    "config"
   ]
  },
  {
   "cell_type": "code",
   "execution_count": 5,
   "id": "71d53117",
   "metadata": {},
   "outputs": [
    {
     "data": {
      "text/html": [
       "<div>\n",
       "<style scoped>\n",
       "    .dataframe tbody tr th:only-of-type {\n",
       "        vertical-align: middle;\n",
       "    }\n",
       "\n",
       "    .dataframe tbody tr th {\n",
       "        vertical-align: top;\n",
       "    }\n",
       "\n",
       "    .dataframe thead th {\n",
       "        text-align: right;\n",
       "    }\n",
       "</style>\n",
       "<table border=\"1\" class=\"dataframe\">\n",
       "  <thead>\n",
       "    <tr style=\"text-align: right;\">\n",
       "      <th></th>\n",
       "      <th>Unnamed: 0</th>\n",
       "      <th>user_id</th>\n",
       "      <th>item_id</th>\n",
       "      <th>weight</th>\n",
       "    </tr>\n",
       "  </thead>\n",
       "  <tbody>\n",
       "    <tr>\n",
       "      <th>0</th>\n",
       "      <td>0</td>\n",
       "      <td>465496</td>\n",
       "      <td>5769989</td>\n",
       "      <td>0.01</td>\n",
       "    </tr>\n",
       "    <tr>\n",
       "      <th>1</th>\n",
       "      <td>1</td>\n",
       "      <td>465496</td>\n",
       "      <td>5865524</td>\n",
       "      <td>0.01</td>\n",
       "    </tr>\n",
       "    <tr>\n",
       "      <th>2</th>\n",
       "      <td>2</td>\n",
       "      <td>465496</td>\n",
       "      <td>5865526</td>\n",
       "      <td>0.01</td>\n",
       "    </tr>\n",
       "    <tr>\n",
       "      <th>3</th>\n",
       "      <td>3</td>\n",
       "      <td>1120748</td>\n",
       "      <td>5240</td>\n",
       "      <td>0.01</td>\n",
       "    </tr>\n",
       "    <tr>\n",
       "      <th>4</th>\n",
       "      <td>4</td>\n",
       "      <td>1180452</td>\n",
       "      <td>5881337</td>\n",
       "      <td>0.01</td>\n",
       "    </tr>\n",
       "    <tr>\n",
       "      <th>...</th>\n",
       "      <td>...</td>\n",
       "      <td>...</td>\n",
       "      <td>...</td>\n",
       "      <td>...</td>\n",
       "    </tr>\n",
       "    <tr>\n",
       "      <th>10157403</th>\n",
       "      <td>10157403</td>\n",
       "      <td>622090043</td>\n",
       "      <td>5850628</td>\n",
       "      <td>0.01</td>\n",
       "    </tr>\n",
       "    <tr>\n",
       "      <th>10157404</th>\n",
       "      <td>10157404</td>\n",
       "      <td>622090052</td>\n",
       "      <td>5688691</td>\n",
       "      <td>0.01</td>\n",
       "    </tr>\n",
       "    <tr>\n",
       "      <th>10157405</th>\n",
       "      <td>10157405</td>\n",
       "      <td>622090052</td>\n",
       "      <td>5931986</td>\n",
       "      <td>0.01</td>\n",
       "    </tr>\n",
       "    <tr>\n",
       "      <th>10157406</th>\n",
       "      <td>10157406</td>\n",
       "      <td>622090098</td>\n",
       "      <td>5650609</td>\n",
       "      <td>0.01</td>\n",
       "    </tr>\n",
       "    <tr>\n",
       "      <th>10157407</th>\n",
       "      <td>10157407</td>\n",
       "      <td>622090237</td>\n",
       "      <td>5754853</td>\n",
       "      <td>0.01</td>\n",
       "    </tr>\n",
       "  </tbody>\n",
       "</table>\n",
       "<p>10157408 rows × 4 columns</p>\n",
       "</div>"
      ],
      "text/plain": [
       "          Unnamed: 0    user_id  item_id  weight\n",
       "0                  0     465496  5769989    0.01\n",
       "1                  1     465496  5865524    0.01\n",
       "2                  2     465496  5865526    0.01\n",
       "3                  3    1120748     5240    0.01\n",
       "4                  4    1180452  5881337    0.01\n",
       "...              ...        ...      ...     ...\n",
       "10157403    10157403  622090043  5850628    0.01\n",
       "10157404    10157404  622090052  5688691    0.01\n",
       "10157405    10157405  622090052  5931986    0.01\n",
       "10157406    10157406  622090098  5650609    0.01\n",
       "10157407    10157407  622090237  5754853    0.01\n",
       "\n",
       "[10157408 rows x 4 columns]"
      ]
     },
     "execution_count": 5,
     "metadata": {},
     "output_type": "execute_result"
    }
   ],
   "source": [
    "interaction_matrix = pd.read_csv(config['data']['preprocessed'] + \"u_i_weight_0.01_0.1_-0.09.csv\")\n",
    "interaction_matrix"
   ]
  },
  {
   "cell_type": "markdown",
   "id": "7c1fa3a9",
   "metadata": {},
   "source": [
    "## Maybe not -- Long Tail Plot for item popularity and active user"
   ]
  },
  {
   "cell_type": "code",
   "execution_count": null,
   "id": "48fd6698",
   "metadata": {},
   "outputs": [],
   "source": [
    "fig = plt.figure(figsize=(15, 7))\n",
    "recmetrics.long_tail_plot(df=interaction_matrix, \n",
    "             item_id_column=\"item_id\", \n",
    "             interaction_type=\"received interests\", \n",
    "             percentage=0.5,\n",
    "             x_labels=False)"
   ]
  },
  {
   "cell_type": "code",
   "execution_count": 10,
   "id": "11d76c31",
   "metadata": {},
   "outputs": [
    {
     "data": {
      "text/plain": [
       "5809910    62461\n",
       "5809912    23741\n",
       "5751422    21185\n",
       "5751383    21010\n",
       "5849033    17383\n",
       "           ...  \n",
       "5870513        1\n",
       "5804500        1\n",
       "5875090        1\n",
       "5626579        1\n",
       "5652262        1\n",
       "Name: item_id, Length: 54571, dtype: int64"
      ]
     },
     "execution_count": 10,
     "metadata": {},
     "output_type": "execute_result"
    }
   ],
   "source": [
    "interaction_matrix['item_id'].value_counts()"
   ]
  },
  {
   "cell_type": "markdown",
   "id": "bb10d0cc",
   "metadata": {},
   "source": [
    "Some item is extremly popular(massive user shows interest to it)"
   ]
  },
  {
   "cell_type": "markdown",
   "id": "2d5e5d92",
   "metadata": {},
   "source": [
    "## MAR@K, MAP@K for Baseline model(SVD)"
   ]
  },
  {
   "cell_type": "code",
   "execution_count": null,
   "id": "9f670445",
   "metadata": {},
   "outputs": [],
   "source": [
    "test = svd_model.test(testSet)\n",
    "test = pd.DataFrame(test)\n",
    "test.drop(\"details\", inplace=True, axis=1)\n",
    "test.columns = ['userId', 'itemId', 'actual', 'SVD_predict']"
   ]
  },
  {
   "cell_type": "code",
   "execution_count": null,
   "id": "c12633bb",
   "metadata": {},
   "outputs": [],
   "source": [
    "actual = test.copy().groupby('userId')['itemId'].agg({\n",
    "    'actual': (lambda x: list(set(x)))}).reset_index()"
   ]
  },
  {
   "cell_type": "code",
   "execution_count": null,
   "id": "df090b51",
   "metadata": {},
   "outputs": [],
   "source": [
    "actual = actual.set_index(\"userId\")"
   ]
  },
  {
   "cell_type": "code",
   "execution_count": null,
   "id": "38294a3c",
   "metadata": {},
   "outputs": [],
   "source": [
    "predict = test.pivot_table(index='userId', columns='itemId', values='SVD_predict').fillna(0)"
   ]
  },
  {
   "cell_type": "code",
   "execution_count": null,
   "id": "70871855",
   "metadata": {},
   "outputs": [],
   "source": [
    "def get_users_predictions(user_id, K, model):\n",
    "    recommended_items = pd.DataFrame(model.loc[user_id])\n",
    "    recommended_items.columns = [\"predicted_rating\"]\n",
    "    recommended_items = recommended_items.sort_values('predicted_rating', ascending=False)    \n",
    "    recommended_items = recommended_items.head(K)\n",
    "    return recommended_items.index.tolist()"
   ]
  },
  {
   "cell_type": "code",
   "execution_count": null,
   "id": "945129eb",
   "metadata": {},
   "outputs": [],
   "source": [
    "cf_recs = [] = []\n",
    "for user in actual.index:\n",
    "    cf_predictions = get_users_predictions(user, 10, predict)\n",
    "    cf_recs.append(cf_predictions)"
   ]
  },
  {
   "cell_type": "code",
   "execution_count": null,
   "id": "adb742d2",
   "metadata": {},
   "outputs": [],
   "source": []
  },
  {
   "cell_type": "code",
   "execution_count": null,
   "id": "6528009e",
   "metadata": {},
   "outputs": [],
   "source": [
    "actual = test.actual.values.tolist()\n",
    "cf_predictions = test.SVD_predict.values.tolist()"
   ]
  },
  {
   "cell_type": "code",
   "execution_count": null,
   "id": "85a69083",
   "metadata": {},
   "outputs": [],
   "source": [
    "cf_mark = []\n",
    "for K in np.arange(1, 11):\n",
    "    cf_mark.extend([recmetrics.mark(actual, cf_predictions, k=K)])\n",
    "cf_mark"
   ]
  },
  {
   "cell_type": "markdown",
   "id": "fc04937a",
   "metadata": {},
   "source": [
    "### MAR@K Plot"
   ]
  },
  {
   "cell_type": "code",
   "execution_count": null,
   "id": "b5d94c4a",
   "metadata": {},
   "outputs": [],
   "source": [
    "mark_scores = [random_mark, pop_mark, cf_mark]\n",
    "index = range(1,10+1)\n",
    "names = ['Random Recommender', 'Popularity Recommender', 'Collaborative Filter']\n",
    "\n",
    "fig = plt.figure(figsize=(15, 7))\n",
    "recmetrics.mark_plot(mark_scores, model_names=names, k_range=index)"
   ]
  },
  {
   "cell_type": "code",
   "execution_count": null,
   "id": "8aaf0719",
   "metadata": {},
   "outputs": [],
   "source": []
  },
  {
   "cell_type": "code",
   "execution_count": null,
   "id": "d4bb8cf7",
   "metadata": {},
   "outputs": [],
   "source": []
  },
  {
   "cell_type": "markdown",
   "id": "2c9bfc49",
   "metadata": {},
   "source": [
    "## Hit Rate"
   ]
  },
  {
   "cell_type": "code",
   "execution_count": null,
   "id": "e0dde55b",
   "metadata": {},
   "outputs": [],
   "source": []
  },
  {
   "cell_type": "code",
   "execution_count": null,
   "id": "dc2a99b9",
   "metadata": {},
   "outputs": [],
   "source": []
  },
  {
   "cell_type": "code",
   "execution_count": null,
   "id": "fa56c4cf",
   "metadata": {},
   "outputs": [],
   "source": []
  },
  {
   "cell_type": "markdown",
   "id": "6af3ff1e",
   "metadata": {},
   "source": [
    "## ROC Plot + Precision Recall Plot"
   ]
  },
  {
   "cell_type": "code",
   "execution_count": null,
   "id": "6ac642c2",
   "metadata": {},
   "outputs": [],
   "source": []
  },
  {
   "cell_type": "code",
   "execution_count": null,
   "id": "663d6044",
   "metadata": {},
   "outputs": [],
   "source": []
  },
  {
   "cell_type": "code",
   "execution_count": null,
   "id": "86f20be5",
   "metadata": {},
   "outputs": [],
   "source": []
  },
  {
   "cell_type": "markdown",
   "id": "c6097e8b",
   "metadata": {},
   "source": [
    "## Average Precision"
   ]
  },
  {
   "cell_type": "code",
   "execution_count": null,
   "id": "20c98c03",
   "metadata": {},
   "outputs": [],
   "source": []
  },
  {
   "cell_type": "code",
   "execution_count": null,
   "id": "13aaf548",
   "metadata": {},
   "outputs": [],
   "source": []
  },
  {
   "cell_type": "code",
   "execution_count": null,
   "id": "069272be",
   "metadata": {},
   "outputs": [],
   "source": []
  },
  {
   "cell_type": "code",
   "execution_count": null,
   "id": "32dd500d",
   "metadata": {},
   "outputs": [],
   "source": []
  },
  {
   "cell_type": "markdown",
   "id": "4a0b1c5b",
   "metadata": {},
   "source": [
    "## Prediction Coverage + Coverage Plot"
   ]
  },
  {
   "cell_type": "code",
   "execution_count": null,
   "id": "bec94873",
   "metadata": {},
   "outputs": [],
   "source": []
  },
  {
   "cell_type": "code",
   "execution_count": null,
   "id": "1c8ff0f3",
   "metadata": {},
   "outputs": [],
   "source": []
  },
  {
   "cell_type": "code",
   "execution_count": null,
   "id": "e741f12a",
   "metadata": {},
   "outputs": [],
   "source": []
  },
  {
   "cell_type": "code",
   "execution_count": null,
   "id": "8271feb6",
   "metadata": {},
   "outputs": [],
   "source": []
  },
  {
   "cell_type": "code",
   "execution_count": null,
   "id": "0ef08d2e",
   "metadata": {},
   "outputs": [],
   "source": []
  }
 ],
 "metadata": {
  "kernelspec": {
   "display_name": "Python 3 (ipykernel)",
   "language": "python",
   "name": "python3"
  },
  "language_info": {
   "codemirror_mode": {
    "name": "ipython",
    "version": 3
   },
   "file_extension": ".py",
   "mimetype": "text/x-python",
   "name": "python",
   "nbconvert_exporter": "python",
   "pygments_lexer": "ipython3",
   "version": "3.9.6"
  }
 },
 "nbformat": 4,
 "nbformat_minor": 5
}
