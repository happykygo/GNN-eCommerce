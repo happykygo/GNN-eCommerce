{
 "cells": [
  {
   "cell_type": "markdown",
   "source": [
    "# LightGCN model RecSys"
   ],
   "metadata": {
    "collapsed": false
   }
  },
  {
   "cell_type": "code",
   "execution_count": 1,
   "outputs": [],
   "source": [
    "# import matplotlib.pyplot as plt\n",
    "# import networkx as nx\n",
    "# import numpy as np\n",
    "# import pandas as pd\n",
    "import yaml\n",
    "from lightgcn import LightGCN\n",
    "from sklearn.model_selection import train_test_split\n",
    "from utils import *\n",
    "pd.set_option('display.max_colwidth', None)"
   ],
   "metadata": {
    "collapsed": false
   }
  },
  {
   "cell_type": "code",
   "execution_count": 2,
   "outputs": [
    {
     "data": {
      "text/plain": "device(type='cpu')"
     },
     "execution_count": 2,
     "metadata": {},
     "output_type": "execute_result"
    }
   ],
   "source": [
    "device = torch.device(\"cuda:0\" if torch.cuda.is_available() else \"cpu\")\n",
    "device # = \"cpu\""
   ],
   "metadata": {
    "collapsed": false
   }
  },
  {
   "cell_type": "code",
   "execution_count": 3,
   "outputs": [
    {
     "name": "stdout",
     "output_type": "stream",
     "text": [
      "/Users/yingkang/4thBrain/GNN-eCommerce\n"
     ]
    },
    {
     "data": {
      "text/plain": "{'base': {'random_seed': 42},\n 'data': {'cosmetic_shop': 'data/raw/cosmetic-shop-ecommerce-events/',\n  'preprocessed': 'data/preprocessed/'},\n 'training': {'event_type_weights_v1': {'view': 0.01,\n   'cart': 0.1,\n   'remove_from_cart': -0.09,\n   'purchase': 1.0},\n  'event_type_weights_v2': {'view': 0.15,\n   'cart': 0.35,\n   'remove_from_cart': -0.2,\n   'purchase': 1.0}},\n 'reports': None}"
     },
     "execution_count": 3,
     "metadata": {},
     "output_type": "execute_result"
    }
   ],
   "source": [
    "# Load Config\n",
    "%cd ..\n",
    "with open(\"params.yaml\") as config_file:\n",
    "    config = yaml.safe_load(config_file)\n",
    "config"
   ],
   "metadata": {
    "collapsed": false
   }
  },
  {
   "cell_type": "markdown",
   "source": [
    "# Load Interaction Matrix from csv"
   ],
   "metadata": {
    "collapsed": false
   }
  },
  {
   "cell_type": "code",
   "execution_count": 4,
   "outputs": [],
   "source": [
    "interaction_matrix = pd.read_csv(config['data']['preprocessed'] + \"interaction_matrix.csv\")\n",
    "interaction_matrix = interaction_matrix.rename(columns={\"product_id\": \"item_id\"})"
   ],
   "metadata": {
    "collapsed": false
   }
  },
  {
   "cell_type": "code",
   "execution_count": 5,
   "outputs": [],
   "source": [
    "im = interaction_matrix[['user_id', 'item_id', 'weight']].copy()"
   ],
   "metadata": {
    "collapsed": false
   }
  },
  {
   "cell_type": "code",
   "execution_count": 6,
   "outputs": [
    {
     "name": "stdout",
     "output_type": "stream",
     "text": [
      "Total data size:  10157408 , unique user:  1639358 , unique items:  54571\n"
     ]
    }
   ],
   "source": [
    "print('Total data size: ', len(im), ', unique user: ', im.user_id.nunique(), ', unique items: ', im.item_id.nunique())"
   ],
   "metadata": {
    "collapsed": false
   }
  },
  {
   "cell_type": "code",
   "execution_count": 19,
   "outputs": [],
   "source": [
    "# ?? Should user never purchase removed at the beginning ??? NO for now!!\n",
    "# mini_im = purchase_users(im)\n",
    "mini_im = im.sample(200000)  #100000"
   ],
   "metadata": {
    "collapsed": false
   }
  },
  {
   "cell_type": "code",
   "execution_count": 14,
   "outputs": [
    {
     "name": "stdout",
     "output_type": "stream",
     "text": [
      "Mini dataset size:  10000 , Users at least purchased once:  1298\n"
     ]
    }
   ],
   "source": [
    "print('Mini dataset size: ', len(mini_im), ', Users at least purchased once: ', len(purchase_users(mini_im)))\n",
    "# print('Valid data percentage: ', f'{len(mini_im)/len(im):.2%}')"
   ],
   "metadata": {
    "collapsed": false
   }
  },
  {
   "cell_type": "markdown",
   "source": [
    "### Prepare Train/ Val/ Test dataset"
   ],
   "metadata": {
    "collapsed": false
   }
  },
  {
   "cell_type": "code",
   "execution_count": 15,
   "outputs": [],
   "source": [
    "train_df, test_df = train_test_split(mini_im, test_size=0.2)\n",
    "test_df, val_df = train_test_split(test_df, test_size=0.5)"
   ],
   "metadata": {
    "collapsed": false
   }
  },
  {
   "cell_type": "code",
   "execution_count": 16,
   "outputs": [
    {
     "name": "stdout",
     "output_type": "stream",
     "text": [
      "Mini set unique user:  9541 , unique items:  6533\n",
      "Train Size  :  8000\n",
      "Val Size :  1000\n",
      "Test Size :  1000\n"
     ]
    }
   ],
   "source": [
    "print('Mini set unique user: ', mini_im.user_id.nunique(), ', unique items: ', mini_im.item_id.nunique())\n",
    "print(\"Train Size  : \", len(train_df))\n",
    "print(\"Val Size : \", len (val_df))\n",
    "print(\"Test Size : \", len (test_df))"
   ],
   "metadata": {
    "collapsed": false
   }
  },
  {
   "cell_type": "code",
   "execution_count": 11,
   "outputs": [],
   "source": [
    "n_users, n_items, train_df, train_pos_list_df, val_pos_list_df, test_pos_list_df = prepare_val_test(train_df, val_df, test_df)  # , val_u_i_matrix, test_u_i_matrix"
   ],
   "metadata": {
    "collapsed": false
   }
  },
  {
   "cell_type": "code",
   "execution_count": 12,
   "outputs": [
    {
     "name": "stdout",
     "output_type": "stream",
     "text": [
      "Users :  97855\n",
      "Items :  29177\n",
      "Train Size  :  140000\n",
      "Val Size :  1763\n",
      "Test Size :  1742\n"
     ]
    }
   ],
   "source": [
    "print(\"After data pipline\")\n",
    "print(\"n_users : \", n_users, \", n_items : \", n_items)\n",
    "print(\"train_df Size  : \", len(train_df))\n",
    "print(\"val_pos_list_df Size : \", len (val_pos_list_df))\n",
    "print(\"test_pos_list_df Size : \", len (test_pos_list_df))"
   ],
   "metadata": {
    "collapsed": false
   }
  },
  {
   "cell_type": "markdown",
   "source": [
    "### Instantiate model and train/val the model"
   ],
   "metadata": {
    "collapsed": false
   }
  },
  {
   "cell_type": "code",
   "execution_count": 17,
   "outputs": [
    {
     "name": "stdout",
     "output_type": "stream",
     "text": [
      "Size of Learnable Embedding :  [torch.Size([127032, 64])]\n"
     ]
    }
   ],
   "source": [
    "latent_dim = 80     # aim to 128\n",
    "n_layers = 3\n",
    "LR = 0.005\n",
    "\n",
    "model = LightGCN(num_nodes=n_users+n_items, embedding_dim=latent_dim, num_layers=n_layers)\n",
    "optimizer = torch.optim.Adam(model.parameters(), lr=LR)\n",
    "print(\"Size of Learnable Embedding : \", [x.shape for x in list(model.parameters())])"
   ],
   "metadata": {
    "collapsed": false
   }
  },
  {
   "cell_type": "code",
   "execution_count": 18,
   "outputs": [
    {
     "name": "stdout",
     "output_type": "stream",
     "text": [
      "bpr_loss | reg_loss | final_loss | precision | recall\n"
     ]
    },
    {
     "data": {
      "text/plain": "  0%|          | 0/50 [00:00<?, ?it/s]",
      "application/vnd.jupyter.widget-view+json": {
       "version_major": 2,
       "version_minor": 0,
       "model_id": "63cb3a44ffa845e1a42c8a98b8d968bd"
      }
     },
     "metadata": {},
     "output_type": "display_data"
    },
    {
     "name": "stdout",
     "output_type": "stream",
     "text": [
      "0.0225 0.0007 0.0231 0.0006 0.0116\n",
      "0.0002 0.0008 0.001 0.0005 0.0102\n",
      "0.0002 0.0007 0.0009 0.0008 0.015\n",
      "0.0002 0.0006 0.0008 0.0007 0.0135\n",
      "0.0002 0.0005 0.0007 0.0007 0.0128\n",
      "0.0001 0.0005 0.0006 0.0006 0.0116\n",
      "0.0001 0.0004 0.0006 0.0006 0.0108\n",
      "0.0001 0.0004 0.0005 0.0006 0.0122\n",
      "0.0001 0.0004 0.0005 0.0006 0.0119\n",
      "0.0001 0.0003 0.0005 0.0007 0.0128\n",
      "0.0001 0.0003 0.0005 0.0006 0.0111\n",
      "0.0001 0.0003 0.0004 0.0007 0.0139\n",
      "0.0001 0.0003 0.0004 0.0006 0.0119\n",
      "0.0001 0.0003 0.0004 0.0005 0.0102\n",
      "0.0001 0.0003 0.0004 0.0005 0.0094\n",
      "0.0001 0.0003 0.0004 0.0005 0.0088\n",
      "0.0001 0.0003 0.0004 0.0006 0.0111\n",
      "0.0001 0.0003 0.0004 0.0004 0.0073\n",
      "0.0001 0.0003 0.0004 0.0005 0.0094\n",
      "0.0001 0.0002 0.0004 0.0005 0.009\n",
      "0.0001 0.0002 0.0004 0.0005 0.0101\n",
      "0.0001 0.0002 0.0003 0.0005 0.0105\n",
      "0.0001 0.0002 0.0003 0.0005 0.0085\n",
      "0.0001 0.0002 0.0003 0.0005 0.0091\n",
      "0.0001 0.0002 0.0004 0.0005 0.0102\n",
      "0.0001 0.0002 0.0004 0.0004 0.0076\n",
      "0.0001 0.0002 0.0003 0.0005 0.0091\n",
      "0.0001 0.0002 0.0003 0.0005 0.0087\n",
      "0.0001 0.0002 0.0003 0.0004 0.0078\n",
      "0.0001 0.0002 0.0003 0.0005 0.0087\n",
      "0.0001 0.0002 0.0003 0.0005 0.0087\n",
      "0.0001 0.0002 0.0003 0.0005 0.0087\n",
      "0.0001 0.0002 0.0003 0.0006 0.011\n",
      "0.0001 0.0002 0.0003 0.0005 0.0104\n",
      "0.0001 0.0002 0.0003 0.0005 0.0087\n",
      "0.0001 0.0002 0.0003 0.0005 0.0101\n",
      "0.0001 0.0002 0.0003 0.0005 0.0104\n",
      "0.0001 0.0002 0.0003 0.0006 0.0118\n",
      "0.0001 0.0002 0.0003 0.0005 0.0105\n",
      "0.0001 0.0002 0.0003 0.0005 0.0101\n",
      "0.0001 0.0002 0.0003 0.0006 0.0111\n",
      "0.0001 0.0002 0.0003 0.0005 0.0094\n",
      "0.0001 0.0002 0.0003 0.0005 0.0098\n",
      "0.0001 0.0002 0.0003 0.0006 0.0112\n",
      "0.0001 0.0002 0.0003 0.0007 0.0132\n",
      "0.0001 0.0002 0.0003 0.0007 0.0138\n",
      "0.0001 0.0002 0.0003 0.0007 0.0135\n",
      "0.0001 0.0002 0.0003 0.0007 0.0135\n",
      "0.0002 0.0002 0.0003 0.0007 0.0118\n",
      "0.0001 0.0002 0.0003 0.0007 0.0132\n"
     ]
    }
   ],
   "source": [
    "bpr_loss, reg_loss, final_loss, recall, precision = \\\n",
    "    train_and_evl(n_users, n_items, 100, train_df, train_pos_list_df, val_pos_list_df, model, optimizer, device=device, EPOCHS = 50, BATCH_SIZE = 1024, K = 20, DECAY = 0.0001)"
   ],
   "metadata": {
    "collapsed": false
   }
  },
  {
   "cell_type": "code",
   "execution_count": null,
   "outputs": [],
   "source": [],
   "metadata": {
    "collapsed": false
   }
  }
 ],
 "metadata": {
  "kernelspec": {
   "display_name": "Python 3",
   "language": "python",
   "name": "python3"
  },
  "language_info": {
   "codemirror_mode": {
    "name": "ipython",
    "version": 2
   },
   "file_extension": ".py",
   "mimetype": "text/x-python",
   "name": "python",
   "nbconvert_exporter": "python",
   "pygments_lexer": "ipython2",
   "version": "2.7.6"
  }
 },
 "nbformat": 4,
 "nbformat_minor": 0
}
