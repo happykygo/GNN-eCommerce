{
 "cells": [
  {
   "cell_type": "code",
   "execution_count": 1,
   "outputs": [],
   "source": [
    "from src.plot import *"
   ],
   "metadata": {
    "collapsed": false
   }
  },
  {
   "cell_type": "code",
   "execution_count": 2,
   "outputs": [
    {
     "name": "stdout",
     "output_type": "stream",
     "text": [
      "/Users/yingkang/4thBrain/GNN-eCommerce\n"
     ]
    }
   ],
   "source": [
    "%cd ..\n",
    "with open(\"config.yaml\") as config_file:\n",
    "    config = yaml.safe_load(config_file)\n",
    "device = torch.device(f\"cuda:0\" if torch.cuda.is_available() else \"cpu\")"
   ],
   "metadata": {
    "collapsed": false
   }
  },
  {
   "cell_type": "code",
   "execution_count": 3,
   "outputs": [
    {
     "name": "stdout",
     "output_type": "stream",
     "text": [
      "n_users 13973, n_items 12486, len(glance) 25544, len(edge_weight) 51088\n"
     ]
    }
   ],
   "source": [
    "checkpoint_dir = config['training']['checkpoints_dir']+'2023-02-18_071308/'\n",
    "train_df, test_df, val_df, best_model = load_data_model(checkpoint_dir, device)\n",
    "n_users, n_items, edge_index, edge_weight = glance_df(test_df.sample(frac=0.4))\n",
    "g = create_dgl_graph(n_users, n_items, edge_index, edge_weight)"
   ],
   "metadata": {
    "collapsed": false
   }
  },
  {
   "cell_type": "code",
   "execution_count": null,
   "outputs": [
    {
     "name": "stdout",
     "output_type": "stream",
     "text": [
      "Server config: {'FRONT_ROOT': '/Users/yingkang/4thBrain/GNN-eCommerce/venv/lib/python3.9/site-packages/gnnlens/./visbuild', 'STATIC_FOLDER': '/Users/yingkang/4thBrain/GNN-eCommerce/venv/lib/python3.9/site-packages/gnnlens/./visbuild/static', 'LOGDIR': 'GNN-Plot'}\r\n",
      " * Serving Flask app 'gnnlens.server' (lazy loading)\r\n",
      " * Environment: production\r\n",
      "\u001B[31m   WARNING: This is a development server. Do not use it in a production deployment.\u001B[0m\r\n",
      "\u001B[2m   Use a production WSGI server instead.\u001B[0m\r\n",
      " * Debug mode: off\r\n",
      "\u001B[31m\u001B[1mWARNING: This is a development server. Do not use it in a production deployment. Use a production WSGI server instead.\u001B[0m\r\n",
      " * Running on all addresses (0.0.0.0)\r\n",
      " * Running on http://127.0.0.1:7777\r\n",
      " * Running on http://192.168.0.172:7777\r\n",
      "\u001B[33mPress CTRL+C to quit\u001B[0m\r\n",
      "#index\r\n",
      "127.0.0.1 - - [22/Feb/2023 16:47:17] \"\u001B[36mGET / HTTP/1.1\u001B[0m\" 304 -\r\n",
      "127.0.0.1 - - [22/Feb/2023 16:47:17] \"\u001B[36mGET /static/css/2.929389fa.chunk.css HTTP/1.1\u001B[0m\" 304 -\r\n",
      "127.0.0.1 - - [22/Feb/2023 16:47:17] \"\u001B[36mGET /static/css/main.8d5084fd.chunk.css HTTP/1.1\u001B[0m\" 304 -\r\n",
      "127.0.0.1 - - [22/Feb/2023 16:47:17] \"\u001B[36mGET /static/js/2.b9f0e663.chunk.js HTTP/1.1\u001B[0m\" 304 -\r\n",
      "127.0.0.1 - - [22/Feb/2023 16:47:17] \"\u001B[36mGET /static/js/main.e553e190.chunk.js HTTP/1.1\u001B[0m\" 304 -\r\n",
      "127.0.0.1 - - [22/Feb/2023 16:47:17] \"GET /api/graphs HTTP/1.1\" 200 -\r\n",
      "127.0.0.1 - - [22/Feb/2023 16:47:17] \"\u001B[36mGET /static/media/logo2.4b8ec5cf.png HTTP/1.1\u001B[0m\" 304 -\r\n",
      "127.0.0.1 - - [22/Feb/2023 16:47:18] \"\u001B[36mGET /manifest.json HTTP/1.1\u001B[0m\" 304 -\r\n",
      "127.0.0.1 - - [22/Feb/2023 16:47:21] \"GET /api/graphinfo?dataset_id=1 HTTP/1.1\" 200 -\r\n",
      "127.0.0.1 - - [22/Feb/2023 16:47:21] \"GET /api/subgraphs?dataset_id=1 HTTP/1.1\" 200 -\r\n",
      "127.0.0.1 - - [22/Feb/2023 16:47:21] \"GET /api/models?dataset_id=1 HTTP/1.1\" 200 -\r\n"
     ]
    }
   ],
   "source": [
    "gnn_writer_name = 'GNN-Plot'\n",
    "gnn_writer = create_writer(gnn_writer_name)\n",
    "gnn_writer = add_graph(gnn_writer, 'Glance_graph', g, 7)\n",
    "!gnnlens --logdir GNN-Plot"
   ],
   "metadata": {
    "collapsed": false,
    "pycharm": {
     "is_executing": true
    }
   }
  },
  {
   "cell_type": "code",
   "execution_count": null,
   "outputs": [],
   "source": [],
   "metadata": {
    "collapsed": false
   }
  },
  {
   "cell_type": "raw",
   "source": [
    "n_users1, n_items1, edge_index1, edge_weight1 = analysis_df(train_df)  # , test_df, val_df\n",
    "g1 = create_dgl_graph(n_users1, n_items1, edge_index1, edge_weight1)\n",
    "g1"
   ],
   "metadata": {
    "collapsed": false
   }
  },
  {
   "cell_type": "raw",
   "source": [
    "# TOO BIG!!!\n",
    "# Hop4G, _ = dgl.khop_out_subgraph(g1, [1312390], k=3)\n",
    "# Hop4G\n",
    "# gnn_writer = add_graph(gnn_writer, 'Hop4_graph', Hop4G, 7)\n",
    "# Hop4G_19, _ = dgl.khop_out_subgraph(Hop4G, [19], k=3)\n",
    "# gnn_writer = add_subgraph(gnn_writer, 'Hop4_graph', 'Hop3-19', Hop4G_19, 19)"
   ],
   "metadata": {
    "collapsed": false
   }
  },
  {
   "cell_type": "raw",
   "source": [
    "nodes = set()"
   ],
   "metadata": {
    "collapsed": false
   }
  },
  {
   "cell_type": "raw",
   "source": [
    "nodes.update([1610545, 1630882, 1626506, 1610544, 1626503, 1602024, 1626504, 1626498, 1593652, 1626509, 1626500, 1615879, 1618184, 1606218, 1621417, 1589356, 1607187, 1604902, 1626508, 1630888])\n",
    "nodes.update([1639546, 1619916, 1596114, 1619917, 1620818, 1604903, 1619918, 1596116, 1632188, 1594688, 1595486, 1619910, 1614603, 1610927, 1598338, 1618640, 1604906, 1612222, 1626445, 1596113])\n",
    "nodes.update([976326, 1626505, 1644, 1610545, 976326, 1634505, 268798, 1593046, 925475, 1630882, 976326, 1626505, 487928, 1626506, 976326, 1626502, 368294, 1610544, 976326, 1626505, 3996, 1626503, 976326, 1634505, 226448, 1602024, 976326, 1626505, 147335, 1626504, 976326, 1626505, 147335, 1626498, 976326, 1626505, 1644, 1593652, 976326, 1626505, 147335, 1626509, 976326, 1626505, 712672, 1626500, 976326, 1626505, 147335, 1615879, 976326, 1626502, 94230, 1618184, 976326, 1626499, 1021822, 1605781, 447680, 1606218, 976326, 1634505, 271514, 1621417, 976326, 1626505, 1644, 1589356, 976326, 1634505, 338095, 1607187, 976326, 1626505, 1644, 1604902, 976326, 1626505, 779039, 1626508, 976326, 1626505, 1644, 1630888])\n",
    "nodes.update([1312390, 1619916, 278334, 1610545, 1270921, 1639546, 1312390, 1619916, 1312390, 1619916, 59636, 1596114, 1312390,1619916, 399894, 1619917, 1312390, 1619916, 383734, 1620818, 1312390, 1619916, 1197431,1604903, 1312390, 1619916, 272890, 1619918,1312390, 1619916, 1194964, 1596116,1312390, 1619916, 59636, 1634153, 951744, 1632188,1312390, 1619916,1186270, 1594688,1312390, 1619916, 814106, 1595486, 1312390, 1619916,563420, 1619910, 1312390, 1619916, 295602, 1614603,1312390, 1619916, 346669, 1610927, 1312390, 1619916,1053711, 1598338, 1312390, 1619916, 64824, 1618640,1312390, 1619916, 237611, 1604906, 1312390, 1619916,481297, 1612222, 1312390, 1619916, 59636, 1626445,1312390, 1619916, 273052, 1596113])"
   ],
   "metadata": {
    "collapsed": false
   }
  },
  {
   "cell_type": "raw",
   "source": [
    "nodes = list(nodes)"
   ],
   "metadata": {
    "collapsed": false
   }
  },
  {
   "cell_type": "raw",
   "source": [
    "ss = dgl.node_subgraph(g1, nodes=nodes)\n",
    "ss"
   ],
   "metadata": {
    "collapsed": false
   }
  },
  {
   "cell_type": "raw",
   "source": [
    "g2, _ = dgl.khop_out_subgraph(g1, [19], k=2)\n",
    "g2"
   ],
   "metadata": {
    "collapsed": false
   }
  },
  {
   "cell_type": "raw",
   "source": [
    "gnn_writer = add_subgraph(gnn_writer, 'Glance_graph', 'smallOne', ss, 976326)"
   ],
   "metadata": {
    "collapsed": false
   }
  },
  {
   "cell_type": "raw",
   "source": [
    "# gnn_writer = add_graph(gnn_writer, 'small', ss, 3)\n",
    "gnn_writer.add_graph(name='small', graph=ss,\n",
    "                     # nlabels=dgl_graph.ndata['U0-i1-label'],\n",
    "                     nlabels=ss.ndata[dgl.NID],\n",
    "                     num_nlabel_types=4,\n",
    "                     eweights={'weight': ss.edata['weight']})"
   ],
   "metadata": {
    "collapsed": false
   }
  },
  {
   "cell_type": "raw",
   "source": [
    "len(ss.edata['_ID'])"
   ],
   "metadata": {
    "collapsed": false
   }
  },
  {
   "cell_type": "raw",
   "source": [
    "g2"
   ],
   "metadata": {
    "collapsed": false
   }
  },
  {
   "cell_type": "raw",
   "source": [
    "ss"
   ],
   "metadata": {
    "collapsed": false
   }
  },
  {
   "cell_type": "raw",
   "source": [
    "tt = dgl.merge([g2,ss])\n",
    "tt"
   ],
   "metadata": {
    "collapsed": false
   }
  },
  {
   "cell_type": "raw",
   "source": [
    "tt = dgl.add_edges(tt, torch.tensor([19, 976326]), torch.tensor([976326, 19]))"
   ],
   "metadata": {
    "collapsed": false
   }
  },
  {
   "cell_type": "raw",
   "source": [
    "tt"
   ],
   "metadata": {
    "collapsed": false
   }
  },
  {
   "cell_type": "raw",
   "source": [
    "gnn_writer = add_graph(gnn_writer, 'onemore', tt, 5)"
   ],
   "metadata": {
    "collapsed": false
   }
  },
  {
   "cell_type": "raw",
   "source": [
    "gnn_writer = add_subgraph(gnn_writer, 'onemore', '976326', ss, 976326)"
   ],
   "metadata": {
    "collapsed": false
   }
  },
  {
   "cell_type": "raw",
   "source": [
    "!gnnlens --logdir GNN-Plot"
   ],
   "metadata": {
    "collapsed": false
   }
  },
  {
   "cell_type": "raw",
   "source": [
    "tt.ndata['_ID']"
   ],
   "metadata": {
    "collapsed": false
   }
  }
 ],
 "metadata": {
  "kernelspec": {
   "display_name": "Python 3 (ipykernel)",
   "language": "python",
   "name": "python3"
  },
  "language_info": {
   "codemirror_mode": {
    "name": "ipython",
    "version": 3
   },
   "file_extension": ".py",
   "mimetype": "text/x-python",
   "name": "python",
   "nbconvert_exporter": "python",
   "pygments_lexer": "ipython3",
   "version": "3.9.6"
  }
 },
 "nbformat": 4,
 "nbformat_minor": 5
}
