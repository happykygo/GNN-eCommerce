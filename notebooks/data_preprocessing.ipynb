{
 "cells": [
  {
   "cell_type": "markdown",
   "source": [
    "# Simple Collaborative Filtering model using Matrix Factorization"
   ],
   "metadata": {
    "collapsed": false
   }
  },
  {
   "cell_type": "code",
   "execution_count": 2,
   "outputs": [],
   "source": [
    "from collections import defaultdict\n",
    "import pandas as pd\n",
    "import yaml\n",
    "import glob\n",
    "import matplotlib.pyplot as plt\n",
    "%matplotlib inline"
   ],
   "metadata": {
    "collapsed": false
   }
  },
  {
   "cell_type": "code",
   "execution_count": 3,
   "outputs": [],
   "source": [
    "from surprise import SVD\n",
    "from surprise.model_selection import cross_validate"
   ],
   "metadata": {
    "collapsed": false
   }
  },
  {
   "cell_type": "markdown",
   "source": [
    "# Load Config\n"
   ],
   "metadata": {
    "collapsed": false
   }
  },
  {
   "cell_type": "code",
   "execution_count": null,
   "outputs": [],
   "source": [
    "%pwd"
   ],
   "metadata": {
    "collapsed": false
   }
  },
  {
   "cell_type": "code",
   "execution_count": 1,
   "outputs": [
    {
     "name": "stdout",
     "output_type": "stream",
     "text": [
      "/Users/CPang/Ying/GNN-eCommerce\n"
     ]
    }
   ],
   "source": [
    "%cd .."
   ],
   "metadata": {
    "collapsed": false
   }
  },
  {
   "cell_type": "code",
   "execution_count": 4,
   "outputs": [
    {
     "data": {
      "text/plain": "{'base': {'random_seed': 42},\n 'data': {'cosmetic_shop': 'data/raw/cosmetic-shop-ecommerce-events/'},\n 'training': {'event_type_weights': {'view': 0.01,\n   'cart': 0.1,\n   'remove_from_cart': -0.09,\n   'purchase': 1.0}},\n 'reports': None}"
     },
     "execution_count": 4,
     "metadata": {},
     "output_type": "execute_result"
    }
   ],
   "source": [
    "with open(\"params.yaml\") as config_file:\n",
    "    config = yaml.safe_load(config_file)\n",
    "\n",
    "config"
   ],
   "metadata": {
    "collapsed": false
   }
  },
  {
   "cell_type": "markdown",
   "source": [
    "# Load Dataset and EDA"
   ],
   "metadata": {
    "collapsed": false
   }
  },
  {
   "cell_type": "code",
   "execution_count": 5,
   "outputs": [],
   "source": [
    "# Get CSV files list of cosmetic shop dataset\n",
    "path = config['data']['cosmetic_shop']\n",
    "csv_files = glob.glob(path + \"/20*.csv\")\n",
    "\n",
    "# Read each CSV file into DataFrame. This creates a list of dataframes\n",
    "df_list = (pd.read_csv(file) for file in csv_files)\n",
    "\n",
    "# Concatenate all DataFrames\n",
    "all_events = pd.concat(df_list, ignore_index=True)"
   ],
   "metadata": {
    "collapsed": false
   }
  },
  {
   "cell_type": "code",
   "execution_count": 6,
   "outputs": [
    {
     "name": "stdout",
     "output_type": "stream",
     "text": [
      "(20692840, 9)\n"
     ]
    },
    {
     "data": {
      "text/plain": "                       event_time        event_type  product_id  \\\n18439902  2019-10-14 07:49:19 UTC              view     5889092   \n16072835  2019-11-28 10:55:53 UTC  remove_from_cart     5793077   \n2834254   2020-01-22 11:03:23 UTC              cart     5786837   \n16844423  2019-10-02 13:20:46 UTC              view     5848407   \n15635685  2019-11-25 12:25:40 UTC              view     5886802   \n1298770   2020-01-11 21:36:56 UTC              view     5916489   \n2691355   2020-01-21 11:33:24 UTC              view     5899164   \n2927998   2020-01-23 04:14:22 UTC  remove_from_cart     5857673   \n16733449  2019-10-02 00:06:39 UTC              view     5854330   \n18092821  2019-10-11 07:57:09 UTC          purchase     5621738   \n\n                  category_id category_code      brand  price    user_id  \\\n18439902  1720400165430363096           NaN        NaN   3.65  560038527   \n16072835  1487580007776650194           NaN        NaN   0.75  478239488   \n2834254   1783999068909863670           NaN      smart   5.56  585185095   \n16844423  1487580007675986893           NaN  freedecor   0.79  533866480   \n15635685  1487580013170524342           NaN        NaN   5.56  509522345   \n1298770   1487580013279576251           NaN    relouis   4.13  599906722   \n2691355   1487580005293622112           NaN        opi  26.95  586476743   \n2927998   1487580007399162817           NaN      artex   4.37  422178927   \n16733449  1487580005134238553           NaN     runail   2.38  555815917   \n18092821  1487580009605365797           NaN        NaN   0.30  558421695   \n\n                                  user_session  \n18439902  d380fec1-4eee-4b40-940e-25ff5305571b  \n16072835  f6d4d746-424a-4acb-9bc5-ac2ea7ac05a1  \n2834254   94cdcb42-9f6f-45d8-90b9-3770d39f3251  \n16844423  7e922394-c369-4ae9-99a0-fc1b8495ba2d  \n15635685  69bbbf16-fb51-4ec9-bf50-8aa14ea5c5cb  \n1298770   a55de4b7-0a87-4ae1-b5a0-f8f657764ef6  \n2691355   e292d58c-ba70-4342-81cf-81c2a14fe5a8  \n2927998   688e954e-668a-452a-a752-43af00635f0a  \n16733449  e49be861-baf5-4331-b3b1-b4dc96ecc7b9  \n18092821  e80202ce-0c0d-4d7e-b7b8-9fb4a8d24e8c  ",
      "text/html": "<div>\n<style scoped>\n    .dataframe tbody tr th:only-of-type {\n        vertical-align: middle;\n    }\n\n    .dataframe tbody tr th {\n        vertical-align: top;\n    }\n\n    .dataframe thead th {\n        text-align: right;\n    }\n</style>\n<table border=\"1\" class=\"dataframe\">\n  <thead>\n    <tr style=\"text-align: right;\">\n      <th></th>\n      <th>event_time</th>\n      <th>event_type</th>\n      <th>product_id</th>\n      <th>category_id</th>\n      <th>category_code</th>\n      <th>brand</th>\n      <th>price</th>\n      <th>user_id</th>\n      <th>user_session</th>\n    </tr>\n  </thead>\n  <tbody>\n    <tr>\n      <th>18439902</th>\n      <td>2019-10-14 07:49:19 UTC</td>\n      <td>view</td>\n      <td>5889092</td>\n      <td>1720400165430363096</td>\n      <td>NaN</td>\n      <td>NaN</td>\n      <td>3.65</td>\n      <td>560038527</td>\n      <td>d380fec1-4eee-4b40-940e-25ff5305571b</td>\n    </tr>\n    <tr>\n      <th>16072835</th>\n      <td>2019-11-28 10:55:53 UTC</td>\n      <td>remove_from_cart</td>\n      <td>5793077</td>\n      <td>1487580007776650194</td>\n      <td>NaN</td>\n      <td>NaN</td>\n      <td>0.75</td>\n      <td>478239488</td>\n      <td>f6d4d746-424a-4acb-9bc5-ac2ea7ac05a1</td>\n    </tr>\n    <tr>\n      <th>2834254</th>\n      <td>2020-01-22 11:03:23 UTC</td>\n      <td>cart</td>\n      <td>5786837</td>\n      <td>1783999068909863670</td>\n      <td>NaN</td>\n      <td>smart</td>\n      <td>5.56</td>\n      <td>585185095</td>\n      <td>94cdcb42-9f6f-45d8-90b9-3770d39f3251</td>\n    </tr>\n    <tr>\n      <th>16844423</th>\n      <td>2019-10-02 13:20:46 UTC</td>\n      <td>view</td>\n      <td>5848407</td>\n      <td>1487580007675986893</td>\n      <td>NaN</td>\n      <td>freedecor</td>\n      <td>0.79</td>\n      <td>533866480</td>\n      <td>7e922394-c369-4ae9-99a0-fc1b8495ba2d</td>\n    </tr>\n    <tr>\n      <th>15635685</th>\n      <td>2019-11-25 12:25:40 UTC</td>\n      <td>view</td>\n      <td>5886802</td>\n      <td>1487580013170524342</td>\n      <td>NaN</td>\n      <td>NaN</td>\n      <td>5.56</td>\n      <td>509522345</td>\n      <td>69bbbf16-fb51-4ec9-bf50-8aa14ea5c5cb</td>\n    </tr>\n    <tr>\n      <th>1298770</th>\n      <td>2020-01-11 21:36:56 UTC</td>\n      <td>view</td>\n      <td>5916489</td>\n      <td>1487580013279576251</td>\n      <td>NaN</td>\n      <td>relouis</td>\n      <td>4.13</td>\n      <td>599906722</td>\n      <td>a55de4b7-0a87-4ae1-b5a0-f8f657764ef6</td>\n    </tr>\n    <tr>\n      <th>2691355</th>\n      <td>2020-01-21 11:33:24 UTC</td>\n      <td>view</td>\n      <td>5899164</td>\n      <td>1487580005293622112</td>\n      <td>NaN</td>\n      <td>opi</td>\n      <td>26.95</td>\n      <td>586476743</td>\n      <td>e292d58c-ba70-4342-81cf-81c2a14fe5a8</td>\n    </tr>\n    <tr>\n      <th>2927998</th>\n      <td>2020-01-23 04:14:22 UTC</td>\n      <td>remove_from_cart</td>\n      <td>5857673</td>\n      <td>1487580007399162817</td>\n      <td>NaN</td>\n      <td>artex</td>\n      <td>4.37</td>\n      <td>422178927</td>\n      <td>688e954e-668a-452a-a752-43af00635f0a</td>\n    </tr>\n    <tr>\n      <th>16733449</th>\n      <td>2019-10-02 00:06:39 UTC</td>\n      <td>view</td>\n      <td>5854330</td>\n      <td>1487580005134238553</td>\n      <td>NaN</td>\n      <td>runail</td>\n      <td>2.38</td>\n      <td>555815917</td>\n      <td>e49be861-baf5-4331-b3b1-b4dc96ecc7b9</td>\n    </tr>\n    <tr>\n      <th>18092821</th>\n      <td>2019-10-11 07:57:09 UTC</td>\n      <td>purchase</td>\n      <td>5621738</td>\n      <td>1487580009605365797</td>\n      <td>NaN</td>\n      <td>NaN</td>\n      <td>0.30</td>\n      <td>558421695</td>\n      <td>e80202ce-0c0d-4d7e-b7b8-9fb4a8d24e8c</td>\n    </tr>\n  </tbody>\n</table>\n</div>"
     },
     "execution_count": 6,
     "metadata": {},
     "output_type": "execute_result"
    }
   ],
   "source": [
    "print(all_events.shape)\n",
    "all_events.sample(10)"
   ],
   "metadata": {
    "collapsed": false
   }
  },
  {
   "cell_type": "code",
   "execution_count": 7,
   "outputs": [
    {
     "name": "stdout",
     "output_type": "stream",
     "text": [
      "Unique users:  1639358\n",
      "Unique products:  54571\n",
      "Event types:  ['view', 'cart', 'remove_from_cart', 'purchase']\n"
     ]
    }
   ],
   "source": [
    "# Number of unique users\n",
    "users_count = len(pd.unique(all_events['user_id']))\n",
    "print(\"Unique users: \", users_count)\n",
    "\n",
    "# Number of unique products\n",
    "products_count = len(pd.unique(all_events['product_id']))\n",
    "print(\"Unique products: \", products_count)\n",
    "\n",
    "print(\"Event types: \", pd.unique(all_events.event_type).tolist())\n"
   ],
   "metadata": {
    "collapsed": false
   }
  },
  {
   "cell_type": "code",
   "execution_count": 30,
   "outputs": [],
   "source": [
    "# a small dataset used for code development only\n",
    "all_events_mini = all_events\n",
    "all_events_mini = all_events_mini[['user_id', 'product_id', 'event_type']]\n"
   ],
   "metadata": {
    "collapsed": false
   }
  },
  {
   "cell_type": "code",
   "execution_count": 31,
   "outputs": [],
   "source": [
    "def interaction_matrix(events, event_type_weights):\n",
    "\n",
    "    events = events[['user_id', 'product_id', 'event_type']]\n",
    "    # Add weight column to `events` dataframe\n",
    "    events['weight'] = events.event_type.apply(lambda x: event_type_weights[x])\n",
    "\n",
    "    i_matrix = events.groupby(['user_id', 'product_id'], as_index=False) \\\n",
    "        .agg({'event_type': list, 'weight': lambda x: 0.01 if x.sum() < 0 else 1.0 if x.sum() > 1.0 else x.sum()})\n",
    "\n",
    "    return i_matrix"
   ],
   "metadata": {
    "collapsed": false
   }
  },
  {
   "cell_type": "code",
   "execution_count": 32,
   "outputs": [
    {
     "data": {
      "text/plain": "            user_id  product_id event_type  weight\n0            465496     5769989     [view]    0.01\n1            465496     5865524     [view]    0.01\n2            465496     5865526     [view]    0.01\n3           1120748        5240     [view]    0.01\n4           1180452     5881337     [view]    0.01\n...             ...         ...        ...     ...\n10157403  622090043     5850628     [view]    0.01\n10157404  622090052     5688691     [view]    0.01\n10157405  622090052     5931986     [view]    0.01\n10157406  622090098     5650609     [view]    0.01\n10157407  622090237     5754853     [view]    0.01\n\n[10157408 rows x 4 columns]",
      "text/html": "<div>\n<style scoped>\n    .dataframe tbody tr th:only-of-type {\n        vertical-align: middle;\n    }\n\n    .dataframe tbody tr th {\n        vertical-align: top;\n    }\n\n    .dataframe thead th {\n        text-align: right;\n    }\n</style>\n<table border=\"1\" class=\"dataframe\">\n  <thead>\n    <tr style=\"text-align: right;\">\n      <th></th>\n      <th>user_id</th>\n      <th>product_id</th>\n      <th>event_type</th>\n      <th>weight</th>\n    </tr>\n  </thead>\n  <tbody>\n    <tr>\n      <th>0</th>\n      <td>465496</td>\n      <td>5769989</td>\n      <td>[view]</td>\n      <td>0.01</td>\n    </tr>\n    <tr>\n      <th>1</th>\n      <td>465496</td>\n      <td>5865524</td>\n      <td>[view]</td>\n      <td>0.01</td>\n    </tr>\n    <tr>\n      <th>2</th>\n      <td>465496</td>\n      <td>5865526</td>\n      <td>[view]</td>\n      <td>0.01</td>\n    </tr>\n    <tr>\n      <th>3</th>\n      <td>1120748</td>\n      <td>5240</td>\n      <td>[view]</td>\n      <td>0.01</td>\n    </tr>\n    <tr>\n      <th>4</th>\n      <td>1180452</td>\n      <td>5881337</td>\n      <td>[view]</td>\n      <td>0.01</td>\n    </tr>\n    <tr>\n      <th>...</th>\n      <td>...</td>\n      <td>...</td>\n      <td>...</td>\n      <td>...</td>\n    </tr>\n    <tr>\n      <th>10157403</th>\n      <td>622090043</td>\n      <td>5850628</td>\n      <td>[view]</td>\n      <td>0.01</td>\n    </tr>\n    <tr>\n      <th>10157404</th>\n      <td>622090052</td>\n      <td>5688691</td>\n      <td>[view]</td>\n      <td>0.01</td>\n    </tr>\n    <tr>\n      <th>10157405</th>\n      <td>622090052</td>\n      <td>5931986</td>\n      <td>[view]</td>\n      <td>0.01</td>\n    </tr>\n    <tr>\n      <th>10157406</th>\n      <td>622090098</td>\n      <td>5650609</td>\n      <td>[view]</td>\n      <td>0.01</td>\n    </tr>\n    <tr>\n      <th>10157407</th>\n      <td>622090237</td>\n      <td>5754853</td>\n      <td>[view]</td>\n      <td>0.01</td>\n    </tr>\n  </tbody>\n</table>\n<p>10157408 rows × 4 columns</p>\n</div>"
     },
     "execution_count": 32,
     "metadata": {},
     "output_type": "execute_result"
    }
   ],
   "source": [
    "im = interaction_matrix(all_events_mini, config['training']['event_type_weights'])\n",
    "im"
   ],
   "metadata": {
    "collapsed": false
   }
  },
  {
   "cell_type": "code",
   "execution_count": 33,
   "outputs": [],
   "source": [
    "im.to_csv('data/preprocessed/interaction_matrix.csv')"
   ],
   "metadata": {
    "collapsed": false
   }
  },
  {
   "cell_type": "markdown",
   "source": [
    "##### refer code for relabeling user_nodes, item_nodes"
   ],
   "metadata": {
    "collapsed": false
   }
  },
  {
   "cell_type": "code",
   "execution_count": null,
   "outputs": [],
   "source": [
    "# refer code for relabeling user_nodes, item_nodes\n",
    "from sklearn.model_selection import train_test_split\n",
    "\n",
    "# change df to im??\n",
    "train, test = train_test_split(df.values, test_size=0.2, random_state=16)\n",
    "train_df = pd.DataFrame(train, columns=df.columns)\n",
    "test_df = pd.DataFrame(test, columns=df.columns)"
   ],
   "metadata": {
    "collapsed": false
   }
  },
  {
   "cell_type": "code",
   "execution_count": null,
   "outputs": [],
   "source": [
    "from sklearn import preprocessing as pp\n",
    "\n",
    "le_user = pp.LabelEncoder()\n",
    "le_item = pp.LabelEncoder()\n",
    "train_df['user_id_idx'] = le_user.fit_transform(train_df['user_id'].values)\n",
    "train_df['item_id_idx'] = le_item.fit_transform(train_df['item_id'].values)"
   ],
   "metadata": {
    "collapsed": false
   }
  },
  {
   "cell_type": "code",
   "execution_count": null,
   "outputs": [],
   "source": [
    "train_user_ids = train_df['user_id'].unique()\n",
    "train_item_ids = train_df['item_id'].unique()\n",
    "\n",
    "print('Unique train set user_ids/ item_ids:', len(train_user_ids), len(train_item_ids))\n",
    "\n",
    "test_df = test_df[\n",
    "  (test_df['user_id'].isin(train_user_ids)) & \\\n",
    "  (test_df['item_id'].isin(train_item_ids))\n",
    "]\n",
    "print('Size of test set before/ after(remove user/item nodes not in train set):', len(test), len(test_df))"
   ],
   "metadata": {
    "collapsed": false
   }
  },
  {
   "cell_type": "code",
   "execution_count": null,
   "outputs": [],
   "source": [
    "test_df['user_id_idx'] = le_user.transform(test_df['user_id'].values)\n",
    "test_df['item_id_idx'] = le_item.transform(test_df['item_id'].values)"
   ],
   "metadata": {
    "collapsed": false
   }
  },
  {
   "cell_type": "code",
   "execution_count": null,
   "outputs": [],
   "source": [],
   "metadata": {
    "collapsed": false
   }
  },
  {
   "cell_type": "code",
   "execution_count": 11,
   "outputs": [],
   "source": [
    "from surprise import Dataset\n",
    "from surprise import Reader\n",
    "reader = Reader(rating_scale=(0, 1))\n",
    "surprise_dataset = Dataset.load_from_df(im[['user_id', 'product_id', 'weight']], reader)"
   ],
   "metadata": {
    "collapsed": false
   }
  },
  {
   "cell_type": "code",
   "execution_count": null,
   "outputs": [],
   "source": [
    "# Use the famous SVD algorithm.\n",
    "algo = SVD()\n",
    "\n",
    "# Run 5-fold cross-validation and print results.\n",
    "cross_validate(algo, surprise_dataset, measures=['RMSE', 'MAE'], cv=5, verbose=True)"
   ],
   "metadata": {
    "collapsed": false
   }
  },
  {
   "cell_type": "code",
   "execution_count": 29,
   "outputs": [
    {
     "name": "stdout",
     "output_type": "stream",
     "text": [
      "precisions:  [0.015518272623960766, 0.015485735595748647, 0.014833547912451717, 0.015699322242760324, 0.014385321100917432]\n",
      "recalls:  [0.011799509480291825, 0.013162719870719129, 0.011683919252431299, 0.012499469877011468, 0.011978649535988989]\n",
      "average precision:  0.015184439895167778\n",
      "average recall:  0.012224853603288541\n"
     ]
    }
   ],
   "source": [
    "from surprise.model_selection import KFold\n",
    "\n",
    "\n",
    "def precision_recall_at_k(predictions, k=10, est_threshold=0.5, true_threshold=1.0):\n",
    "    \"\"\"Return precision and recall at k metrics for each user\n",
    "    Ref: https://surprise.readthedocs.io/en/stable/FAQ.html\n",
    "    \"\"\"\n",
    "\n",
    "    # First map the predictions to each user.\n",
    "    user_est_true = defaultdict(list)\n",
    "    for uid, _, true_r, est, _ in predictions:\n",
    "        user_est_true[uid].append((est, true_r))\n",
    "\n",
    "    precisions = dict()\n",
    "    recalls = dict()\n",
    "    for uid, user_ratings in user_est_true.items():\n",
    "\n",
    "        # Sort user ratings by estimated value\n",
    "        user_ratings.sort(key=lambda x: x[0], reverse=True)\n",
    "\n",
    "        # Number of relevant items\n",
    "        n_rel = sum((true_r >= true_threshold) for (_, true_r) in user_ratings)\n",
    "\n",
    "        # Number of recommended items in top k\n",
    "        n_rec_k = sum((est >= est_threshold) for (est, _) in user_ratings[:k])\n",
    "\n",
    "        # Number of relevant and recommended items in top k\n",
    "        n_rel_and_rec_k = sum(\n",
    "            ((true_r >= true_threshold) and (est >= est_threshold))\n",
    "            for (est, true_r) in user_ratings[:k]\n",
    "        )\n",
    "\n",
    "        # Precision@K: Proportion of recommended items that are relevant\n",
    "        # When n_rec_k is 0, Precision is undefined. We here set it to 0.\n",
    "\n",
    "        precisions[uid] = n_rel_and_rec_k / n_rec_k if n_rec_k != 0 else 0\n",
    "\n",
    "        # Recall@K: Proportion of relevant items that are recommended\n",
    "        # When n_rel is 0, Recall is undefined. We here set it to 0.\n",
    "\n",
    "        recalls[uid] = n_rel_and_rec_k / n_rel if n_rel != 0 else 0\n",
    "\n",
    "    return precisions, recalls\n",
    "\n",
    "num_folds = 5\n",
    "kf = KFold(n_splits=num_folds)\n",
    "algo = SVD()\n",
    "\n",
    "from surprise.model_selection import train_test_split\n",
    "#trainset, testset = train_test_split(surprise_dataset)\n",
    "ps = []\n",
    "rs = []\n",
    "for trainset, testset in kf.split(surprise_dataset):\n",
    "    algo.fit(trainset)\n",
    "    predictions = algo.test(testset)\n",
    "    precisions, recalls = precision_recall_at_k(predictions, k=5, est_threshold=0.5, true_threshold=1.0)\n",
    "\n",
    "    # Precision and recall can then be averaged over all users\n",
    "    ps.append(sum(prec for prec in precisions.values()) / len(precisions))\n",
    "    rs.append(sum(rec for rec in recalls.values()) / len(recalls))\n",
    "    #print(\"precision: \", sum(prec for prec in precisions.values()) / len(precisions))\n",
    "    #print(\"recall: \", sum(rec for rec in recalls.values()) / len(recalls))\n",
    "\n",
    "print(\"precisions: \", ps)\n",
    "print(\"recalls: \", rs)\n",
    "print(\"average precision: \", sum(ps) / len(ps) )\n",
    "print(\"average recall: \", sum(rs) / len(rs) )"
   ],
   "metadata": {
    "collapsed": false
   }
  },
  {
   "cell_type": "code",
   "execution_count": null,
   "outputs": [],
   "source": [],
   "metadata": {
    "collapsed": false
   }
  },
  {
   "cell_type": "code",
   "execution_count": null,
   "outputs": [],
   "source": [],
   "metadata": {
    "collapsed": false
   }
  },
  {
   "cell_type": "markdown",
   "source": [
    "# Further Work\n",
    "Use event time to influence the weight of the event. i.e. More recent events carry more weight."
   ],
   "metadata": {
    "collapsed": false
   }
  }
 ],
 "metadata": {
  "kernelspec": {
   "display_name": "Python 3",
   "language": "python",
   "name": "python3"
  },
  "language_info": {
   "codemirror_mode": {
    "name": "ipython",
    "version": 2
   },
   "file_extension": ".py",
   "mimetype": "text/x-python",
   "name": "python",
   "nbconvert_exporter": "python",
   "pygments_lexer": "ipython2",
   "version": "2.7.6"
  }
 },
 "nbformat": 4,
 "nbformat_minor": 0
}
