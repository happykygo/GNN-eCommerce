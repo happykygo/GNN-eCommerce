{
 "cells": [
  {
   "cell_type": "markdown",
   "source": [
    "# Baseline Model"
   ],
   "metadata": {
    "collapsed": false
   }
  },
  {
   "cell_type": "code",
   "execution_count": 1,
   "outputs": [],
   "source": [
    "import numpy as np\n",
    "import pandas as pd\n",
    "import yaml\n",
    "import glob\n",
    "import matplotlib.pyplot as plt\n",
    "%matplotlib inline"
   ],
   "metadata": {
    "collapsed": false
   }
  },
  {
   "cell_type": "code",
   "execution_count": 2,
   "outputs": [],
   "source": [
    "from surprise import SVD\n",
    "from surprise.model_selection import cross_validate"
   ],
   "metadata": {
    "collapsed": false
   }
  },
  {
   "cell_type": "markdown",
   "source": [
    "# Load Config\n"
   ],
   "metadata": {
    "collapsed": false
   }
  },
  {
   "cell_type": "code",
   "execution_count": 3,
   "outputs": [
    {
     "data": {
      "text/plain": "'/Users/yingkang/4thBrain/GNN-eCommerce/notebooks'"
     },
     "execution_count": 3,
     "metadata": {},
     "output_type": "execute_result"
    }
   ],
   "source": [
    "%pwd"
   ],
   "metadata": {
    "collapsed": false
   }
  },
  {
   "cell_type": "code",
   "execution_count": 4,
   "outputs": [
    {
     "name": "stdout",
     "output_type": "stream",
     "text": [
      "/Users/yingkang/4thBrain/GNN-eCommerce\n"
     ]
    }
   ],
   "source": [
    "%cd .."
   ],
   "metadata": {
    "collapsed": false
   }
  },
  {
   "cell_type": "code",
   "execution_count": 5,
   "outputs": [
    {
     "data": {
      "text/plain": "{'base': {'random_seed': 42},\n 'data': {'cosmetic_shop': 'data/raw/cosmetic-shop-ecommerce-events/'},\n 'training': {'event_type_weights': {'view': 0.01,\n   'cart': 0.1,\n   'remove_from_cart': -0.09,\n   'purchase': 1.0}},\n 'reports': None}"
     },
     "execution_count": 5,
     "metadata": {},
     "output_type": "execute_result"
    }
   ],
   "source": [
    "with open(\"params.yaml\") as config_file:\n",
    "    config = yaml.safe_load(config_file)\n",
    "\n",
    "config"
   ],
   "metadata": {
    "collapsed": false
   }
  },
  {
   "cell_type": "markdown",
   "source": [
    "# Load Dataset and EDA"
   ],
   "metadata": {
    "collapsed": false
   }
  },
  {
   "cell_type": "code",
   "execution_count": 8,
   "outputs": [],
   "source": [
    "# Get CSV files list of cosmetic shop dataset\n",
    "path = config['data']['cosmetic_shop']\n",
    "csv_files = glob.glob(path + \"/20*.csv\")\n",
    "\n",
    "# Read each CSV file into DataFrame. This creates a list of dataframes\n",
    "df_list = (pd.read_csv(file) for file in csv_files)\n",
    "\n",
    "# Concatenate all DataFrames\n",
    "all_events = pd.concat(df_list, ignore_index=True)"
   ],
   "metadata": {
    "collapsed": false
   }
  },
  {
   "cell_type": "code",
   "execution_count": 9,
   "outputs": [
    {
     "name": "stdout",
     "output_type": "stream",
     "text": [
      "(20692840, 9)\n"
     ]
    },
    {
     "data": {
      "text/plain": "                       event_time        event_type  product_id  \\\n20197793  2019-10-28 07:27:24 UTC          purchase     5809880   \n32815     2020-01-01 14:16:06 UTC              view     5561052   \n11175868  2020-02-24 16:53:38 UTC              view     5864314   \n10582591  2020-02-19 19:45:06 UTC              cart     5838932   \n19284170  2019-10-20 21:48:47 UTC  remove_from_cart     5796976   \n8129907   2020-02-03 08:01:03 UTC              cart     5772309   \n9042312   2020-02-09 09:12:07 UTC              cart     5861300   \n8029013   2020-02-02 14:44:43 UTC              view     5808663   \n1680402   2020-01-14 11:33:29 UTC              view     5700855   \n737828    2020-01-07 18:42:22 UTC              view     5899907   \n\n                  category_id category_code     brand  price    user_id  \\\n20197793  1602943681873052386           NaN   grattol   4.76  462463264   \n32815     1487580005595612013           NaN       NaN   3.00  524863975   \n11175868  1487580011585077370           NaN    dermal   1.03  483143687   \n10582591  1487580005713052531           NaN  ingarden   4.60  617510949   \n19284170  1487580005671109489           NaN    masura   1.73  560254797   \n8129907   1602943681873052386           NaN   grattol   4.76  609658150   \n9042312   1487580008145748965           NaN       NaN   1.75  497997612   \n8029013   2089259162625114209           NaN    ardell   6.37  509996784   \n1680402   1487580013950664926           NaN     irisk  63.41  468463839   \n737828    2164688961165852944           NaN       opi   7.41  598065884   \n\n                                  user_session  \n20197793  46fcfeca-752b-4916-b7f1-544285a39b4c  \n32815     42f70603-19b2-43e9-b109-5cdbff4e65c6  \n11175868  cd2aacd6-65a8-43a7-b067-07fb5d462954  \n10582591  921dc3a1-2e78-46f0-94b4-c40effa7fb51  \n19284170  88d41123-c13f-4e3b-9958-1f983547cb57  \n8129907   1787f510-c534-2d35-7583-b0e9f344ae05  \n9042312   0f07c928-445c-41ac-9b2e-89ced249c2dc  \n8029013   73e5c9f7-468f-4489-a799-7123e5448f08  \n1680402   2fe8f6db-59ba-4a7e-9653-d777b6e78893  \n737828    4e114e43-e650-4a3f-a54d-b7534e0417fc  ",
      "text/html": "<div>\n<style scoped>\n    .dataframe tbody tr th:only-of-type {\n        vertical-align: middle;\n    }\n\n    .dataframe tbody tr th {\n        vertical-align: top;\n    }\n\n    .dataframe thead th {\n        text-align: right;\n    }\n</style>\n<table border=\"1\" class=\"dataframe\">\n  <thead>\n    <tr style=\"text-align: right;\">\n      <th></th>\n      <th>event_time</th>\n      <th>event_type</th>\n      <th>product_id</th>\n      <th>category_id</th>\n      <th>category_code</th>\n      <th>brand</th>\n      <th>price</th>\n      <th>user_id</th>\n      <th>user_session</th>\n    </tr>\n  </thead>\n  <tbody>\n    <tr>\n      <th>20197793</th>\n      <td>2019-10-28 07:27:24 UTC</td>\n      <td>purchase</td>\n      <td>5809880</td>\n      <td>1602943681873052386</td>\n      <td>NaN</td>\n      <td>grattol</td>\n      <td>4.76</td>\n      <td>462463264</td>\n      <td>46fcfeca-752b-4916-b7f1-544285a39b4c</td>\n    </tr>\n    <tr>\n      <th>32815</th>\n      <td>2020-01-01 14:16:06 UTC</td>\n      <td>view</td>\n      <td>5561052</td>\n      <td>1487580005595612013</td>\n      <td>NaN</td>\n      <td>NaN</td>\n      <td>3.00</td>\n      <td>524863975</td>\n      <td>42f70603-19b2-43e9-b109-5cdbff4e65c6</td>\n    </tr>\n    <tr>\n      <th>11175868</th>\n      <td>2020-02-24 16:53:38 UTC</td>\n      <td>view</td>\n      <td>5864314</td>\n      <td>1487580011585077370</td>\n      <td>NaN</td>\n      <td>dermal</td>\n      <td>1.03</td>\n      <td>483143687</td>\n      <td>cd2aacd6-65a8-43a7-b067-07fb5d462954</td>\n    </tr>\n    <tr>\n      <th>10582591</th>\n      <td>2020-02-19 19:45:06 UTC</td>\n      <td>cart</td>\n      <td>5838932</td>\n      <td>1487580005713052531</td>\n      <td>NaN</td>\n      <td>ingarden</td>\n      <td>4.60</td>\n      <td>617510949</td>\n      <td>921dc3a1-2e78-46f0-94b4-c40effa7fb51</td>\n    </tr>\n    <tr>\n      <th>19284170</th>\n      <td>2019-10-20 21:48:47 UTC</td>\n      <td>remove_from_cart</td>\n      <td>5796976</td>\n      <td>1487580005671109489</td>\n      <td>NaN</td>\n      <td>masura</td>\n      <td>1.73</td>\n      <td>560254797</td>\n      <td>88d41123-c13f-4e3b-9958-1f983547cb57</td>\n    </tr>\n    <tr>\n      <th>8129907</th>\n      <td>2020-02-03 08:01:03 UTC</td>\n      <td>cart</td>\n      <td>5772309</td>\n      <td>1602943681873052386</td>\n      <td>NaN</td>\n      <td>grattol</td>\n      <td>4.76</td>\n      <td>609658150</td>\n      <td>1787f510-c534-2d35-7583-b0e9f344ae05</td>\n    </tr>\n    <tr>\n      <th>9042312</th>\n      <td>2020-02-09 09:12:07 UTC</td>\n      <td>cart</td>\n      <td>5861300</td>\n      <td>1487580008145748965</td>\n      <td>NaN</td>\n      <td>NaN</td>\n      <td>1.75</td>\n      <td>497997612</td>\n      <td>0f07c928-445c-41ac-9b2e-89ced249c2dc</td>\n    </tr>\n    <tr>\n      <th>8029013</th>\n      <td>2020-02-02 14:44:43 UTC</td>\n      <td>view</td>\n      <td>5808663</td>\n      <td>2089259162625114209</td>\n      <td>NaN</td>\n      <td>ardell</td>\n      <td>6.37</td>\n      <td>509996784</td>\n      <td>73e5c9f7-468f-4489-a799-7123e5448f08</td>\n    </tr>\n    <tr>\n      <th>1680402</th>\n      <td>2020-01-14 11:33:29 UTC</td>\n      <td>view</td>\n      <td>5700855</td>\n      <td>1487580013950664926</td>\n      <td>NaN</td>\n      <td>irisk</td>\n      <td>63.41</td>\n      <td>468463839</td>\n      <td>2fe8f6db-59ba-4a7e-9653-d777b6e78893</td>\n    </tr>\n    <tr>\n      <th>737828</th>\n      <td>2020-01-07 18:42:22 UTC</td>\n      <td>view</td>\n      <td>5899907</td>\n      <td>2164688961165852944</td>\n      <td>NaN</td>\n      <td>opi</td>\n      <td>7.41</td>\n      <td>598065884</td>\n      <td>4e114e43-e650-4a3f-a54d-b7534e0417fc</td>\n    </tr>\n  </tbody>\n</table>\n</div>"
     },
     "execution_count": 9,
     "metadata": {},
     "output_type": "execute_result"
    }
   ],
   "source": [
    "print(all_events.shape)\n",
    "all_events.sample(10)"
   ],
   "metadata": {
    "collapsed": false
   }
  },
  {
   "cell_type": "code",
   "execution_count": 10,
   "outputs": [
    {
     "name": "stdout",
     "output_type": "stream",
     "text": [
      "Unique users:  1639358\n",
      "Unique products:  54571\n",
      "Event types:  ['view', 'cart', 'remove_from_cart', 'purchase']\n"
     ]
    }
   ],
   "source": [
    "# Number of unique users\n",
    "users_count = len(pd.unique(all_events['user_id']))\n",
    "print(\"Unique users: \", users_count)\n",
    "\n",
    "# Number of unique products\n",
    "products_count = len(pd.unique(all_events['product_id']))\n",
    "print(\"Unique products: \", products_count)\n",
    "\n",
    "print(\"Event types: \", pd.unique(all_events.event_type).tolist())\n"
   ],
   "metadata": {
    "collapsed": false
   }
  },
  {
   "cell_type": "code",
   "execution_count": 11,
   "outputs": [],
   "source": [
    "# a small dataset used for code development only\n",
    "all_events_mini = all_events.head(100000)\n",
    "all_events_mini = all_events_mini[['user_id', 'product_id', 'event_type']]\n"
   ],
   "metadata": {
    "collapsed": false
   }
  },
  {
   "cell_type": "code",
   "execution_count": 13,
   "outputs": [],
   "source": [
    "def interaction_matrix(events, event_type_weights):\n",
    "\n",
    "    events = events[['user_id', 'product_id', 'event_type']]\n",
    "    # Add weight column to `events` dataframe\n",
    "    events['weight'] = events.event_type.apply(lambda x: event_type_weights[x])\n",
    "\n",
    "    i_matrix = events.groupby(['user_id', 'product_id'], as_index=False) \\\n",
    "        .agg({'event_type': list, 'weight': lambda x: 0.01 if x.sum() < 0 else 1.0 if x.sum() > 1.0 else x.sum()})\n",
    "\n",
    "    return i_matrix"
   ],
   "metadata": {
    "collapsed": false
   }
  },
  {
   "cell_type": "code",
   "execution_count": 14,
   "outputs": [
    {
     "data": {
      "text/plain": "         user_id  product_id event_type  weight\n0       38560385     5861734     [view]    0.01\n1       43695999     5686278     [view]    0.01\n2       43695999     5712736     [view]    0.01\n3       43695999     5730212     [view]    0.01\n4       43695999     5730214     [view]    0.01\n...          ...         ...        ...     ...\n61751  595853462     5804820     [view]    0.01\n61752  595853555     5714119     [view]    0.01\n61753  595853918     5863525     [view]    0.01\n61754  595853961     5677422     [view]    0.01\n61755  595854040        6627     [view]    0.01\n\n[61756 rows x 4 columns]",
      "text/html": "<div>\n<style scoped>\n    .dataframe tbody tr th:only-of-type {\n        vertical-align: middle;\n    }\n\n    .dataframe tbody tr th {\n        vertical-align: top;\n    }\n\n    .dataframe thead th {\n        text-align: right;\n    }\n</style>\n<table border=\"1\" class=\"dataframe\">\n  <thead>\n    <tr style=\"text-align: right;\">\n      <th></th>\n      <th>user_id</th>\n      <th>product_id</th>\n      <th>event_type</th>\n      <th>weight</th>\n    </tr>\n  </thead>\n  <tbody>\n    <tr>\n      <th>0</th>\n      <td>38560385</td>\n      <td>5861734</td>\n      <td>[view]</td>\n      <td>0.01</td>\n    </tr>\n    <tr>\n      <th>1</th>\n      <td>43695999</td>\n      <td>5686278</td>\n      <td>[view]</td>\n      <td>0.01</td>\n    </tr>\n    <tr>\n      <th>2</th>\n      <td>43695999</td>\n      <td>5712736</td>\n      <td>[view]</td>\n      <td>0.01</td>\n    </tr>\n    <tr>\n      <th>3</th>\n      <td>43695999</td>\n      <td>5730212</td>\n      <td>[view]</td>\n      <td>0.01</td>\n    </tr>\n    <tr>\n      <th>4</th>\n      <td>43695999</td>\n      <td>5730214</td>\n      <td>[view]</td>\n      <td>0.01</td>\n    </tr>\n    <tr>\n      <th>...</th>\n      <td>...</td>\n      <td>...</td>\n      <td>...</td>\n      <td>...</td>\n    </tr>\n    <tr>\n      <th>61751</th>\n      <td>595853462</td>\n      <td>5804820</td>\n      <td>[view]</td>\n      <td>0.01</td>\n    </tr>\n    <tr>\n      <th>61752</th>\n      <td>595853555</td>\n      <td>5714119</td>\n      <td>[view]</td>\n      <td>0.01</td>\n    </tr>\n    <tr>\n      <th>61753</th>\n      <td>595853918</td>\n      <td>5863525</td>\n      <td>[view]</td>\n      <td>0.01</td>\n    </tr>\n    <tr>\n      <th>61754</th>\n      <td>595853961</td>\n      <td>5677422</td>\n      <td>[view]</td>\n      <td>0.01</td>\n    </tr>\n    <tr>\n      <th>61755</th>\n      <td>595854040</td>\n      <td>6627</td>\n      <td>[view]</td>\n      <td>0.01</td>\n    </tr>\n  </tbody>\n</table>\n<p>61756 rows × 4 columns</p>\n</div>"
     },
     "execution_count": 14,
     "metadata": {},
     "output_type": "execute_result"
    }
   ],
   "source": [
    "im = interaction_matrix(all_events_mini, config['training']['event_type_weights'])\n",
    "im"
   ],
   "metadata": {
    "collapsed": false
   }
  },
  {
   "cell_type": "markdown",
   "source": [
    "##### refer code for relabeling user_nodes, item_nodes"
   ],
   "metadata": {
    "collapsed": false
   }
  },
  {
   "cell_type": "code",
   "execution_count": null,
   "outputs": [],
   "source": [
    "# refer code for relabeling user_nodes, item_nodes\n",
    "from sklearn.model_selection import train_test_split\n",
    "\n",
    "# change df to im??\n",
    "train, test = train_test_split(df.values, test_size=0.2, random_state=16)\n",
    "train_df = pd.DataFrame(train, columns=df.columns)\n",
    "test_df = pd.DataFrame(test, columns=df.columns)"
   ],
   "metadata": {
    "collapsed": false
   }
  },
  {
   "cell_type": "code",
   "execution_count": null,
   "outputs": [],
   "source": [
    "from sklearn import preprocessing as pp\n",
    "\n",
    "le_user = pp.LabelEncoder()\n",
    "le_item = pp.LabelEncoder()\n",
    "train_df['user_id_idx'] = le_user.fit_transform(train_df['user_id'].values)\n",
    "train_df['item_id_idx'] = le_item.fit_transform(train_df['item_id'].values)"
   ],
   "metadata": {
    "collapsed": false
   }
  },
  {
   "cell_type": "code",
   "execution_count": null,
   "outputs": [],
   "source": [
    "train_user_ids = train_df['user_id'].unique()\n",
    "train_item_ids = train_df['item_id'].unique()\n",
    "\n",
    "print('Unique train set user_ids/ item_ids:', len(train_user_ids), len(train_item_ids))\n",
    "\n",
    "test_df = test_df[\n",
    "  (test_df['user_id'].isin(train_user_ids)) & \\\n",
    "  (test_df['item_id'].isin(train_item_ids))\n",
    "]\n",
    "print('Size of test set before/ after(remove user/item nodes not in train set):', len(test), len(test_df))"
   ],
   "metadata": {
    "collapsed": false
   }
  },
  {
   "cell_type": "code",
   "execution_count": null,
   "outputs": [],
   "source": [
    "test_df['user_id_idx'] = le_user.transform(test_df['user_id'].values)\n",
    "test_df['item_id_idx'] = le_item.transform(test_df['item_id'].values)"
   ],
   "metadata": {
    "collapsed": false
   }
  },
  {
   "cell_type": "code",
   "execution_count": null,
   "outputs": [],
   "source": [],
   "metadata": {
    "collapsed": false
   }
  },
  {
   "cell_type": "code",
   "execution_count": 15,
   "outputs": [],
   "source": [
    "from surprise import Dataset\n",
    "from surprise import Reader\n",
    "reader = Reader(rating_scale=(0, 1))\n",
    "surprise_dataset = Dataset.load_from_df(im[['user_id', 'product_id', 'weight']], reader)"
   ],
   "metadata": {
    "collapsed": false
   }
  },
  {
   "cell_type": "code",
   "execution_count": 16,
   "outputs": [
    {
     "data": {
      "text/plain": "               0        1     2     3\n0       38560385  5861734  0.01  None\n1       43695999  5686278  0.01  None\n2       43695999  5712736  0.01  None\n3       43695999  5730212  0.01  None\n4       43695999  5730214  0.01  None\n...          ...      ...   ...   ...\n61751  595853462  5804820  0.01  None\n61752  595853555  5714119  0.01  None\n61753  595853918  5863525  0.01  None\n61754  595853961  5677422  0.01  None\n61755  595854040     6627  0.01  None\n\n[61756 rows x 4 columns]",
      "text/html": "<div>\n<style scoped>\n    .dataframe tbody tr th:only-of-type {\n        vertical-align: middle;\n    }\n\n    .dataframe tbody tr th {\n        vertical-align: top;\n    }\n\n    .dataframe thead th {\n        text-align: right;\n    }\n</style>\n<table border=\"1\" class=\"dataframe\">\n  <thead>\n    <tr style=\"text-align: right;\">\n      <th></th>\n      <th>0</th>\n      <th>1</th>\n      <th>2</th>\n      <th>3</th>\n    </tr>\n  </thead>\n  <tbody>\n    <tr>\n      <th>0</th>\n      <td>38560385</td>\n      <td>5861734</td>\n      <td>0.01</td>\n      <td>None</td>\n    </tr>\n    <tr>\n      <th>1</th>\n      <td>43695999</td>\n      <td>5686278</td>\n      <td>0.01</td>\n      <td>None</td>\n    </tr>\n    <tr>\n      <th>2</th>\n      <td>43695999</td>\n      <td>5712736</td>\n      <td>0.01</td>\n      <td>None</td>\n    </tr>\n    <tr>\n      <th>3</th>\n      <td>43695999</td>\n      <td>5730212</td>\n      <td>0.01</td>\n      <td>None</td>\n    </tr>\n    <tr>\n      <th>4</th>\n      <td>43695999</td>\n      <td>5730214</td>\n      <td>0.01</td>\n      <td>None</td>\n    </tr>\n    <tr>\n      <th>...</th>\n      <td>...</td>\n      <td>...</td>\n      <td>...</td>\n      <td>...</td>\n    </tr>\n    <tr>\n      <th>61751</th>\n      <td>595853462</td>\n      <td>5804820</td>\n      <td>0.01</td>\n      <td>None</td>\n    </tr>\n    <tr>\n      <th>61752</th>\n      <td>595853555</td>\n      <td>5714119</td>\n      <td>0.01</td>\n      <td>None</td>\n    </tr>\n    <tr>\n      <th>61753</th>\n      <td>595853918</td>\n      <td>5863525</td>\n      <td>0.01</td>\n      <td>None</td>\n    </tr>\n    <tr>\n      <th>61754</th>\n      <td>595853961</td>\n      <td>5677422</td>\n      <td>0.01</td>\n      <td>None</td>\n    </tr>\n    <tr>\n      <th>61755</th>\n      <td>595854040</td>\n      <td>6627</td>\n      <td>0.01</td>\n      <td>None</td>\n    </tr>\n  </tbody>\n</table>\n<p>61756 rows × 4 columns</p>\n</div>"
     },
     "execution_count": 16,
     "metadata": {},
     "output_type": "execute_result"
    }
   ],
   "source": [
    "df = pd.DataFrame(surprise_dataset.__dict__['raw_ratings'])\n",
    "df"
   ],
   "metadata": {
    "collapsed": false
   }
  },
  {
   "cell_type": "code",
   "execution_count": 17,
   "outputs": [
    {
     "name": "stdout",
     "output_type": "stream",
     "text": [
      "Evaluating RMSE, MAE of algorithm SVD on 5 split(s).\n",
      "\n",
      "                  Fold 1  Fold 2  Fold 3  Fold 4  Fold 5  Mean    Std     \n",
      "RMSE (testset)    0.2035  0.2107  0.2078  0.2105  0.2053  0.2076  0.0028  \n",
      "MAE (testset)     0.1211  0.1238  0.1223  0.1222  0.1208  0.1221  0.0010  \n",
      "Fit time          0.71    0.70    0.71    0.68    0.69    0.70    0.01    \n",
      "Test time         0.14    0.08    0.08    0.08    0.08    0.09    0.03    \n"
     ]
    },
    {
     "data": {
      "text/plain": "{'test_rmse': array([0.20352061, 0.2107254 , 0.20783519, 0.210534  , 0.20528449]),\n 'test_mae': array([0.1211419 , 0.12380897, 0.1222868 , 0.12224697, 0.12083883]),\n 'fit_time': (0.7057900428771973,\n  0.695408821105957,\n  0.7082438468933105,\n  0.6787819862365723,\n  0.6893918514251709),\n 'test_time': (0.14333605766296387,\n  0.07866287231445312,\n  0.0767359733581543,\n  0.07605695724487305,\n  0.07603096961975098)}"
     },
     "execution_count": 17,
     "metadata": {},
     "output_type": "execute_result"
    }
   ],
   "source": [
    "# Use the famous SVD algorithm.\n",
    "algo = SVD()\n",
    "\n",
    "# Run 5-fold cross-validation and print results.\n",
    "#cross_validate(algo, surprise_dataset, measures=['RMSE', 'MAE'], cv=5, verbose=True)\n",
    "algo.fit_and_evaluate(surprise_dataset)"
   ],
   "metadata": {
    "collapsed": false
   }
  },
  {
   "cell_type": "code",
   "execution_count": null,
   "outputs": [],
   "source": [],
   "metadata": {
    "collapsed": false
   }
  },
  {
   "cell_type": "code",
   "execution_count": null,
   "outputs": [],
   "source": [],
   "metadata": {
    "collapsed": false
   }
  },
  {
   "cell_type": "markdown",
   "source": [
    "Precision@K, Recall@K --\n",
    "user_Embed_wts: all user nodes' embeddings\n",
    "item_Enbed_wts: all item nodes' embeddings\n",
    "n_users: num of unique users\n",
    "n_items: num of unique items(pos + neg)\n",
    "train_data, test_data"
   ],
   "metadata": {
    "collapsed": false
   }
  },
  {
   "cell_type": "code",
   "execution_count": null,
   "outputs": [],
   "source": [
    "import torch\n",
    "\n",
    "def get_metrics(user_Embed_wts, item_Embed_wts, n_users, n_items, train_data, test_data, K):\n",
    "  test_user_ids = torch.LongTensor(test_data['user_id_idx'].unique())\n",
    "  # compute the score of all user-item pairs\n",
    "  relevance_score = torch.matmul(user_Embed_wts, torch.transpose(item_Embed_wts,0, 1))\n",
    "\n",
    "  # create dense tensor of all user-item interactions\n",
    "  i = torch.stack((\n",
    "    torch.LongTensor(train_df['user_id_idx'].values),\n",
    "    torch.LongTensor(train_df['item_id_idx'].values)\n",
    "  ))\n",
    "  v = torch.ones((len(train_df)), dtype=torch.float64)\n",
    "  interactions_t = torch.sparse.FloatTensor(i, v, (n_users, n_items)).to_dense().to(device)\n",
    "\n",
    "  # mask out training user-item interactions from metric computation\n",
    "  relevance_score = torch.mul(relevance_score, (1 - interactions_t))\n",
    "\n",
    "  # compute top scoring items for each user\n",
    "  topk_relevance_indices = torch.topk(relevance_score, K).indices\n",
    "  topk_relevance_indices_df = pd.DataFrame(topk_relevance_indices.cpu().numpy(),columns =['top_indx_'+str(x+1) for x in range(K)])\n",
    "  topk_relevance_indices_df['user_ID'] = topk_relevance_indices_df.index\n",
    "  topk_relevance_indices_df['top_rlvnt_itm'] = topk_relevance_indices_df[['top_indx_'+str(x+1) for x in range(K)]].values.tolist()\n",
    "  topk_relevance_indices_df = topk_relevance_indices_df[['user_ID','top_rlvnt_itm']]\n",
    "\n",
    "  # measure overlap between recommended (top-scoring) and held-out user-item\n",
    "  # interactions\n",
    "  test_interacted_items = test_data.groupby('user_id_idx')['item_id_idx'].apply(list).reset_index()\n",
    "  metrics_df = pd.merge(test_interacted_items,topk_relevance_indices_df, how= 'left', left_on = 'user_id_idx',right_on = ['user_ID'])\n",
    "  metrics_df['intrsctn_itm'] = [list(set(a).intersection(b)) for a, b in zip(metrics_df.item_id_idx, metrics_df.top_rlvnt_itm)] #TP\n",
    "\n",
    "  metrics_df['recall'] = metrics_df.apply(lambda x : len(x['intrsctn_itm'])/len(x['item_id_idx']), axis = 1)\n",
    "  metrics_df['precision'] = metrics_df.apply(lambda x : len(x['intrsctn_itm'])/K, axis = 1)\n",
    "\n",
    "  return metrics_df['recall'].mean(), metrics_df['precision'].mean()"
   ],
   "metadata": {
    "collapsed": false
   }
  },
  {
   "cell_type": "code",
   "execution_count": null,
   "outputs": [],
   "source": [],
   "metadata": {
    "collapsed": false
   }
  },
  {
   "cell_type": "markdown",
   "source": [
    "# Further Work\n",
    "Use event time to influence the weight of the event. i.e. More recent events carry more weight."
   ],
   "metadata": {
    "collapsed": false
   }
  }
 ],
 "metadata": {
  "kernelspec": {
   "display_name": "Python 3",
   "language": "python",
   "name": "python3"
  },
  "language_info": {
   "codemirror_mode": {
    "name": "ipython",
    "version": 2
   },
   "file_extension": ".py",
   "mimetype": "text/x-python",
   "name": "python",
   "nbconvert_exporter": "python",
   "pygments_lexer": "ipython2",
   "version": "2.7.6"
  }
 },
 "nbformat": 4,
 "nbformat_minor": 0
}
